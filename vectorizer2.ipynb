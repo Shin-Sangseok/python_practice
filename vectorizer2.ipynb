{
 "cells": [
  {
   "cell_type": "code",
   "execution_count": 3,
   "id": "8d30b17c",
   "metadata": {},
   "outputs": [],
   "source": [
    "from sklearn.feature_extraction.text import CountVectorizer, TfidfVectorizer "
   ]
  },
  {
   "cell_type": "code",
   "execution_count": 4,
   "id": "856b4217",
   "metadata": {},
   "outputs": [],
   "source": [
    "corpus = [\n",
    "    'you know I want your love', \n",
    "    'I like you', \n",
    "    'what should I do'\n",
    "]"
   ]
  },
  {
   "cell_type": "code",
   "execution_count": 7,
   "id": "c09bb238",
   "metadata": {},
   "outputs": [],
   "source": [
    "cv = CountVectorizer()\n",
    "tfidf = TfidfVectorizer()"
   ]
  },
  {
   "cell_type": "code",
   "execution_count": 8,
   "id": "db65b220",
   "metadata": {},
   "outputs": [
    {
     "name": "stdout",
     "output_type": "stream",
     "text": [
      "[[0 1 0 1 0 1 0 1 1]\n",
      " [0 0 1 0 0 0 0 1 0]\n",
      " [1 0 0 0 1 0 1 0 0]]\n"
     ]
    }
   ],
   "source": [
    "print(cv.fit_transform(corpus).toarray())"
   ]
  },
  {
   "cell_type": "code",
   "execution_count": 17,
   "id": "f47f7c32",
   "metadata": {},
   "outputs": [
    {
     "name": "stdout",
     "output_type": "stream",
     "text": [
      "{'you': 7, 'know': 1, 'want': 5, 'your': 8, 'love': 3, 'like': 2, 'what': 6, 'should': 4, 'do': 0}\n"
     ]
    }
   ],
   "source": [
    "print(cv.vocabulary_)"
   ]
  },
  {
   "cell_type": "code",
   "execution_count": 20,
   "id": "20a0d21f",
   "metadata": {},
   "outputs": [
    {
     "name": "stdout",
     "output_type": "stream",
     "text": [
      "[[0.         0.46735098 0.         0.46735098 0.         0.46735098\n",
      "  0.         0.35543247 0.46735098]\n",
      " [0.         0.         0.79596054 0.         0.         0.\n",
      "  0.         0.60534851 0.        ]\n",
      " [0.57735027 0.         0.         0.         0.57735027 0.\n",
      "  0.57735027 0.         0.        ]]\n"
     ]
    }
   ],
   "source": [
    "print(tfidf.fit_transform(corpus).toarray())"
   ]
  },
  {
   "cell_type": "code",
   "execution_count": 21,
   "id": "36d4526b",
   "metadata": {},
   "outputs": [
    {
     "name": "stdout",
     "output_type": "stream",
     "text": [
      "{'you': 7, 'know': 1, 'want': 5, 'your': 8, 'love': 3, 'like': 2, 'what': 6, 'should': 4, 'do': 0}\n"
     ]
    }
   ],
   "source": [
    "print(tfidf.vocabulary_)"
   ]
  },
  {
   "cell_type": "code",
   "execution_count": 22,
   "id": "5db4991d",
   "metadata": {},
   "outputs": [
    {
     "data": {
      "text/plain": [
       "[array(['know', 'love', 'want', 'you', 'your'], dtype='<U6'),\n",
       " array(['like', 'you'], dtype='<U6'),\n",
       " array(['do', 'should', 'what'], dtype='<U6')]"
      ]
     },
     "execution_count": 22,
     "metadata": {},
     "output_type": "execute_result"
    }
   ],
   "source": [
    "##transform결과를 역 추출 \n",
    "cv.inverse_transform(cv.fit_transform(corpus).toarray())"
   ]
  },
  {
   "cell_type": "code",
   "execution_count": 23,
   "id": "8052dee2",
   "metadata": {},
   "outputs": [
    {
     "name": "stderr",
     "output_type": "stream",
     "text": [
      "C:\\ProgramData\\Anaconda3\\lib\\site-packages\\sklearn\\utils\\deprecation.py:87: FutureWarning: Function get_feature_names is deprecated; get_feature_names is deprecated in 1.0 and will be removed in 1.2. Please use get_feature_names_out instead.\n",
      "  warnings.warn(msg, category=FutureWarning)\n"
     ]
    },
    {
     "data": {
      "text/plain": [
       "['do', 'know', 'like', 'love', 'should', 'want', 'what', 'you', 'your']"
      ]
     },
     "execution_count": 23,
     "metadata": {},
     "output_type": "execute_result"
    }
   ],
   "source": [
    "cv.get_feature_names()"
   ]
  },
  {
   "cell_type": "code",
   "execution_count": 24,
   "id": "600cbef9",
   "metadata": {},
   "outputs": [
    {
     "name": "stdout",
     "output_type": "stream",
     "text": [
      "0 : do\n",
      "1 : know\n",
      "2 : like\n",
      "3 : love\n",
      "4 : should\n",
      "5 : want\n",
      "6 : what\n",
      "7 : you\n",
      "8 : your\n"
     ]
    }
   ],
   "source": [
    "for i, value in enumerate(cv.get_feature_names()): \n",
    "    print(i, ':', value)"
   ]
  },
  {
   "cell_type": "code",
   "execution_count": 25,
   "id": "4377f555",
   "metadata": {},
   "outputs": [],
   "source": [
    "##새로운 문장을 넣어서 어떤 단어들이 들어갔는지 판단해보자 \n",
    "sentence = ['i like like smile want']"
   ]
  },
  {
   "cell_type": "code",
   "execution_count": 26,
   "id": "cf7c7285",
   "metadata": {},
   "outputs": [
    {
     "data": {
      "text/plain": [
       "array([[0, 0, 2, 0, 0, 1, 0, 0, 0]], dtype=int64)"
      ]
     },
     "execution_count": 26,
     "metadata": {},
     "output_type": "execute_result"
    }
   ],
   "source": [
    "cv.transform(sentence).toarray()"
   ]
  },
  {
   "cell_type": "code",
   "execution_count": 36,
   "id": "3942024d",
   "metadata": {},
   "outputs": [],
   "source": [
    "spam_dict = ['advertise', 'promotion', 'sales', \n",
    "             'hu', 'special', 'sale', 'member', 'news','buy', 'big'] \n",
    "ham_dict = ['order', 'confirm', 'agree', 'check', 'customer', 'payment', 'send',\n",
    "           'genetal', 'company', 'tour']"
   ]
  },
  {
   "cell_type": "code",
   "execution_count": 71,
   "id": "efba39a9",
   "metadata": {},
   "outputs": [],
   "source": [
    "cv1 = CountVectorizer()\n",
    "tfidf1 = TfidfVectorizer()\n",
    "cv2 = CountVectorizer()\n",
    "tfidf2 = TfidfVectorizer()"
   ]
  },
  {
   "cell_type": "code",
   "execution_count": 72,
   "id": "459a01c6",
   "metadata": {},
   "outputs": [
    {
     "data": {
      "text/plain": [
       "TfidfVectorizer()"
      ]
     },
     "execution_count": 72,
     "metadata": {},
     "output_type": "execute_result"
    }
   ],
   "source": [
    "##span 사전 만들기 \n",
    "cv1.fit(spam_dict)\n",
    "tfidf1.fit(spam_dict)"
   ]
  },
  {
   "cell_type": "code",
   "execution_count": 73,
   "id": "faf01fbd",
   "metadata": {},
   "outputs": [
    {
     "data": {
      "text/plain": [
       "TfidfVectorizer()"
      ]
     },
     "execution_count": 73,
     "metadata": {},
     "output_type": "execute_result"
    }
   ],
   "source": [
    "##ham 사전 만들기 \n",
    "cv2.fit(ham_dict)\n",
    "tfidf2.fit(ham_dict)"
   ]
  },
  {
   "cell_type": "code",
   "execution_count": 74,
   "id": "d6f2edb0",
   "metadata": {},
   "outputs": [
    {
     "data": {
      "text/plain": [
       "{'advertise': 0,\n",
       " 'promotion': 6,\n",
       " 'sales': 8,\n",
       " 'hu': 3,\n",
       " 'special': 9,\n",
       " 'sale': 7,\n",
       " 'member': 4,\n",
       " 'news': 5,\n",
       " 'buy': 2,\n",
       " 'big': 1}"
      ]
     },
     "execution_count": 74,
     "metadata": {},
     "output_type": "execute_result"
    }
   ],
   "source": [
    "cv1.vocabulary_ #spam "
   ]
  },
  {
   "cell_type": "code",
   "execution_count": 75,
   "id": "f933c4fe",
   "metadata": {},
   "outputs": [
    {
     "data": {
      "text/plain": [
       "{'order': 6,\n",
       " 'confirm': 3,\n",
       " 'agree': 0,\n",
       " 'check': 1,\n",
       " 'customer': 4,\n",
       " 'payment': 7,\n",
       " 'send': 8,\n",
       " 'genetal': 5,\n",
       " 'company': 2,\n",
       " 'tour': 9}"
      ]
     },
     "execution_count": 75,
     "metadata": {},
     "output_type": "execute_result"
    }
   ],
   "source": [
    "cv2.vocabulary_"
   ]
  },
  {
   "cell_type": "code",
   "execution_count": 76,
   "id": "9043faa0",
   "metadata": {},
   "outputs": [],
   "source": [
    "email = ['promotion!! hu good sales sale check payment']"
   ]
  },
  {
   "cell_type": "code",
   "execution_count": 44,
   "id": "a94e576c",
   "metadata": {},
   "outputs": [
    {
     "data": {
      "text/plain": [
       "array([[0, 0, 0, 1, 0, 0, 1, 1, 1, 0]], dtype=int64)"
      ]
     },
     "execution_count": 44,
     "metadata": {},
     "output_type": "execute_result"
    }
   ],
   "source": [
    "result1 = cv1.transform(email).toarray() #spam \n",
    "result1 #2차원"
   ]
  },
  {
   "cell_type": "code",
   "execution_count": 45,
   "id": "9cadb3fc",
   "metadata": {},
   "outputs": [
    {
     "data": {
      "text/plain": [
       "array([[0, 1, 0, 0, 0, 0, 0, 1, 0, 0]], dtype=int64)"
      ]
     },
     "execution_count": 45,
     "metadata": {},
     "output_type": "execute_result"
    }
   ],
   "source": [
    "result2 = cv2.transform(email).toarray() #ham \n",
    "result2"
   ]
  },
  {
   "cell_type": "code",
   "execution_count": 48,
   "id": "9e41c561",
   "metadata": {},
   "outputs": [],
   "source": [
    "#사전에 있는 이름이 무엇이냐? - get_feature_names()\n",
    "spam_feature_list = cv1.get_feature_names() \n",
    "ham_feature_list = cv2.get_feature_names()"
   ]
  },
  {
   "cell_type": "code",
   "execution_count": 49,
   "id": "805813ea",
   "metadata": {},
   "outputs": [
    {
     "name": "stdout",
     "output_type": "stream",
     "text": [
      "['advertise', 'big', 'buy', 'hu', 'member', 'news', 'promotion', 'sale', 'sales', 'special']\n",
      "['agree', 'check', 'company', 'confirm', 'customer', 'genetal', 'order', 'payment', 'send', 'tour']\n"
     ]
    }
   ],
   "source": [
    "print(spam_feature_list)\n",
    "print(ham_feature_list)"
   ]
  },
  {
   "cell_type": "code",
   "execution_count": 51,
   "id": "3b62d8b5",
   "metadata": {},
   "outputs": [
    {
     "data": {
      "text/plain": [
       "4"
      ]
     },
     "execution_count": 51,
     "metadata": {},
     "output_type": "execute_result"
    }
   ],
   "source": [
    "spam_words_count = sum(result1[0])\n",
    "spam_words_count"
   ]
  },
  {
   "cell_type": "code",
   "execution_count": 52,
   "id": "100039fd",
   "metadata": {},
   "outputs": [
    {
     "data": {
      "text/plain": [
       "2"
      ]
     },
     "execution_count": 52,
     "metadata": {},
     "output_type": "execute_result"
    }
   ],
   "source": [
    "ham_words_count = sum(result2[0])\n",
    "ham_words_count"
   ]
  },
  {
   "cell_type": "code",
   "execution_count": 53,
   "id": "5565f699",
   "metadata": {},
   "outputs": [
    {
     "name": "stdout",
     "output_type": "stream",
     "text": [
      "spam mail!!\n"
     ]
    }
   ],
   "source": [
    "if spam_words_count > ham_words_count: \n",
    "    print('spam mail!!')\n",
    "else:\n",
    "    print('ham mail!!!')"
   ]
  },
  {
   "cell_type": "code",
   "execution_count": 56,
   "id": "25639ac9",
   "metadata": {},
   "outputs": [
    {
     "data": {
      "text/plain": [
       "array([[0. , 0. , 0. , 0.5, 0. , 0. , 0.5, 0.5, 0.5, 0. ]])"
      ]
     },
     "execution_count": 56,
     "metadata": {},
     "output_type": "execute_result"
    }
   ],
   "source": [
    "result11 = tfidf1.transform(email).toarray()\n",
    "result11"
   ]
  },
  {
   "cell_type": "code",
   "execution_count": 57,
   "id": "23618016",
   "metadata": {},
   "outputs": [
    {
     "data": {
      "text/plain": [
       "array([[0.        , 0.70710678, 0.        , 0.        , 0.        ,\n",
       "        0.        , 0.        , 0.70710678, 0.        , 0.        ]])"
      ]
     },
     "execution_count": 57,
     "metadata": {},
     "output_type": "execute_result"
    }
   ],
   "source": [
    "result22 = tfidf2.transform(email).toarray()\n",
    "result22"
   ]
  },
  {
   "cell_type": "code",
   "execution_count": 58,
   "id": "76afc638",
   "metadata": {},
   "outputs": [
    {
     "data": {
      "text/plain": [
       "2.0"
      ]
     },
     "execution_count": 58,
     "metadata": {},
     "output_type": "execute_result"
    }
   ],
   "source": [
    "spam_words_count2 = sum(result11[0]) #스팸에 등장하는 단어의 빈도수 \n",
    "spam_words_count2"
   ]
  },
  {
   "cell_type": "code",
   "execution_count": 59,
   "id": "6a6a75d8",
   "metadata": {},
   "outputs": [
    {
     "data": {
      "text/plain": [
       "1.414213562373095"
      ]
     },
     "execution_count": 59,
     "metadata": {},
     "output_type": "execute_result"
    }
   ],
   "source": [
    "ham_words_count2 = sum(result22[0])\n",
    "ham_words_count2\n"
   ]
  },
  {
   "cell_type": "code",
   "execution_count": 60,
   "id": "6867e628",
   "metadata": {},
   "outputs": [
    {
     "name": "stdout",
     "output_type": "stream",
     "text": [
      "spam mail!!\n"
     ]
    }
   ],
   "source": [
    "if spam_words_count2 > ham_words_count2:\n",
    "    print('spam mail!!')\n",
    "else: \n",
    "    print('ham mail!!')"
   ]
  },
  {
   "cell_type": "code",
   "execution_count": 61,
   "id": "499de92d",
   "metadata": {},
   "outputs": [],
   "source": [
    "##한글로 사전 만들어보고, 다음이 스팸인지 아닌지 판단 \n",
    "email2 = ['광고!!허경영 good 세일 확인 지불']"
   ]
  },
  {
   "cell_type": "code",
   "execution_count": 62,
   "id": "9624609d",
   "metadata": {},
   "outputs": [],
   "source": [
    "spam_dict2 = ['광고', '허경영', '스팸', '세일', '비트코인','당첨', '대박']\n",
    "ham_dict2 = ['드림', '수신', '확인', '지원', '알림', '도착']"
   ]
  },
  {
   "cell_type": "code",
   "execution_count": 77,
   "id": "eb03fec6",
   "metadata": {},
   "outputs": [],
   "source": [
    "cv3 = CountVectorizer()\n",
    "tfidf3 = TfidfVectorizer()\n",
    "cv4 = CountVectorizer()\n",
    "tfidf4 = TfidfVectorizer()"
   ]
  },
  {
   "cell_type": "code",
   "execution_count": 78,
   "id": "a8c9a803",
   "metadata": {},
   "outputs": [
    {
     "data": {
      "text/plain": [
       "TfidfVectorizer()"
      ]
     },
     "execution_count": 78,
     "metadata": {},
     "output_type": "execute_result"
    }
   ],
   "source": [
    "##span 사전 만들기 \n",
    "cv3.fit(spam_dict2)\n",
    "tfidf3.fit(spam_dict2)"
   ]
  },
  {
   "cell_type": "code",
   "execution_count": 79,
   "id": "7658888c",
   "metadata": {},
   "outputs": [
    {
     "data": {
      "text/plain": [
       "TfidfVectorizer()"
      ]
     },
     "execution_count": 79,
     "metadata": {},
     "output_type": "execute_result"
    }
   ],
   "source": [
    "cv4.fit(ham_dict2)\n",
    "tfidf4.fit(ham_dict2)"
   ]
  },
  {
   "cell_type": "code",
   "execution_count": 81,
   "id": "17e26391",
   "metadata": {},
   "outputs": [
    {
     "name": "stdout",
     "output_type": "stream",
     "text": [
      "{'광고': 0, '허경영': 6, '스팸': 5, '세일': 4, '비트코인': 3, '당첨': 1, '대박': 2}\n",
      "{'드림': 1, '수신': 2, '확인': 5, '지원': 4, '알림': 3, '도착': 0}\n"
     ]
    }
   ],
   "source": [
    "cv3.vocabulary_\n",
    "print(cv3.vocabulary_)\n",
    "cv4.vocabulary_\n",
    "print(cv4.vocabulary_)"
   ]
  },
  {
   "cell_type": "code",
   "execution_count": 84,
   "id": "a9c5a19e",
   "metadata": {},
   "outputs": [
    {
     "name": "stdout",
     "output_type": "stream",
     "text": [
      "[[1 0 0 0 1 0 1]]\n",
      "[[0 0 0 0 0 1]]\n"
     ]
    }
   ],
   "source": [
    "result3 = cv3.transform(email2).toarray() #spam \n",
    "print(result3) #2차원\n",
    "result4 = cv4.transform(email2).toarray() #spam \n",
    "print(result4) #2차원"
   ]
  },
  {
   "cell_type": "code",
   "execution_count": 86,
   "id": "72d93b74",
   "metadata": {},
   "outputs": [
    {
     "name": "stdout",
     "output_type": "stream",
     "text": [
      "['광고', '당첨', '대박', '비트코인', '세일', '스팸', '허경영']\n",
      "['도착', '드림', '수신', '알림', '지원', '확인']\n"
     ]
    },
    {
     "name": "stderr",
     "output_type": "stream",
     "text": [
      "C:\\ProgramData\\Anaconda3\\lib\\site-packages\\sklearn\\utils\\deprecation.py:87: FutureWarning: Function get_feature_names is deprecated; get_feature_names is deprecated in 1.0 and will be removed in 1.2. Please use get_feature_names_out instead.\n",
      "  warnings.warn(msg, category=FutureWarning)\n"
     ]
    }
   ],
   "source": [
    "#사전에 있는 이름이 무엇이냐? - get_feature_names()\n",
    "spam_feature_list = cv3.get_feature_names() \n",
    "print(spam_feature_list)\n",
    "ham_feature_list = cv4.get_feature_names()\n",
    "print(ham_feature_list)"
   ]
  },
  {
   "cell_type": "code",
   "execution_count": 89,
   "id": "7c154959",
   "metadata": {},
   "outputs": [
    {
     "name": "stdout",
     "output_type": "stream",
     "text": [
      "[[1 0 0 0 1 0 1]]\n",
      "[[0 0 0 0 0 1]]\n"
     ]
    }
   ],
   "source": [
    "result3 = cv3.transform(email2).toarray() #spam \n",
    "print(result3) #2차원\n",
    "result4 = cv4.transform(email2).toarray()\n",
    "print(result4)"
   ]
  },
  {
   "cell_type": "code",
   "execution_count": 92,
   "id": "13337f6b",
   "metadata": {},
   "outputs": [
    {
     "name": "stdout",
     "output_type": "stream",
     "text": [
      "3\n",
      "1\n"
     ]
    }
   ],
   "source": [
    "spam_words_count2 = sum(result3[0])\n",
    "print(spam_words_count)\n",
    "ham_words_count2 = sum(result4[0])\n",
    "print(ham_words_count)"
   ]
  },
  {
   "cell_type": "code",
   "execution_count": 94,
   "id": "76678d29",
   "metadata": {},
   "outputs": [
    {
     "name": "stdout",
     "output_type": "stream",
     "text": [
      "spam mail!!\n"
     ]
    }
   ],
   "source": [
    "if spam_words_count2 > ham_words_count2: \n",
    "    print('spam mail!!')\n",
    "else:\n",
    "    print('ham mail!!!')"
   ]
  },
  {
   "cell_type": "code",
   "execution_count": 95,
   "id": "86cd73fb",
   "metadata": {},
   "outputs": [],
   "source": [
    "##감정분류기를 만들어보세요 \n",
    "##긍정/부정사전을 만들어보세요 \n",
    "##input()을 이용하여 문장을 입력받으면, 긍정인지 부정인지 판단해보세요 \n",
    "#tf-idf vectorizer를 사용해보세요 "
   ]
  },
  {
   "cell_type": "code",
   "execution_count": 104,
   "id": "d91ffd2a",
   "metadata": {},
   "outputs": [],
   "source": [
    "positive_words = ['좋다','기대된다','희망한다','사랑한다','좋아한다','긍정적','미소','웃음','재미있다','즐겁다','긍정적이다']\n",
    "negative_words = ['싫다','불희망','사랑하지않는다','싫어하다', '부정적','짜증','재미없다','지루하다','그만하다','부정적이다']\n",
    "\n",
    "cv5 = CountVectorizer()\n",
    "tfidf5 = TfidfVectorizer()\n",
    "cv6 = CountVectorizer()\n",
    "tfidf6 = TfidfVectorizer()"
   ]
  },
  {
   "cell_type": "code",
   "execution_count": 124,
   "id": "4a197a75",
   "metadata": {},
   "outputs": [
    {
     "name": "stdout",
     "output_type": "stream",
     "text": [
      "문장을 입력해주세요이 사람은 긍정적이다\n"
     ]
    }
   ],
   "source": [
    "sentence = [input(\"문장을 입력해주세요\")]"
   ]
  },
  {
   "cell_type": "code",
   "execution_count": 128,
   "id": "785943ca",
   "metadata": {},
   "outputs": [
    {
     "name": "stdout",
     "output_type": "stream",
     "text": [
      "{'좋다': 7, '기대된다': 2, '희망한다': 10, '사랑한다': 4, '좋아한다': 8, '긍정적': 0, '미소': 3, '웃음': 5, '재미있다': 6, '즐겁다': 9, '긍정적이다': 1}\n",
      "{'싫다': 5, '불희망': 3, '사랑하지않는다': 4, '싫어하다': 6, '부정적': 1, '짜증': 9, '재미없다': 7, '지루하다': 8, '그만하다': 0, '부정적이다': 2}\n"
     ]
    }
   ],
   "source": [
    "##span 사전 만들기 \n",
    "cv5.fit(positive_words)\n",
    "tfidf5.fit(positive_words)\n",
    "cv6.fit(negative_words)\n",
    "tfidf6.fit(negative_words)\n",
    "\n",
    "cv5.vocabulary_\n",
    "print(cv5.vocabulary_)\n",
    "cv6.vocabulary_\n",
    "print(cv6.vocabulary_)"
   ]
  },
  {
   "cell_type": "code",
   "execution_count": 136,
   "id": "f5ce7c20",
   "metadata": {},
   "outputs": [
    {
     "name": "stdout",
     "output_type": "stream",
     "text": [
      "['긍정적', '긍정적이다', '기대된다', '미소', '사랑한다', '웃음', '재미있다', '좋다', '좋아한다', '즐겁다', '희망한다']\n",
      "['그만하다', '부정적', '부정적이다', '불희망', '사랑하지않는다', '싫다', '싫어하다', '재미없다', '지루하다', '짜증']\n",
      "[[0 1 0 0 0 0 0 0 0 0 0]]\n",
      "[[0 0 0 0 0 0 0 0 0 0]]\n",
      "pos_sum 1 nega_sum 0\n"
     ]
    }
   ],
   "source": [
    "#사전에 있는 이름이 무엇이냐? - get_feature_names()\n",
    "pos_words = cv5.get_feature_names() \n",
    "print(pos_words)\n",
    "nega_words = cv6.get_feature_names()\n",
    "print(nega_words)\n",
    "\n",
    "result5 = cv5.transform(sentence).toarray() #spam \n",
    "result6 = cv6.transform(sentence).toarray() #spam \n",
    "pos_sum = sum(result5[0])\n",
    "nega_sum = sum(result6[0])\n",
    "\n",
    "print(result5) #2차원\n",
    "print(result6) #2차원\n",
    "print('pos_sum',pos_sum, 'nega_sum',nega_sum)"
   ]
  },
  {
   "cell_type": "code",
   "execution_count": 140,
   "id": "f38e8877",
   "metadata": {},
   "outputs": [
    {
     "name": "stdout",
     "output_type": "stream",
     "text": [
      "긍정적인 문장으로 판단됩니다.\n"
     ]
    }
   ],
   "source": [
    "if pos_sum > nega_sum: \n",
    "    print('긍정적인 문장으로 판단됩니다.')\n",
    "else:\n",
    "    print('부정적인 문장으로 판단됩니다.')"
   ]
  }
 ],
 "metadata": {
  "kernelspec": {
   "display_name": "Python 3 (ipykernel)",
   "language": "python",
   "name": "python3"
  },
  "language_info": {
   "codemirror_mode": {
    "name": "ipython",
    "version": 3
   },
   "file_extension": ".py",
   "mimetype": "text/x-python",
   "name": "python",
   "nbconvert_exporter": "python",
   "pygments_lexer": "ipython3",
   "version": "3.7.13"
  }
 },
 "nbformat": 4,
 "nbformat_minor": 5
}
