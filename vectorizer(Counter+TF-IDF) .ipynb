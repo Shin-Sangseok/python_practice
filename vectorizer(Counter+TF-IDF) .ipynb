{
 "cells": [
  {
   "cell_type": "code",
   "execution_count": 18,
   "id": "4d8dedf0",
   "metadata": {},
   "outputs": [],
   "source": [
    "from sklearn.feature_extraction.text import TfidfVectorizer, CountVectorizer\n",
    "#Tf(Trem Frequency)\n",
    "#하나의 문서에서 특정 단어가 등장하는 횟수 \n",
    "#idf(Inverse Document Frequency)\n",
    "#특정 단어가 몇 개의 문서에서 등장하는지 수치화한 것의 역수 \n",
    "# 중요하지 않은 단어에 가중치를 조금만 주어서 문서 벡터의 방향이 \n",
    "#좀 더 중요한 단어들에 의해 좌우되도록 하는 것. "
   ]
  },
  {
   "cell_type": "code",
   "execution_count": 3,
   "id": "faf57b6f",
   "metadata": {},
   "outputs": [],
   "source": [
    "corpus = [\n",
    "    'you know I want your love', \n",
    "    'I like you', \n",
    "    'what should I do'\n",
    "]"
   ]
  },
  {
   "cell_type": "code",
   "execution_count": 4,
   "id": "a09cc66e",
   "metadata": {},
   "outputs": [
    {
     "name": "stdout",
     "output_type": "stream",
     "text": [
      "[[0 1 0 1 0 1 0 1 1]\n",
      " [0 0 1 0 0 0 0 1 0]\n",
      " [1 0 0 0 1 0 1 0 0]]\n",
      "{'you': 7, 'know': 1, 'want': 5, 'your': 8, 'love': 3, 'like': 2, 'what': 6, 'should': 4, 'do': 0}\n"
     ]
    }
   ],
   "source": [
    "vector = CountVectorizer()\n",
    "print(vector.fit_transform(corpus).toarray())#빈도수 기록 \n",
    "print(vector.vocabulary_)"
   ]
  },
  {
   "cell_type": "code",
   "execution_count": 5,
   "id": "5c2e3029",
   "metadata": {},
   "outputs": [
    {
     "name": "stdout",
     "output_type": "stream",
     "text": [
      "[[0.         0.46735098 0.         0.46735098 0.         0.46735098\n",
      "  0.         0.35543247 0.46735098]\n",
      " [0.         0.         0.79596054 0.         0.         0.\n",
      "  0.         0.60534851 0.        ]\n",
      " [0.57735027 0.         0.         0.         0.57735027 0.\n",
      "  0.57735027 0.         0.        ]]\n",
      "{'you': 7, 'know': 1, 'want': 5, 'your': 8, 'love': 3, 'like': 2, 'what': 6, 'should': 4, 'do': 0}\n"
     ]
    }
   ],
   "source": [
    "tfidfv = TfidfVectorizer().fit(corpus) \n",
    "print(tfidfv.transform(corpus).toarray())\n",
    "print(tfidfv.vocabulary_)"
   ]
  },
  {
   "cell_type": "code",
   "execution_count": 26,
   "id": "abdc1adb",
   "metadata": {},
   "outputs": [
    {
     "data": {
      "text/plain": [
       "array([[0, 1, 0, 1, 0, 1, 0, 1, 1],\n",
       "       [0, 0, 1, 0, 0, 0, 0, 1, 0],\n",
       "       [1, 0, 0, 0, 1, 0, 1, 0, 0]], dtype=int64)"
      ]
     },
     "execution_count": 26,
     "metadata": {},
     "output_type": "execute_result"
    }
   ],
   "source": [
    "#파이프라인은 사이킷런의 여러 API를 한번에 처리할 수 있도록 도와주는 기능 \n",
    "vectorized_data = vector.fit_transform(corpus).toarray()\n",
    "vectorized_data"
   ]
  },
  {
   "cell_type": "code",
   "execution_count": 27,
   "id": "cb130473",
   "metadata": {},
   "outputs": [
    {
     "data": {
      "text/plain": [
       "[array(['know', 'love', 'want', 'you', 'your'], dtype='<U6'),\n",
       " array(['like', 'you'], dtype='<U6'),\n",
       " array(['do', 'should', 'what'], dtype='<U6')]"
      ]
     },
     "execution_count": 27,
     "metadata": {},
     "output_type": "execute_result"
    }
   ],
   "source": [
    "vector.inverse_transform(vectorized_data)"
   ]
  },
  {
   "cell_type": "code",
   "execution_count": 28,
   "id": "07cb159a",
   "metadata": {},
   "outputs": [
    {
     "data": {
      "text/plain": [
       "[array(['know', 'love', 'want', 'you', 'your'], dtype='<U6')]"
      ]
     },
     "execution_count": 28,
     "metadata": {},
     "output_type": "execute_result"
    }
   ],
   "source": [
    "vector.inverse_transform([vectorized_data[0]]) \n",
    "#버전에 따라 다른데 지원되는 경우도 있고 \n",
    "#1darray 지원안되는 경우도 있어서 [] 하나 더 붙여줌. "
   ]
  },
  {
   "cell_type": "code",
   "execution_count": 29,
   "id": "1ba23609",
   "metadata": {},
   "outputs": [
    {
     "name": "stderr",
     "output_type": "stream",
     "text": [
      "C:\\ProgramData\\Anaconda3\\lib\\site-packages\\sklearn\\utils\\deprecation.py:87: FutureWarning: Function get_feature_names is deprecated; get_feature_names is deprecated in 1.0 and will be removed in 1.2. Please use get_feature_names_out instead.\n",
      "  warnings.warn(msg, category=FutureWarning)\n"
     ]
    },
    {
     "data": {
      "text/plain": [
       "['do', 'know', 'like', 'love', 'should', 'want', 'what', 'you', 'your']"
      ]
     },
     "execution_count": 29,
     "metadata": {},
     "output_type": "execute_result"
    }
   ],
   "source": [
    "vector.get_feature_names()"
   ]
  },
  {
   "cell_type": "code",
   "execution_count": 30,
   "id": "bee83d20",
   "metadata": {},
   "outputs": [
    {
     "name": "stdout",
     "output_type": "stream",
     "text": [
      "0 : do\n",
      "1 : know\n",
      "2 : like\n",
      "3 : love\n",
      "4 : should\n",
      "5 : want\n",
      "6 : what\n",
      "7 : you\n",
      "8 : your\n"
     ]
    }
   ],
   "source": [
    "for index, value in enumerate(vector.get_feature_names()):\n",
    "    print(index, ':', value)"
   ]
  },
  {
   "cell_type": "code",
   "execution_count": 31,
   "id": "98902338",
   "metadata": {},
   "outputs": [],
   "source": [
    "corpus2 = [\n",
    "    'you know I want your love', \n",
    "    'I like you', \n",
    "    'what should I do', \n",
    "    'so haha', \n",
    "    'i am happy', \n",
    "    'i am a programmer'\n",
    "]"
   ]
  },
  {
   "cell_type": "code",
   "execution_count": 21,
   "id": "8d221a60",
   "metadata": {},
   "outputs": [],
   "source": [
    "vector2 = CountVectorizer() #단어들의 카운트 (출현 빈도)로 여러 문서들을 벡터화 "
   ]
  },
  {
   "cell_type": "code",
   "execution_count": 22,
   "id": "8e7bd5c3",
   "metadata": {},
   "outputs": [
    {
     "data": {
      "text/plain": [
       "CountVectorizer()"
      ]
     },
     "execution_count": 22,
     "metadata": {},
     "output_type": "execute_result"
    }
   ],
   "source": [
    "cv_fit = vector2.fit(corpus2)\n",
    "cv_fit"
   ]
  },
  {
   "cell_type": "code",
   "execution_count": 24,
   "id": "63a023b5",
   "metadata": {},
   "outputs": [
    {
     "data": {
      "text/plain": [
       "array([[0, 0, 0, 0, 1, 0, 1, 0, 0, 0, 1, 0, 1, 1],\n",
       "       [0, 0, 0, 0, 0, 1, 0, 0, 0, 0, 0, 0, 1, 0],\n",
       "       [0, 1, 0, 0, 0, 0, 0, 0, 1, 0, 0, 1, 0, 0]], dtype=int64)"
      ]
     },
     "execution_count": 24,
     "metadata": {},
     "output_type": "execute_result"
    }
   ],
   "source": [
    "vectorized_data2 = vector2.transform(corpus).toarray()\n",
    "vectorized_data2"
   ]
  },
  {
   "cell_type": "code",
   "execution_count": 32,
   "id": "8572eed7",
   "metadata": {},
   "outputs": [
    {
     "data": {
      "text/plain": [
       "['am',\n",
       " 'do',\n",
       " 'haha',\n",
       " 'happy',\n",
       " 'know',\n",
       " 'like',\n",
       " 'love',\n",
       " 'programmer',\n",
       " 'should',\n",
       " 'so',\n",
       " 'want',\n",
       " 'what',\n",
       " 'you',\n",
       " 'your']"
      ]
     },
     "execution_count": 32,
     "metadata": {},
     "output_type": "execute_result"
    }
   ],
   "source": [
    "vector2.get_feature_names()"
   ]
  },
  {
   "cell_type": "code",
   "execution_count": 33,
   "id": "a9f12c38",
   "metadata": {},
   "outputs": [
    {
     "name": "stdout",
     "output_type": "stream",
     "text": [
      "0 : am\n",
      "1 : do\n",
      "2 : haha\n",
      "3 : happy\n",
      "4 : know\n",
      "5 : like\n",
      "6 : love\n",
      "7 : programmer\n",
      "8 : should\n",
      "9 : so\n",
      "10 : want\n",
      "11 : what\n",
      "12 : you\n",
      "13 : your\n"
     ]
    },
    {
     "name": "stderr",
     "output_type": "stream",
     "text": [
      "C:\\ProgramData\\Anaconda3\\lib\\site-packages\\sklearn\\utils\\deprecation.py:87: FutureWarning: Function get_feature_names is deprecated; get_feature_names is deprecated in 1.0 and will be removed in 1.2. Please use get_feature_names_out instead.\n",
      "  warnings.warn(msg, category=FutureWarning)\n"
     ]
    }
   ],
   "source": [
    "#index, value형식으로 바꿈 \n",
    "for index, value in enumerate(vector2.get_feature_names()): \n",
    "    print(index , ':', value)"
   ]
  },
  {
   "cell_type": "code",
   "execution_count": 35,
   "id": "a6b947ca",
   "metadata": {},
   "outputs": [
    {
     "data": {
      "text/plain": [
       "[array(['know', 'love', 'want', 'you', 'your'], dtype='<U10'),\n",
       " array(['like', 'you'], dtype='<U10'),\n",
       " array(['do', 'should', 'what'], dtype='<U10')]"
      ]
     },
     "execution_count": 35,
     "metadata": {},
     "output_type": "execute_result"
    }
   ],
   "source": [
    "vector2.inverse_transform(vectorized_data2) #디코딩 "
   ]
  },
  {
   "cell_type": "code",
   "execution_count": 36,
   "id": "9567c962",
   "metadata": {},
   "outputs": [
    {
     "data": {
      "text/plain": [
       "array([0, 1, 0, 0, 0, 0, 0, 0, 1, 0, 0, 1, 0, 0], dtype=int64)"
      ]
     },
     "execution_count": 36,
     "metadata": {},
     "output_type": "execute_result"
    }
   ],
   "source": [
    "vectorized_data2[2]"
   ]
  }
 ],
 "metadata": {
  "kernelspec": {
   "display_name": "Python 3 (ipykernel)",
   "language": "python",
   "name": "python3"
  },
  "language_info": {
   "codemirror_mode": {
    "name": "ipython",
    "version": 3
   },
   "file_extension": ".py",
   "mimetype": "text/x-python",
   "name": "python",
   "nbconvert_exporter": "python",
   "pygments_lexer": "ipython3",
   "version": "3.7.13"
  }
 },
 "nbformat": 4,
 "nbformat_minor": 5
}
