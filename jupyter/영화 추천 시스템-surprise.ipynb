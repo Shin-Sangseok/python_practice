{
 "cells": [
  {
   "cell_type": "code",
   "execution_count": 1,
   "id": "a51a7c83",
   "metadata": {},
   "outputs": [
    {
     "name": "stdout",
     "output_type": "stream",
     "text": [
      " C 드라이브의 볼륨에는 이름이 없습니다.\n",
      " 볼륨 일련 번호: 6E44-A804\n",
      "\n",
      " C:\\Users\\pc\\test 디렉터리\n",
      "\n",
      "2022-05-19  오후 03:07    <DIR>          .\n",
      "2022-05-19  오후 03:07    <DIR>          ..\n",
      "2022-05-19  오후 03:07    <DIR>          .ipynb_checkpoints\n",
      "2022-05-09  오후 08:29    <DIR>          __MACOSX\n",
      "2022-03-23  오후 08:16             1,685 02. crime_in_Seoul.csv\n",
      "2022-03-21  오후 11:32            38,854 a.csv\n",
      "2022-04-28  오후 10:34             7,184 accuracy.ipynb\n",
      "2022-05-03  오후 11:26    <DIR>          archive\n",
      "2022-02-16  오전 03:37        11,880,960 chromedriver.exe\n",
      "2022-03-28  오후 07:48    <DIR>          chromedriver_win32\n",
      "2022-05-13  오전 10:13    <DIR>          data_list\n",
      "2019-09-19  오후 10:44            23,873 diabetes.csv\n",
      "2022-05-04  오전 12:14            32,139 diabetes.ipynb\n",
      "2022-04-12  오후 06:19            17,030 func_content.ipynb\n",
      "2022-05-13  오후 02:49            26,860 ham_spam_content.ipynb\n",
      "2022-05-09  오후 08:29    <DIR>          human_activity\n",
      "2022-04-12  오후 12:05             6,190 ML1.ipynb\n",
      "2022-04-12  오후 04:52             8,451 ML2.ipynb\n",
      "2022-05-13  오전 10:29           925,684 movie_SA_lr.pkl\n",
      "2022-05-19  오후 03:07    <DIR>          movie-ratings-data\n",
      "2022-05-17  오후 11:32    <DIR>          myCabinet\n",
      "2022-03-21  오후 11:33            53,391 naver-car.json\n",
      "2022-05-10  오후 01:28           146,265 nltk-practice01.ipynb\n",
      "2022-05-10  오후 12:56           198,782 nltk-test.ipynb\n",
      "2022-05-06  오후 10:00             1,742 Okt-test.ipynb\n",
      "2022-05-13  오전 09:41    <DIR>          python_practice-main\n",
      "2022-04-25  오후 06:16           156,316 riss_bigdata.csv\n",
      "2022-04-25  오후 06:16            32,660 rss2.json\n",
      "2022-03-22  오후 10:13        60,450,735 seo_sell.csv\n",
      "2022-05-16  오후 06:21           927,947 Shop.ipynb\n",
      "2022-05-13  오후 02:46            29,742 spam_ham_lr.pkl\n",
      "2022-05-03  오전 12:42            72,715 test01.ipynb\n",
      "2022-05-03  오후 11:19           167,466 test1.ipynb\n",
      "2022-04-23  오후 01:05            70,021 titanic.ipynb\n",
      "2022-04-09  오전 12:28            61,194 train.csv\n",
      "2022-05-16  오후 04:44            75,040 tree.dot\n",
      "2022-05-09  오후 08:28        60,999,314 UCI HAR Dataset.zip\n",
      "2022-05-10  오전 12:25            57,604 UCI.ipynb\n",
      "2022-04-25  오후 11:15            54,605 Untitled.ipynb\n",
      "2022-05-06  오전 01:12            24,977 Untitled1.ipynb\n",
      "2022-05-13  오전 10:18            38,593 네이버영화감정분류.ipynb\n",
      "2022-05-18  오후 02:45            58,467 다양한추천알고리즘 .ipynb\n",
      "2022-05-16  오후 12:58         1,509,671 쇼핑몰_최종.xlsx\n",
      "2022-05-10  오후 02:57         1,456,086 쇼핑몰프로젝트DATA.xlsx\n",
      "2022-05-16  오전 11:32            48,813 앙상블_연습(쇼핑몰프로젝트데이터) (1).ipynb\n",
      "2022-05-19  오후 03:07                72 영화 추천 시스템-surprise.ipynb\n",
      "2022-04-25  오후 11:01            58,599 전자신문_텍스트마이닝.ipynb\n",
      "              36개 파일         139,719,727 바이트\n",
      "              11개 디렉터리  232,761,671,680 바이트 남음\n"
     ]
    }
   ],
   "source": [
    "ls"
   ]
  },
  {
   "cell_type": "code",
   "execution_count": 4,
   "id": "b0a682ed",
   "metadata": {},
   "outputs": [
    {
     "name": "stdout",
     "output_type": "stream",
     "text": [
      "Collecting scikit-surprise\n",
      "  Downloading scikit-surprise-1.1.1.tar.gz (11.8 MB)\n",
      "Requirement already satisfied: joblib>=0.11 in c:\\users\\pc\\anaconda3\\lib\\site-packages (from scikit-surprise) (1.1.0)\n",
      "Requirement already satisfied: numpy>=1.11.2 in c:\\users\\pc\\anaconda3\\lib\\site-packages (from scikit-surprise) (1.22.2)\n",
      "Requirement already satisfied: scipy>=1.0.0 in c:\\users\\pc\\anaconda3\\lib\\site-packages (from scikit-surprise) (1.8.0)\n",
      "Requirement already satisfied: six>=1.10.0 in c:\\users\\pc\\anaconda3\\lib\\site-packages (from scikit-surprise) (1.16.0)\n",
      "Building wheels for collected packages: scikit-surprise\n",
      "  Building wheel for scikit-surprise (setup.py): started\n",
      "  Building wheel for scikit-surprise (setup.py): finished with status 'done'\n",
      "  Created wheel for scikit-surprise: filename=scikit_surprise-1.1.1-cp39-cp39-win_amd64.whl size=717452 sha256=50c7c021e6ed1ce2bba93615ff17eaf1f76f902338d4747192aa520512f70f41\n",
      "  Stored in directory: c:\\users\\pc\\appdata\\local\\pip\\cache\\wheels\\6b\\10\\c9\\7f607c8cb522ef378844f41e63b30d7181a6495d2c1ae514e9\n",
      "Successfully built scikit-surprise\n",
      "Installing collected packages: scikit-surprise\n",
      "Successfully installed scikit-surprise-1.1.1\n",
      "Note: you may need to restart the kernel to use updated packages.\n"
     ]
    }
   ],
   "source": [
    "pip install scikit-surprise"
   ]
  },
  {
   "cell_type": "code",
   "execution_count": 5,
   "id": "475900ce",
   "metadata": {},
   "outputs": [],
   "source": [
    "import surprise"
   ]
  },
  {
   "cell_type": "code",
   "execution_count": 7,
   "id": "3cca1b4e",
   "metadata": {},
   "outputs": [
    {
     "name": "stdout",
     "output_type": "stream",
     "text": [
      "1.1.1\n"
     ]
    }
   ],
   "source": [
    "print(surprise.__version__)"
   ]
  },
  {
   "cell_type": "code",
   "execution_count": 16,
   "id": "df680b83",
   "metadata": {},
   "outputs": [],
   "source": [
    "## 고유값(특이값)분해 방법\n",
    "##SGD(Stochastic 통계적인 Gradient 경사 하강법)\n",
    "from surprise import SVD\n",
    "from surprise import Dataset, Reader\n",
    "from surprise import accuracy\n",
    "from surprise.model_selection import train_test_split"
   ]
  },
  {
   "cell_type": "code",
   "execution_count": 19,
   "id": "34d0a2a8",
   "metadata": {},
   "outputs": [
    {
     "data": {
      "text/plain": [
       "<surprise.dataset.DatasetAutoFolds at 0x1e15cd959a0>"
      ]
     },
     "execution_count": 19,
     "metadata": {},
     "output_type": "execute_result"
    }
   ],
   "source": [
    "data = Dataset.load_builtin('ml-100k')\n",
    "data #DatasetAutoFolds"
   ]
  },
  {
   "cell_type": "code",
   "execution_count": 20,
   "id": "bd580484",
   "metadata": {},
   "outputs": [],
   "source": [
    "trainset, testset = train_test_split(data, test_size = 0.25, random_state=0)"
   ]
  },
  {
   "cell_type": "code",
   "execution_count": 21,
   "id": "e70367ab",
   "metadata": {},
   "outputs": [
    {
     "data": {
      "text/plain": [
       "<surprise.trainset.Trainset at 0x1e14c9d4610>"
      ]
     },
     "execution_count": 21,
     "metadata": {},
     "output_type": "execute_result"
    }
   ],
   "source": [
    "trainset"
   ]
  },
  {
   "cell_type": "code",
   "execution_count": 24,
   "id": "f0249f6d",
   "metadata": {},
   "outputs": [
    {
     "data": {
      "text/plain": [
       "('882', '291', 4.0)"
      ]
     },
     "execution_count": 24,
     "metadata": {},
     "output_type": "execute_result"
    }
   ],
   "source": [
    "testset[1] #882번 사람이 291번 영화에 4.0 평점을 부여함 "
   ]
  },
  {
   "cell_type": "code",
   "execution_count": 25,
   "id": "729fe0e8",
   "metadata": {},
   "outputs": [
    {
     "data": {
      "text/plain": [
       "[('120', '282', 4.0),\n",
       " ('882', '291', 4.0),\n",
       " ('535', '507', 5.0),\n",
       " ('697', '244', 5.0),\n",
       " ('751', '385', 4.0)]"
      ]
     },
     "execution_count": 25,
     "metadata": {},
     "output_type": "execute_result"
    }
   ],
   "source": [
    "testset[:5]"
   ]
  },
  {
   "cell_type": "code",
   "execution_count": 27,
   "id": "fd85b6d4",
   "metadata": {},
   "outputs": [],
   "source": [
    "algo = SVD()"
   ]
  },
  {
   "cell_type": "code",
   "execution_count": 28,
   "id": "7cce09d2",
   "metadata": {},
   "outputs": [
    {
     "data": {
      "text/plain": [
       "<surprise.prediction_algorithms.matrix_factorization.SVD at 0x1e15c187e20>"
      ]
     },
     "execution_count": 28,
     "metadata": {},
     "output_type": "execute_result"
    }
   ],
   "source": [
    "algo.fit(trainset)"
   ]
  },
  {
   "cell_type": "code",
   "execution_count": 34,
   "id": "99307b6c",
   "metadata": {},
   "outputs": [
    {
     "data": {
      "text/plain": [
       "Prediction(uid='882', iid='291', r_ui=4.0, est=3.57875612083051, details={'was_impossible': False})"
      ]
     },
     "execution_count": 34,
     "metadata": {},
     "output_type": "execute_result"
    }
   ],
   "source": [
    "prediction = algo.test(testset)[1]\n",
    "prediction   #하나의 영화에 대한 예측값은 Prediction 객체 "
   ]
  },
  {
   "cell_type": "code",
   "execution_count": 35,
   "id": "26fcdbc8",
   "metadata": {},
   "outputs": [
    {
     "data": {
      "text/plain": [
       "[Prediction(uid='120', iid='282', r_ui=4.0, est=3.395130336170134, details={'was_impossible': False}),\n",
       " Prediction(uid='882', iid='291', r_ui=4.0, est=3.57875612083051, details={'was_impossible': False}),\n",
       " Prediction(uid='535', iid='507', r_ui=5.0, est=3.993371996984712, details={'was_impossible': False}),\n",
       " Prediction(uid='697', iid='244', r_ui=5.0, est=3.5897533721674493, details={'was_impossible': False}),\n",
       " Prediction(uid='751', iid='385', r_ui=4.0, est=3.3578672683695725, details={'was_impossible': False})]"
      ]
     },
     "execution_count": 35,
     "metadata": {},
     "output_type": "execute_result"
    }
   ],
   "source": [
    "predictions = algo.test(testset)[:5]\n",
    "predictions   #하나의 영화에 대한 예측값은 Prediction 객체 "
   ]
  },
  {
   "cell_type": "code",
   "execution_count": 46,
   "id": "69cff889",
   "metadata": {},
   "outputs": [
    {
     "data": {
      "text/plain": [
       "[Prediction(uid='120', iid='282', r_ui=4.0, est=3.395130336170134, details={'was_impossible': False}),\n",
       " Prediction(uid='882', iid='291', r_ui=4.0, est=3.57875612083051, details={'was_impossible': False}),\n",
       " Prediction(uid='535', iid='507', r_ui=5.0, est=3.993371996984712, details={'was_impossible': False}),\n",
       " Prediction(uid='697', iid='244', r_ui=5.0, est=3.5897533721674493, details={'was_impossible': False}),\n",
       " Prediction(uid='751', iid='385', r_ui=4.0, est=3.3578672683695725, details={'was_impossible': False}),\n",
       " Prediction(uid='219', iid='82', r_ui=1.0, est=3.845557321514779, details={'was_impossible': False}),\n",
       " Prediction(uid='279', iid='571', r_ui=4.0, est=2.3228325729003068, details={'was_impossible': False}),\n",
       " Prediction(uid='429', iid='568', r_ui=3.0, est=3.4584160541660416, details={'was_impossible': False}),\n",
       " Prediction(uid='456', iid='100', r_ui=3.0, est=4.751462985926559, details={'was_impossible': False}),\n",
       " Prediction(uid='249', iid='23', r_ui=4.0, est=4.781505996210111, details={'was_impossible': False}),\n",
       " Prediction(uid='493', iid='183', r_ui=5.0, est=4.146602814961389, details={'was_impossible': False}),\n",
       " Prediction(uid='325', iid='469', r_ui=4.0, est=3.593264520771355, details={'was_impossible': False}),\n",
       " Prediction(uid='631', iid='682', r_ui=2.0, est=2.789245611030247, details={'was_impossible': False}),\n",
       " Prediction(uid='276', iid='121', r_ui=4.0, est=3.5490571117538625, details={'was_impossible': False}),\n",
       " Prediction(uid='269', iid='405', r_ui=1.0, est=1.640914384049516, details={'was_impossible': False}),\n",
       " Prediction(uid='159', iid='1095', r_ui=5.0, est=2.915570201709518, details={'was_impossible': False}),\n",
       " Prediction(uid='385', iid='965', r_ui=4.0, est=3.313913148695195, details={'was_impossible': False}),\n",
       " Prediction(uid='21', iid='358', r_ui=3.0, est=1.8029716755625709, details={'was_impossible': False}),\n",
       " Prediction(uid='181', iid='1359', r_ui=1.0, est=1.7378162599382325, details={'was_impossible': False}),\n",
       " Prediction(uid='561', iid='124', r_ui=3.0, est=3.7294619329975225, details={'was_impossible': False}),\n",
       " Prediction(uid='658', iid='1079', r_ui=2.0, est=2.3830013521347655, details={'was_impossible': False}),\n",
       " Prediction(uid='354', iid='269', r_ui=4.0, est=3.9008968242927926, details={'was_impossible': False}),\n",
       " Prediction(uid='325', iid='483', r_ui=5.0, est=4.111087245400024, details={'was_impossible': False}),\n",
       " Prediction(uid='601', iid='241', r_ui=4.0, est=3.2295739411922657, details={'was_impossible': False}),\n",
       " Prediction(uid='409', iid='1020', r_ui=5.0, est=3.6035750575402847, details={'was_impossible': False}),\n",
       " Prediction(uid='801', iid='300', r_ui=5.0, est=4.357774790873754, details={'was_impossible': False}),\n",
       " Prediction(uid='289', iid='21', r_ui=1.0, est=2.6923990297355926, details={'was_impossible': False}),\n",
       " Prediction(uid='378', iid='896', r_ui=4.0, est=3.7968512343063594, details={'was_impossible': False}),\n",
       " Prediction(uid='609', iid='294', r_ui=2.0, est=2.2947118097258516, details={'was_impossible': False}),\n",
       " Prediction(uid='442', iid='452', r_ui=3.0, est=2.180159836153957, details={'was_impossible': False}),\n",
       " Prediction(uid='459', iid='264', r_ui=4.0, est=2.748366532054571, details={'was_impossible': False}),\n",
       " Prediction(uid='739', iid='333', r_ui=4.0, est=3.563453241851923, details={'was_impossible': False}),\n",
       " Prediction(uid='297', iid='98', r_ui=5.0, est=4.186270229749018, details={'was_impossible': False}),\n",
       " Prediction(uid='592', iid='286', r_ui=5.0, est=2.985942465650122, details={'was_impossible': False}),\n",
       " Prediction(uid='313', iid='820', r_ui=2.0, est=2.785859868591522, details={'was_impossible': False}),\n",
       " Prediction(uid='393', iid='802', r_ui=3.0, est=3.097508341708914, details={'was_impossible': False}),\n",
       " Prediction(uid='168', iid='763', r_ui=2.0, est=3.5733043592346094, details={'was_impossible': False}),\n",
       " Prediction(uid='293', iid='17', r_ui=2.0, est=2.6547665908275815, details={'was_impossible': False}),\n",
       " Prediction(uid='280', iid='1063', r_ui=3.0, est=4.203705136012065, details={'was_impossible': False}),\n",
       " Prediction(uid='379', iid='461', r_ui=4.0, est=4.005878237309153, details={'was_impossible': False}),\n",
       " Prediction(uid='911', iid='638', r_ui=4.0, est=4.0102878269026485, details={'was_impossible': False}),\n",
       " Prediction(uid='216', iid='368', r_ui=2.0, est=2.00366987123509, details={'was_impossible': False}),\n",
       " Prediction(uid='10', iid='195', r_ui=4.0, est=4.317706202658311, details={'was_impossible': False}),\n",
       " Prediction(uid='645', iid='46', r_ui=5.0, est=3.7816032340621, details={'was_impossible': False}),\n",
       " Prediction(uid='83', iid='412', r_ui=1.0, est=2.521362553766998, details={'was_impossible': False}),\n",
       " Prediction(uid='321', iid='521', r_ui=2.0, est=3.6823766731420564, details={'was_impossible': False}),\n",
       " Prediction(uid='650', iid='968', r_ui=4.0, est=3.180531721461194, details={'was_impossible': False}),\n",
       " Prediction(uid='58', iid='216', r_ui=3.0, est=4.344526182932903, details={'was_impossible': False}),\n",
       " Prediction(uid='897', iid='211', r_ui=5.0, est=4.2618331283518485, details={'was_impossible': False}),\n",
       " Prediction(uid='44', iid='90', r_ui=2.0, est=2.9269404064632765, details={'was_impossible': False}),\n",
       " Prediction(uid='487', iid='652', r_ui=5.0, est=3.9991198311809644, details={'was_impossible': False}),\n",
       " Prediction(uid='104', iid='313', r_ui=4.0, est=3.4153670815524952, details={'was_impossible': False}),\n",
       " Prediction(uid='751', iid='381', r_ui=1.0, est=3.1974349685035524, details={'was_impossible': False}),\n",
       " Prediction(uid='20', iid='252', r_ui=4.0, est=2.452916960172629, details={'was_impossible': False}),\n",
       " Prediction(uid='528', iid='588', r_ui=2.0, est=4.0520623832153095, details={'was_impossible': False}),\n",
       " Prediction(uid='10', iid='180', r_ui=5.0, est=4.643824470883432, details={'was_impossible': False}),\n",
       " Prediction(uid='492', iid='923', r_ui=5.0, est=3.6134820828170304, details={'was_impossible': False}),\n",
       " Prediction(uid='16', iid='591', r_ui=4.0, est=4.677388378716186, details={'was_impossible': False}),\n",
       " Prediction(uid='286', iid='272', r_ui=5.0, est=4.519425403695893, details={'was_impossible': False}),\n",
       " Prediction(uid='496', iid='98', r_ui=4.0, est=3.6338703065282147, details={'was_impossible': False}),\n",
       " Prediction(uid='724', iid='678', r_ui=2.0, est=1.4792837157662955, details={'was_impossible': False}),\n",
       " Prediction(uid='655', iid='1560', r_ui=2.0, est=2.881480817521451, details={'was_impossible': False}),\n",
       " Prediction(uid='373', iid='431', r_ui=5.0, est=3.7817941728955424, details={'was_impossible': False}),\n",
       " Prediction(uid='326', iid='514', r_ui=3.0, est=3.0658573526654838, details={'was_impossible': False}),\n",
       " Prediction(uid='184', iid='14', r_ui=4.0, est=4.092076953315209, details={'was_impossible': False}),\n",
       " Prediction(uid='534', iid='475', r_ui=4.0, est=4.367559686721763, details={'was_impossible': False}),\n",
       " Prediction(uid='753', iid='499', r_ui=3.0, est=3.4994576310875574, details={'was_impossible': False}),\n",
       " Prediction(uid='58', iid='248', r_ui=4.0, est=3.8742205017535984, details={'was_impossible': False}),\n",
       " Prediction(uid='757', iid='684', r_ui=4.0, est=3.7988468199320953, details={'was_impossible': False}),\n",
       " Prediction(uid='405', iid='732', r_ui=5.0, est=2.4605653277488666, details={'was_impossible': False}),\n",
       " Prediction(uid='660', iid='229', r_ui=2.0, est=1.8738887935104935, details={'was_impossible': False}),\n",
       " Prediction(uid='22', iid='110', r_ui=1.0, est=2.66452405911293, details={'was_impossible': False}),\n",
       " Prediction(uid='42', iid='274', r_ui=5.0, est=4.012166882243737, details={'was_impossible': False}),\n",
       " Prediction(uid='189', iid='1404', r_ui=5.0, est=3.6266328926370552, details={'was_impossible': False}),\n",
       " Prediction(uid='13', iid='96', r_ui=4.0, est=3.137013171485846, details={'was_impossible': False}),\n",
       " Prediction(uid='848', iid='755', r_ui=5.0, est=4.184240573171703, details={'was_impossible': False}),\n",
       " Prediction(uid='832', iid='258', r_ui=3.0, est=3.240029255461561, details={'was_impossible': False}),\n",
       " Prediction(uid='658', iid='201', r_ui=3.0, est=3.564308395766372, details={'was_impossible': False}),\n",
       " Prediction(uid='654', iid='568', r_ui=4.0, est=3.728166735201215, details={'was_impossible': False}),\n",
       " Prediction(uid='556', iid='48', r_ui=5.0, est=4.253425755529769, details={'was_impossible': False}),\n",
       " Prediction(uid='294', iid='515', r_ui=5.0, est=4.363900811382323, details={'was_impossible': False}),\n",
       " Prediction(uid='144', iid='56', r_ui=4.0, est=3.702259308663644, details={'was_impossible': False}),\n",
       " Prediction(uid='350', iid='98', r_ui=4.0, est=4.48920641799635, details={'was_impossible': False}),\n",
       " Prediction(uid='860', iid='49', r_ui=2.0, est=2.888277991296898, details={'was_impossible': False}),\n",
       " Prediction(uid='406', iid='281', r_ui=3.0, est=2.806461591204594, details={'was_impossible': False}),\n",
       " Prediction(uid='608', iid='22', r_ui=4.0, est=4.109196582092888, details={'was_impossible': False}),\n",
       " Prediction(uid='180', iid='729', r_ui=5.0, est=3.662414268124309, details={'was_impossible': False}),\n",
       " Prediction(uid='756', iid='155', r_ui=4.0, est=3.0677544041161435, details={'was_impossible': False}),\n",
       " Prediction(uid='532', iid='918', r_ui=4.0, est=3.5991029612509102, details={'was_impossible': False}),\n",
       " Prediction(uid='758', iid='527', r_ui=5.0, est=4.490940673390813, details={'was_impossible': False}),\n",
       " Prediction(uid='40', iid='343', r_ui=1.0, est=2.257256142228344, details={'was_impossible': False}),\n",
       " Prediction(uid='290', iid='43', r_ui=3.0, est=2.7679681816913826, details={'was_impossible': False}),\n",
       " Prediction(uid='392', iid='11', r_ui=4.0, est=4.141606540423557, details={'was_impossible': False}),\n",
       " Prediction(uid='199', iid='285', r_ui=4.0, est=4.228881653620284, details={'was_impossible': False}),\n",
       " Prediction(uid='452', iid='496', r_ui=5.0, est=4.207338219334514, details={'was_impossible': False}),\n",
       " Prediction(uid='630', iid='975', r_ui=4.0, est=3.3686017377834294, details={'was_impossible': False}),\n",
       " Prediction(uid='70', iid='28', r_ui=4.0, est=4.106832023807181, details={'was_impossible': False}),\n",
       " Prediction(uid='67', iid='833', r_ui=4.0, est=3.680110613065564, details={'was_impossible': False}),\n",
       " Prediction(uid='709', iid='578', r_ui=4.0, est=3.373137289707729, details={'was_impossible': False}),\n",
       " Prediction(uid='312', iid='618', r_ui=5.0, est=3.97608465785032, details={'was_impossible': False}),\n",
       " Prediction(uid='700', iid='173', r_ui=5.0, est=3.8146828950639216, details={'was_impossible': False}),\n",
       " Prediction(uid='402', iid='25', r_ui=4.0, est=3.4317109519036935, details={'was_impossible': False}),\n",
       " Prediction(uid='668', iid='97', r_ui=2.0, est=3.958518868969744, details={'was_impossible': False}),\n",
       " Prediction(uid='557', iid='887', r_ui=3.0, est=3.6059009630472523, details={'was_impossible': False}),\n",
       " Prediction(uid='474', iid='318', r_ui=5.0, est=4.836384850874959, details={'was_impossible': False}),\n",
       " Prediction(uid='587', iid='286', r_ui=4.0, est=3.031618195596683, details={'was_impossible': False}),\n",
       " Prediction(uid='327', iid='344', r_ui=4.0, est=3.3510944652295227, details={'was_impossible': False}),\n",
       " Prediction(uid='8', iid='258', r_ui=5.0, est=3.6829411850484797, details={'was_impossible': False}),\n",
       " Prediction(uid='222', iid='941', r_ui=3.0, est=2.7179638323838042, details={'was_impossible': False}),\n",
       " Prediction(uid='273', iid='304', r_ui=3.0, est=3.722487134187437, details={'was_impossible': False}),\n",
       " Prediction(uid='500', iid='423', r_ui=3.0, est=3.741716457331469, details={'was_impossible': False}),\n",
       " Prediction(uid='875', iid='64', r_ui=5.0, est=4.422439445857609, details={'was_impossible': False}),\n",
       " Prediction(uid='486', iid='831', r_ui=3.0, est=1.9409193632173296, details={'was_impossible': False}),\n",
       " Prediction(uid='437', iid='287', r_ui=2.0, est=4.020026141508863, details={'was_impossible': False}),\n",
       " Prediction(uid='675', iid='750', r_ui=4.0, est=3.9853042603072444, details={'was_impossible': False}),\n",
       " Prediction(uid='449', iid='763', r_ui=2.0, est=3.3654437307696954, details={'was_impossible': False}),\n",
       " Prediction(uid='239', iid='12', r_ui=5.0, est=4.4886428469706585, details={'was_impossible': False}),\n",
       " Prediction(uid='210', iid='732', r_ui=4.0, est=4.012827802416647, details={'was_impossible': False}),\n",
       " Prediction(uid='62', iid='14', r_ui=4.0, est=3.424603486378279, details={'was_impossible': False}),\n",
       " Prediction(uid='70', iid='554', r_ui=3.0, est=2.6910524115699173, details={'was_impossible': False}),\n",
       " Prediction(uid='295', iid='188', r_ui=3.0, est=4.372520443277904, details={'was_impossible': False}),\n",
       " Prediction(uid='899', iid='64', r_ui=4.0, est=4.492383211121625, details={'was_impossible': False}),\n",
       " Prediction(uid='279', iid='94', r_ui=3.0, est=2.514886929508898, details={'was_impossible': False}),\n",
       " Prediction(uid='312', iid='521', r_ui=5.0, est=4.142219410130563, details={'was_impossible': False}),\n",
       " Prediction(uid='268', iid='241', r_ui=3.0, est=3.0057610745750223, details={'was_impossible': False}),\n",
       " Prediction(uid='840', iid='496', r_ui=5.0, est=4.296511620007288, details={'was_impossible': False}),\n",
       " Prediction(uid='601', iid='9', r_ui=4.0, est=3.5566763506861196, details={'was_impossible': False}),\n",
       " Prediction(uid='544', iid='750', r_ui=3.0, est=3.2092974220254407, details={'was_impossible': False}),\n",
       " Prediction(uid='901', iid='795', r_ui=3.0, est=3.072199432696213, details={'was_impossible': False}),\n",
       " Prediction(uid='738', iid='528', r_ui=4.0, est=4.0098112941504995, details={'was_impossible': False}),\n",
       " Prediction(uid='15', iid='930', r_ui=2.0, est=2.1164060814371664, details={'was_impossible': False}),\n",
       " Prediction(uid='397', iid='58', r_ui=5.0, est=3.611339055053929, details={'was_impossible': False}),\n",
       " Prediction(uid='805', iid='33', r_ui=5.0, est=3.194654572840967, details={'was_impossible': False}),\n",
       " Prediction(uid='450', iid='1479', r_ui=3.0, est=3.588619796902231, details={'was_impossible': False}),\n",
       " Prediction(uid='334', iid='896', r_ui=5.0, est=3.8549261487231448, details={'was_impossible': False}),\n",
       " Prediction(uid='334', iid='124', r_ui=5.0, est=4.029555953372488, details={'was_impossible': False}),\n",
       " Prediction(uid='201', iid='209', r_ui=3.0, est=3.920266941007531, details={'was_impossible': False}),\n",
       " Prediction(uid='362', iid='689', r_ui=5.0, est=3.4779521475505923, details={'was_impossible': False}),\n",
       " Prediction(uid='840', iid='499', r_ui=4.0, est=4.352912256464835, details={'was_impossible': False}),\n",
       " Prediction(uid='416', iid='476', r_ui=5.0, est=3.530834542013952, details={'was_impossible': False}),\n",
       " Prediction(uid='512', iid='186', r_ui=5.0, est=4.190589193374892, details={'was_impossible': False}),\n",
       " Prediction(uid='201', iid='1267', r_ui=3.0, est=2.464794011096873, details={'was_impossible': False}),\n",
       " Prediction(uid='846', iid='662', r_ui=3.0, est=3.1983117325499397, details={'was_impossible': False}),\n",
       " Prediction(uid='882', iid='86', r_ui=5.0, est=4.19078603588984, details={'was_impossible': False}),\n",
       " Prediction(uid='886', iid='1093', r_ui=1.0, est=2.906195763487118, details={'was_impossible': False}),\n",
       " Prediction(uid='166', iid='258', r_ui=4.0, est=3.9238116425577014, details={'was_impossible': False}),\n",
       " Prediction(uid='764', iid='321', r_ui=1.0, est=2.971217721898646, details={'was_impossible': False}),\n",
       " Prediction(uid='776', iid='132', r_ui=3.0, est=3.9456509334077636, details={'was_impossible': False}),\n",
       " Prediction(uid='8', iid='127', r_ui=5.0, est=4.637696030305658, details={'was_impossible': False}),\n",
       " Prediction(uid='916', iid='1113', r_ui=4.0, est=3.177390973020712, details={'was_impossible': False}),\n",
       " Prediction(uid='782', iid='322', r_ui=4.0, est=3.0475980660626356, details={'was_impossible': False}),\n",
       " Prediction(uid='721', iid='135', r_ui=3.0, est=4.054818185655027, details={'was_impossible': False}),\n",
       " Prediction(uid='13', iid='22', r_ui=4.0, est=4.167006723907162, details={'was_impossible': False}),\n",
       " Prediction(uid='659', iid='499', r_ui=4.0, est=4.171541581388918, details={'was_impossible': False}),\n",
       " Prediction(uid='476', iid='72', r_ui=4.0, est=2.9345107246053224, details={'was_impossible': False}),\n",
       " Prediction(uid='558', iid='936', r_ui=5.0, est=4.125422866095289, details={'was_impossible': False}),\n",
       " Prediction(uid='715', iid='250', r_ui=2.0, est=3.291767206482268, details={'was_impossible': False}),\n",
       " Prediction(uid='269', iid='478', r_ui=4.0, est=3.3799996859541737, details={'was_impossible': False}),\n",
       " Prediction(uid='389', iid='503', r_ui=3.0, est=3.6989604185629656, details={'was_impossible': False}),\n",
       " Prediction(uid='415', iid='174', r_ui=5.0, est=4.756225462720818, details={'was_impossible': False}),\n",
       " Prediction(uid='450', iid='487', r_ui=4.0, est=4.644906275437114, details={'was_impossible': False}),\n",
       " Prediction(uid='567', iid='47', r_ui=4.0, est=3.817006408282555, details={'was_impossible': False}),\n",
       " Prediction(uid='46', iid='127', r_ui=5.0, est=4.7608268457875065, details={'was_impossible': False}),\n",
       " Prediction(uid='734', iid='479', r_ui=4.0, est=3.907538163335812, details={'was_impossible': False}),\n",
       " Prediction(uid='251', iid='117', r_ui=4.0, est=3.9625711170296833, details={'was_impossible': False}),\n",
       " Prediction(uid='99', iid='751', r_ui=4.0, est=3.800214071162548, details={'was_impossible': False}),\n",
       " Prediction(uid='130', iid='233', r_ui=4.0, est=3.8847202646033576, details={'was_impossible': False}),\n",
       " Prediction(uid='194', iid='91', r_ui=3.0, est=2.7569079907256233, details={'was_impossible': False}),\n",
       " Prediction(uid='632', iid='181', r_ui=5.0, est=4.143882677769983, details={'was_impossible': False}),\n",
       " Prediction(uid='588', iid='385', r_ui=3.0, est=4.299463331808863, details={'was_impossible': False}),\n",
       " Prediction(uid='600', iid='1419', r_ui=3.0, est=2.5491800969721288, details={'was_impossible': False}),\n",
       " Prediction(uid='707', iid='1168', r_ui=3.0, est=3.326212959525261, details={'was_impossible': False}),\n",
       " Prediction(uid='194', iid='143', r_ui=3.0, est=3.013836694833221, details={'was_impossible': False}),\n",
       " Prediction(uid='521', iid='184', r_ui=4.0, est=3.453632465396347, details={'was_impossible': False}),\n",
       " Prediction(uid='193', iid='435', r_ui=4.0, est=3.8150601488896143, details={'was_impossible': False}),\n",
       " Prediction(uid='105', iid='269', r_ui=4.0, est=3.713180303350346, details={'was_impossible': False}),\n",
       " Prediction(uid='546', iid='322', r_ui=4.0, est=3.290423604619589, details={'was_impossible': False}),\n",
       " Prediction(uid='181', iid='925', r_ui=2.0, est=1.8518408816887935, details={'was_impossible': False}),\n",
       " Prediction(uid='634', iid='985', r_ui=4.0, est=3.1977209535816393, details={'was_impossible': False}),\n",
       " Prediction(uid='303', iid='77', r_ui=4.0, est=3.1150845089748844, details={'was_impossible': False}),\n",
       " Prediction(uid='393', iid='17', r_ui=1.0, est=3.0555573668574714, details={'was_impossible': False}),\n",
       " Prediction(uid='653', iid='819', r_ui=3.0, est=1.8043999828028785, details={'was_impossible': False}),\n",
       " Prediction(uid='624', iid='1089', r_ui=2.0, est=2.2837160703059474, details={'was_impossible': False}),\n",
       " Prediction(uid='661', iid='28', r_ui=5.0, est=3.911837735855866, details={'was_impossible': False}),\n",
       " Prediction(uid='269', iid='961', r_ui=5.0, est=3.0159159227122916, details={'was_impossible': False}),\n",
       " Prediction(uid='431', iid='332', r_ui=3.0, est=3.480031560506983, details={'was_impossible': False}),\n",
       " Prediction(uid='406', iid='196', r_ui=2.0, est=3.7171940158447083, details={'was_impossible': False}),\n",
       " Prediction(uid='50', iid='123', r_ui=4.0, est=3.405726982463243, details={'was_impossible': False}),\n",
       " Prediction(uid='405', iid='554', r_ui=1.0, est=1.7067479148310847, details={'was_impossible': False}),\n",
       " Prediction(uid='7', iid='545', r_ui=2.0, est=2.784726339854349, details={'was_impossible': False}),\n",
       " Prediction(uid='724', iid='286', r_ui=1.0, est=2.4517598525395314, details={'was_impossible': False}),\n",
       " Prediction(uid='217', iid='797', r_ui=4.0, est=2.7437191447499774, details={'was_impossible': False}),\n",
       " Prediction(uid='454', iid='468', r_ui=3.0, est=2.7733023170444384, details={'was_impossible': False}),\n",
       " Prediction(uid='561', iid='12', r_ui=5.0, est=4.040224225749618, details={'was_impossible': False}),\n",
       " Prediction(uid='116', iid='285', r_ui=4.0, est=3.6751864094787168, details={'was_impossible': False}),\n",
       " Prediction(uid='840', iid='949', r_ui=4.0, est=3.421879278010811, details={'was_impossible': False}),\n",
       " Prediction(uid='881', iid='233', r_ui=3.0, est=3.2560606349559325, details={'was_impossible': False}),\n",
       " Prediction(uid='815', iid='629', r_ui=4.0, est=3.463149774587318, details={'was_impossible': False}),\n",
       " Prediction(uid='676', iid='144', r_ui=4.0, est=3.7828085529942785, details={'was_impossible': False}),\n",
       " Prediction(uid='385', iid='1037', r_ui=1.0, est=1.8544020082479287, details={'was_impossible': False}),\n",
       " Prediction(uid='561', iid='530', r_ui=4.0, est=3.7432263601578337, details={'was_impossible': False}),\n",
       " Prediction(uid='297', iid='32', r_ui=4.0, est=3.363714988988112, details={'was_impossible': False}),\n",
       " Prediction(uid='674', iid='763', r_ui=5.0, est=3.1176130557400468, details={'was_impossible': False}),\n",
       " Prediction(uid='889', iid='70', r_ui=3.0, est=3.3862159502246763, details={'was_impossible': False}),\n",
       " Prediction(uid='170', iid='258', r_ui=3.0, est=4.165074989270358, details={'was_impossible': False}),\n",
       " Prediction(uid='667', iid='318', r_ui=5.0, est=4.37113414844874, details={'was_impossible': False}),\n",
       " Prediction(uid='268', iid='1118', r_ui=3.0, est=2.7967883065988097, details={'was_impossible': False}),\n",
       " Prediction(uid='777', iid='245', r_ui=5.0, est=3.356243585510596, details={'was_impossible': False}),\n",
       " Prediction(uid='716', iid='28', r_ui=5.0, est=4.405977662130735, details={'was_impossible': False}),\n",
       " Prediction(uid='943', iid='11', r_ui=4.0, est=3.679800931996874, details={'was_impossible': False}),\n",
       " Prediction(uid='354', iid='255', r_ui=2.0, est=3.138931494618175, details={'was_impossible': False}),\n",
       " Prediction(uid='793', iid='597', r_ui=3.0, est=3.1542354271501805, details={'was_impossible': False}),\n",
       " Prediction(uid='553', iid='98', r_ui=5.0, est=4.370920359778971, details={'was_impossible': False}),\n",
       " Prediction(uid='901', iid='1047', r_ui=3.0, est=3.1926299998505057, details={'was_impossible': False}),\n",
       " Prediction(uid='109', iid='54', r_ui=3.0, est=3.437595315217472, details={'was_impossible': False}),\n",
       " Prediction(uid='448', iid='750', r_ui=5.0, est=3.879188660693647, details={'was_impossible': False}),\n",
       " Prediction(uid='13', iid='886', r_ui=5.0, est=2.6665244106068795, details={'was_impossible': False}),\n",
       " Prediction(uid='279', iid='233', r_ui=5.0, est=3.0288693119230783, details={'was_impossible': False}),\n",
       " Prediction(uid='127', iid='230', r_ui=5.0, est=4.5123479681845255, details={'was_impossible': False}),\n",
       " Prediction(uid='892', iid='186', r_ui=3.0, est=4.154983959876546, details={'was_impossible': False}),\n",
       " Prediction(uid='399', iid='195', r_ui=2.0, est=3.4899648980502387, details={'was_impossible': False}),\n",
       " Prediction(uid='454', iid='185', r_ui=2.0, est=3.0814018926107862, details={'was_impossible': False}),\n",
       " Prediction(uid='922', iid='173', r_ui=5.0, est=4.4799947176683705, details={'was_impossible': False}),\n",
       " Prediction(uid='749', iid='431', r_ui=5.0, est=3.762649605285435, details={'was_impossible': False}),\n",
       " Prediction(uid='44', iid='318', r_ui=5.0, est=4.402501352662621, details={'was_impossible': False}),\n",
       " Prediction(uid='417', iid='67', r_ui=4.0, est=2.880011074270778, details={'was_impossible': False}),\n",
       " Prediction(uid='276', iid='67', r_ui=3.0, est=3.104794127247973, details={'was_impossible': False}),\n",
       " Prediction(uid='796', iid='479', r_ui=4.0, est=3.874010784551979, details={'was_impossible': False}),\n",
       " Prediction(uid='588', iid='778', r_ui=3.0, est=3.6471271035925055, details={'was_impossible': False}),\n",
       " Prediction(uid='248', iid='290', r_ui=3.0, est=3.0152299758537477, details={'was_impossible': False}),\n",
       " Prediction(uid='752', iid='331', r_ui=4.0, est=3.5618324549575187, details={'was_impossible': False}),\n",
       " Prediction(uid='177', iid='187', r_ui=4.0, est=4.520724578413293, details={'was_impossible': False}),\n",
       " Prediction(uid='741', iid='56', r_ui=4.0, est=3.6056054021442496, details={'was_impossible': False}),\n",
       " Prediction(uid='259', iid='772', r_ui=4.0, est=3.2867696867368412, details={'was_impossible': False}),\n",
       " Prediction(uid='16', iid='194', r_ui=5.0, est=4.81972411163669, details={'was_impossible': False}),\n",
       " Prediction(uid='287', iid='248', r_ui=5.0, est=4.288703399000988, details={'was_impossible': False}),\n",
       " Prediction(uid='485', iid='328', r_ui=2.0, est=2.906477808887126, details={'was_impossible': False}),\n",
       " Prediction(uid='533', iid='684', r_ui=4.0, est=3.7971047320911127, details={'was_impossible': False}),\n",
       " Prediction(uid='879', iid='151', r_ui=3.0, est=3.589900614832548, details={'was_impossible': False}),\n",
       " Prediction(uid='907', iid='1220', r_ui=5.0, est=4.450909256134354, details={'was_impossible': False}),\n",
       " Prediction(uid='218', iid='33', r_ui=4.0, est=3.1597591545043064, details={'was_impossible': False}),\n",
       " Prediction(uid='372', iid='98', r_ui=5.0, est=5, details={'was_impossible': False}),\n",
       " Prediction(uid='456', iid='174', r_ui=4.0, est=3.544040725395834, details={'was_impossible': False}),\n",
       " Prediction(uid='70', iid='399', r_ui=4.0, est=3.368301890221949, details={'was_impossible': False}),\n",
       " Prediction(uid='740', iid='289', r_ui=4.0, est=3.1991026070868123, details={'was_impossible': False}),\n",
       " Prediction(uid='247', iid='750', r_ui=4.0, est=3.8778422883636234, details={'was_impossible': False}),\n",
       " Prediction(uid='449', iid='558', r_ui=4.0, est=4.167486367007514, details={'was_impossible': False}),\n",
       " Prediction(uid='184', iid='1117', r_ui=2.0, est=3.2280214211323566, details={'was_impossible': False}),\n",
       " Prediction(uid='334', iid='345', r_ui=2.0, est=3.331832776465949, details={'was_impossible': False}),\n",
       " Prediction(uid='224', iid='678', r_ui=3.0, est=2.4296009471845688, details={'was_impossible': False}),\n",
       " Prediction(uid='621', iid='128', r_ui=4.0, est=3.9121478716270657, details={'was_impossible': False}),\n",
       " Prediction(uid='655', iid='1490', r_ui=2.0, est=2.7034925327328043, details={'was_impossible': False}),\n",
       " Prediction(uid='177', iid='628', r_ui=2.0, est=3.401294418674233, details={'was_impossible': False}),\n",
       " Prediction(uid='82', iid='235', r_ui=1.0, est=2.5448322248751456, details={'was_impossible': False}),\n",
       " Prediction(uid='561', iid='735', r_ui=3.0, est=3.199521270113813, details={'was_impossible': False}),\n",
       " Prediction(uid='61', iid='294', r_ui=2.0, est=2.808715941334567, details={'was_impossible': False}),\n",
       " Prediction(uid='436', iid='559', r_ui=4.0, est=3.476314154410773, details={'was_impossible': False}),\n",
       " Prediction(uid='463', iid='14', r_ui=1.0, est=3.7428711792087594, details={'was_impossible': False}),\n",
       " Prediction(uid='449', iid='1005', r_ui=5.0, est=4.056762730511497, details={'was_impossible': False}),\n",
       " Prediction(uid='872', iid='476', r_ui=4.0, est=3.193409491761799, details={'was_impossible': False}),\n",
       " Prediction(uid='221', iid='227', r_ui=3.0, est=3.412222442970412, details={'was_impossible': False}),\n",
       " Prediction(uid='286', iid='97', r_ui=4.0, est=3.454513656316136, details={'was_impossible': False}),\n",
       " Prediction(uid='305', iid='180', r_ui=4.0, est=3.9439840319963158, details={'was_impossible': False}),\n",
       " Prediction(uid='92', iid='241', r_ui=3.0, est=3.1791023859176932, details={'was_impossible': False}),\n",
       " Prediction(uid='159', iid='748', r_ui=3.0, est=3.507203173288588, details={'was_impossible': False}),\n",
       " Prediction(uid='308', iid='663', r_ui=5.0, est=4.060665479897663, details={'was_impossible': False}),\n",
       " Prediction(uid='406', iid='419', r_ui=1.0, est=3.764318866983224, details={'was_impossible': False}),\n",
       " Prediction(uid='301', iid='2', r_ui=2.0, est=3.2803782757593396, details={'was_impossible': False}),\n",
       " Prediction(uid='776', iid='947', r_ui=2.0, est=3.44242817914848, details={'was_impossible': False}),\n",
       " Prediction(uid='56', iid='732', r_ui=4.0, est=3.883558864231108, details={'was_impossible': False}),\n",
       " Prediction(uid='774', iid='174', r_ui=3.0, est=3.099186891009543, details={'was_impossible': False}),\n",
       " Prediction(uid='682', iid='556', r_ui=2.0, est=2.6483585018997307, details={'was_impossible': False}),\n",
       " Prediction(uid='849', iid='174', r_ui=5.0, est=5, details={'was_impossible': False}),\n",
       " Prediction(uid='221', iid='272', r_ui=5.0, est=4.421236070194341, details={'was_impossible': False}),\n",
       " Prediction(uid='201', iid='273', r_ui=2.0, est=3.0750184828173914, details={'was_impossible': False}),\n",
       " Prediction(uid='174', iid='742', r_ui=4.0, est=4.024949515978743, details={'was_impossible': False}),\n",
       " Prediction(uid='90', iid='221', r_ui=4.0, est=4.488202768888139, details={'was_impossible': False}),\n",
       " Prediction(uid='427', iid='937', r_ui=5.0, est=4.616884845241424, details={'was_impossible': False}),\n",
       " Prediction(uid='870', iid='68', r_ui=3.0, est=3.0999025517474794, details={'was_impossible': False}),\n",
       " Prediction(uid='537', iid='848', r_ui=3.0, est=2.7665416284564692, details={'was_impossible': False}),\n",
       " Prediction(uid='669', iid='347', r_ui=3.0, est=3.194805089742545, details={'was_impossible': False}),\n",
       " Prediction(uid='911', iid='172', r_ui=4.0, est=4.063596057322049, details={'was_impossible': False}),\n",
       " Prediction(uid='591', iid='709', r_ui=4.0, est=3.9605018001210235, details={'was_impossible': False}),\n",
       " Prediction(uid='650', iid='185', r_ui=3.0, est=3.538085208066912, details={'was_impossible': False}),\n",
       " Prediction(uid='505', iid='526', r_ui=5.0, est=3.9023880057671567, details={'was_impossible': False}),\n",
       " Prediction(uid='709', iid='38', r_ui=3.0, est=3.0110321936804954, details={'was_impossible': False}),\n",
       " Prediction(uid='314', iid='722', r_ui=1.0, est=3.4938055047900733, details={'was_impossible': False}),\n",
       " Prediction(uid='255', iid='441', r_ui=2.0, est=2.0247484845849275, details={'was_impossible': False}),\n",
       " Prediction(uid='378', iid='200', r_ui=3.0, est=4.027075324458514, details={'was_impossible': False}),\n",
       " Prediction(uid='130', iid='41', r_ui=3.0, est=3.5534934243206604, details={'was_impossible': False}),\n",
       " Prediction(uid='1', iid='272', r_ui=3.0, est=4.543982524671796, details={'was_impossible': False}),\n",
       " Prediction(uid='268', iid='108', r_ui=3.0, est=2.43232064814346, details={'was_impossible': False}),\n",
       " Prediction(uid='780', iid='98', r_ui=1.0, est=4.336076258749222, details={'was_impossible': False}),\n",
       " Prediction(uid='559', iid='180', r_ui=4.0, est=3.6898565388375935, details={'was_impossible': False}),\n",
       " Prediction(uid='276', iid='403', r_ui=4.0, est=4.116265538809567, details={'was_impossible': False}),\n",
       " Prediction(uid='303', iid='687', r_ui=1.0, est=1.6633992676869551, details={'was_impossible': False}),\n",
       " Prediction(uid='828', iid='896', r_ui=4.0, est=3.232455785061761, details={'was_impossible': False}),\n",
       " Prediction(uid='634', iid='269', r_ui=4.0, est=3.8457313692940334, details={'was_impossible': False}),\n",
       " Prediction(uid='363', iid='444', r_ui=4.0, est=2.609017988077748, details={'was_impossible': False}),\n",
       " Prediction(uid='6', iid='192', r_ui=4.0, est=4.227419872984298, details={'was_impossible': False}),\n",
       " Prediction(uid='734', iid='724', r_ui=3.0, est=3.2717753016499405, details={'was_impossible': False}),\n",
       " Prediction(uid='537', iid='268', r_ui=4.0, est=3.259390406002725, details={'was_impossible': False}),\n",
       " Prediction(uid='210', iid='755', r_ui=3.0, est=3.5875436565753156, details={'was_impossible': False}),\n",
       " Prediction(uid='577', iid='655', r_ui=4.0, est=4.111738348388134, details={'was_impossible': False}),\n",
       " Prediction(uid='922', iid='385', r_ui=3.0, est=3.606538611902518, details={'was_impossible': False}),\n",
       " Prediction(uid='892', iid='432', r_ui=4.0, est=4.0700804975962015, details={'was_impossible': False}),\n",
       " Prediction(uid='200', iid='205', r_ui=4.0, est=4.662994079885131, details={'was_impossible': False}),\n",
       " Prediction(uid='541', iid='622', r_ui=3.0, est=3.7060266310219903, details={'was_impossible': False}),\n",
       " Prediction(uid='250', iid='323', r_ui=2.0, est=2.9852874995049503, details={'was_impossible': False}),\n",
       " Prediction(uid='23', iid='710', r_ui=4.0, est=3.4427722380728483, details={'was_impossible': False}),\n",
       " Prediction(uid='7', iid='669', r_ui=1.0, est=3.1649923017555905, details={'was_impossible': False}),\n",
       " Prediction(uid='652', iid='307', r_ui=4.0, est=3.810348511796482, details={'was_impossible': False}),\n",
       " Prediction(uid='622', iid='101', r_ui=5.0, est=3.289136169148536, details={'was_impossible': False}),\n",
       " Prediction(uid='106', iid='210', r_ui=4.0, est=3.874007459877259, details={'was_impossible': False}),\n",
       " Prediction(uid='533', iid='203', r_ui=4.0, est=3.3847586729116976, details={'was_impossible': False}),\n",
       " Prediction(uid='709', iid='739', r_ui=3.0, est=3.3469437297715947, details={'was_impossible': False}),\n",
       " Prediction(uid='749', iid='157', r_ui=3.0, est=4.037997990435217, details={'was_impossible': False}),\n",
       " Prediction(uid='186', iid='550', r_ui=4.0, est=3.6329080992856633, details={'was_impossible': False}),\n",
       " Prediction(uid='417', iid='223', r_ui=5.0, est=3.736202905146903, details={'was_impossible': False}),\n",
       " Prediction(uid='346', iid='216', r_ui=3.0, est=4.034771725131666, details={'was_impossible': False}),\n",
       " Prediction(uid='513', iid='763', r_ui=3.0, est=4.066098322700922, details={'was_impossible': False}),\n",
       " Prediction(uid='37', iid='121', r_ui=2.0, est=3.8200636666256234, details={'was_impossible': False}),\n",
       " Prediction(uid='268', iid='264', r_ui=3.0, est=2.4445071934963756, details={'was_impossible': False}),\n",
       " Prediction(uid='295', iid='602', r_ui=5.0, est=4.328204449027048, details={'was_impossible': False}),\n",
       " Prediction(uid='592', iid='298', r_ui=5.0, est=4.544618259770991, details={'was_impossible': False}),\n",
       " Prediction(uid='755', iid='310', r_ui=4.0, est=3.7143798032106012, details={'was_impossible': False}),\n",
       " Prediction(uid='610', iid='127', r_ui=5.0, est=3.987845513928018, details={'was_impossible': False}),\n",
       " Prediction(uid='758', iid='385', r_ui=4.0, est=3.8084015180621864, details={'was_impossible': False}),\n",
       " Prediction(uid='6', iid='423', r_ui=3.0, est=3.3525693819099582, details={'was_impossible': False}),\n",
       " Prediction(uid='738', iid='79', r_ui=3.0, est=4.204550201582793, details={'was_impossible': False}),\n",
       " Prediction(uid='294', iid='413', r_ui=3.0, est=2.984741562994963, details={'was_impossible': False}),\n",
       " Prediction(uid='54', iid='252', r_ui=3.0, est=3.3607103751737926, details={'was_impossible': False}),\n",
       " Prediction(uid='181', iid='620', r_ui=2.0, est=1.653122995698869, details={'was_impossible': False}),\n",
       " Prediction(uid='487', iid='230', r_ui=5.0, est=3.135783591882784, details={'was_impossible': False}),\n",
       " Prediction(uid='174', iid='276', r_ui=5.0, est=3.9940170775158093, details={'was_impossible': False}),\n",
       " Prediction(uid='221', iid='476', r_ui=2.0, est=3.333210781457194, details={'was_impossible': False}),\n",
       " Prediction(uid='194', iid='756', r_ui=1.0, est=2.1081408828601633, details={'was_impossible': False}),\n",
       " Prediction(uid='117', iid='475', r_ui=5.0, est=4.249117041924195, details={'was_impossible': False}),\n",
       " Prediction(uid='429', iid='151', r_ui=5.0, est=3.7780529756325887, details={'was_impossible': False}),\n",
       " Prediction(uid='535', iid='607', r_ui=5.0, est=4.377336324478729, details={'was_impossible': False}),\n",
       " Prediction(uid='33', iid='288', r_ui=4.0, est=3.4554724456908694, details={'was_impossible': False}),\n",
       " Prediction(uid='124', iid='168', r_ui=5.0, est=3.6896404555543083, details={'was_impossible': False}),\n",
       " Prediction(uid='591', iid='8', r_ui=3.0, est=4.06319804529491, details={'was_impossible': False}),\n",
       " Prediction(uid='94', iid='293', r_ui=4.0, est=4.207352256651228, details={'was_impossible': False}),\n",
       " Prediction(uid='848', iid='50', r_ui=5.0, est=5, details={'was_impossible': False}),\n",
       " Prediction(uid='188', iid='692', r_ui=5.0, est=3.5865899273139106, details={'was_impossible': False}),\n",
       " Prediction(uid='880', iid='180', r_ui=5.0, est=4.316113153991808, details={'was_impossible': False}),\n",
       " Prediction(uid='790', iid='83', r_ui=3.0, est=3.6417611980026705, details={'was_impossible': False}),\n",
       " Prediction(uid='95', iid='514', r_ui=2.0, est=3.4275889230650756, details={'was_impossible': False}),\n",
       " Prediction(uid='880', iid='201', r_ui=4.0, est=3.701722112229284, details={'was_impossible': False}),\n",
       " Prediction(uid='932', iid='161', r_ui=3.0, est=3.5135546254284664, details={'was_impossible': False}),\n",
       " Prediction(uid='758', iid='520', r_ui=5.0, est=4.320066276309839, details={'was_impossible': False}),\n",
       " Prediction(uid='251', iid='294', r_ui=3.0, est=3.5227529284428356, details={'was_impossible': False}),\n",
       " Prediction(uid='499', iid='176', r_ui=4.0, est=3.823275779665466, details={'was_impossible': False}),\n",
       " Prediction(uid='1', iid='124', r_ui=5.0, est=4.349492148963521, details={'was_impossible': False}),\n",
       " Prediction(uid='579', iid='258', r_ui=5.0, est=3.4083676535739666, details={'was_impossible': False}),\n",
       " Prediction(uid='737', iid='222', r_ui=3.0, est=3.4569901412995, details={'was_impossible': False}),\n",
       " Prediction(uid='527', iid='508', r_ui=3.0, est=3.3655135787896024, details={'was_impossible': False}),\n",
       " Prediction(uid='236', iid='729', r_ui=5.0, est=3.378465389546773, details={'was_impossible': False}),\n",
       " Prediction(uid='495', iid='637', r_ui=3.0, est=3.477318170585873, details={'was_impossible': False}),\n",
       " Prediction(uid='653', iid='732', r_ui=2.0, est=3.3495272853508373, details={'was_impossible': False}),\n",
       " Prediction(uid='759', iid='222', r_ui=5.0, est=4.508519015238208, details={'was_impossible': False}),\n",
       " Prediction(uid='936', iid='108', r_ui=4.0, est=3.4802188268374668, details={'was_impossible': False}),\n",
       " Prediction(uid='1', iid='264', r_ui=2.0, est=2.7206858660327202, details={'was_impossible': False}),\n",
       " Prediction(uid='405', iid='673', r_ui=5.0, est=2.458427339534772, details={'was_impossible': False}),\n",
       " Prediction(uid='298', iid='496', r_ui=5.0, est=4.29216467146218, details={'was_impossible': False}),\n",
       " Prediction(uid='342', iid='191', r_ui=5.0, est=3.8692131438276447, details={'was_impossible': False}),\n",
       " Prediction(uid='392', iid='319', r_ui=5.0, est=3.028849777213442, details={'was_impossible': False}),\n",
       " Prediction(uid='846', iid='196', r_ui=4.0, est=4.141743352946128, details={'was_impossible': False}),\n",
       " Prediction(uid='690', iid='98', r_ui=5.0, est=3.987907661457889, details={'was_impossible': False}),\n",
       " Prediction(uid='684', iid='1028', r_ui=4.0, est=2.978464116288456, details={'was_impossible': False}),\n",
       " Prediction(uid='582', iid='121', r_ui=3.0, est=3.076091644532709, details={'was_impossible': False}),\n",
       " Prediction(uid='389', iid='485', r_ui=5.0, est=3.6608988171764922, details={'was_impossible': False}),\n",
       " Prediction(uid='388', iid='184', r_ui=4.0, est=4.072182632603622, details={'was_impossible': False}),\n",
       " Prediction(uid='59', iid='622', r_ui=4.0, est=3.474177688062388, details={'was_impossible': False}),\n",
       " Prediction(uid='840', iid='650', r_ui=4.0, est=4.148313585735656, details={'was_impossible': False}),\n",
       " Prediction(uid='171', iid='292', r_ui=4.0, est=3.5328259754082048, details={'was_impossible': False}),\n",
       " Prediction(uid='184', iid='478', r_ui=4.0, est=3.9957121810503, details={'was_impossible': False}),\n",
       " Prediction(uid='663', iid='742', r_ui=4.0, est=3.5571751252929116, details={'was_impossible': False}),\n",
       " Prediction(uid='450', iid='131', r_ui=4.0, est=3.9184422346040835, details={'was_impossible': False}),\n",
       " Prediction(uid='95', iid='1230', r_ui=1.0, est=2.794694312761837, details={'was_impossible': False}),\n",
       " Prediction(uid='48', iid='1064', r_ui=4.0, est=3.829672740439443, details={'was_impossible': False}),\n",
       " Prediction(uid='533', iid='191', r_ui=4.0, est=3.9189077367150196, details={'was_impossible': False}),\n",
       " Prediction(uid='393', iid='134', r_ui=2.0, est=4.058532419553736, details={'was_impossible': False}),\n",
       " Prediction(uid='655', iid='98', r_ui=4.0, est=3.574177640518029, details={'was_impossible': False}),\n",
       " Prediction(uid='318', iid='229', r_ui=1.0, est=3.3085115874308624, details={'was_impossible': False}),\n",
       " Prediction(uid='916', iid='148', r_ui=2.0, est=2.8462355248283, details={'was_impossible': False}),\n",
       " Prediction(uid='788', iid='720', r_ui=3.0, est=2.9018104336909087, details={'was_impossible': False}),\n",
       " Prediction(uid='7', iid='614', r_ui=5.0, est=4.298839204899547, details={'was_impossible': False}),\n",
       " Prediction(uid='87', iid='679', r_ui=3.0, est=3.3386561924525537, details={'was_impossible': False}),\n",
       " Prediction(uid='127', iid='62', r_ui=5.0, est=3.9636098847708507, details={'was_impossible': False}),\n",
       " Prediction(uid='560', iid='281', r_ui=3.0, est=2.9915053779411043, details={'was_impossible': False}),\n",
       " Prediction(uid='642', iid='422', r_ui=3.0, est=3.382030106159899, details={'was_impossible': False}),\n",
       " Prediction(uid='870', iid='64', r_ui=5.0, est=4.180575291266301, details={'was_impossible': False}),\n",
       " Prediction(uid='709', iid='282', r_ui=5.0, est=3.9085203259407733, details={'was_impossible': False}),\n",
       " Prediction(uid='128', iid='220', r_ui=1.0, est=3.413120807652444, details={'was_impossible': False}),\n",
       " Prediction(uid='363', iid='95', r_ui=3.0, est=3.4000810816031732, details={'was_impossible': False}),\n",
       " Prediction(uid='794', iid='257', r_ui=4.0, est=4.067437524732773, details={'was_impossible': False}),\n",
       " Prediction(uid='493', iid='358', r_ui=4.0, est=2.5640509084788587, details={'was_impossible': False}),\n",
       " Prediction(uid='504', iid='122', r_ui=1.0, est=2.339507529457282, details={'was_impossible': False}),\n",
       " Prediction(uid='579', iid='289', r_ui=2.0, est=2.918748998779524, details={'was_impossible': False}),\n",
       " Prediction(uid='234', iid='165', r_ui=5.0, est=3.730215238636911, details={'was_impossible': False}),\n",
       " Prediction(uid='239', iid='168', r_ui=4.0, est=4.354240388696158, details={'was_impossible': False}),\n",
       " Prediction(uid='291', iid='1206', r_ui=3.0, est=3.321070319037771, details={'was_impossible': False}),\n",
       " Prediction(uid='303', iid='616', r_ui=4.0, est=3.7016791848190587, details={'was_impossible': False}),\n",
       " Prediction(uid='363', iid='678', r_ui=1.0, est=2.264722776139606, details={'was_impossible': False}),\n",
       " Prediction(uid='401', iid='609', r_ui=3.0, est=2.7332214652273654, details={'was_impossible': False}),\n",
       " Prediction(uid='14', iid='920', r_ui=4.0, est=3.469627449072886, details={'was_impossible': False}),\n",
       " Prediction(uid='428', iid='879', r_ui=4.0, est=3.8413963464444425, details={'was_impossible': False}),\n",
       " Prediction(uid='119', iid='277', r_ui=4.0, est=4.074292986784611, details={'was_impossible': False}),\n",
       " Prediction(uid='479', iid='528', r_ui=4.0, est=4.266170754654817, details={'was_impossible': False}),\n",
       " Prediction(uid='166', iid='294', r_ui=3.0, est=3.4342526164158707, details={'was_impossible': False}),\n",
       " Prediction(uid='347', iid='284', r_ui=3.0, est=3.2477196558138353, details={'was_impossible': False}),\n",
       " Prediction(uid='580', iid='282', r_ui=5.0, est=3.7629626825444897, details={'was_impossible': False}),\n",
       " Prediction(uid='378', iid='1438', r_ui=3.0, est=3.033512001947087, details={'was_impossible': False}),\n",
       " Prediction(uid='70', iid='755', r_ui=3.0, est=3.042087644641666, details={'was_impossible': False}),\n",
       " Prediction(uid='447', iid='1048', r_ui=2.0, est=3.14453132923596, details={'was_impossible': False}),\n",
       " Prediction(uid='405', iid='780', r_ui=3.0, est=1.7553516068969273, details={'was_impossible': False}),\n",
       " Prediction(uid='11', iid='228', r_ui=3.0, est=3.7695044092686394, details={'was_impossible': False}),\n",
       " Prediction(uid='276', iid='526', r_ui=4.0, est=4.123716142391188, details={'was_impossible': False}),\n",
       " Prediction(uid='361', iid='513', r_ui=5.0, est=4.303674516676211, details={'was_impossible': False}),\n",
       " Prediction(uid='682', iid='562', r_ui=2.0, est=3.2606075730242177, details={'was_impossible': False}),\n",
       " Prediction(uid='504', iid='372', r_ui=4.0, est=3.598815303577733, details={'was_impossible': False}),\n",
       " Prediction(uid='207', iid='517', r_ui=3.0, est=3.480979098218975, details={'was_impossible': False}),\n",
       " Prediction(uid='551', iid='710', r_ui=5.0, est=3.9823400408519487, details={'was_impossible': False}),\n",
       " Prediction(uid='885', iid='417', r_ui=3.0, est=2.878628662867294, details={'was_impossible': False}),\n",
       " Prediction(uid='693', iid='572', r_ui=2.0, est=2.6767049556521343, details={'was_impossible': False}),\n",
       " Prediction(uid='642', iid='254', r_ui=4.0, est=2.8394788538270994, details={'was_impossible': False}),\n",
       " Prediction(uid='332', iid='679', r_ui=5.0, est=3.880506878207459, details={'was_impossible': False}),\n",
       " Prediction(uid='506', iid='137', r_ui=2.0, est=3.5859868213942248, details={'was_impossible': False}),\n",
       " Prediction(uid='846', iid='479', r_ui=4.0, est=4.081166452329735, details={'was_impossible': False}),\n",
       " Prediction(uid='624', iid='7', r_ui=4.0, est=4.229271478340758, details={'was_impossible': False}),\n",
       " Prediction(uid='327', iid='42', r_ui=3.0, est=3.5152585146393474, details={'was_impossible': False}),\n",
       " Prediction(uid='650', iid='380', r_ui=2.0, est=2.846934853776362, details={'was_impossible': False}),\n",
       " Prediction(uid='116', iid='258', r_ui=4.0, est=3.2274278429806404, details={'was_impossible': False}),\n",
       " Prediction(uid='200', iid='8', r_ui=4.0, est=4.592637567910138, details={'was_impossible': False}),\n",
       " Prediction(uid='144', iid='516', r_ui=2.0, est=3.9115815201629465, details={'was_impossible': False}),\n",
       " Prediction(uid='734', iid='821', r_ui=2.0, est=2.9805656489340087, details={'was_impossible': False}),\n",
       " Prediction(uid='535', iid='527', r_ui=3.0, est=4.2086046855366215, details={'was_impossible': False}),\n",
       " Prediction(uid='851', iid='333', r_ui=5.0, est=3.5010341971748575, details={'was_impossible': False}),\n",
       " Prediction(uid='307', iid='153', r_ui=5.0, est=4.046068407561772, details={'was_impossible': False}),\n",
       " Prediction(uid='942', iid='124', r_ui=4.0, est=4.494414504094831, details={'was_impossible': False}),\n",
       " Prediction(uid='749', iid='200', r_ui=4.0, est=3.8701203906518233, details={'was_impossible': False}),\n",
       " Prediction(uid='201', iid='46', r_ui=4.0, est=3.097094511090679, details={'was_impossible': False}),\n",
       " Prediction(uid='854', iid='488', r_ui=4.0, est=3.6337425538626196, details={'was_impossible': False}),\n",
       " Prediction(uid='213', iid='125', r_ui=5.0, est=3.9775703596399894, details={'was_impossible': False}),\n",
       " Prediction(uid='181', iid='1379', r_ui=1.0, est=1.8741232848526939, details={'was_impossible': False}),\n",
       " Prediction(uid='389', iid='605', r_ui=5.0, est=3.458009614310248, details={'was_impossible': False}),\n",
       " Prediction(uid='254', iid='1028', r_ui=2.0, est=2.298895551723173, details={'was_impossible': False}),\n",
       " Prediction(uid='389', iid='835', r_ui=5.0, est=3.8168927095827367, details={'was_impossible': False}),\n",
       " Prediction(uid='925', iid='559', r_ui=3.0, est=2.9308317285918637, details={'was_impossible': False}),\n",
       " Prediction(uid='269', iid='423', r_ui=4.0, est=2.9562185882071663, details={'was_impossible': False}),\n",
       " Prediction(uid='447', iid='484', r_ui=5.0, est=4.36424304475887, details={'was_impossible': False}),\n",
       " Prediction(uid='533', iid='673', r_ui=3.0, est=2.933247570755352, details={'was_impossible': False}),\n",
       " Prediction(uid='546', iid='349', r_ui=4.0, est=3.4068579001480925, details={'was_impossible': False}),\n",
       " Prediction(uid='936', iid='1160', r_ui=5.0, est=3.933204183134989, details={'was_impossible': False}),\n",
       " Prediction(uid='36', iid='307', r_ui=4.0, est=3.630361122532132, details={'was_impossible': False}),\n",
       " Prediction(uid='474', iid='68', r_ui=3.0, est=3.6020613135689503, details={'was_impossible': False}),\n",
       " Prediction(uid='181', iid='1382', r_ui=1.0, est=1.547543989311613, details={'was_impossible': False}),\n",
       " Prediction(uid='868', iid='202', r_ui=3.0, est=3.141927581161156, details={'was_impossible': False}),\n",
       " Prediction(uid='261', iid='597', r_ui=4.0, est=3.7303990276738355, details={'was_impossible': False}),\n",
       " Prediction(uid='42', iid='411', r_ui=4.0, est=2.8439669905789153, details={'was_impossible': False}),\n",
       " Prediction(uid='748', iid='132', r_ui=3.0, est=3.827497110051321, details={'was_impossible': False}),\n",
       " Prediction(uid='530', iid='692', r_ui=4.0, est=3.4830048717122564, details={'was_impossible': False}),\n",
       " Prediction(uid='444', iid='50', r_ui=5.0, est=4.734587471220222, details={'was_impossible': False}),\n",
       " Prediction(uid='650', iid='355', r_ui=2.0, est=2.45778763319752, details={'was_impossible': False}),\n",
       " Prediction(uid='393', iid='347', r_ui=4.0, est=3.7225604021010117, details={'was_impossible': False}),\n",
       " Prediction(uid='621', iid='197', r_ui=4.0, est=4.3173995623155434, details={'was_impossible': False}),\n",
       " Prediction(uid='447', iid='815', r_ui=3.0, est=3.230140165973879, details={'was_impossible': False}),\n",
       " Prediction(uid='326', iid='481', r_ui=1.0, est=3.519024894834085, details={'was_impossible': False}),\n",
       " Prediction(uid='317', iid='748', r_ui=5.0, est=3.268586966265005, details={'was_impossible': False}),\n",
       " Prediction(uid='246', iid='578', r_ui=2.0, est=2.790106703938217, details={'was_impossible': False}),\n",
       " Prediction(uid='659', iid='317', r_ui=4.0, est=4.047899071603689, details={'was_impossible': False}),\n",
       " Prediction(uid='378', iid='135', r_ui=2.0, est=3.9667855058249453, details={'was_impossible': False}),\n",
       " Prediction(uid='238', iid='458', r_ui=4.0, est=3.426636179445313, details={'was_impossible': False}),\n",
       " Prediction(uid='276', iid='228', r_ui=4.0, est=4.38527692595438, details={'was_impossible': False}),\n",
       " Prediction(uid='851', iid='71', r_ui=4.0, est=3.7008226924218506, details={'was_impossible': False}),\n",
       " Prediction(uid='239', iid='427', r_ui=5.0, est=4.819035821947598, details={'was_impossible': False}),\n",
       " Prediction(uid='13', iid='158', r_ui=1.0, est=1.9905792527915676, details={'was_impossible': False}),\n",
       " Prediction(uid='495', iid='679', r_ui=3.0, est=3.5188962389355356, details={'was_impossible': False}),\n",
       " Prediction(uid='848', iid='490', r_ui=5.0, est=4.55282145011338, details={'was_impossible': False}),\n",
       " Prediction(uid='640', iid='11', r_ui=4.0, est=4.457828930313725, details={'was_impossible': False}),\n",
       " Prediction(uid='587', iid='339', r_ui=3.0, est=2.9351135090960225, details={'was_impossible': False}),\n",
       " Prediction(uid='903', iid='357', r_ui=5.0, est=4.768204257116138, details={'was_impossible': False}),\n",
       " Prediction(uid='383', iid='505', r_ui=4.0, est=4.666786237441332, details={'was_impossible': False}),\n",
       " Prediction(uid='435', iid='1151', r_ui=1.0, est=2.767474118015307, details={'was_impossible': False}),\n",
       " Prediction(uid='354', iid='32', r_ui=3.0, est=3.7432616155013654, details={'was_impossible': False}),\n",
       " Prediction(uid='592', iid='129', r_ui=5.0, est=4.380561049471394, details={'was_impossible': False}),\n",
       " Prediction(uid='846', iid='651', r_ui=3.0, est=4.2919894266036485, details={'was_impossible': False}),\n",
       " Prediction(uid='42', iid='141', r_ui=3.0, est=3.405468905536134, details={'was_impossible': False}),\n",
       " Prediction(uid='682', iid='273', r_ui=4.0, est=3.3708354332861252, details={'was_impossible': False}),\n",
       " Prediction(uid='505', iid='1409', r_ui=3.0, est=3.1186992282074653, details={'was_impossible': False}),\n",
       " Prediction(uid='280', iid='8', r_ui=5.0, est=4.587778587124684, details={'was_impossible': False}),\n",
       " Prediction(uid='379', iid='649', r_ui=4.0, est=4.001427607563351, details={'was_impossible': False}),\n",
       " Prediction(uid='660', iid='771', r_ui=2.0, est=1.772230145057123, details={'was_impossible': False}),\n",
       " Prediction(uid='313', iid='210', r_ui=4.0, est=3.7981859355334735, details={'was_impossible': False}),\n",
       " Prediction(uid='571', iid='657', r_ui=4.0, est=3.788198411715752, details={'was_impossible': False}),\n",
       " Prediction(uid='460', iid='248', r_ui=4.0, est=3.30029360837468, details={'was_impossible': False}),\n",
       " Prediction(uid='457', iid='831', r_ui=2.0, est=3.126709186268861, details={'was_impossible': False}),\n",
       " Prediction(uid='632', iid='609', r_ui=3.0, est=3.5986566722637368, details={'was_impossible': False}),\n",
       " Prediction(uid='301', iid='7', r_ui=4.0, est=3.44582815173048, details={'was_impossible': False}),\n",
       " Prediction(uid='796', iid='540', r_ui=2.0, est=2.6659348946315045, details={'was_impossible': False}),\n",
       " Prediction(uid='83', iid='479', r_ui=5.0, est=4.403802057013217, details={'was_impossible': False}),\n",
       " Prediction(uid='9', iid='294', r_ui=4.0, est=3.4669174441120596, details={'was_impossible': False}),\n",
       " Prediction(uid='311', iid='70', r_ui=4.0, est=3.8802154373184785, details={'was_impossible': False}),\n",
       " Prediction(uid='94', iid='235', r_ui=4.0, est=3.1607647525215774, details={'was_impossible': False}),\n",
       " Prediction(uid='758', iid='258', r_ui=4.0, est=4.051068725708112, details={'was_impossible': False}),\n",
       " Prediction(uid='740', iid='271', r_ui=2.0, est=3.200051886360451, details={'was_impossible': False}),\n",
       " Prediction(uid='579', iid='676', r_ui=3.0, est=3.1351131130591163, details={'was_impossible': False}),\n",
       " Prediction(uid='776', iid='672', r_ui=3.0, est=2.355576425935597, details={'was_impossible': False}),\n",
       " Prediction(uid='116', iid='993', r_ui=2.0, est=2.940054444292547, details={'was_impossible': False}),\n",
       " Prediction(uid='344', iid='462', r_ui=2.0, est=4.00938350444744, details={'was_impossible': False}),\n",
       " Prediction(uid='435', iid='588', r_ui=4.0, est=3.711221302380253, details={'was_impossible': False}),\n",
       " Prediction(uid='325', iid='430', r_ui=5.0, est=3.7790190525798595, details={'was_impossible': False}),\n",
       " Prediction(uid='487', iid='49', r_ui=4.0, est=3.0003518366465447, details={'was_impossible': False}),\n",
       " Prediction(uid='452', iid='82', r_ui=3.0, est=3.221642096192099, details={'was_impossible': False}),\n",
       " Prediction(uid='639', iid='216', r_ui=3.0, est=3.4144947573993334, details={'was_impossible': False}),\n",
       " Prediction(uid='130', iid='1231', r_ui=4.0, est=3.4288712057560655, details={'was_impossible': False}),\n",
       " Prediction(uid='479', iid='272', r_ui=4.0, est=4.05361683901247, details={'was_impossible': False}),\n",
       " Prediction(uid='450', iid='125', r_ui=4.0, est=3.5218397755776722, details={'was_impossible': False}),\n",
       " Prediction(uid='889', iid='93', r_ui=3.0, est=3.6498068881836048, details={'was_impossible': False}),\n",
       " Prediction(uid='194', iid='25', r_ui=2.0, est=2.677845416470553, details={'was_impossible': False}),\n",
       " Prediction(uid='222', iid='90', r_ui=2.0, est=3.110171930716461, details={'was_impossible': False}),\n",
       " Prediction(uid='379', iid='433', r_ui=4.0, est=3.973354486088164, details={'was_impossible': False}),\n",
       " Prediction(uid='148', iid='529', r_ui=5.0, est=4.253684824937926, details={'was_impossible': False}),\n",
       " Prediction(uid='7', iid='498', r_ui=5.0, est=4.527394033892328, details={'was_impossible': False}),\n",
       " Prediction(uid='766', iid='214', r_ui=2.0, est=2.965512473691611, details={'was_impossible': False}),\n",
       " Prediction(uid='264', iid='1070', r_ui=4.0, est=4.069323169408434, details={'was_impossible': False}),\n",
       " Prediction(uid='674', iid='315', r_ui=3.0, est=4.141217122273957, details={'was_impossible': False}),\n",
       " Prediction(uid='746', iid='89', r_ui=4.0, est=4.495974805933342, details={'was_impossible': False}),\n",
       " Prediction(uid='269', iid='529', r_ui=5.0, est=3.5947396024751264, details={'was_impossible': False}),\n",
       " Prediction(uid='926', iid='258', r_ui=4.0, est=3.46556987532176, details={'was_impossible': False}),\n",
       " Prediction(uid='222', iid='186', r_ui=5.0, est=4.043667260253303, details={'was_impossible': False}),\n",
       " Prediction(uid='846', iid='612', r_ui=5.0, est=4.098775448149133, details={'was_impossible': False}),\n",
       " Prediction(uid='682', iid='300', r_ui=2.0, est=3.5733817653738082, details={'was_impossible': False}),\n",
       " Prediction(uid='575', iid='215', r_ui=3.0, est=3.169530187207409, details={'was_impossible': False}),\n",
       " Prediction(uid='270', iid='98', r_ui=5.0, est=5, details={'was_impossible': False}),\n",
       " Prediction(uid='426', iid='1116', r_ui=4.0, est=3.5674250120120963, details={'was_impossible': False}),\n",
       " Prediction(uid='889', iid='190', r_ui=3.0, est=3.888771797677974, details={'was_impossible': False}),\n",
       " Prediction(uid='536', iid='229', r_ui=4.0, est=3.741281813665128, details={'was_impossible': False}),\n",
       " Prediction(uid='606', iid='531', r_ui=5.0, est=4.424474570675377, details={'was_impossible': False}),\n",
       " Prediction(uid='321', iid='197', r_ui=5.0, est=4.009421378575131, details={'was_impossible': False}),\n",
       " Prediction(uid='307', iid='174', r_ui=4.0, est=4.228699588142942, details={'was_impossible': False}),\n",
       " Prediction(uid='932', iid='615', r_ui=5.0, est=4.34812424219051, details={'was_impossible': False}),\n",
       " Prediction(uid='784', iid='331', r_ui=4.0, est=3.6932907505980688, details={'was_impossible': False}),\n",
       " Prediction(uid='773', iid='652', r_ui=3.0, est=4.016294712122309, details={'was_impossible': False}),\n",
       " Prediction(uid='450', iid='478', r_ui=5.0, est=4.467399599222463, details={'was_impossible': False}),\n",
       " Prediction(uid='92', iid='980', r_ui=3.0, est=3.2239831295612684, details={'was_impossible': False}),\n",
       " Prediction(uid='58', iid='121', r_ui=2.0, est=3.3615935012580316, details={'was_impossible': False}),\n",
       " Prediction(uid='532', iid='1502', r_ui=1.0, est=4.005796421191607, details={'was_impossible': False}),\n",
       " Prediction(uid='82', iid='178', r_ui=4.0, est=3.537045975815091, details={'was_impossible': False}),\n",
       " Prediction(uid='860', iid='159', r_ui=3.0, est=2.999548905096772, details={'was_impossible': False}),\n",
       " Prediction(uid='927', iid='761', r_ui=3.0, est=3.490275226265655, details={'was_impossible': False}),\n",
       " Prediction(uid='171', iid='268', r_ui=4.0, est=3.4049517476029, details={'was_impossible': False}),\n",
       " Prediction(uid='655', iid='1192', r_ui=4.0, est=2.8266025978369216, details={'was_impossible': False}),\n",
       " Prediction(uid='537', iid='61', r_ui=4.0, est=3.0267641603836113, details={'was_impossible': False}),\n",
       " Prediction(uid='682', iid='1089', r_ui=2.0, est=2.000001536328645, details={'was_impossible': False}),\n",
       " Prediction(uid='479', iid='144', r_ui=4.0, est=3.85952904795496, details={'was_impossible': False}),\n",
       " Prediction(uid='87', iid='435', r_ui=5.0, est=4.400998384875491, details={'was_impossible': False}),\n",
       " Prediction(uid='624', iid='124', r_ui=4.0, est=4.279638339291487, details={'was_impossible': False}),\n",
       " Prediction(uid='881', iid='568', r_ui=4.0, est=3.950856295696781, details={'was_impossible': False}),\n",
       " Prediction(uid='798', iid='819', r_ui=3.0, est=2.4957418257615736, details={'was_impossible': False}),\n",
       " Prediction(uid='704', iid='1299', r_ui=3.0, est=3.3215178732832165, details={'was_impossible': False}),\n",
       " Prediction(uid='932', iid='109', r_ui=2.0, est=3.7917946380747414, details={'was_impossible': False}),\n",
       " Prediction(uid='539', iid='963', r_ui=4.0, est=4.139646808485003, details={'was_impossible': False}),\n",
       " Prediction(uid='165', iid='176', r_ui=4.0, est=4.19295065765575, details={'was_impossible': False}),\n",
       " Prediction(uid='373', iid='142', r_ui=3.0, est=3.324791310981787, details={'was_impossible': False}),\n",
       " Prediction(uid='588', iid='132', r_ui=5.0, est=4.413810147248094, details={'was_impossible': False}),\n",
       " Prediction(uid='403', iid='151', r_ui=4.0, est=3.6098468633710445, details={'was_impossible': False}),\n",
       " Prediction(uid='223', iid='993', r_ui=4.0, est=3.4323308772834684, details={'was_impossible': False}),\n",
       " Prediction(uid='706', iid='181', r_ui=4.0, est=3.8463675077233965, details={'was_impossible': False}),\n",
       " Prediction(uid='578', iid='300', r_ui=4.0, est=2.9286455110020246, details={'was_impossible': False}),\n",
       " Prediction(uid='345', iid='1117', r_ui=4.0, est=3.5279925110784016, details={'was_impossible': False}),\n",
       " Prediction(uid='620', iid='125', r_ui=2.0, est=3.5739509133179204, details={'was_impossible': False}),\n",
       " Prediction(uid='645', iid='194', r_ui=4.0, est=4.128677361311488, details={'was_impossible': False}),\n",
       " Prediction(uid='890', iid='636', r_ui=3.0, est=3.5038045938938764, details={'was_impossible': False}),\n",
       " Prediction(uid='650', iid='378', r_ui=3.0, est=3.3722484470994445, details={'was_impossible': False}),\n",
       " Prediction(uid='11', iid='173', r_ui=5.0, est=4.071931514749005, details={'was_impossible': False}),\n",
       " Prediction(uid='222', iid='117', r_ui=5.0, est=3.866262769155095, details={'was_impossible': False}),\n",
       " Prediction(uid='474', iid='97', r_ui=5.0, est=4.06251939150644, details={'was_impossible': False}),\n",
       " Prediction(uid='751', iid='1661', r_ui=1.0, est=3.3231059320692755, details={'was_impossible': False}),\n",
       " Prediction(uid='173', iid='879', r_ui=5.0, est=4.068305714552141, details={'was_impossible': False}),\n",
       " Prediction(uid='714', iid='1028', r_ui=4.0, est=3.45982413902693, details={'was_impossible': False}),\n",
       " Prediction(uid='840', iid='430', r_ui=5.0, est=4.302996436064055, details={'was_impossible': False}),\n",
       " Prediction(uid='196', iid='13', r_ui=2.0, est=3.5006909106074082, details={'was_impossible': False}),\n",
       " Prediction(uid='305', iid='166', r_ui=4.0, est=4.024841573896737, details={'was_impossible': False}),\n",
       " Prediction(uid='907', iid='1048', r_ui=5.0, est=3.7432981937734926, details={'was_impossible': False}),\n",
       " Prediction(uid='811', iid='292', r_ui=3.0, est=4.368054576175068, details={'was_impossible': False}),\n",
       " Prediction(uid='766', iid='494', r_ui=3.0, est=3.8187864727698613, details={'was_impossible': False}),\n",
       " Prediction(uid='178', iid='219', r_ui=4.0, est=3.8304085140787163, details={'was_impossible': False}),\n",
       " Prediction(uid='49', iid='256', r_ui=4.0, est=3.328049356335429, details={'was_impossible': False}),\n",
       " Prediction(uid='312', iid='1167', r_ui=4.0, est=3.833418734855627, details={'was_impossible': False}),\n",
       " Prediction(uid='671', iid='553', r_ui=5.0, est=3.176419091095254, details={'was_impossible': False}),\n",
       " Prediction(uid='230', iid='680', r_ui=4.0, est=2.8995259837684957, details={'was_impossible': False}),\n",
       " Prediction(uid='253', iid='220', r_ui=4.0, est=3.592346971927108, details={'was_impossible': False}),\n",
       " Prediction(uid='770', iid='123', r_ui=3.0, est=3.790459384968749, details={'was_impossible': False}),\n",
       " Prediction(uid='479', iid='546', r_ui=2.0, est=2.636617471099377, details={'was_impossible': False}),\n",
       " Prediction(uid='3', iid='339', r_ui=3.0, est=2.559203305227313, details={'was_impossible': False}),\n",
       " Prediction(uid='201', iid='281', r_ui=2.0, est=2.701079486180711, details={'was_impossible': False}),\n",
       " Prediction(uid='891', iid='323', r_ui=3.0, est=3.6378677732049343, details={'was_impossible': False}),\n",
       " Prediction(uid='92', iid='993', r_ui=4.0, est=3.3042667918230992, details={'was_impossible': False}),\n",
       " Prediction(uid='7', iid='191', r_ui=5.0, est=4.586112497110018, details={'was_impossible': False}),\n",
       " Prediction(uid='456', iid='187', r_ui=4.0, est=3.9234891361556636, details={'was_impossible': False}),\n",
       " Prediction(uid='627', iid='179', r_ui=5.0, est=3.621370170547455, details={'was_impossible': False}),\n",
       " Prediction(uid='846', iid='604', r_ui=4.0, est=4.070638862660452, details={'was_impossible': False}),\n",
       " Prediction(uid='402', iid='96', r_ui=5.0, est=4.305224032200312, details={'was_impossible': False}),\n",
       " Prediction(uid='339', iid='45', r_ui=5.0, est=4.4175642231469565, details={'was_impossible': False}),\n",
       " Prediction(uid='405', iid='234', r_ui=5.0, est=2.703774745951585, details={'was_impossible': False}),\n",
       " Prediction(uid='452', iid='48', r_ui=5.0, est=3.2458407389969555, details={'was_impossible': False}),\n",
       " Prediction(uid='280', iid='162', r_ui=3.0, est=4.243507510466612, details={'was_impossible': False}),\n",
       " Prediction(uid='59', iid='926', r_ui=1.0, est=2.494115837394431, details={'was_impossible': False}),\n",
       " Prediction(uid='592', iid='96', r_ui=5.0, est=4.434786878754473, details={'was_impossible': False}),\n",
       " Prediction(uid='112', iid='307', r_ui=4.0, est=3.5773495772669084, details={'was_impossible': False}),\n",
       " Prediction(uid='435', iid='271', r_ui=4.0, est=3.154280584561021, details={'was_impossible': False}),\n",
       " Prediction(uid='109', iid='451', r_ui=5.0, est=3.493149952524659, details={'was_impossible': False}),\n",
       " Prediction(uid='305', iid='153', r_ui=3.0, est=3.6676268413757507, details={'was_impossible': False}),\n",
       " Prediction(uid='560', iid='246', r_ui=5.0, est=3.814821746020534, details={'was_impossible': False}),\n",
       " Prediction(uid='226', iid='370', r_ui=3.0, est=2.9401926934528637, details={'was_impossible': False}),\n",
       " Prediction(uid='129', iid='331', r_ui=2.0, est=2.8517124299721934, details={'was_impossible': False}),\n",
       " Prediction(uid='696', iid='1126', r_ui=3.0, est=3.598801641524863, details={'was_impossible': False}),\n",
       " Prediction(uid='141', iid='1013', r_ui=1.0, est=3.164233286793099, details={'was_impossible': False}),\n",
       " Prediction(uid='707', iid='419', r_ui=3.0, est=3.423808528717889, details={'was_impossible': False}),\n",
       " Prediction(uid='856', iid='315', r_ui=5.0, est=3.9827733090907813, details={'was_impossible': False}),\n",
       " Prediction(uid='468', iid='172', r_ui=4.0, est=4.326124795430789, details={'was_impossible': False}),\n",
       " Prediction(uid='95', iid='1018', r_ui=3.0, est=3.215469675846546, details={'was_impossible': False}),\n",
       " Prediction(uid='288', iid='272', r_ui=5.0, est=4.481044676707609, details={'was_impossible': False}),\n",
       " Prediction(uid='378', iid='82', r_ui=4.0, est=4.052931573538843, details={'was_impossible': False}),\n",
       " Prediction(uid='373', iid='169', r_ui=5.0, est=4.398589674367346, details={'was_impossible': False}),\n",
       " Prediction(uid='539', iid='487', r_ui=3.0, est=4.445260861654429, details={'was_impossible': False}),\n",
       " Prediction(uid='85', iid='1021', r_ui=3.0, est=3.6361810484214176, details={'was_impossible': False}),\n",
       " Prediction(uid='828', iid='207', r_ui=4.0, est=3.4370122197260153, details={'was_impossible': False}),\n",
       " Prediction(uid='151', iid='174', r_ui=5.0, est=4.8042048601411445, details={'was_impossible': False}),\n",
       " Prediction(uid='279', iid='1312', r_ui=3.0, est=3.442145484680464, details={'was_impossible': False}),\n",
       " Prediction(uid='406', iid='195', r_ui=5.0, est=3.8190418535378865, details={'was_impossible': False}),\n",
       " Prediction(uid='395', iid='313', r_ui=3.0, est=4.527044969792066, details={'was_impossible': False}),\n",
       " Prediction(uid='682', iid='51', r_ui=5.0, est=3.138379030480282, details={'was_impossible': False}),\n",
       " Prediction(uid='119', iid='762', r_ui=4.0, est=3.6275910327978558, details={'was_impossible': False}),\n",
       " Prediction(uid='663', iid='187', r_ui=5.0, est=4.2448699954241125, details={'was_impossible': False}),\n",
       " Prediction(uid='379', iid='1035', r_ui=3.0, est=3.4313792714578013, details={'was_impossible': False}),\n",
       " Prediction(uid='562', iid='194', r_ui=5.0, est=3.918144275834977, details={'was_impossible': False}),\n",
       " Prediction(uid='474', iid='487', r_ui=4.0, est=4.396892702207316, details={'was_impossible': False}),\n",
       " Prediction(uid='514', iid='357', r_ui=4.0, est=4.155041298170361, details={'was_impossible': False}),\n",
       " Prediction(uid='343', iid='515', r_ui=4.0, est=4.459954624206084, details={'was_impossible': False}),\n",
       " Prediction(uid='16', iid='471', r_ui=3.0, est=4.3072928498673235, details={'was_impossible': False}),\n",
       " Prediction(uid='394', iid='715', r_ui=4.0, est=3.706945270738827, details={'was_impossible': False}),\n",
       " Prediction(uid='721', iid='87', r_ui=3.0, est=3.91263007692078, details={'was_impossible': False}),\n",
       " Prediction(uid='311', iid='604', r_ui=3.0, est=4.248778359834745, details={'was_impossible': False}),\n",
       " Prediction(uid='374', iid='552', r_ui=4.0, est=3.0344000236609845, details={'was_impossible': False}),\n",
       " Prediction(uid='398', iid='191', r_ui=4.0, est=4.146304913058294, details={'was_impossible': False}),\n",
       " Prediction(uid='271', iid='242', r_ui=4.0, est=3.742754363263609, details={'was_impossible': False}),\n",
       " Prediction(uid='92', iid='67', r_ui=3.0, est=2.835840907736617, details={'was_impossible': False}),\n",
       " Prediction(uid='343', iid='559', r_ui=3.0, est=3.4428658269087298, details={'was_impossible': False}),\n",
       " Prediction(uid='638', iid='211', r_ui=4.0, est=3.6979418211197395, details={'was_impossible': False}),\n",
       " Prediction(uid='46', iid='313', r_ui=5.0, est=4.42724264497153, details={'was_impossible': False}),\n",
       " Prediction(uid='279', iid='151', r_ui=4.0, est=4.096469485595906, details={'was_impossible': False}),\n",
       " Prediction(uid='144', iid='55', r_ui=4.0, est=3.444338477194137, details={'was_impossible': False}),\n",
       " Prediction(uid='528', iid='1618', r_ui=1.0, est=3.5569051147216815, details={'was_impossible': False}),\n",
       " Prediction(uid='1', iid='172', r_ui=5.0, est=4.069278175687787, details={'was_impossible': False}),\n",
       " Prediction(uid='7', iid='260', r_ui=1.0, est=2.838594890426013, details={'was_impossible': False}),\n",
       " Prediction(uid='374', iid='288', r_ui=4.0, est=3.72422146959701, details={'was_impossible': False}),\n",
       " Prediction(uid='109', iid='790', r_ui=2.0, est=2.8602830447043366, details={'was_impossible': False}),\n",
       " Prediction(uid='37', iid='161', r_ui=5.0, est=3.628184836872299, details={'was_impossible': False}),\n",
       " Prediction(uid='361', iid='14', r_ui=4.0, est=4.213337744772464, details={'was_impossible': False}),\n",
       " Prediction(uid='380', iid='151', r_ui=4.0, est=2.9752944845282254, details={'was_impossible': False}),\n",
       " Prediction(uid='405', iid='802', r_ui=1.0, est=1.6210522072889897, details={'was_impossible': False}),\n",
       " Prediction(uid='736', iid='1278', r_ui=1.0, est=3.3108590452437006, details={'was_impossible': False}),\n",
       " Prediction(uid='867', iid='132', r_ui=3.0, est=4.693474454000739, details={'was_impossible': False}),\n",
       " Prediction(uid='634', iid='678', r_ui=2.0, est=3.1482720996768965, details={'was_impossible': False}),\n",
       " Prediction(uid='437', iid='292', r_ui=5.0, est=3.6370700500258186, details={'was_impossible': False}),\n",
       " Prediction(uid='592', iid='79', r_ui=4.0, est=4.089047278074446, details={'was_impossible': False}),\n",
       " Prediction(uid='181', iid='19', r_ui=1.0, est=2.171629843743204, details={'was_impossible': False}),\n",
       " Prediction(uid='58', iid='663', r_ui=2.0, est=4.32697003476836, details={'was_impossible': False}),\n",
       " Prediction(uid='459', iid='1038', r_ui=4.0, est=3.0813085260542263, details={'was_impossible': False}),\n",
       " Prediction(uid='918', iid='135', r_ui=1.0, est=3.1368212461790432, details={'was_impossible': False}),\n",
       " Prediction(uid='772', iid='322', r_ui=4.0, est=3.7140261870384585, details={'was_impossible': False}),\n",
       " Prediction(uid='201', iid='693', r_ui=4.0, est=3.1408186224480015, details={'was_impossible': False}),\n",
       " Prediction(uid='711', iid='161', r_ui=4.0, est=3.0743051306921765, details={'was_impossible': False}),\n",
       " Prediction(uid='697', iid='127', r_ui=5.0, est=4.694210015896552, details={'was_impossible': False}),\n",
       " Prediction(uid='662', iid='10', r_ui=4.0, est=4.401383145373066, details={'was_impossible': False}),\n",
       " Prediction(uid='347', iid='290', r_ui=3.0, est=3.012839922061341, details={'was_impossible': False}),\n",
       " Prediction(uid='508', iid='179', r_ui=4.0, est=4.525689278141795, details={'was_impossible': False}),\n",
       " Prediction(uid='93', iid='815', r_ui=4.0, est=3.244549640289618, details={'was_impossible': False}),\n",
       " Prediction(uid='533', iid='182', r_ui=3.0, est=3.592805104131512, details={'was_impossible': False}),\n",
       " Prediction(uid='81', iid='456', r_ui=1.0, est=2.6701351414299612, details={'was_impossible': False}),\n",
       " Prediction(uid='66', iid='300', r_ui=5.0, est=3.616041778690818, details={'was_impossible': False}),\n",
       " Prediction(uid='868', iid='219', r_ui=2.0, est=2.8675952493665893, details={'was_impossible': False}),\n",
       " Prediction(uid='606', iid='282', r_ui=4.0, est=3.863417179232115, details={'was_impossible': False}),\n",
       " Prediction(uid='552', iid='1047', r_ui=3.0, est=2.6218550208840097, details={'was_impossible': False}),\n",
       " Prediction(uid='244', iid='584', r_ui=5.0, est=4.014180821951056, details={'was_impossible': False}),\n",
       " Prediction(uid='279', iid='1180', r_ui=2.0, est=3.0626135888145023, details={'was_impossible': False}),\n",
       " Prediction(uid='916', iid='193', r_ui=4.0, est=3.7914815625809233, details={'was_impossible': False}),\n",
       " Prediction(uid='867', iid='28', r_ui=5.0, est=4.175385039633482, details={'was_impossible': False}),\n",
       " Prediction(uid='271', iid='509', r_ui=4.0, est=3.686412736863306, details={'was_impossible': False}),\n",
       " Prediction(uid='862', iid='208', r_ui=2.0, est=4.6029973056642755, details={'was_impossible': False}),\n",
       " Prediction(uid='527', iid='661', r_ui=5.0, est=3.9404746998782727, details={'was_impossible': False}),\n",
       " Prediction(uid='648', iid='429', r_ui=4.0, est=4.04495781438747, details={'was_impossible': False}),\n",
       " Prediction(uid='911', iid='506', r_ui=3.0, est=4.103247906497541, details={'was_impossible': False}),\n",
       " Prediction(uid='10', iid='505', r_ui=4.0, est=4.29932744134922, details={'was_impossible': False}),\n",
       " Prediction(uid='704', iid='172', r_ui=2.0, est=3.9774722084345684, details={'was_impossible': False}),\n",
       " Prediction(uid='297', iid='430', r_ui=1.0, est=3.790613149327158, details={'was_impossible': False}),\n",
       " Prediction(uid='58', iid='20', r_ui=1.0, est=3.6961849948429535, details={'was_impossible': False}),\n",
       " Prediction(uid='145', iid='1248', r_ui=3.0, est=3.6256007239443977, details={'was_impossible': False}),\n",
       " Prediction(uid='270', iid='1007', r_ui=5.0, est=4.768133050667109, details={'was_impossible': False}),\n",
       " Prediction(uid='151', iid='69', r_ui=4.0, est=4.361712201808154, details={'was_impossible': False}),\n",
       " Prediction(uid='426', iid='655', r_ui=4.0, est=3.7975004305990976, details={'was_impossible': False}),\n",
       " Prediction(uid='201', iid='1422', r_ui=2.0, est=2.8908218549245084, details={'was_impossible': False}),\n",
       " Prediction(uid='56', iid='373', r_ui=4.0, est=2.874972735855971, details={'was_impossible': False}),\n",
       " Prediction(uid='617', iid='242', r_ui=3.0, est=3.2491931513103793, details={'was_impossible': False}),\n",
       " Prediction(uid='280', iid='232', r_ui=3.0, est=3.0466120143397792, details={'was_impossible': False}),\n",
       " Prediction(uid='315', iid='285', r_ui=5.0, est=4.597889664056033, details={'was_impossible': False}),\n",
       " Prediction(uid='828', iid='286', r_ui=4.0, est=3.183093771308972, details={'was_impossible': False}),\n",
       " Prediction(uid='312', iid='194', r_ui=4.0, est=4.802255444996181, details={'was_impossible': False}),\n",
       " Prediction(uid='933', iid='105', r_ui=2.0, est=1.588616382794804, details={'was_impossible': False}),\n",
       " Prediction(uid='541', iid='63', r_ui=3.0, est=3.3691133335039645, details={'was_impossible': False}),\n",
       " Prediction(uid='493', iid='168', r_ui=5.0, est=4.263107892089248, details={'was_impossible': False}),\n",
       " Prediction(uid='64', iid='127', r_ui=5.0, est=3.912516281901596, details={'was_impossible': False}),\n",
       " Prediction(uid='892', iid='129', r_ui=3.0, est=4.243548898343575, details={'was_impossible': False}),\n",
       " Prediction(uid='196', iid='110', r_ui=1.0, est=2.805411413941949, details={'was_impossible': False}),\n",
       " Prediction(uid='500', iid='216', r_ui=4.0, est=4.205186395497576, details={'was_impossible': False}),\n",
       " Prediction(uid='665', iid='293', r_ui=4.0, est=3.696798908955165, details={'was_impossible': False}),\n",
       " Prediction(uid='927', iid='380', r_ui=5.0, est=3.6657885226569786, details={'was_impossible': False}),\n",
       " Prediction(uid='756', iid='1031', r_ui=2.0, est=2.8675492954172386, details={'was_impossible': False}),\n",
       " Prediction(uid='386', iid='24', r_ui=4.0, est=3.56649048321035, details={'was_impossible': False}),\n",
       " Prediction(uid='634', iid='546', r_ui=4.0, est=3.353779714590168, details={'was_impossible': False}),\n",
       " Prediction(uid='305', iid='98', r_ui=4.0, est=4.272855889214661, details={'was_impossible': False}),\n",
       " Prediction(uid='854', iid='475', r_ui=4.0, est=3.7685433491676315, details={'was_impossible': False}),\n",
       " Prediction(uid='889', iid='56', r_ui=5.0, est=4.146978731877451, details={'was_impossible': False}),\n",
       " Prediction(uid='276', iid='245', r_ui=3.0, est=2.9517632729048517, details={'was_impossible': False}),\n",
       " Prediction(uid='233', iid='495', r_ui=4.0, est=4.093874796733982, details={'was_impossible': False}),\n",
       " Prediction(uid='545', iid='231', r_ui=4.0, est=2.767231474052852, details={'was_impossible': False}),\n",
       " Prediction(uid='344', iid='291', r_ui=3.0, est=3.3353363012913047, details={'was_impossible': False}),\n",
       " Prediction(uid='528', iid='56', r_ui=3.0, est=3.938957063980306, details={'was_impossible': False}),\n",
       " Prediction(uid='605', iid='496', r_ui=5.0, est=4.216324739029589, details={'was_impossible': False}),\n",
       " Prediction(uid='595', iid='880', r_ui=3.0, est=3.10006613020081, details={'was_impossible': False}),\n",
       " Prediction(uid='540', iid='245', r_ui=3.0, est=3.313223583549006, details={'was_impossible': False}),\n",
       " Prediction(uid='936', iid='1202', r_ui=4.0, est=3.8502438089818245, details={'was_impossible': False}),\n",
       " Prediction(uid='344', iid='472', r_ui=3.0, est=3.0615740925191823, details={'was_impossible': False}),\n",
       " Prediction(uid='338', iid='204', r_ui=3.0, est=3.8822136180452884, details={'was_impossible': False}),\n",
       " Prediction(uid='345', iid='200', r_ui=4.0, est=3.7199240733700942, details={'was_impossible': False}),\n",
       " Prediction(uid='160', iid='21', r_ui=1.0, est=3.0066173721479403, details={'was_impossible': False}),\n",
       " Prediction(uid='145', iid='275', r_ui=2.0, est=4.893103389169023, details={'was_impossible': False}),\n",
       " Prediction(uid='122', iid='1074', r_ui=4.0, est=3.3736626956344575, details={'was_impossible': False}),\n",
       " Prediction(uid='479', iid='153', r_ui=4.0, est=3.6449056966920788, details={'was_impossible': False}),\n",
       " Prediction(uid='472', iid='161', r_ui=5.0, est=4.901150401013339, details={'was_impossible': False}),\n",
       " Prediction(uid='752', iid='340', r_ui=4.0, est=3.065022010192515, details={'was_impossible': False}),\n",
       " Prediction(uid='863', iid='752', r_ui=4.0, est=3.2761072959419977, details={'was_impossible': False}),\n",
       " Prediction(uid='504', iid='300', r_ui=4.0, est=4.2731641019097, details={'was_impossible': False}),\n",
       " Prediction(uid='701', iid='286', r_ui=4.0, est=4.162270429363049, details={'was_impossible': False}),\n",
       " Prediction(uid='774', iid='448', r_ui=2.0, est=1.7889934485820806, details={'was_impossible': False}),\n",
       " Prediction(uid='381', iid='419', r_ui=5.0, est=3.8055495692717396, details={'was_impossible': False}),\n",
       " Prediction(uid='305', iid='285', r_ui=5.0, est=4.003124949056248, details={'was_impossible': False}),\n",
       " Prediction(uid='881', iid='559', r_ui=2.0, est=2.9023983330979157, details={'was_impossible': False}),\n",
       " Prediction(uid='437', iid='732', r_ui=4.0, est=3.2929112869507495, details={'was_impossible': False}),\n",
       " Prediction(uid='363', iid='959', r_ui=1.0, est=2.6353424435291446, details={'was_impossible': False}),\n",
       " Prediction(uid='409', iid='1392', r_ui=1.0, est=2.9710801539511196, details={'was_impossible': False}),\n",
       " Prediction(uid='236', iid='429', r_ui=1.0, est=3.8756516968945327, details={'was_impossible': False}),\n",
       " Prediction(uid='367', iid='448', r_ui=4.0, est=4.0103509015654435, details={'was_impossible': False}),\n",
       " Prediction(uid='340', iid='66', r_ui=5.0, est=4.316411604229744, details={'was_impossible': False}),\n",
       " Prediction(uid='244', iid='1136', r_ui=3.0, est=3.683168682916058, details={'was_impossible': False}),\n",
       " Prediction(uid='648', iid='218', r_ui=3.0, est=3.1863264321640656, details={'was_impossible': False}),\n",
       " Prediction(uid='840', iid='654', r_ui=4.0, est=4.6191806855652136, details={'was_impossible': False}),\n",
       " Prediction(uid='253', iid='518', r_ui=5.0, est=3.6894314201791802, details={'was_impossible': False}),\n",
       " Prediction(uid='666', iid='147', r_ui=3.0, est=3.2977050481619496, details={'was_impossible': False}),\n",
       " Prediction(uid='293', iid='558', r_ui=3.0, est=3.3395385411128347, details={'was_impossible': False}),\n",
       " Prediction(uid='397', iid='878', r_ui=1.0, est=2.47211941444663, details={'was_impossible': False}),\n",
       " Prediction(uid='347', iid='609', r_ui=4.0, est=3.45398761539501, details={'was_impossible': False}),\n",
       " Prediction(uid='145', iid='553', r_ui=3.0, est=3.3991584484896302, details={'was_impossible': False}),\n",
       " Prediction(uid='65', iid='7', r_ui=1.0, est=3.5795494057179496, details={'was_impossible': False}),\n",
       " Prediction(uid='926', iid='245', r_ui=3.0, est=3.0939781761786564, details={'was_impossible': False}),\n",
       " Prediction(uid='781', iid='523', r_ui=5.0, est=3.9060181105064293, details={'was_impossible': False}),\n",
       " Prediction(uid='228', iid='327', r_ui=1.0, est=3.1945273502018545, details={'was_impossible': False}),\n",
       " Prediction(uid='276', iid='653', r_ui=5.0, est=4.101147323444239, details={'was_impossible': False}),\n",
       " Prediction(uid='696', iid='285', r_ui=4.0, est=4.49034714580904, details={'was_impossible': False}),\n",
       " Prediction(uid='592', iid='900', r_ui=4.0, est=3.521515662747051, details={'was_impossible': False}),\n",
       " Prediction(uid='734', iid='165', r_ui=3.0, est=3.8953710175195955, details={'was_impossible': False}),\n",
       " Prediction(uid='102', iid='200', r_ui=3.0, est=2.9876625394916942, details={'was_impossible': False}),\n",
       " Prediction(uid='296', iid='144', r_ui=4.0, est=4.316498562692179, details={'was_impossible': False}),\n",
       " Prediction(uid='264', iid='294', r_ui=3.0, est=3.1547873912882904, details={'was_impossible': False}),\n",
       " Prediction(uid='425', iid='301', r_ui=4.0, est=2.9334122389905186, details={'was_impossible': False}),\n",
       " Prediction(uid='5', iid='371', r_ui=1.0, est=3.1128279154298752, details={'was_impossible': False}),\n",
       " Prediction(uid='654', iid='845', r_ui=4.0, est=3.2077768747343813, details={'was_impossible': False}),\n",
       " Prediction(uid='832', iid='50', r_ui=3.0, est=3.813091971299359, details={'was_impossible': False}),\n",
       " Prediction(uid='7', iid='106', r_ui=4.0, est=3.284682693914081, details={'was_impossible': False}),\n",
       " Prediction(uid='445', iid='121', r_ui=1.0, est=1.9236117786065379, details={'was_impossible': False}),\n",
       " Prediction(uid='782', iid='1615', r_ui=3.0, est=2.7791670082472346, details={'was_impossible': False}),\n",
       " Prediction(uid='804', iid='480', r_ui=5.0, est=4.484525588486048, details={'was_impossible': False}),\n",
       " Prediction(uid='896', iid='387', r_ui=2.0, est=2.6819832524069254, details={'was_impossible': False}),\n",
       " Prediction(uid='577', iid='196', r_ui=5.0, est=4.019695663517502, details={'was_impossible': False}),\n",
       " Prediction(uid='344', iid='408', r_ui=5.0, est=4.5134108135740405, details={'was_impossible': False}),\n",
       " Prediction(uid='204', iid='300', r_ui=3.0, est=3.1056888036842794, details={'was_impossible': False}),\n",
       " Prediction(uid='426', iid='641', r_ui=4.0, est=4.356284463403043, details={'was_impossible': False}),\n",
       " Prediction(uid='42', iid='735', r_ui=4.0, est=3.955082546149577, details={'was_impossible': False}),\n",
       " Prediction(uid='405', iid='391', r_ui=1.0, est=1.2488058438490113, details={'was_impossible': False}),\n",
       " Prediction(uid='523', iid='169', r_ui=5.0, est=5, details={'was_impossible': False}),\n",
       " Prediction(uid='851', iid='291', r_ui=4.0, est=3.353982903410279, details={'was_impossible': False}),\n",
       " Prediction(uid='805', iid='148', r_ui=2.0, est=2.8531096441867114, details={'was_impossible': False}),\n",
       " Prediction(uid='760', iid='723', r_ui=2.0, est=3.249344008191716, details={'was_impossible': False}),\n",
       " Prediction(uid='244', iid='241', r_ui=4.0, est=3.485060823436509, details={'was_impossible': False}),\n",
       " Prediction(uid='850', iid='56', r_ui=1.0, est=4.553138625533304, details={'was_impossible': False}),\n",
       " Prediction(uid='31', iid='504', r_ui=5.0, est=3.972627583964405, details={'was_impossible': False}),\n",
       " Prediction(uid='911', iid='655', r_ui=5.0, est=3.9938736929701104, details={'was_impossible': False}),\n",
       " Prediction(uid='597', iid='286', r_ui=3.0, est=4.106472847901734, details={'was_impossible': False}),\n",
       " Prediction(uid='766', iid='265', r_ui=3.0, est=3.360269786834966, details={'was_impossible': False}),\n",
       " Prediction(uid='449', iid='1195', r_ui=5.0, est=3.678621760057681, details={'was_impossible': False}),\n",
       " Prediction(uid='669', iid='427', r_ui=4.0, est=3.6060219528484794, details={'was_impossible': False}),\n",
       " Prediction(uid='488', iid='193', r_ui=3.0, est=3.4176674320435843, details={'was_impossible': False}),\n",
       " Prediction(uid='927', iid='118', r_ui=5.0, est=3.864511455303486, details={'was_impossible': False}),\n",
       " Prediction(uid='308', iid='642', r_ui=5.0, est=3.665342207609319, details={'was_impossible': False}),\n",
       " Prediction(uid='709', iid='470', r_ui=3.0, est=3.7201772133927835, details={'was_impossible': False}),\n",
       " Prediction(uid='493', iid='239', r_ui=5.0, est=3.7598170215310036, details={'was_impossible': False}),\n",
       " Prediction(uid='640', iid='1228', r_ui=4.0, est=3.130645960629256, details={'was_impossible': False}),\n",
       " Prediction(uid='659', iid='252', r_ui=4.0, est=3.0955045446079206, details={'was_impossible': False}),\n",
       " Prediction(uid='637', iid='740', r_ui=2.0, est=2.8135423406772992, details={'was_impossible': False}),\n",
       " Prediction(uid='457', iid='452', r_ui=3.0, est=2.9903025932230185, details={'was_impossible': False}),\n",
       " Prediction(uid='250', iid='1', r_ui=4.0, est=4.198051840915167, details={'was_impossible': False}),\n",
       " Prediction(uid='715', iid='732', r_ui=3.0, est=3.2769440553044205, details={'was_impossible': False}),\n",
       " Prediction(uid='738', iid='367', r_ui=3.0, est=3.585004319112169, details={'was_impossible': False}),\n",
       " Prediction(uid='450', iid='90', r_ui=4.0, est=3.547871179916087, details={'was_impossible': False}),\n",
       " Prediction(uid='643', iid='65', r_ui=4.0, est=3.9334362772100278, details={'was_impossible': False}),\n",
       " Prediction(uid='627', iid='562', r_ui=2.0, est=2.8860999441816597, details={'was_impossible': False}),\n",
       " Prediction(uid='416', iid='734', r_ui=3.0, est=3.098109549151039, details={'was_impossible': False}),\n",
       " Prediction(uid='532', iid='750', r_ui=5.0, est=4.485152550237816, details={'was_impossible': False}),\n",
       " Prediction(uid='185', iid='9', r_ui=4.0, est=4.237382170478576, details={'was_impossible': False}),\n",
       " Prediction(uid='659', iid='43', r_ui=4.0, est=3.2111346782666996, details={'was_impossible': False}),\n",
       " Prediction(uid='560', iid='111', r_ui=3.0, est=3.448028708123429, details={'was_impossible': False}),\n",
       " Prediction(uid='506', iid='97', r_ui=4.0, est=4.039602209172286, details={'was_impossible': False}),\n",
       " Prediction(uid='458', iid='195', r_ui=4.0, est=3.4760228409816545, details={'was_impossible': False}),\n",
       " Prediction(uid='693', iid='157', r_ui=4.0, est=3.201146587376775, details={'was_impossible': False}),\n",
       " Prediction(uid='606', iid='187', r_ui=4.0, est=4.427587135809712, details={'was_impossible': False}),\n",
       " Prediction(uid='658', iid='69', r_ui=4.0, est=3.7985259044969695, details={'was_impossible': False}),\n",
       " Prediction(uid='354', iid='170', r_ui=4.0, est=4.186884887457327, details={'was_impossible': False}),\n",
       " Prediction(uid='472', iid='392', r_ui=4.0, est=4.481454971584932, details={'was_impossible': False}),\n",
       " Prediction(uid='291', iid='66', r_ui=4.0, est=3.723826434312995, details={'was_impossible': False}),\n",
       " Prediction(uid='897', iid='369', r_ui=4.0, est=3.4833528919076, details={'was_impossible': False}),\n",
       " Prediction(uid='195', iid='771', r_ui=2.0, est=2.8069424634233933, details={'was_impossible': False}),\n",
       " Prediction(uid='130', iid='270', r_ui=5.0, est=3.845159230150848, details={'was_impossible': False}),\n",
       " Prediction(uid='712', iid='73', r_ui=5.0, est=3.889491473458028, details={'was_impossible': False}),\n",
       " Prediction(uid='13', iid='174', r_ui=4.0, est=3.8761517436771626, details={'was_impossible': False}),\n",
       " Prediction(uid='108', iid='255', r_ui=2.0, est=3.2813551944547816, details={'was_impossible': False}),\n",
       " Prediction(uid='936', iid='100', r_ui=4.0, est=4.599108404018003, details={'was_impossible': False}),\n",
       " Prediction(uid='908', iid='174', r_ui=3.0, est=3.823050084483008, details={'was_impossible': False}),\n",
       " Prediction(uid='774', iid='545', r_ui=1.0, est=1.2686520417126548, details={'was_impossible': False}),\n",
       " Prediction(uid='486', iid='292', r_ui=4.0, est=3.5242671491374455, details={'was_impossible': False}),\n",
       " Prediction(uid='405', iid='723', r_ui=1.0, est=1.920406443361976, details={'was_impossible': False}),\n",
       " Prediction(uid='298', iid='132', r_ui=5.0, est=4.139036208698619, details={'was_impossible': False}),\n",
       " Prediction(uid='312', iid='8', r_ui=5.0, est=4.588139048799312, details={'was_impossible': False}),\n",
       " Prediction(uid='644', iid='597', r_ui=4.0, est=3.882657856857824, details={'was_impossible': False}),\n",
       " Prediction(uid='717', iid='121', r_ui=2.0, est=3.838171315186311, details={'was_impossible': False}),\n",
       " Prediction(uid='416', iid='931', r_ui=3.0, est=2.601336751892901, details={'was_impossible': False}),\n",
       " Prediction(uid='343', iid='44', r_ui=3.0, est=3.7424525344434594, details={'was_impossible': False}),\n",
       " Prediction(uid='763', iid='230', r_ui=3.0, est=3.2898508033711718, details={'was_impossible': False}),\n",
       " Prediction(uid='327', iid='92', r_ui=4.0, est=3.074852416824108, details={'was_impossible': False}),\n",
       " Prediction(uid='561', iid='1119', r_ui=3.0, est=2.6828736525331407, details={'was_impossible': False}),\n",
       " Prediction(uid='487', iid='252', r_ui=1.0, est=3.417273365269816, details={'was_impossible': False}),\n",
       " Prediction(uid='426', iid='489', r_ui=5.0, est=3.9392303749128588, details={'was_impossible': False}),\n",
       " Prediction(uid='130', iid='569', r_ui=3.0, est=3.6687544748798357, details={'was_impossible': False}),\n",
       " Prediction(uid='533', iid='484', r_ui=3.0, est=4.215849236590185, details={'was_impossible': False}),\n",
       " Prediction(uid='757', iid='231', r_ui=2.0, est=2.7501099353221785, details={'was_impossible': False}),\n",
       " Prediction(uid='406', iid='508', r_ui=4.0, est=3.2448371640925635, details={'was_impossible': False}),\n",
       " Prediction(uid='567', iid='659', r_ui=4.0, est=4.107081943131257, details={'was_impossible': False}),\n",
       " Prediction(uid='894', iid='147', r_ui=3.0, est=3.3527276868050406, details={'was_impossible': False}),\n",
       " Prediction(uid='269', iid='679', r_ui=1.0, est=2.5496370543818556, details={'was_impossible': False}),\n",
       " Prediction(uid='311', iid='367', r_ui=3.0, est=3.3804838811009867, details={'was_impossible': False}),\n",
       " Prediction(uid='747', iid='989', r_ui=3.0, est=3.0218449443152466, details={'was_impossible': False}),\n",
       " Prediction(uid='835', iid='505', r_ui=3.0, est=4.201590775676236, details={'was_impossible': False}),\n",
       " Prediction(uid='472', iid='834', r_ui=3.0, est=3.5531550494065223, details={'was_impossible': False}),\n",
       " Prediction(uid='880', iid='470', r_ui=4.0, est=3.6075317601063723, details={'was_impossible': False}),\n",
       " Prediction(uid='450', iid='400', r_ui=3.0, est=3.3663436953220987, details={'was_impossible': False}),\n",
       " Prediction(uid='727', iid='167', r_ui=2.0, est=2.731478058566279, details={'was_impossible': False}),\n",
       " Prediction(uid='805', iid='942', r_ui=3.0, est=3.623210229563491, details={'was_impossible': False}),\n",
       " Prediction(uid='90', iid='322', r_ui=4.0, est=3.576819112366547, details={'was_impossible': False}),\n",
       " Prediction(uid='246', iid='109', r_ui=5.0, est=3.0537886349875834, details={'was_impossible': False}),\n",
       " Prediction(uid='387', iid='96', r_ui=4.0, est=3.6623745377094377, details={'was_impossible': False}),\n",
       " Prediction(uid='1', iid='17', r_ui=3.0, est=3.0539650438276476, details={'was_impossible': False}),\n",
       " Prediction(uid='421', iid='156', r_ui=5.0, est=3.8121391837742853, details={'was_impossible': False}),\n",
       " Prediction(uid='796', iid='1039', r_ui=4.0, est=3.777620689827701, details={'was_impossible': False}),\n",
       " Prediction(uid='257', iid='286', r_ui=5.0, est=4.213910289885389, details={'was_impossible': False}),\n",
       " Prediction(uid='244', iid='172', r_ui=4.0, est=4.304417581329396, details={'was_impossible': False}),\n",
       " Prediction(uid='646', iid='313', r_ui=5.0, est=3.970105230132337, details={'was_impossible': False}),\n",
       " Prediction(uid='577', iid='298', r_ui=4.0, est=4.070560478483174, details={'was_impossible': False}),\n",
       " Prediction(uid='942', iid='1204', r_ui=4.0, est=4.229221741634855, details={'was_impossible': False}),\n",
       " Prediction(uid='621', iid='143', r_ui=2.0, est=4.231446394306166, details={'was_impossible': False}),\n",
       " Prediction(uid='262', iid='786', r_ui=3.0, est=2.6781039895447085, details={'was_impossible': False}),\n",
       " Prediction(uid='365', iid='815', r_ui=3.0, est=3.2882249015016063, details={'was_impossible': False}),\n",
       " Prediction(uid='745', iid='286', r_ui=1.0, est=2.455093457697763, details={'was_impossible': False}),\n",
       " Prediction(uid='336', iid='1118', r_ui=4.0, est=2.716693506614946, details={'was_impossible': False}),\n",
       " Prediction(uid='301', iid='686', r_ui=4.0, est=3.434805375167297, details={'was_impossible': False}),\n",
       " Prediction(uid='600', iid='183', r_ui=5.0, est=3.987760738209004, details={'was_impossible': False}),\n",
       " Prediction(uid='749', iid='73', r_ui=4.0, est=4.051437829769753, details={'was_impossible': False}),\n",
       " Prediction(uid='642', iid='118', r_ui=3.0, est=3.7757806641874576, details={'was_impossible': False}),\n",
       " Prediction(uid='916', iid='176', r_ui=4.0, est=3.8074952866052505, details={'was_impossible': False}),\n",
       " Prediction(uid='537', iid='1010', r_ui=2.0, est=2.6143153495037095, details={'was_impossible': False}),\n",
       " Prediction(uid='537', iid='482', r_ui=4.0, est=3.3271869758899646, details={'was_impossible': False}),\n",
       " Prediction(uid='894', iid='288', r_ui=3.0, est=3.331626897740569, details={'was_impossible': False}),\n",
       " Prediction(uid='504', iid='567', r_ui=2.0, est=3.0887263716674815, details={'was_impossible': False}),\n",
       " Prediction(uid='400', iid='304', r_ui=4.0, est=3.7180938234312007, details={'was_impossible': False}),\n",
       " Prediction(uid='297', iid='746', r_ui=3.0, est=3.5976578915228945, details={'was_impossible': False}),\n",
       " Prediction(uid='850', iid='96', r_ui=4.0, est=4.655594883731595, details={'was_impossible': False}),\n",
       " Prediction(uid='921', iid='24', r_ui=3.0, est=3.0553003440303637, details={'was_impossible': False}),\n",
       " Prediction(uid='862', iid='216', r_ui=5.0, est=4.560616217374595, details={'was_impossible': False}),\n",
       " Prediction(uid='848', iid='210', r_ui=5.0, est=4.682983162388463, details={'was_impossible': False}),\n",
       " Prediction(uid='43', iid='566', r_ui=3.0, est=3.8795870247690245, details={'was_impossible': False}),\n",
       " Prediction(uid='655', iid='283', r_ui=3.0, est=3.119555365724757, details={'was_impossible': False}),\n",
       " Prediction(uid='346', iid='576', r_ui=3.0, est=3.2290060610608045, details={'was_impossible': False}),\n",
       " Prediction(uid='432', iid='257', r_ui=5.0, est=3.9870934420182733, details={'was_impossible': False}),\n",
       " Prediction(uid='7', iid='563', r_ui=2.0, est=2.6461098517654165, details={'was_impossible': False}),\n",
       " Prediction(uid='788', iid='357', r_ui=4.0, est=4.079356881721016, details={'was_impossible': False}),\n",
       " Prediction(uid='280', iid='1473', r_ui=3.0, est=3.561401965475512, details={'was_impossible': False}),\n",
       " Prediction(uid='751', iid='174', r_ui=4.0, est=4.085389942701759, details={'was_impossible': False}),\n",
       " Prediction(uid='691', iid='243', r_ui=1.0, est=3.11774813593811, details={'was_impossible': False}),\n",
       " Prediction(uid='610', iid='11', r_ui=4.0, est=3.8393012010246355, details={'was_impossible': False}),\n",
       " Prediction(uid='295', iid='395', r_ui=4.0, est=3.7787940561957813, details={'was_impossible': False}),\n",
       " Prediction(uid='226', iid='507', r_ui=2.0, est=3.7655315972163317, details={'was_impossible': False}),\n",
       " Prediction(uid='880', iid='948', r_ui=4.0, est=2.3440540731614785, details={'was_impossible': False}),\n",
       " Prediction(uid='163', iid='286', r_ui=3.0, est=3.180895523095167, details={'was_impossible': False}),\n",
       " Prediction(uid='695', iid='882', r_ui=4.0, est=3.2586580333880053, details={'was_impossible': False}),\n",
       " Prediction(uid='832', iid='328', r_ui=3.0, est=3.5113364678518297, details={'was_impossible': False}),\n",
       " Prediction(uid='709', iid='769', r_ui=3.0, est=2.1274677829661304, details={'was_impossible': False}),\n",
       " Prediction(uid='92', iid='709', r_ui=2.0, est=3.95517678210502, details={'was_impossible': False}),\n",
       " Prediction(uid='654', iid='3', r_ui=3.0, est=3.2756999598500753, details={'was_impossible': False}),\n",
       " Prediction(uid='795', iid='432', r_ui=3.0, est=3.8226096287110756, details={'was_impossible': False}),\n",
       " Prediction(uid='162', iid='117', r_ui=4.0, est=3.955435744622915, details={'was_impossible': False}),\n",
       " Prediction(uid='399', iid='465', r_ui=3.0, est=3.0844818453783325, details={'was_impossible': False}),\n",
       " Prediction(uid='642', iid='99', r_ui=2.0, est=3.9152239981729133, details={'was_impossible': False}),\n",
       " Prediction(uid='390', iid='126', r_ui=5.0, est=4.110535448537384, details={'was_impossible': False}),\n",
       " Prediction(uid='308', iid='479', r_ui=5.0, est=4.344459839835934, details={'was_impossible': False}),\n",
       " Prediction(uid='87', iid='1074', r_ui=3.0, est=3.5872168030525797, details={'was_impossible': False}),\n",
       " Prediction(uid='796', iid='662', r_ui=5.0, est=3.5595024081188744, details={'was_impossible': False}),\n",
       " Prediction(uid='830', iid='612', r_ui=4.0, est=3.909026373389774, details={'was_impossible': False}),\n",
       " Prediction(uid='782', iid='680', r_ui=1.0, est=2.619088989413141, details={'was_impossible': False}),\n",
       " Prediction(uid='895', iid='222', r_ui=3.0, est=3.886429359610022, details={'was_impossible': False}),\n",
       " Prediction(uid='632', iid='591', r_ui=4.0, est=3.5626383784417284, details={'was_impossible': False}),\n",
       " Prediction(uid='26', iid='597', r_ui=2.0, est=2.650341885699424, details={'was_impossible': False}),\n",
       " Prediction(uid='94', iid='234', r_ui=5.0, est=4.072640275378928, details={'was_impossible': False}),\n",
       " Prediction(uid='181', iid='1025', r_ui=1.0, est=1.4250984998797875, details={'was_impossible': False}),\n",
       " Prediction(uid='130', iid='455', r_ui=4.0, est=4.064172026050564, details={'was_impossible': False}),\n",
       " Prediction(uid='534', iid='1028', r_ui=5.0, est=3.8847010959884822, details={'was_impossible': False}),\n",
       " Prediction(uid='445', iid='221', r_ui=1.0, est=2.199095725555293, details={'was_impossible': False}),\n",
       " Prediction(uid='876', iid='435', r_ui=4.0, est=4.087317828657775, details={'was_impossible': False}),\n",
       " Prediction(uid='79', iid='370', r_ui=2.0, est=3.0083291510693875, details={'was_impossible': False}),\n",
       " Prediction(uid='490', iid='137', r_ui=3.0, est=3.486958008942267, details={'was_impossible': False}),\n",
       " Prediction(uid='59', iid='762', r_ui=4.0, est=3.512650390794363, details={'was_impossible': False}),\n",
       " Prediction(uid='450', iid='139', r_ui=5.0, est=3.1210867358832677, details={'was_impossible': False}),\n",
       " Prediction(uid='574', iid='321', r_ui=1.0, est=3.092756308212685, details={'was_impossible': False}),\n",
       " Prediction(uid='587', iid='875', r_ui=1.0, est=3.104187640488588, details={'was_impossible': False}),\n",
       " Prediction(uid='94', iid='1218', r_ui=4.0, est=3.735180345315295, details={'was_impossible': False}),\n",
       " Prediction(uid='453', iid='3', r_ui=4.0, est=2.690179287795732, details={'was_impossible': False}),\n",
       " Prediction(uid='686', iid='185', r_ui=5.0, est=4.913065460792177, details={'was_impossible': False}),\n",
       " Prediction(uid='862', iid='173', r_ui=5.0, est=4.65106579590404, details={'was_impossible': False}),\n",
       " Prediction(uid='207', iid='197', r_ui=4.0, est=3.6231411429930684, details={'was_impossible': False}),\n",
       " Prediction(uid='760', iid='278', r_ui=4.0, est=3.300285279019895, details={'was_impossible': False}),\n",
       " Prediction(uid='655', iid='707', r_ui=3.0, est=3.510103964442981, details={'was_impossible': False}),\n",
       " Prediction(uid='338', iid='582', r_ui=5.0, est=3.743108589378672, details={'was_impossible': False}),\n",
       " Prediction(uid='290', iid='193', r_ui=4.0, est=3.452536412927412, details={'was_impossible': False}),\n",
       " Prediction(uid='537', iid='675', r_ui=3.0, est=3.293892235510177, details={'was_impossible': False}),\n",
       " Prediction(uid='45', iid='762', r_ui=4.0, est=3.752337485742315, details={'was_impossible': False}),\n",
       " Prediction(uid='314', iid='401', r_ui=3.0, est=3.1095470906439218, details={'was_impossible': False}),\n",
       " Prediction(uid='468', iid='216', r_ui=5.0, est=4.096745476526269, details={'was_impossible': False}),\n",
       " Prediction(uid='13', iid='72', r_ui=4.0, est=2.5990306700587134, details={'was_impossible': False}),\n",
       " Prediction(uid='316', iid='730', r_ui=4.0, est=2.942701174552636, details={'was_impossible': False}),\n",
       " Prediction(uid='942', iid='310', r_ui=4.0, est=4.316416215025659, details={'was_impossible': False}),\n",
       " Prediction(uid='336', iid='742', r_ui=3.0, est=2.982676259265104, details={'was_impossible': False}),\n",
       " Prediction(uid='2', iid='291', r_ui=3.0, est=3.5203468618118268, details={'was_impossible': False}),\n",
       " Prediction(uid='796', iid='387', r_ui=3.0, est=3.0997429202900744, details={'was_impossible': False}),\n",
       " Prediction(uid='100', iid='294', r_ui=4.0, est=2.920172921157555, details={'was_impossible': False}),\n",
       " Prediction(uid='139', iid='268', r_ui=4.0, est=3.9454188173964355, details={'was_impossible': False}),\n",
       " Prediction(uid='642', iid='1076', r_ui=2.0, est=3.320316574188861, details={'was_impossible': False}),\n",
       " Prediction(uid='450', iid='259', r_ui=3.0, est=3.5341605974013808, details={'was_impossible': False}),\n",
       " Prediction(uid='178', iid='435', r_ui=4.0, est=4.2527267537871385, details={'was_impossible': False}),\n",
       " Prediction(uid='455', iid='597', r_ui=3.0, est=3.2027200043636372, details={'was_impossible': False}),\n",
       " Prediction(uid='57', iid='926', r_ui=3.0, est=2.703635595215231, details={'was_impossible': False}),\n",
       " Prediction(uid='752', iid='322', r_ui=1.0, est=3.368430894048186, details={'was_impossible': False}),\n",
       " Prediction(uid='428', iid='305', r_ui=3.0, est=4.132178615949276, details={'was_impossible': False}),\n",
       " Prediction(uid='537', iid='346', r_ui=3.0, est=3.1974246621335816, details={'was_impossible': False}),\n",
       " Prediction(uid='256', iid='210', r_ui=4.0, est=4.869459731992365, details={'was_impossible': False}),\n",
       " Prediction(uid='297', iid='89', r_ui=4.0, est=3.5874761635863077, details={'was_impossible': False}),\n",
       " Prediction(uid='193', iid='879', r_ui=3.0, est=2.9608112221609515, details={'was_impossible': False}),\n",
       " Prediction(uid='271', iid='136', r_ui=3.0, est=3.9569129958386733, details={'was_impossible': False}),\n",
       " Prediction(uid='532', iid='38', r_ui=3.0, est=3.9046685556155007, details={'was_impossible': False}),\n",
       " Prediction(uid='708', iid='278', r_ui=4.0, est=3.161111222011602, details={'was_impossible': False}),\n",
       " Prediction(uid='8', iid='227', r_ui=4.0, est=3.4471642238099336, details={'was_impossible': False}),\n",
       " Prediction(uid='447', iid='274', r_ui=1.0, est=3.4309862548471, details={'was_impossible': False}),\n",
       " Prediction(uid='433', iid='50', r_ui=5.0, est=4.515577259170642, details={'was_impossible': False}),\n",
       " Prediction(uid='290', iid='755', r_ui=4.0, est=3.11979193531219, details={'was_impossible': False}),\n",
       " Prediction(uid='42', iid='357', r_ui=5.0, est=3.882665171311557, details={'was_impossible': False}),\n",
       " Prediction(uid='474', iid='31', r_ui=4.0, est=3.911537464155624, details={'was_impossible': False}),\n",
       " Prediction(uid='749', iid='80', r_ui=1.0, est=3.0698767951284984, details={'was_impossible': False}),\n",
       " Prediction(uid='444', iid='307', r_ui=3.0, est=3.575032625589445, details={'was_impossible': False}),\n",
       " Prediction(uid='851', iid='841', r_ui=3.0, est=2.573806065579201, details={'was_impossible': False}),\n",
       " Prediction(uid='94', iid='187', r_ui=4.0, est=4.426955401763236, details={'was_impossible': False}),\n",
       " Prediction(uid='588', iid='111', r_ui=1.0, est=3.956284138717094, details={'was_impossible': False}),\n",
       " Prediction(uid='521', iid='385', r_ui=3.0, est=2.845014881167636, details={'was_impossible': False}),\n",
       " Prediction(uid='890', iid='200', r_ui=4.0, est=3.939926620758883, details={'was_impossible': False}),\n",
       " Prediction(uid='752', iid='346', r_ui=4.0, est=3.5426714156961583, details={'was_impossible': False}),\n",
       " Prediction(uid='527', iid='283', r_ui=4.0, est=3.629839276729481, details={'was_impossible': False}),\n",
       " Prediction(uid='629', iid='1109', r_ui=4.0, est=3.691619841394553, details={'was_impossible': False}),\n",
       " Prediction(uid='1', iid='126', r_ui=2.0, est=4.093058126840842, details={'was_impossible': False}),\n",
       " Prediction(uid='416', iid='866', r_ui=4.0, est=3.5593485884224236, details={'was_impossible': False}),\n",
       " Prediction(uid='671', iid='570', r_ui=3.0, est=3.4475032923203353, details={'was_impossible': False}),\n",
       " Prediction(uid='277', iid='117', r_ui=4.0, est=3.234240459058304, details={'was_impossible': False}),\n",
       " ...]"
      ]
     },
     "execution_count": 46,
     "metadata": {},
     "output_type": "execute_result"
    }
   ],
   "source": [
    "predictions2 = algo.test(testset)\n",
    "predictions2   #하나의 영화에 대한 예측값은 Prediction 객체 "
   ]
  },
  {
   "cell_type": "code",
   "execution_count": 40,
   "id": "9cbe0f51",
   "metadata": {},
   "outputs": [
    {
     "data": {
      "text/plain": [
       "'userid:882 iid:291==> est: 3.57875612083051'"
      ]
     },
     "execution_count": 40,
     "metadata": {},
     "output_type": "execute_result"
    }
   ],
   "source": [
    "'userid:' + prediction.uid + \\\n",
    "' iid:' + prediction.iid + \\\n",
    "'==> est: '+str(prediction.est)"
   ]
  },
  {
   "cell_type": "code",
   "execution_count": 47,
   "id": "6bdf2988",
   "metadata": {},
   "outputs": [],
   "source": [
    "##predictions의 모든 예측값 출력\n",
    "result2 = [one.uid +' '+one.iid+' ' +str(one.est) for one in predictions2]"
   ]
  },
  {
   "cell_type": "code",
   "execution_count": 42,
   "id": "e93f475e",
   "metadata": {},
   "outputs": [
    {
     "name": "stdout",
     "output_type": "stream",
     "text": [
      "RMSE: 0.8897\n"
     ]
    },
    {
     "data": {
      "text/plain": [
       "0.8896902437093708"
      ]
     },
     "execution_count": 42,
     "metadata": {},
     "output_type": "execute_result"
    }
   ],
   "source": [
    "accuracy.rmse(predictions)"
   ]
  },
  {
   "cell_type": "code",
   "execution_count": 48,
   "id": "c0d8ea9a",
   "metadata": {},
   "outputs": [
    {
     "data": {
      "text/plain": [
       "25000"
      ]
     },
     "execution_count": 48,
     "metadata": {},
     "output_type": "execute_result"
    }
   ],
   "source": [
    "len(result2)"
   ]
  },
  {
   "cell_type": "code",
   "execution_count": 49,
   "id": "412f3fa1",
   "metadata": {},
   "outputs": [
    {
     "name": "stdout",
     "output_type": "stream",
     "text": [
      "RMSE: 0.9492\n"
     ]
    },
    {
     "data": {
      "text/plain": [
       "0.9492051254863219"
      ]
     },
     "execution_count": 49,
     "metadata": {},
     "output_type": "execute_result"
    }
   ],
   "source": [
    "accuracy.rmse(predictions2) #오차의 평균값!"
   ]
  },
  {
   "cell_type": "code",
   "execution_count": 50,
   "id": "5286bca8",
   "metadata": {},
   "outputs": [],
   "source": [
    "from surprise.model_selection import cross_validate"
   ]
  },
  {
   "cell_type": "code",
   "execution_count": 51,
   "id": "15137372",
   "metadata": {},
   "outputs": [
    {
     "name": "stdout",
     "output_type": "stream",
     "text": [
      "Evaluating RMSE, MAE of algorithm SVD on 5 split(s).\n",
      "\n",
      "                  Fold 1  Fold 2  Fold 3  Fold 4  Fold 5  Mean    Std     \n",
      "RMSE (testset)    0.9398  0.9377  0.9374  0.9295  0.9386  0.9366  0.0037  \n",
      "MAE (testset)     0.7416  0.7379  0.7377  0.7330  0.7422  0.7385  0.0033  \n",
      "Fit time          4.97    4.90    4.97    4.98    4.97    4.96    0.03    \n",
      "Test time         0.19    0.28    0.15    0.14    0.16    0.18    0.05    \n"
     ]
    },
    {
     "data": {
      "text/plain": [
       "{'test_rmse': array([0.93983134, 0.93765369, 0.93743198, 0.92946305, 0.93862592]),\n",
       " 'test_mae': array([0.74164598, 0.73788922, 0.73765433, 0.73300255, 0.74220465]),\n",
       " 'fit_time': (4.968249320983887,\n",
       "  4.903066873550415,\n",
       "  4.968820571899414,\n",
       "  4.977657079696655,\n",
       "  4.974856376647949),\n",
       " 'test_time': (0.1905069351196289,\n",
       "  0.2809138298034668,\n",
       "  0.15035271644592285,\n",
       "  0.1398773193359375,\n",
       "  0.1559288501739502)}"
      ]
     },
     "execution_count": 51,
     "metadata": {},
     "output_type": "execute_result"
    }
   ],
   "source": [
    "cross_validate(algo, data, measures=['RMSE', 'MAE'], cv = 5, verbose = True)"
   ]
  },
  {
   "cell_type": "code",
   "execution_count": 55,
   "id": "c85c73e6",
   "metadata": {},
   "outputs": [],
   "source": [
    "import pandas as pd"
   ]
  },
  {
   "cell_type": "code",
   "execution_count": 56,
   "id": "dfc8170e",
   "metadata": {},
   "outputs": [
    {
     "data": {
      "text/html": [
       "<div>\n",
       "<style scoped>\n",
       "    .dataframe tbody tr th:only-of-type {\n",
       "        vertical-align: middle;\n",
       "    }\n",
       "\n",
       "    .dataframe tbody tr th {\n",
       "        vertical-align: top;\n",
       "    }\n",
       "\n",
       "    .dataframe thead th {\n",
       "        text-align: right;\n",
       "    }\n",
       "</style>\n",
       "<table border=\"1\" class=\"dataframe\">\n",
       "  <thead>\n",
       "    <tr style=\"text-align: right;\">\n",
       "      <th></th>\n",
       "      <th>movieId</th>\n",
       "      <th>title</th>\n",
       "      <th>genres</th>\n",
       "    </tr>\n",
       "  </thead>\n",
       "  <tbody>\n",
       "    <tr>\n",
       "      <th>0</th>\n",
       "      <td>1</td>\n",
       "      <td>Toy Story (1995)</td>\n",
       "      <td>Adventure|Animation|Children|Comedy|Fantasy</td>\n",
       "    </tr>\n",
       "    <tr>\n",
       "      <th>1</th>\n",
       "      <td>2</td>\n",
       "      <td>Jumanji (1995)</td>\n",
       "      <td>Adventure|Children|Fantasy</td>\n",
       "    </tr>\n",
       "    <tr>\n",
       "      <th>2</th>\n",
       "      <td>3</td>\n",
       "      <td>Grumpier Old Men (1995)</td>\n",
       "      <td>Comedy|Romance</td>\n",
       "    </tr>\n",
       "    <tr>\n",
       "      <th>3</th>\n",
       "      <td>4</td>\n",
       "      <td>Waiting to Exhale (1995)</td>\n",
       "      <td>Comedy|Drama|Romance</td>\n",
       "    </tr>\n",
       "    <tr>\n",
       "      <th>4</th>\n",
       "      <td>5</td>\n",
       "      <td>Father of the Bride Part II (1995)</td>\n",
       "      <td>Comedy</td>\n",
       "    </tr>\n",
       "    <tr>\n",
       "      <th>...</th>\n",
       "      <td>...</td>\n",
       "      <td>...</td>\n",
       "      <td>...</td>\n",
       "    </tr>\n",
       "    <tr>\n",
       "      <th>9737</th>\n",
       "      <td>193581</td>\n",
       "      <td>Black Butler: Book of the Atlantic (2017)</td>\n",
       "      <td>Action|Animation|Comedy|Fantasy</td>\n",
       "    </tr>\n",
       "    <tr>\n",
       "      <th>9738</th>\n",
       "      <td>193583</td>\n",
       "      <td>No Game No Life: Zero (2017)</td>\n",
       "      <td>Animation|Comedy|Fantasy</td>\n",
       "    </tr>\n",
       "    <tr>\n",
       "      <th>9739</th>\n",
       "      <td>193585</td>\n",
       "      <td>Flint (2017)</td>\n",
       "      <td>Drama</td>\n",
       "    </tr>\n",
       "    <tr>\n",
       "      <th>9740</th>\n",
       "      <td>193587</td>\n",
       "      <td>Bungo Stray Dogs: Dead Apple (2018)</td>\n",
       "      <td>Action|Animation</td>\n",
       "    </tr>\n",
       "    <tr>\n",
       "      <th>9741</th>\n",
       "      <td>193609</td>\n",
       "      <td>Andrew Dice Clay: Dice Rules (1991)</td>\n",
       "      <td>Comedy</td>\n",
       "    </tr>\n",
       "  </tbody>\n",
       "</table>\n",
       "<p>9742 rows × 3 columns</p>\n",
       "</div>"
      ],
      "text/plain": [
       "      movieId                                      title  \\\n",
       "0           1                           Toy Story (1995)   \n",
       "1           2                             Jumanji (1995)   \n",
       "2           3                    Grumpier Old Men (1995)   \n",
       "3           4                   Waiting to Exhale (1995)   \n",
       "4           5         Father of the Bride Part II (1995)   \n",
       "...       ...                                        ...   \n",
       "9737   193581  Black Butler: Book of the Atlantic (2017)   \n",
       "9738   193583               No Game No Life: Zero (2017)   \n",
       "9739   193585                               Flint (2017)   \n",
       "9740   193587        Bungo Stray Dogs: Dead Apple (2018)   \n",
       "9741   193609        Andrew Dice Clay: Dice Rules (1991)   \n",
       "\n",
       "                                           genres  \n",
       "0     Adventure|Animation|Children|Comedy|Fantasy  \n",
       "1                      Adventure|Children|Fantasy  \n",
       "2                                  Comedy|Romance  \n",
       "3                            Comedy|Drama|Romance  \n",
       "4                                          Comedy  \n",
       "...                                           ...  \n",
       "9737              Action|Animation|Comedy|Fantasy  \n",
       "9738                     Animation|Comedy|Fantasy  \n",
       "9739                                        Drama  \n",
       "9740                             Action|Animation  \n",
       "9741                                       Comedy  \n",
       "\n",
       "[9742 rows x 3 columns]"
      ]
     },
     "execution_count": 56,
     "metadata": {},
     "output_type": "execute_result"
    }
   ],
   "source": [
    "movies = pd.read_csv('./movie-ratings-data/movies.csv')\n",
    "movies"
   ]
  },
  {
   "cell_type": "code",
   "execution_count": 61,
   "id": "82abb708",
   "metadata": {},
   "outputs": [
    {
     "data": {
      "text/html": [
       "<div>\n",
       "<style scoped>\n",
       "    .dataframe tbody tr th:only-of-type {\n",
       "        vertical-align: middle;\n",
       "    }\n",
       "\n",
       "    .dataframe tbody tr th {\n",
       "        vertical-align: top;\n",
       "    }\n",
       "\n",
       "    .dataframe thead th {\n",
       "        text-align: right;\n",
       "    }\n",
       "</style>\n",
       "<table border=\"1\" class=\"dataframe\">\n",
       "  <thead>\n",
       "    <tr style=\"text-align: right;\">\n",
       "      <th></th>\n",
       "      <th>userId</th>\n",
       "      <th>movieId</th>\n",
       "      <th>rating</th>\n",
       "      <th>timestamp</th>\n",
       "    </tr>\n",
       "  </thead>\n",
       "  <tbody>\n",
       "    <tr>\n",
       "      <th>0</th>\n",
       "      <td>1</td>\n",
       "      <td>1</td>\n",
       "      <td>4.0</td>\n",
       "      <td>964982703</td>\n",
       "    </tr>\n",
       "    <tr>\n",
       "      <th>1</th>\n",
       "      <td>1</td>\n",
       "      <td>3</td>\n",
       "      <td>4.0</td>\n",
       "      <td>964981247</td>\n",
       "    </tr>\n",
       "    <tr>\n",
       "      <th>2</th>\n",
       "      <td>1</td>\n",
       "      <td>6</td>\n",
       "      <td>4.0</td>\n",
       "      <td>964982224</td>\n",
       "    </tr>\n",
       "    <tr>\n",
       "      <th>3</th>\n",
       "      <td>1</td>\n",
       "      <td>47</td>\n",
       "      <td>5.0</td>\n",
       "      <td>964983815</td>\n",
       "    </tr>\n",
       "    <tr>\n",
       "      <th>4</th>\n",
       "      <td>1</td>\n",
       "      <td>50</td>\n",
       "      <td>5.0</td>\n",
       "      <td>964982931</td>\n",
       "    </tr>\n",
       "    <tr>\n",
       "      <th>...</th>\n",
       "      <td>...</td>\n",
       "      <td>...</td>\n",
       "      <td>...</td>\n",
       "      <td>...</td>\n",
       "    </tr>\n",
       "    <tr>\n",
       "      <th>100831</th>\n",
       "      <td>610</td>\n",
       "      <td>166534</td>\n",
       "      <td>4.0</td>\n",
       "      <td>1493848402</td>\n",
       "    </tr>\n",
       "    <tr>\n",
       "      <th>100832</th>\n",
       "      <td>610</td>\n",
       "      <td>168248</td>\n",
       "      <td>5.0</td>\n",
       "      <td>1493850091</td>\n",
       "    </tr>\n",
       "    <tr>\n",
       "      <th>100833</th>\n",
       "      <td>610</td>\n",
       "      <td>168250</td>\n",
       "      <td>5.0</td>\n",
       "      <td>1494273047</td>\n",
       "    </tr>\n",
       "    <tr>\n",
       "      <th>100834</th>\n",
       "      <td>610</td>\n",
       "      <td>168252</td>\n",
       "      <td>5.0</td>\n",
       "      <td>1493846352</td>\n",
       "    </tr>\n",
       "    <tr>\n",
       "      <th>100835</th>\n",
       "      <td>610</td>\n",
       "      <td>170875</td>\n",
       "      <td>3.0</td>\n",
       "      <td>1493846415</td>\n",
       "    </tr>\n",
       "  </tbody>\n",
       "</table>\n",
       "<p>100836 rows × 4 columns</p>\n",
       "</div>"
      ],
      "text/plain": [
       "        userId  movieId  rating   timestamp\n",
       "0            1        1     4.0   964982703\n",
       "1            1        3     4.0   964981247\n",
       "2            1        6     4.0   964982224\n",
       "3            1       47     5.0   964983815\n",
       "4            1       50     5.0   964982931\n",
       "...        ...      ...     ...         ...\n",
       "100831     610   166534     4.0  1493848402\n",
       "100832     610   168248     5.0  1493850091\n",
       "100833     610   168250     5.0  1494273047\n",
       "100834     610   168252     5.0  1493846352\n",
       "100835     610   170875     3.0  1493846415\n",
       "\n",
       "[100836 rows x 4 columns]"
      ]
     },
     "execution_count": 61,
     "metadata": {},
     "output_type": "execute_result"
    }
   ],
   "source": [
    "ratings = pd.read_csv('./movie-ratings-data/ratings.csv')\n",
    "ratings"
   ]
  },
  {
   "cell_type": "code",
   "execution_count": 64,
   "id": "89c1fea9",
   "metadata": {},
   "outputs": [
    {
     "data": {
      "text/html": [
       "<div>\n",
       "<style scoped>\n",
       "    .dataframe tbody tr th:only-of-type {\n",
       "        vertical-align: middle;\n",
       "    }\n",
       "\n",
       "    .dataframe tbody tr th {\n",
       "        vertical-align: top;\n",
       "    }\n",
       "\n",
       "    .dataframe thead th {\n",
       "        text-align: right;\n",
       "    }\n",
       "</style>\n",
       "<table border=\"1\" class=\"dataframe\">\n",
       "  <thead>\n",
       "    <tr style=\"text-align: right;\">\n",
       "      <th></th>\n",
       "      <th>userId</th>\n",
       "      <th>movieId</th>\n",
       "      <th>rating</th>\n",
       "      <th>timestamp</th>\n",
       "    </tr>\n",
       "  </thead>\n",
       "  <tbody>\n",
       "    <tr>\n",
       "      <th>1073</th>\n",
       "      <td>9</td>\n",
       "      <td>41</td>\n",
       "      <td>3.0</td>\n",
       "      <td>1044656650</td>\n",
       "    </tr>\n",
       "    <tr>\n",
       "      <th>1074</th>\n",
       "      <td>9</td>\n",
       "      <td>187</td>\n",
       "      <td>3.0</td>\n",
       "      <td>1044657119</td>\n",
       "    </tr>\n",
       "    <tr>\n",
       "      <th>1075</th>\n",
       "      <td>9</td>\n",
       "      <td>223</td>\n",
       "      <td>4.0</td>\n",
       "      <td>1044656650</td>\n",
       "    </tr>\n",
       "    <tr>\n",
       "      <th>1076</th>\n",
       "      <td>9</td>\n",
       "      <td>371</td>\n",
       "      <td>3.0</td>\n",
       "      <td>1044656716</td>\n",
       "    </tr>\n",
       "    <tr>\n",
       "      <th>1077</th>\n",
       "      <td>9</td>\n",
       "      <td>627</td>\n",
       "      <td>3.0</td>\n",
       "      <td>1044657102</td>\n",
       "    </tr>\n",
       "  </tbody>\n",
       "</table>\n",
       "</div>"
      ],
      "text/plain": [
       "      userId  movieId  rating   timestamp\n",
       "1073       9       41     3.0  1044656650\n",
       "1074       9      187     3.0  1044657119\n",
       "1075       9      223     4.0  1044656650\n",
       "1076       9      371     3.0  1044656716\n",
       "1077       9      627     3.0  1044657102"
      ]
     },
     "execution_count": 64,
     "metadata": {},
     "output_type": "execute_result"
    }
   ],
   "source": [
    "movie_list_uid9 = ratings[ratings['userId'] == 9]\n",
    "movie_list_uid9.head()"
   ]
  },
  {
   "cell_type": "code",
   "execution_count": 67,
   "id": "51c801fa",
   "metadata": {},
   "outputs": [
    {
     "data": {
      "text/plain": [
       "(46, 4)"
      ]
     },
     "execution_count": 67,
     "metadata": {},
     "output_type": "execute_result"
    }
   ],
   "source": [
    "movie_list_uid9.shape ##uid가 9인 사람은 46개의 영화를 보았음 "
   ]
  },
  {
   "cell_type": "code",
   "execution_count": 69,
   "id": "2047fed5",
   "metadata": {},
   "outputs": [],
   "source": [
    "## 보지 않은 영화중에서 추천을 하려고 함. "
   ]
  },
  {
   "cell_type": "code",
   "execution_count": 70,
   "id": "f068cdab",
   "metadata": {},
   "outputs": [],
   "source": [
    "##1) 전체 영화 수 \n",
    "##2) 평점 매긴 영화 수 \n",
    "##3) 보지 않은 영화수(추천 대상 영화 수)"
   ]
  },
  {
   "cell_type": "code",
   "execution_count": 72,
   "id": "829a991d",
   "metadata": {},
   "outputs": [
    {
     "data": {
      "text/plain": [
       "9742"
      ]
     },
     "execution_count": 72,
     "metadata": {},
     "output_type": "execute_result"
    }
   ],
   "source": [
    "movie_count = movies.shape[0]\n",
    "movie_count #전체 영화 수 "
   ]
  },
  {
   "cell_type": "code",
   "execution_count": 74,
   "id": "5839a2ca",
   "metadata": {},
   "outputs": [
    {
     "data": {
      "text/plain": [
       "46"
      ]
     },
     "execution_count": 74,
     "metadata": {},
     "output_type": "execute_result"
    }
   ],
   "source": [
    "rat_uid9_count = movie_list_uid9.shape[0]\n",
    "rat_uid9_count ##평점 매긴 영화 수 "
   ]
  },
  {
   "cell_type": "code",
   "execution_count": 77,
   "id": "e1f993ff",
   "metadata": {},
   "outputs": [
    {
     "data": {
      "text/plain": [
       "9696"
      ]
     },
     "execution_count": 77,
     "metadata": {},
     "output_type": "execute_result"
    }
   ],
   "source": [
    "movie_count - rat_uid9_count #보지 않은 영화 수 (추천 대상 영화 수) "
   ]
  },
  {
   "cell_type": "code",
   "execution_count": 80,
   "id": "c6af2385",
   "metadata": {},
   "outputs": [
    {
     "data": {
      "text/html": [
       "<div>\n",
       "<style scoped>\n",
       "    .dataframe tbody tr th:only-of-type {\n",
       "        vertical-align: middle;\n",
       "    }\n",
       "\n",
       "    .dataframe tbody tr th {\n",
       "        vertical-align: top;\n",
       "    }\n",
       "\n",
       "    .dataframe thead th {\n",
       "        text-align: right;\n",
       "    }\n",
       "</style>\n",
       "<table border=\"1\" class=\"dataframe\">\n",
       "  <thead>\n",
       "    <tr style=\"text-align: right;\">\n",
       "      <th></th>\n",
       "      <th>userId</th>\n",
       "      <th>movieId</th>\n",
       "      <th>rating</th>\n",
       "      <th>timestamp</th>\n",
       "    </tr>\n",
       "  </thead>\n",
       "  <tbody>\n",
       "  </tbody>\n",
       "</table>\n",
       "</div>"
      ],
      "text/plain": [
       "Empty DataFrame\n",
       "Columns: [userId, movieId, rating, timestamp]\n",
       "Index: []"
      ]
     },
     "execution_count": 80,
     "metadata": {},
     "output_type": "execute_result"
    }
   ],
   "source": [
    "movie_list_uid9[movie_list_uid9['movieId'] == 42] ##42번은 평점의 기록이 없음 "
   ]
  },
  {
   "cell_type": "code",
   "execution_count": 81,
   "id": "f435ab6e",
   "metadata": {},
   "outputs": [
    {
     "data": {
      "text/html": [
       "<div>\n",
       "<style scoped>\n",
       "    .dataframe tbody tr th:only-of-type {\n",
       "        vertical-align: middle;\n",
       "    }\n",
       "\n",
       "    .dataframe tbody tr th {\n",
       "        vertical-align: top;\n",
       "    }\n",
       "\n",
       "    .dataframe thead th {\n",
       "        text-align: right;\n",
       "    }\n",
       "</style>\n",
       "<table border=\"1\" class=\"dataframe\">\n",
       "  <thead>\n",
       "    <tr style=\"text-align: right;\">\n",
       "      <th></th>\n",
       "      <th>movieId</th>\n",
       "      <th>title</th>\n",
       "      <th>genres</th>\n",
       "    </tr>\n",
       "  </thead>\n",
       "  <tbody>\n",
       "    <tr>\n",
       "      <th>38</th>\n",
       "      <td>42</td>\n",
       "      <td>Dead Presidents (1995)</td>\n",
       "      <td>Action|Crime|Drama</td>\n",
       "    </tr>\n",
       "  </tbody>\n",
       "</table>\n",
       "</div>"
      ],
      "text/plain": [
       "    movieId                   title              genres\n",
       "38       42  Dead Presidents (1995)  Action|Crime|Drama"
      ]
     },
     "execution_count": 81,
     "metadata": {},
     "output_type": "execute_result"
    }
   ],
   "source": [
    "##42번 영화는 어떤 영화였을까> \n",
    "movies[movies['movieId']== 42] "
   ]
  },
  {
   "cell_type": "code",
   "execution_count": 86,
   "id": "1ba25dce",
   "metadata": {},
   "outputs": [],
   "source": [
    "uid = str(9) \n",
    "iid = str(42)"
   ]
  },
  {
   "cell_type": "code",
   "execution_count": 87,
   "id": "243af0fc",
   "metadata": {},
   "outputs": [
    {
     "name": "stdout",
     "output_type": "stream",
     "text": [
      "user: 9          item: 42         r_ui = None   est = 4.33   {'was_impossible': False}\n"
     ]
    }
   ],
   "source": [
    "pred = algo.predict(uid, iid, verbose = True)"
   ]
  },
  {
   "cell_type": "code",
   "execution_count": 88,
   "id": "3a2ae755",
   "metadata": {},
   "outputs": [],
   "source": [
    "##1) 같은 장르의 영화들의 갯수를 구해보세요 \n",
    "##2) 평점이 제일 높은 영화를 찾아보세요 "
   ]
  },
  {
   "cell_type": "code",
   "execution_count": 94,
   "id": "e1ac2b77",
   "metadata": {},
   "outputs": [
    {
     "data": {
      "text/html": [
       "<div>\n",
       "<style scoped>\n",
       "    .dataframe tbody tr th:only-of-type {\n",
       "        vertical-align: middle;\n",
       "    }\n",
       "\n",
       "    .dataframe tbody tr th {\n",
       "        vertical-align: top;\n",
       "    }\n",
       "\n",
       "    .dataframe thead th {\n",
       "        text-align: right;\n",
       "    }\n",
       "</style>\n",
       "<table border=\"1\" class=\"dataframe\">\n",
       "  <thead>\n",
       "    <tr style=\"text-align: right;\">\n",
       "      <th></th>\n",
       "      <th>movieId</th>\n",
       "      <th>title</th>\n",
       "      <th>genres</th>\n",
       "    </tr>\n",
       "  </thead>\n",
       "  <tbody>\n",
       "    <tr>\n",
       "      <th>38</th>\n",
       "      <td>42</td>\n",
       "      <td>Dead Presidents (1995)</td>\n",
       "      <td>Action|Crime|Drama</td>\n",
       "    </tr>\n",
       "    <tr>\n",
       "      <th>341</th>\n",
       "      <td>384</td>\n",
       "      <td>Bad Company (1995)</td>\n",
       "      <td>Action|Crime|Drama</td>\n",
       "    </tr>\n",
       "    <tr>\n",
       "      <th>347</th>\n",
       "      <td>390</td>\n",
       "      <td>Faster Pussycat! Kill! Kill! (1965)</td>\n",
       "      <td>Action|Crime|Drama</td>\n",
       "    </tr>\n",
       "    <tr>\n",
       "      <th>430</th>\n",
       "      <td>493</td>\n",
       "      <td>Menace II Society (1993)</td>\n",
       "      <td>Action|Crime|Drama</td>\n",
       "    </tr>\n",
       "    <tr>\n",
       "      <th>568</th>\n",
       "      <td>694</td>\n",
       "      <td>Substitute, The (1996)</td>\n",
       "      <td>Action|Crime|Drama</td>\n",
       "    </tr>\n",
       "  </tbody>\n",
       "</table>\n",
       "</div>"
      ],
      "text/plain": [
       "     movieId                                title              genres\n",
       "38        42               Dead Presidents (1995)  Action|Crime|Drama\n",
       "341      384                   Bad Company (1995)  Action|Crime|Drama\n",
       "347      390  Faster Pussycat! Kill! Kill! (1965)  Action|Crime|Drama\n",
       "430      493             Menace II Society (1993)  Action|Crime|Drama\n",
       "568      694               Substitute, The (1996)  Action|Crime|Drama"
      ]
     },
     "execution_count": 94,
     "metadata": {},
     "output_type": "execute_result"
    }
   ],
   "source": [
    "action_movies = movies[movies['genres'] == 'Action|Crime|Drama']\n",
    "action_movies.head()"
   ]
  },
  {
   "cell_type": "code",
   "execution_count": 95,
   "id": "c29a45f2",
   "metadata": {},
   "outputs": [
    {
     "data": {
      "text/plain": [
       "(50, 3)"
      ]
     },
     "execution_count": 95,
     "metadata": {},
     "output_type": "execute_result"
    }
   ],
   "source": [
    "action_movies.shape"
   ]
  },
  {
   "cell_type": "code",
   "execution_count": 101,
   "id": "0a81e2de",
   "metadata": {},
   "outputs": [
    {
     "name": "stdout",
     "output_type": "stream",
     "text": [
      "user: 9          item: 42         r_ui = None   est = 4.33   {'was_impossible': False}\n",
      "user: 9          item: 384        r_ui = None   est = 3.25   {'was_impossible': False}\n",
      "user: 9          item: 390        r_ui = None   est = 3.74   {'was_impossible': False}\n",
      "user: 9          item: 493        r_ui = None   est = 4.42   {'was_impossible': False}\n",
      "user: 9          item: 694        r_ui = None   est = 4.48   {'was_impossible': False}\n",
      "user: 9          item: 875        r_ui = None   est = 3.07   {'was_impossible': False}\n",
      "user: 9          item: 2194       r_ui = None   est = 3.73   {'was_impossible': False}\n",
      "user: 9          item: 2281       r_ui = None   est = 3.73   {'was_impossible': False}\n",
      "user: 9          item: 3430       r_ui = None   est = 3.73   {'was_impossible': False}\n",
      "user: 9          item: 3442       r_ui = None   est = 3.73   {'was_impossible': False}\n",
      "user: 9          item: 4065       r_ui = None   est = 3.73   {'was_impossible': False}\n",
      "user: 9          item: 4203       r_ui = None   est = 3.73   {'was_impossible': False}\n",
      "user: 9          item: 4262       r_ui = None   est = 3.73   {'was_impossible': False}\n",
      "user: 9          item: 4344       r_ui = None   est = 3.73   {'was_impossible': False}\n",
      "user: 9          item: 4466       r_ui = None   est = 3.73   {'was_impossible': False}\n",
      "user: 9          item: 4488       r_ui = None   est = 3.73   {'was_impossible': False}\n",
      "user: 9          item: 4572       r_ui = None   est = 3.73   {'was_impossible': False}\n",
      "user: 9          item: 5521       r_ui = None   est = 3.73   {'was_impossible': False}\n",
      "user: 9          item: 6051       r_ui = None   est = 3.73   {'was_impossible': False}\n",
      "user: 9          item: 6057       r_ui = None   est = 3.73   {'was_impossible': False}\n",
      "user: 9          item: 6484       r_ui = None   est = 3.73   {'was_impossible': False}\n",
      "user: 9          item: 7047       r_ui = None   est = 3.73   {'was_impossible': False}\n",
      "user: 9          item: 7056       r_ui = None   est = 3.73   {'was_impossible': False}\n",
      "user: 9          item: 7108       r_ui = None   est = 3.73   {'was_impossible': False}\n",
      "user: 9          item: 26159      r_ui = None   est = 3.73   {'was_impossible': False}\n",
      "user: 9          item: 26169      r_ui = None   est = 3.73   {'was_impossible': False}\n",
      "user: 9          item: 26322      r_ui = None   est = 3.73   {'was_impossible': False}\n",
      "user: 9          item: 26464      r_ui = None   est = 3.73   {'was_impossible': False}\n",
      "user: 9          item: 31101      r_ui = None   est = 3.73   {'was_impossible': False}\n",
      "user: 9          item: 33132      r_ui = None   est = 3.73   {'was_impossible': False}\n",
      "user: 9          item: 34534      r_ui = None   est = 3.73   {'was_impossible': False}\n",
      "user: 9          item: 36931      r_ui = None   est = 3.73   {'was_impossible': False}\n",
      "user: 9          item: 38095      r_ui = None   est = 3.73   {'was_impossible': False}\n",
      "user: 9          item: 49314      r_ui = None   est = 3.73   {'was_impossible': False}\n",
      "user: 9          item: 57843      r_ui = None   est = 3.73   {'was_impossible': False}\n",
      "user: 9          item: 73876      r_ui = None   est = 3.73   {'was_impossible': False}\n",
      "user: 9          item: 80124      r_ui = None   est = 3.73   {'was_impossible': False}\n",
      "user: 9          item: 81520      r_ui = None   est = 3.73   {'was_impossible': False}\n",
      "user: 9          item: 82744      r_ui = None   est = 3.73   {'was_impossible': False}\n",
      "user: 9          item: 85342      r_ui = None   est = 3.73   {'was_impossible': False}\n",
      "user: 9          item: 99005      r_ui = None   est = 3.73   {'was_impossible': False}\n",
      "user: 9          item: 99728      r_ui = None   est = 3.73   {'was_impossible': False}\n",
      "user: 9          item: 109569     r_ui = None   est = 3.73   {'was_impossible': False}\n",
      "user: 9          item: 110826     r_ui = None   est = 3.73   {'was_impossible': False}\n",
      "user: 9          item: 113416     r_ui = None   est = 3.73   {'was_impossible': False}\n",
      "user: 9          item: 119218     r_ui = None   est = 3.73   {'was_impossible': False}\n",
      "user: 9          item: 120783     r_ui = None   est = 3.73   {'was_impossible': False}\n",
      "user: 9          item: 144352     r_ui = None   est = 3.73   {'was_impossible': False}\n",
      "user: 9          item: 160527     r_ui = None   est = 3.73   {'was_impossible': False}\n",
      "user: 9          item: 169992     r_ui = None   est = 3.73   {'was_impossible': False}\n"
     ]
    }
   ],
   "source": [
    "result_uid9 = [(algo.predict('9', str(one), verbose = True))for one in action_movies['movieId']]"
   ]
  },
  {
   "cell_type": "code",
   "execution_count": 102,
   "id": "74bf8929",
   "metadata": {},
   "outputs": [
    {
     "data": {
      "text/plain": [
       "Prediction(uid='9', iid='875', r_ui=None, est=3.0733108530338487, details={'was_impossible': False})"
      ]
     },
     "execution_count": 102,
     "metadata": {},
     "output_type": "execute_result"
    }
   ],
   "source": [
    "result_uid9[5]"
   ]
  },
  {
   "cell_type": "code",
   "execution_count": 104,
   "id": "53a2857e",
   "metadata": {},
   "outputs": [
    {
     "data": {
      "text/plain": [
       "50"
      ]
     },
     "execution_count": 104,
     "metadata": {},
     "output_type": "execute_result"
    }
   ],
   "source": [
    "result_uid9_action_est = [pred.est for pred in result_uid9]\n",
    "len(result_uid9_action_est)"
   ]
  },
  {
   "cell_type": "code",
   "execution_count": 105,
   "id": "91142bea",
   "metadata": {},
   "outputs": [
    {
     "data": {
      "text/plain": [
       "([4.333152203924711,\n",
       "  3.2492953033791707,\n",
       "  3.7445376127131724,\n",
       "  4.422224361613445,\n",
       "  4.4828309943988085],\n",
       " [3.7308701382784073,\n",
       "  3.7308701382784073,\n",
       "  3.7308701382784073,\n",
       "  3.7308701382784073])"
      ]
     },
     "execution_count": 105,
     "metadata": {},
     "output_type": "execute_result"
    }
   ],
   "source": [
    "result_uid9_action_est[:5], result_uid9_action_est[46:]"
   ]
  },
  {
   "cell_type": "code",
   "execution_count": 108,
   "id": "04070ab4",
   "metadata": {},
   "outputs": [
    {
     "data": {
      "text/plain": [
       "4"
      ]
     },
     "execution_count": 108,
     "metadata": {},
     "output_type": "execute_result"
    }
   ],
   "source": [
    "import numpy as np\n",
    "np.argmax(result_uid9_action_est)"
   ]
  },
  {
   "cell_type": "code",
   "execution_count": 109,
   "id": "0968fcd7",
   "metadata": {},
   "outputs": [
    {
     "data": {
      "text/plain": [
       "4.4828309943988085"
      ]
     },
     "execution_count": 109,
     "metadata": {},
     "output_type": "execute_result"
    }
   ],
   "source": [
    "max_value = result_uid9_action_est[4]\n",
    "max_value"
   ]
  },
  {
   "cell_type": "code",
   "execution_count": 110,
   "id": "86fc9fda",
   "metadata": {},
   "outputs": [
    {
     "data": {
      "text/plain": [
       "[4.4828309943988085]"
      ]
     },
     "execution_count": 110,
     "metadata": {},
     "output_type": "execute_result"
    }
   ],
   "source": [
    "[one for one in result_uid9_action_est if one == 4.4828309943988085]"
   ]
  },
  {
   "cell_type": "code",
   "execution_count": 113,
   "id": "8c8ea20e",
   "metadata": {},
   "outputs": [
    {
     "data": {
      "text/plain": [
       "1"
      ]
     },
     "execution_count": 113,
     "metadata": {},
     "output_type": "execute_result"
    }
   ],
   "source": [
    "result_uid9_action_est.count(max_value)"
   ]
  },
  {
   "cell_type": "code",
   "execution_count": 114,
   "id": "cf5f7227",
   "metadata": {},
   "outputs": [
    {
     "data": {
      "text/plain": [
       "Prediction(uid='9', iid='694', r_ui=None, est=4.4828309943988085, details={'was_impossible': False})"
      ]
     },
     "execution_count": 114,
     "metadata": {},
     "output_type": "execute_result"
    }
   ],
   "source": [
    "result_uid9[4]"
   ]
  },
  {
   "cell_type": "code",
   "execution_count": 116,
   "id": "f1364b70",
   "metadata": {},
   "outputs": [
    {
     "data": {
      "text/html": [
       "<div>\n",
       "<style scoped>\n",
       "    .dataframe tbody tr th:only-of-type {\n",
       "        vertical-align: middle;\n",
       "    }\n",
       "\n",
       "    .dataframe tbody tr th {\n",
       "        vertical-align: top;\n",
       "    }\n",
       "\n",
       "    .dataframe thead th {\n",
       "        text-align: right;\n",
       "    }\n",
       "</style>\n",
       "<table border=\"1\" class=\"dataframe\">\n",
       "  <thead>\n",
       "    <tr style=\"text-align: right;\">\n",
       "      <th></th>\n",
       "      <th>movieId</th>\n",
       "      <th>title</th>\n",
       "      <th>genres</th>\n",
       "    </tr>\n",
       "  </thead>\n",
       "  <tbody>\n",
       "    <tr>\n",
       "      <th>568</th>\n",
       "      <td>694</td>\n",
       "      <td>Substitute, The (1996)</td>\n",
       "      <td>Action|Crime|Drama</td>\n",
       "    </tr>\n",
       "  </tbody>\n",
       "</table>\n",
       "</div>"
      ],
      "text/plain": [
       "     movieId                   title              genres\n",
       "568      694  Substitute, The (1996)  Action|Crime|Drama"
      ]
     },
     "execution_count": 116,
     "metadata": {},
     "output_type": "execute_result"
    }
   ],
   "source": [
    "movies[movies['movieId'] == 694]"
   ]
  },
  {
   "cell_type": "code",
   "execution_count": 119,
   "id": "bfe46c20",
   "metadata": {},
   "outputs": [],
   "source": [
    "## csv로 fit를 시킬 경우 \n",
    "## csv를 읽어서 fit 시킬 수 있는 형태의 객체로 만들어주어야 하고, DatasetAutoFolds \n",
    "##train, testset으로 split "
   ]
  },
  {
   "cell_type": "code",
   "execution_count": 120,
   "id": "7b889407",
   "metadata": {},
   "outputs": [],
   "source": [
    "reader = Reader(rating_scale = (0.5, 5.0)) ##0.5단위, 최대값은 5.0범위 사용 "
   ]
  },
  {
   "cell_type": "code",
   "execution_count": 121,
   "id": "60e442c2",
   "metadata": {},
   "outputs": [
    {
     "data": {
      "text/plain": [
       "<surprise.dataset.DatasetAutoFolds at 0x1e162734f10>"
      ]
     },
     "execution_count": 121,
     "metadata": {},
     "output_type": "execute_result"
    }
   ],
   "source": [
    "data = Dataset.load_from_df(ratings[['userId', 'movieId', 'rating']], reader)\n",
    "data"
   ]
  },
  {
   "cell_type": "code",
   "execution_count": 122,
   "id": "d3be8a94",
   "metadata": {},
   "outputs": [
    {
     "data": {
      "text/plain": [
       "<surprise.trainset.Trainset at 0x1e15cd987c0>"
      ]
     },
     "execution_count": 122,
     "metadata": {},
     "output_type": "execute_result"
    }
   ],
   "source": [
    "trainset, testset = train_test_split(data, test_size = 0.25, random_state = 0)\n",
    "trainset"
   ]
  },
  {
   "cell_type": "code",
   "execution_count": 123,
   "id": "181d10fd",
   "metadata": {},
   "outputs": [
    {
     "data": {
      "text/plain": [
       "(63, 2000, 3.0)"
      ]
     },
     "execution_count": 123,
     "metadata": {},
     "output_type": "execute_result"
    }
   ],
   "source": [
    "testset[0]"
   ]
  },
  {
   "cell_type": "code",
   "execution_count": 124,
   "id": "424ab6d7",
   "metadata": {},
   "outputs": [
    {
     "data": {
      "text/plain": [
       "<surprise.prediction_algorithms.matrix_factorization.SVD at 0x1e15c187e20>"
      ]
     },
     "execution_count": 124,
     "metadata": {},
     "output_type": "execute_result"
    }
   ],
   "source": [
    "algo.fit(trainset)"
   ]
  },
  {
   "cell_type": "code",
   "execution_count": 127,
   "id": "2b1f86c7",
   "metadata": {},
   "outputs": [
    {
     "data": {
      "text/plain": [
       "[Prediction(uid=63, iid=2000, r_ui=3.0, est=3.744932417073945, details={'was_impossible': False}),\n",
       " Prediction(uid=31, iid=788, r_ui=2.0, est=3.3020869607561303, details={'was_impossible': False}),\n",
       " Prediction(uid=159, iid=6373, r_ui=4.0, est=2.6469971905745258, details={'was_impossible': False})]"
      ]
     },
     "execution_count": 127,
     "metadata": {},
     "output_type": "execute_result"
    }
   ],
   "source": [
    "predictions3 = algo.test(testset)\n",
    "predictions3[:3]"
   ]
  },
  {
   "cell_type": "code",
   "execution_count": 128,
   "id": "29ebbf98",
   "metadata": {},
   "outputs": [
    {
     "name": "stdout",
     "output_type": "stream",
     "text": [
      "RMSE: 0.8704\n"
     ]
    },
    {
     "data": {
      "text/plain": [
       "0.870423663516795"
      ]
     },
     "execution_count": 128,
     "metadata": {},
     "output_type": "execute_result"
    }
   ],
   "source": [
    "accuracy.rmse(predictions3)"
   ]
  },
  {
   "cell_type": "code",
   "execution_count": null,
   "id": "81ab10ad",
   "metadata": {},
   "outputs": [],
   "source": []
  }
 ],
 "metadata": {
  "kernelspec": {
   "display_name": "Python 3 (ipykernel)",
   "language": "python",
   "name": "python3"
  },
  "language_info": {
   "codemirror_mode": {
    "name": "ipython",
    "version": 3
   },
   "file_extension": ".py",
   "mimetype": "text/x-python",
   "name": "python",
   "nbconvert_exporter": "python",
   "pygments_lexer": "ipython3",
   "version": "3.9.7"
  }
 },
 "nbformat": 4,
 "nbformat_minor": 5
}
