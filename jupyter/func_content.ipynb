{
 "cells": [
  {
   "cell_type": "code",
   "execution_count": 162,
   "id": "3d04fb31",
   "metadata": {},
   "outputs": [
    {
     "name": "stdout",
     "output_type": "stream",
     "text": [
      "10 20 30\n"
     ]
    }
   ],
   "source": [
    "def call1(a,b,c):\n",
    "    print(a,b,c)\n",
    "    \n",
    "call1(10,20,30) #위치 매개변수 "
   ]
  },
  {
   "cell_type": "code",
   "execution_count": 163,
   "id": "900403da",
   "metadata": {},
   "outputs": [
    {
     "name": "stdout",
     "output_type": "stream",
     "text": [
      "10 20 30\n"
     ]
    }
   ],
   "source": [
    "def call2(a,b,c=50):\n",
    "    print(a,b,c)\n",
    "call2(10,20,30)"
   ]
  },
  {
   "cell_type": "code",
   "execution_count": 164,
   "id": "119b4f2e",
   "metadata": {},
   "outputs": [
    {
     "name": "stdout",
     "output_type": "stream",
     "text": [
      "10 20 50\n"
     ]
    }
   ],
   "source": [
    "call2(10,20) #default 기본 매개변수 "
   ]
  },
  {
   "cell_type": "code",
   "execution_count": 165,
   "id": "965469e2",
   "metadata": {},
   "outputs": [],
   "source": [
    "#default 매개변수는 반드시 뒤에다 위치시켜야 한다. \n",
    "#def call3(a=10,b,c) ##오류!\n",
    "def call3(a, b = 50, c = 100):\n",
    "    print(a,b,c)"
   ]
  },
  {
   "cell_type": "code",
   "execution_count": 166,
   "id": "74e18465",
   "metadata": {},
   "outputs": [
    {
     "name": "stdout",
     "output_type": "stream",
     "text": [
      "10 50 100\n"
     ]
    }
   ],
   "source": [
    "call3(10)"
   ]
  },
  {
   "cell_type": "code",
   "execution_count": 167,
   "id": "12a32ddc",
   "metadata": {},
   "outputs": [],
   "source": [
    "def call4(a,b,c):\n",
    "    print(a,b,c)"
   ]
  },
  {
   "cell_type": "code",
   "execution_count": 168,
   "id": "a3c66144",
   "metadata": {},
   "outputs": [
    {
     "name": "stdout",
     "output_type": "stream",
     "text": [
      "100 333 200\n"
     ]
    }
   ],
   "source": [
    "call4(a=100, c =200, b = 333) #키워드 파라미터, 순서 상관 x "
   ]
  },
  {
   "cell_type": "code",
   "execution_count": 169,
   "id": "70d60eca",
   "metadata": {},
   "outputs": [],
   "source": [
    "##파이썬은 오버라이딩은 지원o, 오버로딩은 지원x \n",
    "##오버라이딩(재정의): 상속했을 떄 \n",
    "#자식 클래스의 함수를 재정의하여 기능을 변경 \n",
    "#오버로딩(다형성): 하나의 이름으로 다양한 형태를 구현할 수 있는 기능 \n",
    "#자바는 하나의 함수 이름으로 다양한 입력값의 형태를 정의할 수 있다 \n",
    "#자바는 오버로딩 가능 \n",
    "#public void add(int x, int y)\n",
    "#public void add(int x)\n",
    "#파이썬은 오버로딩 불가능 \n",
    "#입력값으로 튜플과 딕셔너리를 여러 개 넣을 수 있기 때문에 \n",
    "#파이썬의 함수 입력값은 0~무한대의 개수를 가지게 정의할 수 있다. \n",
    "#가변 매개변수라고 부른다. "
   ]
  },
  {
   "cell_type": "code",
   "execution_count": 170,
   "id": "a25c2587",
   "metadata": {},
   "outputs": [],
   "source": [
    "def call5(*a,b):\n",
    "    print(a)\n",
    "    print(b)\n"
   ]
  },
  {
   "cell_type": "code",
   "execution_count": 171,
   "id": "4ff4ea6b",
   "metadata": {},
   "outputs": [],
   "source": [
    "def call6(*a):\n",
    "    print(a)"
   ]
  },
  {
   "cell_type": "code",
   "execution_count": 172,
   "id": "75c41335",
   "metadata": {},
   "outputs": [],
   "source": [
    "#python.exe프로그램이 한 줄을 읽어서 실행을 바로 해준다 \n",
    "#번역기 "
   ]
  },
  {
   "cell_type": "code",
   "execution_count": 173,
   "id": "b0a32159",
   "metadata": {},
   "outputs": [
    {
     "name": "stdout",
     "output_type": "stream",
     "text": [
      "((1, 2, 3),)\n",
      "5\n"
     ]
    }
   ],
   "source": [
    "call5((1,2,3),b = 5)#위치가변매개변수는 단독으로 많이 쓰임 \n",
    "#위치 가변 매개변수를 쓸 때는 다른 매개변수는 \n",
    "#키워드를 파라미터명을 반드시 써주어야 \n",
    "#헷갈리지 않는다. "
   ]
  },
  {
   "cell_type": "code",
   "execution_count": 174,
   "id": "eb2dd992",
   "metadata": {},
   "outputs": [
    {
     "name": "stdout",
     "output_type": "stream",
     "text": [
      "(1, 2, 3, 4, 5)\n"
     ]
    }
   ],
   "source": [
    "call6(1,2,3,4,5)#shift+tab을 누르면 함수의 원형이 나온다. \n",
    "                #a라는 변수에 다 들어가 있구나라는 것을 알 수 있다. \n",
    "                #파이썬은 가변적이기 떄문에 반드시 확인해봐야 한다. \n",
    "                #파이썬에서는 파라미터의 개수가 정확히 몇개인지 확인하려면 \n",
    "                #함수의 정의를 보고 확인해야한다.(shitf+tab)"
   ]
  },
  {
   "cell_type": "code",
   "execution_count": 175,
   "id": "e3d8ce49",
   "metadata": {},
   "outputs": [
    {
     "name": "stdout",
     "output_type": "stream",
     "text": [
      "((1, 2, 3, 4, 5), (6, 7, 8))\n"
     ]
    }
   ],
   "source": [
    "call6((1,2,3,4,5),(6,7,8))#위치 가변 매개변수는 튜플의 튜플도 가능 "
   ]
  },
  {
   "cell_type": "code",
   "execution_count": 176,
   "id": "beda6017",
   "metadata": {},
   "outputs": [
    {
     "name": "stdout",
     "output_type": "stream",
     "text": [
      "((1, 2, 3, 4, 5), {'name': 'hong'})\n"
     ]
    }
   ],
   "source": [
    "call6((1,2,3,4,5),{'name':'hong'})\n",
    "#위치 가변매개변수는 혼합된 형태도 가능 \n",
    "#무조건 입력값을 튜플로 묶음. "
   ]
  },
  {
   "cell_type": "code",
   "execution_count": 177,
   "id": "360e4821",
   "metadata": {},
   "outputs": [],
   "source": [
    "def call7(**kwargs): #키워드 가변 매개변수 \n",
    "    print(kwargs)"
   ]
  },
  {
   "cell_type": "code",
   "execution_count": 178,
   "id": "1a0ba90d",
   "metadata": {},
   "outputs": [
    {
     "name": "stdout",
     "output_type": "stream",
     "text": [
      "{'name': 'hong', 'age': 100}\n"
     ]
    }
   ],
   "source": [
    "call7(name='hong',age=100)"
   ]
  },
  {
   "cell_type": "code",
   "execution_count": 179,
   "id": "fd798254",
   "metadata": {},
   "outputs": [
    {
     "name": "stdout",
     "output_type": "stream",
     "text": [
      "{'name': 'hong'}\n"
     ]
    }
   ],
   "source": [
    "call7(name='hong')"
   ]
  },
  {
   "cell_type": "code",
   "execution_count": 180,
   "id": "73e717d7",
   "metadata": {},
   "outputs": [
    {
     "name": "stdout",
     "output_type": "stream",
     "text": [
      "{'name': 'hong', 'age': 100, 'tel': '010'}\n"
     ]
    }
   ],
   "source": [
    "call7(name = 'hong', age = 100, tel = '010')"
   ]
  },
  {
   "cell_type": "code",
   "execution_count": 181,
   "id": "174565c2",
   "metadata": {},
   "outputs": [],
   "source": [
    "def call8(*tags, title, content, **kwargs):\n",
    "    print('tag>>', tags)\n",
    "    print('title>>', title)\n",
    "    print('content>>', content)\n",
    "    print('kwargs>>', kwargs)\n",
    "    "
   ]
  },
  {
   "cell_type": "code",
   "execution_count": 182,
   "id": "09c74b3d",
   "metadata": {},
   "outputs": [],
   "source": [
    "##가변변수와 ㅎ마께 쓰는 일반변수는 키워드변수로 사용해야한다.\n",
    "#변수명과 함께 써주어야 한다."
   ]
  },
  {
   "cell_type": "code",
   "execution_count": 183,
   "id": "ee72af84",
   "metadata": {},
   "outputs": [
    {
     "name": "stdout",
     "output_type": "stream",
     "text": [
      "tag>> ('바다', '휴양지', '쉼')\n",
      "title>> 제주도여행\n",
      "content>> 해수욕장으로 고고\n",
      "kwargs>> {'location': '제주도 북동부', 'move': '날아서'}\n"
     ]
    }
   ],
   "source": [
    "call8('바다','휴양지','쉼',\n",
    "      title = '제주도여행',\n",
    "      content = '해수욕장으로 고고', \n",
    "      location = '제주도 북동부', \n",
    "      move = '날아서'\n",
    "     )"
   ]
  },
  {
   "cell_type": "code",
   "execution_count": 184,
   "id": "62ded1d5",
   "metadata": {},
   "outputs": [],
   "source": [
    "##람다 함수 "
   ]
  },
  {
   "cell_type": "code",
   "execution_count": 185,
   "id": "0dfd42f7",
   "metadata": {},
   "outputs": [],
   "source": [
    "def call9(a): \n",
    "    b = a-1\n",
    "    return b "
   ]
  },
  {
   "cell_type": "code",
   "execution_count": 186,
   "id": "b52527c2",
   "metadata": {},
   "outputs": [],
   "source": [
    "#일반 함수의 4대 조건 \n",
    "#함수이름(입력값): call9(a)\n",
    "#함수 처리 내용(a-1)\n",
    "#함수 처리 결과 리턴값(b)\n",
    "\n",
    "#람다 함수의 3대 조건 \n",
    "#(입력값): \n",
    "#함수 처리내용\n",
    "#함수 처리 결과 리턴값\n"
   ]
  },
  {
   "cell_type": "code",
   "execution_count": 187,
   "id": "9f4c47c7",
   "metadata": {},
   "outputs": [],
   "source": [
    "#[list comprehension] =>익명함수의 일종 "
   ]
  },
  {
   "cell_type": "code",
   "execution_count": 188,
   "id": "def41621",
   "metadata": {},
   "outputs": [
    {
     "data": {
      "text/plain": [
       "<function __main__.<lambda>(a)>"
      ]
     },
     "execution_count": 188,
     "metadata": {},
     "output_type": "execute_result"
    }
   ],
   "source": [
    "#lambda 익명함수의 일종 \n",
    "lambda a : a-1 "
   ]
  },
  {
   "cell_type": "code",
   "execution_count": 189,
   "id": "742f94e9",
   "metadata": {},
   "outputs": [
    {
     "data": {
      "text/plain": [
       "9"
      ]
     },
     "execution_count": 189,
     "metadata": {},
     "output_type": "execute_result"
    }
   ],
   "source": [
    "(lambda a : a-1)(10)"
   ]
  },
  {
   "cell_type": "code",
   "execution_count": 190,
   "id": "dc92cecb",
   "metadata": {},
   "outputs": [],
   "source": [
    "a_fun = lambda a: a-1 "
   ]
  },
  {
   "cell_type": "code",
   "execution_count": 191,
   "id": "d72660fc",
   "metadata": {},
   "outputs": [
    {
     "data": {
      "text/plain": [
       "9"
      ]
     },
     "execution_count": 191,
     "metadata": {},
     "output_type": "execute_result"
    }
   ],
   "source": [
    "a_fun(10) #보통은 지역변수로만 쓰고 버린다. \n",
    "            #메모리를 차지하지 않는다. "
   ]
  },
  {
   "cell_type": "code",
   "execution_count": 192,
   "id": "e1045e49",
   "metadata": {},
   "outputs": [
    {
     "data": {
      "text/plain": [
       "<function __main__.<lambda>(a)>"
      ]
     },
     "execution_count": 192,
     "metadata": {},
     "output_type": "execute_result"
    }
   ],
   "source": [
    "lambda a : True if a > 0 else False"
   ]
  },
  {
   "cell_type": "code",
   "execution_count": 193,
   "id": "2e877ec5",
   "metadata": {},
   "outputs": [
    {
     "data": {
      "text/plain": [
       "True"
      ]
     },
     "execution_count": 193,
     "metadata": {},
     "output_type": "execute_result"
    }
   ],
   "source": [
    "(lambda a : True if a > 0 else False)(10) #else도 함께 써주어야 함. "
   ]
  },
  {
   "cell_type": "code",
   "execution_count": 194,
   "id": "1c82e144",
   "metadata": {},
   "outputs": [],
   "source": [
    "#입력값이 양수이면 1, 음수이면 0 "
   ]
  },
  {
   "cell_type": "code",
   "execution_count": 195,
   "id": "e37f8e9c",
   "metadata": {},
   "outputs": [
    {
     "data": {
      "text/plain": [
       "<function __main__.<lambda>(a)>"
      ]
     },
     "execution_count": 195,
     "metadata": {},
     "output_type": "execute_result"
    }
   ],
   "source": [
    "lambda a : 1 if a>0 else 0"
   ]
  },
  {
   "cell_type": "code",
   "execution_count": 196,
   "id": "4bed1ea9",
   "metadata": {},
   "outputs": [
    {
     "data": {
      "text/plain": [
       "1"
      ]
     },
     "execution_count": 196,
     "metadata": {},
     "output_type": "execute_result"
    }
   ],
   "source": [
    "(lambda a : 1 if a>0 else 0)(10)"
   ]
  },
  {
   "cell_type": "code",
   "execution_count": 197,
   "id": "a1b23383",
   "metadata": {},
   "outputs": [],
   "source": [
    "fun_a= lambda a : 1 if a>0 else 0"
   ]
  },
  {
   "cell_type": "code",
   "execution_count": 198,
   "id": "56259e08",
   "metadata": {},
   "outputs": [
    {
     "data": {
      "text/plain": [
       "1"
      ]
     },
     "execution_count": 198,
     "metadata": {},
     "output_type": "execute_result"
    }
   ],
   "source": [
    "(fun_a)(10)"
   ]
  },
  {
   "cell_type": "code",
   "execution_count": 199,
   "id": "244c09ef",
   "metadata": {},
   "outputs": [],
   "source": [
    "ab_fun = lambda a,b : a+ b"
   ]
  },
  {
   "cell_type": "code",
   "execution_count": 200,
   "id": "7343ad9f",
   "metadata": {},
   "outputs": [
    {
     "data": {
      "text/plain": [
       "30"
      ]
     },
     "execution_count": 200,
     "metadata": {},
     "output_type": "execute_result"
    }
   ],
   "source": [
    "ab_fun(10,20)"
   ]
  },
  {
   "cell_type": "code",
   "execution_count": 201,
   "id": "f5446f1d",
   "metadata": {},
   "outputs": [
    {
     "data": {
      "text/plain": [
       "[1, 2, 3, 4, 5, 6]"
      ]
     },
     "execution_count": 201,
     "metadata": {},
     "output_type": "execute_result"
    }
   ],
   "source": [
    "a_list = [1,2,3]\n",
    "b_list = [4,5,6]\n",
    "ab_fun(a_list,b_list)"
   ]
  },
  {
   "cell_type": "code",
   "execution_count": 202,
   "id": "ace38c16",
   "metadata": {},
   "outputs": [],
   "source": [
    "one_fun = lambda x : 1 if x>0 else 0 "
   ]
  },
  {
   "cell_type": "code",
   "execution_count": 203,
   "id": "aa624499",
   "metadata": {},
   "outputs": [
    {
     "data": {
      "text/plain": [
       "1"
      ]
     },
     "execution_count": 203,
     "metadata": {},
     "output_type": "execute_result"
    }
   ],
   "source": [
    "one_fun(100)"
   ]
  },
  {
   "cell_type": "code",
   "execution_count": 204,
   "id": "73677453",
   "metadata": {},
   "outputs": [],
   "source": [
    "one_fun2 = lambda x : '양수' if x>0 else '음수'"
   ]
  },
  {
   "cell_type": "code",
   "execution_count": 205,
   "id": "6e2863a6",
   "metadata": {},
   "outputs": [
    {
     "data": {
      "text/plain": [
       "'양수'"
      ]
     },
     "execution_count": 205,
     "metadata": {},
     "output_type": "execute_result"
    }
   ],
   "source": [
    "one_fun2(100)"
   ]
  },
  {
   "cell_type": "code",
   "execution_count": 206,
   "id": "10b39c61",
   "metadata": {},
   "outputs": [],
   "source": [
    "def one_fun(x):\n",
    "    if x>0:\n",
    "        return 1\n",
    "    else:\n",
    "        return 0"
   ]
  },
  {
   "cell_type": "code",
   "execution_count": 207,
   "id": "8a5a577f",
   "metadata": {},
   "outputs": [
    {
     "name": "stdout",
     "output_type": "stream",
     "text": [
      "양수\n"
     ]
    }
   ],
   "source": [
    "def one_func2(x):\n",
    "    if(x>0):\n",
    "        print('양수')\n",
    "    else:\n",
    "        print('음수')\n",
    "one_func2(100)"
   ]
  },
  {
   "cell_type": "code",
   "execution_count": 208,
   "id": "1d29630c",
   "metadata": {},
   "outputs": [],
   "source": [
    "ab_fun = lambda a, b : a+b"
   ]
  },
  {
   "cell_type": "code",
   "execution_count": 209,
   "id": "b49e54d5",
   "metadata": {},
   "outputs": [],
   "source": [
    "#def ab_fun(a,b):\n",
    "#    return a+b  "
   ]
  },
  {
   "cell_type": "code",
   "execution_count": 210,
   "id": "1ca1b97d",
   "metadata": {},
   "outputs": [
    {
     "data": {
      "text/plain": [
       "30"
      ]
     },
     "execution_count": 210,
     "metadata": {},
     "output_type": "execute_result"
    }
   ],
   "source": [
    "result2 = ab_fun(10,20)\n",
    "result2"
   ]
  },
  {
   "cell_type": "code",
   "execution_count": 211,
   "id": "4996d1b7",
   "metadata": {},
   "outputs": [
    {
     "data": {
      "text/plain": [
       "[1, 2, 3, 4, 5, 6]"
      ]
     },
     "execution_count": 211,
     "metadata": {},
     "output_type": "execute_result"
    }
   ],
   "source": [
    "a_list = [1,2,3]\n",
    "b_list = [4,5,6]\n",
    "ab_fun(a_list, b_list)"
   ]
  },
  {
   "cell_type": "code",
   "execution_count": 212,
   "id": "b4e006b0",
   "metadata": {},
   "outputs": [],
   "source": [
    "#데이터분석에 있어서 핵심은 df(데이터프레임)\n",
    "#람다를 df를 다룰 때 어떻게 사용해야 하는가?  "
   ]
  },
  {
   "cell_type": "code",
   "execution_count": 213,
   "id": "fa3b1002",
   "metadata": {},
   "outputs": [],
   "source": [
    "#람다함수를 사용하는 이유 \n",
    "#1. 메모리에 함수의 원형이 저장되지 않음 \n",
    "#2. 일반 함수보다 쉽고 간단 "
   ]
  },
  {
   "cell_type": "code",
   "execution_count": 214,
   "id": "a6f9c47f",
   "metadata": {},
   "outputs": [
    {
     "data": {
      "text/plain": [
       "<function __main__.<lambda>(x)>"
      ]
     },
     "execution_count": 214,
     "metadata": {},
     "output_type": "execute_result"
    }
   ],
   "source": [
    "lambda x : x+1 #lambda 입력파라메터리스트 : 처리내용(반환)"
   ]
  },
  {
   "cell_type": "code",
   "execution_count": 215,
   "id": "bc1b1944",
   "metadata": {},
   "outputs": [
    {
     "data": {
      "text/plain": [
       "['양수', '양수', '음수', '음수', '양수']"
      ]
     },
     "execution_count": 215,
     "metadata": {},
     "output_type": "execute_result"
    }
   ],
   "source": [
    "list_data2 = [10,20,-30,-40,50]\n",
    "positive_negative = lambda x: '양수' if x>0 else '음수'\n",
    "list(map(positive_negative, list_data2))"
   ]
  },
  {
   "cell_type": "code",
   "execution_count": 216,
   "id": "93b659bc",
   "metadata": {},
   "outputs": [
    {
     "data": {
      "text/plain": [
       "['양수', '양수', '음수', '음수', '양수']"
      ]
     },
     "execution_count": 216,
     "metadata": {},
     "output_type": "execute_result"
    }
   ],
   "source": [
    "result_pn = list(map(positive_negative, list_data2))\n",
    "result_pn"
   ]
  },
  {
   "cell_type": "code",
   "execution_count": 217,
   "id": "d0b0f87d",
   "metadata": {},
   "outputs": [],
   "source": [
    "name_lambda = lambda x:1 if '홍' in x else 0 #홍이 홍길동에 있으면 1 없으면 0 "
   ]
  },
  {
   "cell_type": "code",
   "execution_count": 218,
   "id": "b673ec99",
   "metadata": {},
   "outputs": [
    {
     "data": {
      "text/plain": [
       "[1, 0, 1, 0, 0]"
      ]
     },
     "execution_count": 218,
     "metadata": {},
     "output_type": "execute_result"
    }
   ],
   "source": [
    "name_result = list(map(name_lambda, df1['name']))\n",
    "name_result"
   ]
  },
  {
   "cell_type": "code",
   "execution_count": 219,
   "id": "501313b8",
   "metadata": {},
   "outputs": [
    {
     "data": {
      "text/plain": [
       "True"
      ]
     },
     "execution_count": 219,
     "metadata": {},
     "output_type": "execute_result"
    }
   ],
   "source": [
    "'홍' in '홍길동' #오른쪽에는 많은 것이 옴 #in 문자열, in의 결과는 Bool "
   ]
  },
  {
   "cell_type": "code",
   "execution_count": 220,
   "id": "223cdd31",
   "metadata": {},
   "outputs": [
    {
     "data": {
      "text/plain": [
       "True"
      ]
     },
     "execution_count": 220,
     "metadata": {},
     "output_type": "execute_result"
    }
   ],
   "source": [
    "1 in [1,2,3] #in 리스트, 리스트내에 1을 포함하는지 여부 확인 "
   ]
  },
  {
   "cell_type": "code",
   "execution_count": 221,
   "id": "62ba4480",
   "metadata": {},
   "outputs": [
    {
     "data": {
      "text/plain": [
       "False"
      ]
     },
     "execution_count": 221,
     "metadata": {},
     "output_type": "execute_result"
    }
   ],
   "source": [
    "1 not in [1,2,3]"
   ]
  },
  {
   "cell_type": "code",
   "execution_count": 222,
   "id": "73543dae",
   "metadata": {},
   "outputs": [],
   "source": [
    "###참석 확인하려고 하는 이름이 '홍길동'\n",
    "###참석자리스트가 '김길동', '박길동', '송길동'\n",
    "###포함여부 확인용 ==> in , not in "
   ]
  },
  {
   "cell_type": "code",
   "execution_count": 223,
   "id": "20b76671",
   "metadata": {},
   "outputs": [
    {
     "data": {
      "text/plain": [
       "False"
      ]
     },
     "execution_count": 223,
     "metadata": {},
     "output_type": "execute_result"
    }
   ],
   "source": [
    "'홍길동' in ['김길동','박길동','송길동'] #in은 포함여부를 나타내는 것. "
   ]
  },
  {
   "cell_type": "code",
   "execution_count": 224,
   "id": "9a641b63",
   "metadata": {},
   "outputs": [
    {
     "name": "stdout",
     "output_type": "stream",
     "text": [
      "확인하고 싶은 이름을 입력하세요.홍\n"
     ]
    }
   ],
   "source": [
    "name_list = ['김길동','박길동','송길동']\n",
    "name = input('확인하고 싶은 이름을 입력하세요.')"
   ]
  },
  {
   "cell_type": "code",
   "execution_count": 225,
   "id": "b03b9fe5",
   "metadata": {},
   "outputs": [
    {
     "name": "stdout",
     "output_type": "stream",
     "text": [
      "참석자 명단에 없습니다 \n"
     ]
    }
   ],
   "source": [
    "if name in name_list: \n",
    "    print('참석자 명단에 있습니다.')\n",
    "else:\n",
    "    print('참석자 명단에 없습니다 ')"
   ]
  },
  {
   "cell_type": "code",
   "execution_count": 226,
   "id": "f6add708",
   "metadata": {},
   "outputs": [],
   "source": [
    "#일반 함수와 람다함수로 이름을 넣어서 판단하는 처리를 구현해보세요. "
   ]
  },
  {
   "cell_type": "code",
   "execution_count": 227,
   "id": "6fdbeafd",
   "metadata": {},
   "outputs": [
    {
     "name": "stdout",
     "output_type": "stream",
     "text": [
      "참석자 명단에 없습니다 \n"
     ]
    }
   ],
   "source": [
    "def name_test(x): \n",
    "    if x in name_list: \n",
    "        print('참석자 명단에 있습니다.')\n",
    "    else:\n",
    "        print('참석자 명단에 없습니다 ')\n",
    "name_test('홍')"
   ]
  },
  {
   "cell_type": "code",
   "execution_count": 228,
   "id": "fec19d07",
   "metadata": {},
   "outputs": [
    {
     "data": {
      "text/plain": [
       "0"
      ]
     },
     "execution_count": 228,
     "metadata": {},
     "output_type": "execute_result"
    }
   ],
   "source": [
    "'홍길동'.find('홍')"
   ]
  },
  {
   "cell_type": "code",
   "execution_count": 229,
   "id": "d36ed273",
   "metadata": {},
   "outputs": [
    {
     "data": {
      "text/plain": [
       "-1"
      ]
     },
     "execution_count": 229,
     "metadata": {},
     "output_type": "execute_result"
    }
   ],
   "source": [
    "'홍길동'.find('정')"
   ]
  },
  {
   "cell_type": "code",
   "execution_count": 230,
   "id": "d5f06d83",
   "metadata": {},
   "outputs": [
    {
     "data": {
      "text/plain": [
       "<function __main__.<lambda>(x)>"
      ]
     },
     "execution_count": 230,
     "metadata": {},
     "output_type": "execute_result"
    }
   ],
   "source": [
    "lambda x : x + 1"
   ]
  },
  {
   "cell_type": "code",
   "execution_count": 231,
   "id": "b4d79c2b",
   "metadata": {},
   "outputs": [
    {
     "data": {
      "text/plain": [
       "11"
      ]
     },
     "execution_count": 231,
     "metadata": {},
     "output_type": "execute_result"
    }
   ],
   "source": [
    "(lambda x: x+1)(10)"
   ]
  },
  {
   "cell_type": "code",
   "execution_count": 232,
   "id": "38d86028",
   "metadata": {},
   "outputs": [],
   "source": [
    "add = lambda x : x+ 1"
   ]
  },
  {
   "cell_type": "code",
   "execution_count": 233,
   "id": "2cb36430",
   "metadata": {},
   "outputs": [
    {
     "data": {
      "text/plain": [
       "(101, 112)"
      ]
     },
     "execution_count": 233,
     "metadata": {},
     "output_type": "execute_result"
    }
   ],
   "source": [
    "add(100), add(111)"
   ]
  },
  {
   "cell_type": "code",
   "execution_count": 234,
   "id": "d60e1321",
   "metadata": {},
   "outputs": [],
   "source": [
    "list_data = [1,2,3]"
   ]
  },
  {
   "cell_type": "code",
   "execution_count": 235,
   "id": "94ac9ff5",
   "metadata": {},
   "outputs": [
    {
     "data": {
      "text/plain": [
       "[2, 3, 4]"
      ]
     },
     "execution_count": 235,
     "metadata": {},
     "output_type": "execute_result"
    }
   ],
   "source": [
    "list(map(add, list_data)) #map이라는 함수는 ampping이라는 의미 list_data를 하나하나씩 꺼내서 \n",
    "                          #add라는 함수를 적용시켜서 mapping을 시킨다는 의미 .\n",
    "                          #ampping을 시켜줬기 때문에 결과가 list지만 map함수는 map객체로 만듦.\n",
    "                          #list가 아니고 객체이다 보니 쓸 수 없는 형태로 나와서 캐스팅해줘야함. \n",
    "                          #map함수는 많은 양의 데이터(ex)리스트)를 하나씩 꺼내서 함수를 map시켜 실행시켜준다. \n",
    "                          #map함수의 결과는 무조건 map \n",
    "                          #map함수의 결과를 사용하고자 하는 경우, list로 캐스팅 시켜준다. "
   ]
  },
  {
   "cell_type": "code",
   "execution_count": 236,
   "id": "f04dd3b8",
   "metadata": {},
   "outputs": [],
   "source": [
    "import numpy as np \n",
    "import pandas as pd "
   ]
  },
  {
   "cell_type": "code",
   "execution_count": 237,
   "id": "773c4170",
   "metadata": {},
   "outputs": [
    {
     "data": {
      "text/html": [
       "<div>\n",
       "<style scoped>\n",
       "    .dataframe tbody tr th:only-of-type {\n",
       "        vertical-align: middle;\n",
       "    }\n",
       "\n",
       "    .dataframe tbody tr th {\n",
       "        vertical-align: top;\n",
       "    }\n",
       "\n",
       "    .dataframe thead th {\n",
       "        text-align: right;\n",
       "    }\n",
       "</style>\n",
       "<table border=\"1\" class=\"dataframe\">\n",
       "  <thead>\n",
       "    <tr style=\"text-align: right;\">\n",
       "      <th></th>\n",
       "      <th>name</th>\n",
       "      <th>age</th>\n",
       "    </tr>\n",
       "  </thead>\n",
       "  <tbody>\n",
       "    <tr>\n",
       "      <th>0</th>\n",
       "      <td>홍길동</td>\n",
       "      <td>100</td>\n",
       "    </tr>\n",
       "    <tr>\n",
       "      <th>1</th>\n",
       "      <td>김길동</td>\n",
       "      <td>200</td>\n",
       "    </tr>\n",
       "    <tr>\n",
       "      <th>2</th>\n",
       "      <td>홍순신</td>\n",
       "      <td>300</td>\n",
       "    </tr>\n",
       "    <tr>\n",
       "      <th>3</th>\n",
       "      <td>정길동</td>\n",
       "      <td>150</td>\n",
       "    </tr>\n",
       "    <tr>\n",
       "      <th>4</th>\n",
       "      <td>정사임</td>\n",
       "      <td>250</td>\n",
       "    </tr>\n",
       "  </tbody>\n",
       "</table>\n",
       "</div>"
      ],
      "text/plain": [
       "  name  age\n",
       "0  홍길동  100\n",
       "1  김길동  200\n",
       "2  홍순신  300\n",
       "3  정길동  150\n",
       "4  정사임  250"
      ]
     },
     "execution_count": 237,
     "metadata": {},
     "output_type": "execute_result"
    }
   ],
   "source": [
    "df1=pd.DataFrame({\n",
    "    'name': ['홍길동', '김길동', '홍순신', '정길동', '정사임'], \n",
    "    'age' : [100,200,300,150,250]\n",
    "})\n",
    "df1\n"
   ]
  },
  {
   "cell_type": "code",
   "execution_count": 238,
   "id": "74c03559",
   "metadata": {},
   "outputs": [],
   "source": [
    "df1['result'] = result_pn "
   ]
  },
  {
   "cell_type": "code",
   "execution_count": 239,
   "id": "77a4fddb",
   "metadata": {},
   "outputs": [
    {
     "data": {
      "text/html": [
       "<div>\n",
       "<style scoped>\n",
       "    .dataframe tbody tr th:only-of-type {\n",
       "        vertical-align: middle;\n",
       "    }\n",
       "\n",
       "    .dataframe tbody tr th {\n",
       "        vertical-align: top;\n",
       "    }\n",
       "\n",
       "    .dataframe thead th {\n",
       "        text-align: right;\n",
       "    }\n",
       "</style>\n",
       "<table border=\"1\" class=\"dataframe\">\n",
       "  <thead>\n",
       "    <tr style=\"text-align: right;\">\n",
       "      <th></th>\n",
       "      <th>name</th>\n",
       "      <th>age</th>\n",
       "      <th>result</th>\n",
       "    </tr>\n",
       "  </thead>\n",
       "  <tbody>\n",
       "    <tr>\n",
       "      <th>0</th>\n",
       "      <td>홍길동</td>\n",
       "      <td>100</td>\n",
       "      <td>양수</td>\n",
       "    </tr>\n",
       "    <tr>\n",
       "      <th>1</th>\n",
       "      <td>김길동</td>\n",
       "      <td>200</td>\n",
       "      <td>양수</td>\n",
       "    </tr>\n",
       "    <tr>\n",
       "      <th>2</th>\n",
       "      <td>홍순신</td>\n",
       "      <td>300</td>\n",
       "      <td>음수</td>\n",
       "    </tr>\n",
       "    <tr>\n",
       "      <th>3</th>\n",
       "      <td>정길동</td>\n",
       "      <td>150</td>\n",
       "      <td>음수</td>\n",
       "    </tr>\n",
       "    <tr>\n",
       "      <th>4</th>\n",
       "      <td>정사임</td>\n",
       "      <td>250</td>\n",
       "      <td>양수</td>\n",
       "    </tr>\n",
       "  </tbody>\n",
       "</table>\n",
       "</div>"
      ],
      "text/plain": [
       "  name  age result\n",
       "0  홍길동  100     양수\n",
       "1  김길동  200     양수\n",
       "2  홍순신  300     음수\n",
       "3  정길동  150     음수\n",
       "4  정사임  250     양수"
      ]
     },
     "execution_count": 239,
     "metadata": {},
     "output_type": "execute_result"
    }
   ],
   "source": [
    "df1"
   ]
  },
  {
   "cell_type": "code",
   "execution_count": 240,
   "id": "2daa889e",
   "metadata": {},
   "outputs": [],
   "source": [
    "age_lambda = lambda x : '고령' if x>=200 else '보통'"
   ]
  },
  {
   "cell_type": "code",
   "execution_count": 241,
   "id": "474737b4",
   "metadata": {},
   "outputs": [],
   "source": [
    "age_list= list(map(age_lambda, df1['age']))"
   ]
  },
  {
   "cell_type": "code",
   "execution_count": 242,
   "id": "13540afa",
   "metadata": {},
   "outputs": [
    {
     "data": {
      "text/html": [
       "<div>\n",
       "<style scoped>\n",
       "    .dataframe tbody tr th:only-of-type {\n",
       "        vertical-align: middle;\n",
       "    }\n",
       "\n",
       "    .dataframe tbody tr th {\n",
       "        vertical-align: top;\n",
       "    }\n",
       "\n",
       "    .dataframe thead th {\n",
       "        text-align: right;\n",
       "    }\n",
       "</style>\n",
       "<table border=\"1\" class=\"dataframe\">\n",
       "  <thead>\n",
       "    <tr style=\"text-align: right;\">\n",
       "      <th></th>\n",
       "      <th>name</th>\n",
       "      <th>age</th>\n",
       "      <th>result</th>\n",
       "      <th>age_result</th>\n",
       "    </tr>\n",
       "  </thead>\n",
       "  <tbody>\n",
       "    <tr>\n",
       "      <th>0</th>\n",
       "      <td>홍길동</td>\n",
       "      <td>100</td>\n",
       "      <td>양수</td>\n",
       "      <td>보통</td>\n",
       "    </tr>\n",
       "    <tr>\n",
       "      <th>1</th>\n",
       "      <td>김길동</td>\n",
       "      <td>200</td>\n",
       "      <td>양수</td>\n",
       "      <td>고령</td>\n",
       "    </tr>\n",
       "    <tr>\n",
       "      <th>2</th>\n",
       "      <td>홍순신</td>\n",
       "      <td>300</td>\n",
       "      <td>음수</td>\n",
       "      <td>고령</td>\n",
       "    </tr>\n",
       "    <tr>\n",
       "      <th>3</th>\n",
       "      <td>정길동</td>\n",
       "      <td>150</td>\n",
       "      <td>음수</td>\n",
       "      <td>보통</td>\n",
       "    </tr>\n",
       "    <tr>\n",
       "      <th>4</th>\n",
       "      <td>정사임</td>\n",
       "      <td>250</td>\n",
       "      <td>양수</td>\n",
       "      <td>고령</td>\n",
       "    </tr>\n",
       "  </tbody>\n",
       "</table>\n",
       "</div>"
      ],
      "text/plain": [
       "  name  age result age_result\n",
       "0  홍길동  100     양수         보통\n",
       "1  김길동  200     양수         고령\n",
       "2  홍순신  300     음수         고령\n",
       "3  정길동  150     음수         보통\n",
       "4  정사임  250     양수         고령"
      ]
     },
     "execution_count": 242,
     "metadata": {},
     "output_type": "execute_result"
    }
   ],
   "source": [
    "df1['age_result'] = age_list\n",
    "df1"
   ]
  },
  {
   "cell_type": "code",
   "execution_count": 243,
   "id": "f3fe8e07",
   "metadata": {},
   "outputs": [
    {
     "data": {
      "text/plain": [
       "'참석자 명단에 없습니다'"
      ]
     },
     "execution_count": 243,
     "metadata": {},
     "output_type": "execute_result"
    }
   ],
   "source": [
    "#람다함수를 만들어보세요 \n",
    "#name에 '홍'이라는 글자를 포함하고 있으면 1, 아니면 0 \n",
    "on_lambda = lambda x : '참석자 명단에 있습니다.' if x in name_list else '참석자 명단에 없습니다'\n",
    "on_lambda('홍길동')\n",
    "#결과를 name_result 파생변수를 만들어보세요 "
   ]
  },
  {
   "cell_type": "code",
   "execution_count": 244,
   "id": "9732fe85",
   "metadata": {},
   "outputs": [
    {
     "data": {
      "text/plain": [
       "[1, 0, 1, 0, 0]"
      ]
     },
     "execution_count": 244,
     "metadata": {},
     "output_type": "execute_result"
    }
   ],
   "source": [
    "name_result = list(map(name_lambda, df1['name']))\n",
    "name_result"
   ]
  },
  {
   "cell_type": "code",
   "execution_count": 245,
   "id": "6fb8477e",
   "metadata": {},
   "outputs": [
    {
     "data": {
      "text/html": [
       "<div>\n",
       "<style scoped>\n",
       "    .dataframe tbody tr th:only-of-type {\n",
       "        vertical-align: middle;\n",
       "    }\n",
       "\n",
       "    .dataframe tbody tr th {\n",
       "        vertical-align: top;\n",
       "    }\n",
       "\n",
       "    .dataframe thead th {\n",
       "        text-align: right;\n",
       "    }\n",
       "</style>\n",
       "<table border=\"1\" class=\"dataframe\">\n",
       "  <thead>\n",
       "    <tr style=\"text-align: right;\">\n",
       "      <th></th>\n",
       "      <th>name</th>\n",
       "      <th>age</th>\n",
       "      <th>result</th>\n",
       "      <th>age_result</th>\n",
       "      <th>name_result</th>\n",
       "    </tr>\n",
       "  </thead>\n",
       "  <tbody>\n",
       "    <tr>\n",
       "      <th>0</th>\n",
       "      <td>홍길동</td>\n",
       "      <td>100</td>\n",
       "      <td>양수</td>\n",
       "      <td>보통</td>\n",
       "      <td>1</td>\n",
       "    </tr>\n",
       "    <tr>\n",
       "      <th>1</th>\n",
       "      <td>김길동</td>\n",
       "      <td>200</td>\n",
       "      <td>양수</td>\n",
       "      <td>고령</td>\n",
       "      <td>0</td>\n",
       "    </tr>\n",
       "    <tr>\n",
       "      <th>2</th>\n",
       "      <td>홍순신</td>\n",
       "      <td>300</td>\n",
       "      <td>음수</td>\n",
       "      <td>고령</td>\n",
       "      <td>1</td>\n",
       "    </tr>\n",
       "    <tr>\n",
       "      <th>3</th>\n",
       "      <td>정길동</td>\n",
       "      <td>150</td>\n",
       "      <td>음수</td>\n",
       "      <td>보통</td>\n",
       "      <td>0</td>\n",
       "    </tr>\n",
       "    <tr>\n",
       "      <th>4</th>\n",
       "      <td>정사임</td>\n",
       "      <td>250</td>\n",
       "      <td>양수</td>\n",
       "      <td>고령</td>\n",
       "      <td>0</td>\n",
       "    </tr>\n",
       "  </tbody>\n",
       "</table>\n",
       "</div>"
      ],
      "text/plain": [
       "  name  age result age_result  name_result\n",
       "0  홍길동  100     양수         보통            1\n",
       "1  김길동  200     양수         고령            0\n",
       "2  홍순신  300     음수         고령            1\n",
       "3  정길동  150     음수         보통            0\n",
       "4  정사임  250     양수         고령            0"
      ]
     },
     "execution_count": 245,
     "metadata": {},
     "output_type": "execute_result"
    }
   ],
   "source": [
    "df1['name_result'] = name_result\n",
    "df1"
   ]
  },
  {
   "cell_type": "code",
   "execution_count": 246,
   "id": "92ff8caf",
   "metadata": {},
   "outputs": [
    {
     "data": {
      "text/plain": [
       "['홍길동', '홍순신']"
      ]
     },
     "execution_count": 246,
     "metadata": {},
     "output_type": "execute_result"
    }
   ],
   "source": [
    "name_result2 = list(filter(name_lambda, df1['name']))\n",
    "name_result2\n",
    "\n",
    "#map은 true이면 이거 false이면 이거해서 둘 다 가져오고 \n",
    "#filter는 '홍'이 포함된 것만 가져옴. \n",
    "#map은 true이든 false이든 return을 모두 다 가져오고 \n",
    "#"
   ]
  },
  {
   "cell_type": "code",
   "execution_count": 247,
   "id": "f8ee93e7",
   "metadata": {},
   "outputs": [],
   "source": [
    "#df의 result 변수의 값이 양수이면 1, 음수이면 0으로 바꿔보세요 "
   ]
  },
  {
   "cell_type": "code",
   "execution_count": 248,
   "id": "d7cbf6a2",
   "metadata": {},
   "outputs": [],
   "source": [
    "#age_result 값이 고령이면 1, 아니면 0으로 변경해보세요 \n",
    "#age를 100~200 => 0, 200 ~ 250 => 1 , 나머지는 2 \n",
    "\n",
    "def age_func(x): \n",
    "    if 100<=x<200:\n",
    "        return 0 #map 함수 내에 사용할 함수는 return을 명시해야 함. \n",
    "    elif 200<=x<250:\n",
    "        return 1\n",
    "    else: \n",
    "        return 2"
   ]
  },
  {
   "cell_type": "code",
   "execution_count": 249,
   "id": "968d2c82",
   "metadata": {},
   "outputs": [],
   "source": [
    "age_func_result = list(map(age_func, df1['age']))"
   ]
  },
  {
   "cell_type": "code",
   "execution_count": 250,
   "id": "c20a90a4",
   "metadata": {},
   "outputs": [
    {
     "data": {
      "text/plain": [
       "[0, 1, 2, 0, 2]"
      ]
     },
     "execution_count": 250,
     "metadata": {},
     "output_type": "execute_result"
    }
   ],
   "source": [
    "age_func_result"
   ]
  },
  {
   "cell_type": "code",
   "execution_count": 251,
   "id": "f2f93009",
   "metadata": {},
   "outputs": [],
   "source": [
    "age_result_lambda = lambda x: 1 if x == '고령' else 0 "
   ]
  },
  {
   "cell_type": "code",
   "execution_count": 252,
   "id": "d3ff22ff",
   "metadata": {},
   "outputs": [],
   "source": [
    "def age_result_func(x):\n",
    "    if x == '고령': \n",
    "        return 1\n",
    "    else: \n",
    "        return 0 "
   ]
  },
  {
   "cell_type": "code",
   "execution_count": 254,
   "id": "6ee7df2b",
   "metadata": {},
   "outputs": [],
   "source": [
    "#df1['age_result'] = list(map(age_result_lambda, df1[age_result]))\n",
    "#df1"
   ]
  },
  {
   "cell_type": "code",
   "execution_count": 256,
   "id": "23e9b99b",
   "metadata": {},
   "outputs": [
    {
     "data": {
      "text/plain": [
       "Index(['name', 'age', 'result', 'age_result', 'name_result'], dtype='object')"
      ]
     },
     "execution_count": 256,
     "metadata": {},
     "output_type": "execute_result"
    }
   ],
   "source": [
    "df1.columns"
   ]
  },
  {
   "cell_type": "code",
   "execution_count": 258,
   "id": "3bcb34fd",
   "metadata": {},
   "outputs": [
    {
     "data": {
      "text/plain": [
       "0    101\n",
       "1    201\n",
       "2    301\n",
       "3    151\n",
       "4    251\n",
       "Name: age, dtype: int64"
      ]
     },
     "execution_count": 258,
     "metadata": {},
     "output_type": "execute_result"
    }
   ],
   "source": [
    "df1['age'].apply(lambda x : x+1)"
   ]
  },
  {
   "cell_type": "code",
   "execution_count": 259,
   "id": "7be8b4d4",
   "metadata": {},
   "outputs": [
    {
     "data": {
      "text/html": [
       "<div>\n",
       "<style scoped>\n",
       "    .dataframe tbody tr th:only-of-type {\n",
       "        vertical-align: middle;\n",
       "    }\n",
       "\n",
       "    .dataframe tbody tr th {\n",
       "        vertical-align: top;\n",
       "    }\n",
       "\n",
       "    .dataframe thead th {\n",
       "        text-align: right;\n",
       "    }\n",
       "</style>\n",
       "<table border=\"1\" class=\"dataframe\">\n",
       "  <thead>\n",
       "    <tr style=\"text-align: right;\">\n",
       "      <th></th>\n",
       "      <th>name</th>\n",
       "      <th>age</th>\n",
       "      <th>result</th>\n",
       "      <th>age_result</th>\n",
       "      <th>name_result</th>\n",
       "    </tr>\n",
       "  </thead>\n",
       "  <tbody>\n",
       "    <tr>\n",
       "      <th>0</th>\n",
       "      <td>홍길동</td>\n",
       "      <td>100</td>\n",
       "      <td>양수</td>\n",
       "      <td>보통</td>\n",
       "      <td>1</td>\n",
       "    </tr>\n",
       "    <tr>\n",
       "      <th>1</th>\n",
       "      <td>김길동</td>\n",
       "      <td>200</td>\n",
       "      <td>양수</td>\n",
       "      <td>고령</td>\n",
       "      <td>0</td>\n",
       "    </tr>\n",
       "    <tr>\n",
       "      <th>2</th>\n",
       "      <td>홍순신</td>\n",
       "      <td>300</td>\n",
       "      <td>음수</td>\n",
       "      <td>고령</td>\n",
       "      <td>1</td>\n",
       "    </tr>\n",
       "    <tr>\n",
       "      <th>3</th>\n",
       "      <td>정길동</td>\n",
       "      <td>150</td>\n",
       "      <td>음수</td>\n",
       "      <td>보통</td>\n",
       "      <td>0</td>\n",
       "    </tr>\n",
       "    <tr>\n",
       "      <th>4</th>\n",
       "      <td>정사임</td>\n",
       "      <td>250</td>\n",
       "      <td>양수</td>\n",
       "      <td>고령</td>\n",
       "      <td>0</td>\n",
       "    </tr>\n",
       "  </tbody>\n",
       "</table>\n",
       "</div>"
      ],
      "text/plain": [
       "  name  age result age_result  name_result\n",
       "0  홍길동  100     양수         보통            1\n",
       "1  김길동  200     양수         고령            0\n",
       "2  홍순신  300     음수         고령            1\n",
       "3  정길동  150     음수         보통            0\n",
       "4  정사임  250     양수         고령            0"
      ]
     },
     "execution_count": 259,
     "metadata": {},
     "output_type": "execute_result"
    }
   ],
   "source": [
    "df1"
   ]
  },
  {
   "cell_type": "code",
   "execution_count": 260,
   "id": "4b9ac46f",
   "metadata": {},
   "outputs": [
    {
     "ename": "SyntaxError",
     "evalue": "invalid syntax (4270551626.py, line 6)",
     "output_type": "error",
     "traceback": [
      "\u001b[1;36m  File \u001b[1;32m\"C:\\Users\\hi\\AppData\\Local\\Temp\\ipykernel_6000\\4270551626.py\"\u001b[1;36m, line \u001b[1;32m6\u001b[0m\n\u001b[1;33m    for x in df1['name']\u001b[0m\n\u001b[1;37m                        ^\u001b[0m\n\u001b[1;31mSyntaxError\u001b[0m\u001b[1;31m:\u001b[0m invalid syntax\n"
     ]
    }
   ],
   "source": [
    "##일반함수를 만들어 apply를 적용해보세요 \n",
    "#이름의 첫글자가 송으로 시작하면 '송' 아니면 첫글자에 해당하는 글자 \n",
    "##파생변수 name_apply\n",
    "\n",
    "result_name = []\n",
    "for x in df1['name']\n",
    "    if x[0] == '송':\n",
    "        result_name.append('송')\n",
    "    else:\n",
    "        result_name.append(x[0])\n",
    "    result_name\n",
    "\n"
   ]
  },
  {
   "cell_type": "code",
   "execution_count": 262,
   "id": "55a7f74c",
   "metadata": {},
   "outputs": [
    {
     "data": {
      "text/html": [
       "<div>\n",
       "<style scoped>\n",
       "    .dataframe tbody tr th:only-of-type {\n",
       "        vertical-align: middle;\n",
       "    }\n",
       "\n",
       "    .dataframe tbody tr th {\n",
       "        vertical-align: top;\n",
       "    }\n",
       "\n",
       "    .dataframe thead th {\n",
       "        text-align: right;\n",
       "    }\n",
       "</style>\n",
       "<table border=\"1\" class=\"dataframe\">\n",
       "  <thead>\n",
       "    <tr style=\"text-align: right;\">\n",
       "      <th></th>\n",
       "      <th>pclass</th>\n",
       "      <th>survived</th>\n",
       "      <th>name</th>\n",
       "      <th>sex</th>\n",
       "      <th>age</th>\n",
       "      <th>sibsp</th>\n",
       "      <th>parch</th>\n",
       "      <th>ticket</th>\n",
       "      <th>fare</th>\n",
       "      <th>cabin</th>\n",
       "      <th>embarked</th>\n",
       "      <th>body</th>\n",
       "      <th>home.dest</th>\n",
       "    </tr>\n",
       "  </thead>\n",
       "  <tbody>\n",
       "    <tr>\n",
       "      <th>0</th>\n",
       "      <td>2</td>\n",
       "      <td>1</td>\n",
       "      <td>Mellinger, Miss. Madeleine Violet</td>\n",
       "      <td>female</td>\n",
       "      <td>13.0</td>\n",
       "      <td>0</td>\n",
       "      <td>1</td>\n",
       "      <td>250644</td>\n",
       "      <td>19.5000</td>\n",
       "      <td>NaN</td>\n",
       "      <td>S</td>\n",
       "      <td>NaN</td>\n",
       "      <td>England / Bennington, VT</td>\n",
       "    </tr>\n",
       "    <tr>\n",
       "      <th>1</th>\n",
       "      <td>2</td>\n",
       "      <td>1</td>\n",
       "      <td>Wells, Miss. Joan</td>\n",
       "      <td>female</td>\n",
       "      <td>4.0</td>\n",
       "      <td>1</td>\n",
       "      <td>1</td>\n",
       "      <td>29103</td>\n",
       "      <td>23.0000</td>\n",
       "      <td>NaN</td>\n",
       "      <td>S</td>\n",
       "      <td>NaN</td>\n",
       "      <td>Cornwall / Akron, OH</td>\n",
       "    </tr>\n",
       "    <tr>\n",
       "      <th>2</th>\n",
       "      <td>2</td>\n",
       "      <td>1</td>\n",
       "      <td>Duran y More, Miss. Florentina</td>\n",
       "      <td>female</td>\n",
       "      <td>30.0</td>\n",
       "      <td>1</td>\n",
       "      <td>0</td>\n",
       "      <td>SC/PARIS 2148</td>\n",
       "      <td>13.8583</td>\n",
       "      <td>NaN</td>\n",
       "      <td>C</td>\n",
       "      <td>NaN</td>\n",
       "      <td>Barcelona, Spain / Havana, Cuba</td>\n",
       "    </tr>\n",
       "    <tr>\n",
       "      <th>3</th>\n",
       "      <td>3</td>\n",
       "      <td>0</td>\n",
       "      <td>Scanlan, Mr. James</td>\n",
       "      <td>male</td>\n",
       "      <td>NaN</td>\n",
       "      <td>0</td>\n",
       "      <td>0</td>\n",
       "      <td>36209</td>\n",
       "      <td>7.7250</td>\n",
       "      <td>NaN</td>\n",
       "      <td>Q</td>\n",
       "      <td>NaN</td>\n",
       "      <td>NaN</td>\n",
       "    </tr>\n",
       "    <tr>\n",
       "      <th>4</th>\n",
       "      <td>3</td>\n",
       "      <td>1</td>\n",
       "      <td>Bradley, Miss. Bridget Delia</td>\n",
       "      <td>female</td>\n",
       "      <td>22.0</td>\n",
       "      <td>0</td>\n",
       "      <td>0</td>\n",
       "      <td>334914</td>\n",
       "      <td>7.7250</td>\n",
       "      <td>NaN</td>\n",
       "      <td>Q</td>\n",
       "      <td>NaN</td>\n",
       "      <td>Kingwilliamstown, Co Cork, Ireland Glens Falls...</td>\n",
       "    </tr>\n",
       "    <tr>\n",
       "      <th>...</th>\n",
       "      <td>...</td>\n",
       "      <td>...</td>\n",
       "      <td>...</td>\n",
       "      <td>...</td>\n",
       "      <td>...</td>\n",
       "      <td>...</td>\n",
       "      <td>...</td>\n",
       "      <td>...</td>\n",
       "      <td>...</td>\n",
       "      <td>...</td>\n",
       "      <td>...</td>\n",
       "      <td>...</td>\n",
       "      <td>...</td>\n",
       "    </tr>\n",
       "    <tr>\n",
       "      <th>893</th>\n",
       "      <td>3</td>\n",
       "      <td>0</td>\n",
       "      <td>Davies, Mr. Joseph</td>\n",
       "      <td>male</td>\n",
       "      <td>17.0</td>\n",
       "      <td>2</td>\n",
       "      <td>0</td>\n",
       "      <td>A/4 48873</td>\n",
       "      <td>8.0500</td>\n",
       "      <td>NaN</td>\n",
       "      <td>S</td>\n",
       "      <td>NaN</td>\n",
       "      <td>West Bromwich, England Pontiac, MI</td>\n",
       "    </tr>\n",
       "    <tr>\n",
       "      <th>894</th>\n",
       "      <td>3</td>\n",
       "      <td>0</td>\n",
       "      <td>Lockyer, Mr. Edward</td>\n",
       "      <td>male</td>\n",
       "      <td>NaN</td>\n",
       "      <td>0</td>\n",
       "      <td>0</td>\n",
       "      <td>1222</td>\n",
       "      <td>7.8792</td>\n",
       "      <td>NaN</td>\n",
       "      <td>S</td>\n",
       "      <td>153.0</td>\n",
       "      <td>NaN</td>\n",
       "    </tr>\n",
       "    <tr>\n",
       "      <th>895</th>\n",
       "      <td>1</td>\n",
       "      <td>0</td>\n",
       "      <td>Fortune, Mr. Mark</td>\n",
       "      <td>male</td>\n",
       "      <td>64.0</td>\n",
       "      <td>1</td>\n",
       "      <td>4</td>\n",
       "      <td>19950</td>\n",
       "      <td>263.0000</td>\n",
       "      <td>C23 C25 C27</td>\n",
       "      <td>S</td>\n",
       "      <td>NaN</td>\n",
       "      <td>Winnipeg, MB</td>\n",
       "    </tr>\n",
       "    <tr>\n",
       "      <th>896</th>\n",
       "      <td>3</td>\n",
       "      <td>1</td>\n",
       "      <td>Dorking, Mr. Edward Arthur</td>\n",
       "      <td>male</td>\n",
       "      <td>19.0</td>\n",
       "      <td>0</td>\n",
       "      <td>0</td>\n",
       "      <td>A/5. 10482</td>\n",
       "      <td>8.0500</td>\n",
       "      <td>NaN</td>\n",
       "      <td>S</td>\n",
       "      <td>NaN</td>\n",
       "      <td>England Oglesby, IL</td>\n",
       "    </tr>\n",
       "    <tr>\n",
       "      <th>897</th>\n",
       "      <td>1</td>\n",
       "      <td>1</td>\n",
       "      <td>Clark, Mrs. Walter Miller (Virginia McDowell)</td>\n",
       "      <td>female</td>\n",
       "      <td>26.0</td>\n",
       "      <td>1</td>\n",
       "      <td>0</td>\n",
       "      <td>13508</td>\n",
       "      <td>136.7792</td>\n",
       "      <td>C89</td>\n",
       "      <td>C</td>\n",
       "      <td>NaN</td>\n",
       "      <td>Los Angeles, CA</td>\n",
       "    </tr>\n",
       "  </tbody>\n",
       "</table>\n",
       "<p>898 rows × 13 columns</p>\n",
       "</div>"
      ],
      "text/plain": [
       "     pclass  survived                                           name     sex  \\\n",
       "0         2         1              Mellinger, Miss. Madeleine Violet  female   \n",
       "1         2         1                              Wells, Miss. Joan  female   \n",
       "2         2         1                 Duran y More, Miss. Florentina  female   \n",
       "3         3         0                             Scanlan, Mr. James    male   \n",
       "4         3         1                   Bradley, Miss. Bridget Delia  female   \n",
       "..      ...       ...                                            ...     ...   \n",
       "893       3         0                             Davies, Mr. Joseph    male   \n",
       "894       3         0                            Lockyer, Mr. Edward    male   \n",
       "895       1         0                              Fortune, Mr. Mark    male   \n",
       "896       3         1                     Dorking, Mr. Edward Arthur    male   \n",
       "897       1         1  Clark, Mrs. Walter Miller (Virginia McDowell)  female   \n",
       "\n",
       "      age  sibsp  parch         ticket      fare        cabin embarked   body  \\\n",
       "0    13.0      0      1         250644   19.5000          NaN        S    NaN   \n",
       "1     4.0      1      1          29103   23.0000          NaN        S    NaN   \n",
       "2    30.0      1      0  SC/PARIS 2148   13.8583          NaN        C    NaN   \n",
       "3     NaN      0      0          36209    7.7250          NaN        Q    NaN   \n",
       "4    22.0      0      0         334914    7.7250          NaN        Q    NaN   \n",
       "..    ...    ...    ...            ...       ...          ...      ...    ...   \n",
       "893  17.0      2      0      A/4 48873    8.0500          NaN        S    NaN   \n",
       "894   NaN      0      0           1222    7.8792          NaN        S  153.0   \n",
       "895  64.0      1      4          19950  263.0000  C23 C25 C27        S    NaN   \n",
       "896  19.0      0      0     A/5. 10482    8.0500          NaN        S    NaN   \n",
       "897  26.0      1      0          13508  136.7792          C89        C    NaN   \n",
       "\n",
       "                                             home.dest  \n",
       "0                             England / Bennington, VT  \n",
       "1                                 Cornwall / Akron, OH  \n",
       "2                      Barcelona, Spain / Havana, Cuba  \n",
       "3                                                  NaN  \n",
       "4    Kingwilliamstown, Co Cork, Ireland Glens Falls...  \n",
       "..                                                 ...  \n",
       "893                 West Bromwich, England Pontiac, MI  \n",
       "894                                                NaN  \n",
       "895                                       Winnipeg, MB  \n",
       "896                                England Oglesby, IL  \n",
       "897                                    Los Angeles, CA  \n",
       "\n",
       "[898 rows x 13 columns]"
      ]
     },
     "execution_count": 262,
     "metadata": {},
     "output_type": "execute_result"
    }
   ],
   "source": [
    "df = pd.read_csv('../csv-data/titanic_train.csv')\n",
    "df"
   ]
  },
  {
   "cell_type": "code",
   "execution_count": 263,
   "id": "eaa56f00",
   "metadata": {},
   "outputs": [],
   "source": [
    "#p-class column upadte => 1: low 2-3: middle, 4-5: high "
   ]
  },
  {
   "cell_type": "code",
   "execution_count": 294,
   "id": "7afbb31f",
   "metadata": {},
   "outputs": [
    {
     "data": {
      "text/html": [
       "<div>\n",
       "<style scoped>\n",
       "    .dataframe tbody tr th:only-of-type {\n",
       "        vertical-align: middle;\n",
       "    }\n",
       "\n",
       "    .dataframe tbody tr th {\n",
       "        vertical-align: top;\n",
       "    }\n",
       "\n",
       "    .dataframe thead th {\n",
       "        text-align: right;\n",
       "    }\n",
       "</style>\n",
       "<table border=\"1\" class=\"dataframe\">\n",
       "  <thead>\n",
       "    <tr style=\"text-align: right;\">\n",
       "      <th></th>\n",
       "      <th>pclass</th>\n",
       "      <th>survived</th>\n",
       "      <th>name</th>\n",
       "      <th>sex</th>\n",
       "      <th>age</th>\n",
       "      <th>sibsp</th>\n",
       "      <th>parch</th>\n",
       "      <th>ticket</th>\n",
       "      <th>fare</th>\n",
       "      <th>cabin</th>\n",
       "      <th>embarked</th>\n",
       "      <th>body</th>\n",
       "      <th>home.dest</th>\n",
       "    </tr>\n",
       "  </thead>\n",
       "  <tbody>\n",
       "    <tr>\n",
       "      <th>0</th>\n",
       "      <td>middle</td>\n",
       "      <td>1</td>\n",
       "      <td>Mellinger, Miss. Madeleine Violet</td>\n",
       "      <td>female</td>\n",
       "      <td>13.0</td>\n",
       "      <td>0</td>\n",
       "      <td>1</td>\n",
       "      <td>250644</td>\n",
       "      <td>19.5000</td>\n",
       "      <td>NaN</td>\n",
       "      <td>S</td>\n",
       "      <td>NaN</td>\n",
       "      <td>England / Bennington, VT</td>\n",
       "    </tr>\n",
       "    <tr>\n",
       "      <th>1</th>\n",
       "      <td>middle</td>\n",
       "      <td>1</td>\n",
       "      <td>Wells, Miss. Joan</td>\n",
       "      <td>female</td>\n",
       "      <td>4.0</td>\n",
       "      <td>1</td>\n",
       "      <td>1</td>\n",
       "      <td>29103</td>\n",
       "      <td>23.0000</td>\n",
       "      <td>NaN</td>\n",
       "      <td>S</td>\n",
       "      <td>NaN</td>\n",
       "      <td>Cornwall / Akron, OH</td>\n",
       "    </tr>\n",
       "    <tr>\n",
       "      <th>2</th>\n",
       "      <td>middle</td>\n",
       "      <td>1</td>\n",
       "      <td>Duran y More, Miss. Florentina</td>\n",
       "      <td>female</td>\n",
       "      <td>30.0</td>\n",
       "      <td>1</td>\n",
       "      <td>0</td>\n",
       "      <td>SC/PARIS 2148</td>\n",
       "      <td>13.8583</td>\n",
       "      <td>NaN</td>\n",
       "      <td>C</td>\n",
       "      <td>NaN</td>\n",
       "      <td>Barcelona, Spain / Havana, Cuba</td>\n",
       "    </tr>\n",
       "    <tr>\n",
       "      <th>3</th>\n",
       "      <td>middle</td>\n",
       "      <td>0</td>\n",
       "      <td>Scanlan, Mr. James</td>\n",
       "      <td>male</td>\n",
       "      <td>NaN</td>\n",
       "      <td>0</td>\n",
       "      <td>0</td>\n",
       "      <td>36209</td>\n",
       "      <td>7.7250</td>\n",
       "      <td>NaN</td>\n",
       "      <td>Q</td>\n",
       "      <td>NaN</td>\n",
       "      <td>NaN</td>\n",
       "    </tr>\n",
       "    <tr>\n",
       "      <th>4</th>\n",
       "      <td>middle</td>\n",
       "      <td>1</td>\n",
       "      <td>Bradley, Miss. Bridget Delia</td>\n",
       "      <td>female</td>\n",
       "      <td>22.0</td>\n",
       "      <td>0</td>\n",
       "      <td>0</td>\n",
       "      <td>334914</td>\n",
       "      <td>7.7250</td>\n",
       "      <td>NaN</td>\n",
       "      <td>Q</td>\n",
       "      <td>NaN</td>\n",
       "      <td>Kingwilliamstown, Co Cork, Ireland Glens Falls...</td>\n",
       "    </tr>\n",
       "    <tr>\n",
       "      <th>...</th>\n",
       "      <td>...</td>\n",
       "      <td>...</td>\n",
       "      <td>...</td>\n",
       "      <td>...</td>\n",
       "      <td>...</td>\n",
       "      <td>...</td>\n",
       "      <td>...</td>\n",
       "      <td>...</td>\n",
       "      <td>...</td>\n",
       "      <td>...</td>\n",
       "      <td>...</td>\n",
       "      <td>...</td>\n",
       "      <td>...</td>\n",
       "    </tr>\n",
       "    <tr>\n",
       "      <th>893</th>\n",
       "      <td>middle</td>\n",
       "      <td>0</td>\n",
       "      <td>Davies, Mr. Joseph</td>\n",
       "      <td>male</td>\n",
       "      <td>17.0</td>\n",
       "      <td>2</td>\n",
       "      <td>0</td>\n",
       "      <td>A/4 48873</td>\n",
       "      <td>8.0500</td>\n",
       "      <td>NaN</td>\n",
       "      <td>S</td>\n",
       "      <td>NaN</td>\n",
       "      <td>West Bromwich, England Pontiac, MI</td>\n",
       "    </tr>\n",
       "    <tr>\n",
       "      <th>894</th>\n",
       "      <td>middle</td>\n",
       "      <td>0</td>\n",
       "      <td>Lockyer, Mr. Edward</td>\n",
       "      <td>male</td>\n",
       "      <td>NaN</td>\n",
       "      <td>0</td>\n",
       "      <td>0</td>\n",
       "      <td>1222</td>\n",
       "      <td>7.8792</td>\n",
       "      <td>NaN</td>\n",
       "      <td>S</td>\n",
       "      <td>153.0</td>\n",
       "      <td>NaN</td>\n",
       "    </tr>\n",
       "    <tr>\n",
       "      <th>895</th>\n",
       "      <td>low</td>\n",
       "      <td>0</td>\n",
       "      <td>Fortune, Mr. Mark</td>\n",
       "      <td>male</td>\n",
       "      <td>64.0</td>\n",
       "      <td>1</td>\n",
       "      <td>4</td>\n",
       "      <td>19950</td>\n",
       "      <td>263.0000</td>\n",
       "      <td>C23 C25 C27</td>\n",
       "      <td>S</td>\n",
       "      <td>NaN</td>\n",
       "      <td>Winnipeg, MB</td>\n",
       "    </tr>\n",
       "    <tr>\n",
       "      <th>896</th>\n",
       "      <td>middle</td>\n",
       "      <td>1</td>\n",
       "      <td>Dorking, Mr. Edward Arthur</td>\n",
       "      <td>male</td>\n",
       "      <td>19.0</td>\n",
       "      <td>0</td>\n",
       "      <td>0</td>\n",
       "      <td>A/5. 10482</td>\n",
       "      <td>8.0500</td>\n",
       "      <td>NaN</td>\n",
       "      <td>S</td>\n",
       "      <td>NaN</td>\n",
       "      <td>England Oglesby, IL</td>\n",
       "    </tr>\n",
       "    <tr>\n",
       "      <th>897</th>\n",
       "      <td>low</td>\n",
       "      <td>1</td>\n",
       "      <td>Clark, Mrs. Walter Miller (Virginia McDowell)</td>\n",
       "      <td>female</td>\n",
       "      <td>26.0</td>\n",
       "      <td>1</td>\n",
       "      <td>0</td>\n",
       "      <td>13508</td>\n",
       "      <td>136.7792</td>\n",
       "      <td>C89</td>\n",
       "      <td>C</td>\n",
       "      <td>NaN</td>\n",
       "      <td>Los Angeles, CA</td>\n",
       "    </tr>\n",
       "  </tbody>\n",
       "</table>\n",
       "<p>898 rows × 13 columns</p>\n",
       "</div>"
      ],
      "text/plain": [
       "     pclass  survived                                           name     sex  \\\n",
       "0    middle         1              Mellinger, Miss. Madeleine Violet  female   \n",
       "1    middle         1                              Wells, Miss. Joan  female   \n",
       "2    middle         1                 Duran y More, Miss. Florentina  female   \n",
       "3    middle         0                             Scanlan, Mr. James    male   \n",
       "4    middle         1                   Bradley, Miss. Bridget Delia  female   \n",
       "..      ...       ...                                            ...     ...   \n",
       "893  middle         0                             Davies, Mr. Joseph    male   \n",
       "894  middle         0                            Lockyer, Mr. Edward    male   \n",
       "895     low         0                              Fortune, Mr. Mark    male   \n",
       "896  middle         1                     Dorking, Mr. Edward Arthur    male   \n",
       "897     low         1  Clark, Mrs. Walter Miller (Virginia McDowell)  female   \n",
       "\n",
       "      age  sibsp  parch         ticket      fare        cabin embarked   body  \\\n",
       "0    13.0      0      1         250644   19.5000          NaN        S    NaN   \n",
       "1     4.0      1      1          29103   23.0000          NaN        S    NaN   \n",
       "2    30.0      1      0  SC/PARIS 2148   13.8583          NaN        C    NaN   \n",
       "3     NaN      0      0          36209    7.7250          NaN        Q    NaN   \n",
       "4    22.0      0      0         334914    7.7250          NaN        Q    NaN   \n",
       "..    ...    ...    ...            ...       ...          ...      ...    ...   \n",
       "893  17.0      2      0      A/4 48873    8.0500          NaN        S    NaN   \n",
       "894   NaN      0      0           1222    7.8792          NaN        S  153.0   \n",
       "895  64.0      1      4          19950  263.0000  C23 C25 C27        S    NaN   \n",
       "896  19.0      0      0     A/5. 10482    8.0500          NaN        S    NaN   \n",
       "897  26.0      1      0          13508  136.7792          C89        C    NaN   \n",
       "\n",
       "                                             home.dest  \n",
       "0                             England / Bennington, VT  \n",
       "1                                 Cornwall / Akron, OH  \n",
       "2                      Barcelona, Spain / Havana, Cuba  \n",
       "3                                                  NaN  \n",
       "4    Kingwilliamstown, Co Cork, Ireland Glens Falls...  \n",
       "..                                                 ...  \n",
       "893                 West Bromwich, England Pontiac, MI  \n",
       "894                                                NaN  \n",
       "895                                       Winnipeg, MB  \n",
       "896                                England Oglesby, IL  \n",
       "897                                    Los Angeles, CA  \n",
       "\n",
       "[898 rows x 13 columns]"
      ]
     },
     "execution_count": 294,
     "metadata": {},
     "output_type": "execute_result"
    }
   ],
   "source": [
    "df2 = pd.read_csv('../csv-data/titanic_train.csv')\n",
    "df2\n",
    "\n",
    "def p_class_mdfy(x):\n",
    "    if x == 1:\n",
    "        return 'low'\n",
    "    elif x == 2 or x==3:\n",
    "        return 'middle'\n",
    "    else:\n",
    "        return 'high' \n",
    "df2['pclass'] = df2['pclass'].apply(p_class_mdfy)\n",
    "# df[pclass]  = p_class_mdfy(df['pclass'])   \n",
    "df2"
   ]
  },
  {
   "cell_type": "code",
   "execution_count": 295,
   "id": "4561af73",
   "metadata": {},
   "outputs": [
    {
     "data": {
      "text/html": [
       "<div>\n",
       "<style scoped>\n",
       "    .dataframe tbody tr th:only-of-type {\n",
       "        vertical-align: middle;\n",
       "    }\n",
       "\n",
       "    .dataframe tbody tr th {\n",
       "        vertical-align: top;\n",
       "    }\n",
       "\n",
       "    .dataframe thead th {\n",
       "        text-align: right;\n",
       "    }\n",
       "</style>\n",
       "<table border=\"1\" class=\"dataframe\">\n",
       "  <thead>\n",
       "    <tr style=\"text-align: right;\">\n",
       "      <th></th>\n",
       "      <th>pclass</th>\n",
       "      <th>survived</th>\n",
       "      <th>name</th>\n",
       "      <th>sex</th>\n",
       "      <th>age</th>\n",
       "      <th>sibsp</th>\n",
       "      <th>parch</th>\n",
       "      <th>ticket</th>\n",
       "      <th>fare</th>\n",
       "      <th>cabin</th>\n",
       "      <th>embarked</th>\n",
       "      <th>body</th>\n",
       "      <th>home.dest</th>\n",
       "      <th>name_result</th>\n",
       "    </tr>\n",
       "  </thead>\n",
       "  <tbody>\n",
       "    <tr>\n",
       "      <th>0</th>\n",
       "      <td>2</td>\n",
       "      <td>1</td>\n",
       "      <td>Mellinger, Miss. Madeleine Violet</td>\n",
       "      <td>female</td>\n",
       "      <td>13.0</td>\n",
       "      <td>0</td>\n",
       "      <td>1</td>\n",
       "      <td>250644</td>\n",
       "      <td>19.5000</td>\n",
       "      <td>NaN</td>\n",
       "      <td>S</td>\n",
       "      <td>NaN</td>\n",
       "      <td>England / Bennington, VT</td>\n",
       "      <td>long</td>\n",
       "    </tr>\n",
       "    <tr>\n",
       "      <th>1</th>\n",
       "      <td>2</td>\n",
       "      <td>1</td>\n",
       "      <td>Wells, Miss. Joan</td>\n",
       "      <td>female</td>\n",
       "      <td>4.0</td>\n",
       "      <td>1</td>\n",
       "      <td>1</td>\n",
       "      <td>29103</td>\n",
       "      <td>23.0000</td>\n",
       "      <td>NaN</td>\n",
       "      <td>S</td>\n",
       "      <td>NaN</td>\n",
       "      <td>Cornwall / Akron, OH</td>\n",
       "      <td>long</td>\n",
       "    </tr>\n",
       "    <tr>\n",
       "      <th>2</th>\n",
       "      <td>2</td>\n",
       "      <td>1</td>\n",
       "      <td>Duran y More, Miss. Florentina</td>\n",
       "      <td>female</td>\n",
       "      <td>30.0</td>\n",
       "      <td>1</td>\n",
       "      <td>0</td>\n",
       "      <td>SC/PARIS 2148</td>\n",
       "      <td>13.8583</td>\n",
       "      <td>NaN</td>\n",
       "      <td>C</td>\n",
       "      <td>NaN</td>\n",
       "      <td>Barcelona, Spain / Havana, Cuba</td>\n",
       "      <td>long</td>\n",
       "    </tr>\n",
       "    <tr>\n",
       "      <th>3</th>\n",
       "      <td>3</td>\n",
       "      <td>0</td>\n",
       "      <td>Scanlan, Mr. James</td>\n",
       "      <td>male</td>\n",
       "      <td>NaN</td>\n",
       "      <td>0</td>\n",
       "      <td>0</td>\n",
       "      <td>36209</td>\n",
       "      <td>7.7250</td>\n",
       "      <td>NaN</td>\n",
       "      <td>Q</td>\n",
       "      <td>NaN</td>\n",
       "      <td>NaN</td>\n",
       "      <td>long</td>\n",
       "    </tr>\n",
       "    <tr>\n",
       "      <th>4</th>\n",
       "      <td>3</td>\n",
       "      <td>1</td>\n",
       "      <td>Bradley, Miss. Bridget Delia</td>\n",
       "      <td>female</td>\n",
       "      <td>22.0</td>\n",
       "      <td>0</td>\n",
       "      <td>0</td>\n",
       "      <td>334914</td>\n",
       "      <td>7.7250</td>\n",
       "      <td>NaN</td>\n",
       "      <td>Q</td>\n",
       "      <td>NaN</td>\n",
       "      <td>Kingwilliamstown, Co Cork, Ireland Glens Falls...</td>\n",
       "      <td>long</td>\n",
       "    </tr>\n",
       "    <tr>\n",
       "      <th>...</th>\n",
       "      <td>...</td>\n",
       "      <td>...</td>\n",
       "      <td>...</td>\n",
       "      <td>...</td>\n",
       "      <td>...</td>\n",
       "      <td>...</td>\n",
       "      <td>...</td>\n",
       "      <td>...</td>\n",
       "      <td>...</td>\n",
       "      <td>...</td>\n",
       "      <td>...</td>\n",
       "      <td>...</td>\n",
       "      <td>...</td>\n",
       "      <td>...</td>\n",
       "    </tr>\n",
       "    <tr>\n",
       "      <th>893</th>\n",
       "      <td>3</td>\n",
       "      <td>0</td>\n",
       "      <td>Davies, Mr. Joseph</td>\n",
       "      <td>male</td>\n",
       "      <td>17.0</td>\n",
       "      <td>2</td>\n",
       "      <td>0</td>\n",
       "      <td>A/4 48873</td>\n",
       "      <td>8.0500</td>\n",
       "      <td>NaN</td>\n",
       "      <td>S</td>\n",
       "      <td>NaN</td>\n",
       "      <td>West Bromwich, England Pontiac, MI</td>\n",
       "      <td>long</td>\n",
       "    </tr>\n",
       "    <tr>\n",
       "      <th>894</th>\n",
       "      <td>3</td>\n",
       "      <td>0</td>\n",
       "      <td>Lockyer, Mr. Edward</td>\n",
       "      <td>male</td>\n",
       "      <td>NaN</td>\n",
       "      <td>0</td>\n",
       "      <td>0</td>\n",
       "      <td>1222</td>\n",
       "      <td>7.8792</td>\n",
       "      <td>NaN</td>\n",
       "      <td>S</td>\n",
       "      <td>153.0</td>\n",
       "      <td>NaN</td>\n",
       "      <td>long</td>\n",
       "    </tr>\n",
       "    <tr>\n",
       "      <th>895</th>\n",
       "      <td>1</td>\n",
       "      <td>0</td>\n",
       "      <td>Fortune, Mr. Mark</td>\n",
       "      <td>male</td>\n",
       "      <td>64.0</td>\n",
       "      <td>1</td>\n",
       "      <td>4</td>\n",
       "      <td>19950</td>\n",
       "      <td>263.0000</td>\n",
       "      <td>C23 C25 C27</td>\n",
       "      <td>S</td>\n",
       "      <td>NaN</td>\n",
       "      <td>Winnipeg, MB</td>\n",
       "      <td>long</td>\n",
       "    </tr>\n",
       "    <tr>\n",
       "      <th>896</th>\n",
       "      <td>3</td>\n",
       "      <td>1</td>\n",
       "      <td>Dorking, Mr. Edward Arthur</td>\n",
       "      <td>male</td>\n",
       "      <td>19.0</td>\n",
       "      <td>0</td>\n",
       "      <td>0</td>\n",
       "      <td>A/5. 10482</td>\n",
       "      <td>8.0500</td>\n",
       "      <td>NaN</td>\n",
       "      <td>S</td>\n",
       "      <td>NaN</td>\n",
       "      <td>England Oglesby, IL</td>\n",
       "      <td>long</td>\n",
       "    </tr>\n",
       "    <tr>\n",
       "      <th>897</th>\n",
       "      <td>1</td>\n",
       "      <td>1</td>\n",
       "      <td>Clark, Mrs. Walter Miller (Virginia McDowell)</td>\n",
       "      <td>female</td>\n",
       "      <td>26.0</td>\n",
       "      <td>1</td>\n",
       "      <td>0</td>\n",
       "      <td>13508</td>\n",
       "      <td>136.7792</td>\n",
       "      <td>C89</td>\n",
       "      <td>C</td>\n",
       "      <td>NaN</td>\n",
       "      <td>Los Angeles, CA</td>\n",
       "      <td>long</td>\n",
       "    </tr>\n",
       "  </tbody>\n",
       "</table>\n",
       "<p>898 rows × 14 columns</p>\n",
       "</div>"
      ],
      "text/plain": [
       "     pclass  survived                                           name     sex  \\\n",
       "0         2         1              Mellinger, Miss. Madeleine Violet  female   \n",
       "1         2         1                              Wells, Miss. Joan  female   \n",
       "2         2         1                 Duran y More, Miss. Florentina  female   \n",
       "3         3         0                             Scanlan, Mr. James    male   \n",
       "4         3         1                   Bradley, Miss. Bridget Delia  female   \n",
       "..      ...       ...                                            ...     ...   \n",
       "893       3         0                             Davies, Mr. Joseph    male   \n",
       "894       3         0                            Lockyer, Mr. Edward    male   \n",
       "895       1         0                              Fortune, Mr. Mark    male   \n",
       "896       3         1                     Dorking, Mr. Edward Arthur    male   \n",
       "897       1         1  Clark, Mrs. Walter Miller (Virginia McDowell)  female   \n",
       "\n",
       "      age  sibsp  parch         ticket      fare        cabin embarked   body  \\\n",
       "0    13.0      0      1         250644   19.5000          NaN        S    NaN   \n",
       "1     4.0      1      1          29103   23.0000          NaN        S    NaN   \n",
       "2    30.0      1      0  SC/PARIS 2148   13.8583          NaN        C    NaN   \n",
       "3     NaN      0      0          36209    7.7250          NaN        Q    NaN   \n",
       "4    22.0      0      0         334914    7.7250          NaN        Q    NaN   \n",
       "..    ...    ...    ...            ...       ...          ...      ...    ...   \n",
       "893  17.0      2      0      A/4 48873    8.0500          NaN        S    NaN   \n",
       "894   NaN      0      0           1222    7.8792          NaN        S  153.0   \n",
       "895  64.0      1      4          19950  263.0000  C23 C25 C27        S    NaN   \n",
       "896  19.0      0      0     A/5. 10482    8.0500          NaN        S    NaN   \n",
       "897  26.0      1      0          13508  136.7792          C89        C    NaN   \n",
       "\n",
       "                                             home.dest name_result  \n",
       "0                             England / Bennington, VT        long  \n",
       "1                                 Cornwall / Akron, OH        long  \n",
       "2                      Barcelona, Spain / Havana, Cuba        long  \n",
       "3                                                  NaN        long  \n",
       "4    Kingwilliamstown, Co Cork, Ireland Glens Falls...        long  \n",
       "..                                                 ...         ...  \n",
       "893                 West Bromwich, England Pontiac, MI        long  \n",
       "894                                                NaN        long  \n",
       "895                                       Winnipeg, MB        long  \n",
       "896                                England Oglesby, IL        long  \n",
       "897                                    Los Angeles, CA        long  \n",
       "\n",
       "[898 rows x 14 columns]"
      ]
     },
     "execution_count": 295,
     "metadata": {},
     "output_type": "execute_result"
    }
   ],
   "source": [
    "df2 = pd.read_csv('../csv-data/titanic_train.csv')\n",
    "df2\n",
    "\n",
    "def str_count(x):\n",
    "    if len(x)>15:\n",
    "        return 'long'\n",
    "    else:\n",
    "        return 'short'\n",
    "\n",
    "    \n",
    "df2['name_result'] = df2['name'].apply(str_count)\n",
    "df2"
   ]
  },
  {
   "cell_type": "code",
   "execution_count": 277,
   "id": "56adecd9",
   "metadata": {},
   "outputs": [
    {
     "data": {
      "text/html": [
       "<div>\n",
       "<style scoped>\n",
       "    .dataframe tbody tr th:only-of-type {\n",
       "        vertical-align: middle;\n",
       "    }\n",
       "\n",
       "    .dataframe tbody tr th {\n",
       "        vertical-align: top;\n",
       "    }\n",
       "\n",
       "    .dataframe thead th {\n",
       "        text-align: right;\n",
       "    }\n",
       "</style>\n",
       "<table border=\"1\" class=\"dataframe\">\n",
       "  <thead>\n",
       "    <tr style=\"text-align: right;\">\n",
       "      <th></th>\n",
       "      <th>pclass</th>\n",
       "      <th>survived</th>\n",
       "      <th>name</th>\n",
       "      <th>sex</th>\n",
       "      <th>age</th>\n",
       "      <th>sibsp</th>\n",
       "      <th>parch</th>\n",
       "      <th>ticket</th>\n",
       "      <th>fare</th>\n",
       "      <th>cabin</th>\n",
       "      <th>embarked</th>\n",
       "      <th>body</th>\n",
       "      <th>home.dest</th>\n",
       "    </tr>\n",
       "  </thead>\n",
       "  <tbody>\n",
       "    <tr>\n",
       "      <th>0</th>\n",
       "      <td>high</td>\n",
       "      <td>생존</td>\n",
       "      <td>Mellinger, Miss. Madeleine Violet</td>\n",
       "      <td>female</td>\n",
       "      <td>13.0</td>\n",
       "      <td>0</td>\n",
       "      <td>1</td>\n",
       "      <td>250644</td>\n",
       "      <td>19.5000</td>\n",
       "      <td>NaN</td>\n",
       "      <td>S</td>\n",
       "      <td>NaN</td>\n",
       "      <td>England / Bennington, VT</td>\n",
       "    </tr>\n",
       "    <tr>\n",
       "      <th>1</th>\n",
       "      <td>high</td>\n",
       "      <td>생존</td>\n",
       "      <td>Wells, Miss. Joan</td>\n",
       "      <td>female</td>\n",
       "      <td>4.0</td>\n",
       "      <td>1</td>\n",
       "      <td>1</td>\n",
       "      <td>29103</td>\n",
       "      <td>23.0000</td>\n",
       "      <td>NaN</td>\n",
       "      <td>S</td>\n",
       "      <td>NaN</td>\n",
       "      <td>Cornwall / Akron, OH</td>\n",
       "    </tr>\n",
       "    <tr>\n",
       "      <th>2</th>\n",
       "      <td>high</td>\n",
       "      <td>생존</td>\n",
       "      <td>Duran y More, Miss. Florentina</td>\n",
       "      <td>female</td>\n",
       "      <td>30.0</td>\n",
       "      <td>1</td>\n",
       "      <td>0</td>\n",
       "      <td>SC/PARIS 2148</td>\n",
       "      <td>13.8583</td>\n",
       "      <td>NaN</td>\n",
       "      <td>C</td>\n",
       "      <td>NaN</td>\n",
       "      <td>Barcelona, Spain / Havana, Cuba</td>\n",
       "    </tr>\n",
       "    <tr>\n",
       "      <th>3</th>\n",
       "      <td>high</td>\n",
       "      <td>사망</td>\n",
       "      <td>Scanlan, Mr. James</td>\n",
       "      <td>male</td>\n",
       "      <td>NaN</td>\n",
       "      <td>0</td>\n",
       "      <td>0</td>\n",
       "      <td>36209</td>\n",
       "      <td>7.7250</td>\n",
       "      <td>NaN</td>\n",
       "      <td>Q</td>\n",
       "      <td>NaN</td>\n",
       "      <td>NaN</td>\n",
       "    </tr>\n",
       "    <tr>\n",
       "      <th>4</th>\n",
       "      <td>high</td>\n",
       "      <td>생존</td>\n",
       "      <td>Bradley, Miss. Bridget Delia</td>\n",
       "      <td>female</td>\n",
       "      <td>22.0</td>\n",
       "      <td>0</td>\n",
       "      <td>0</td>\n",
       "      <td>334914</td>\n",
       "      <td>7.7250</td>\n",
       "      <td>NaN</td>\n",
       "      <td>Q</td>\n",
       "      <td>NaN</td>\n",
       "      <td>Kingwilliamstown, Co Cork, Ireland Glens Falls...</td>\n",
       "    </tr>\n",
       "    <tr>\n",
       "      <th>...</th>\n",
       "      <td>...</td>\n",
       "      <td>...</td>\n",
       "      <td>...</td>\n",
       "      <td>...</td>\n",
       "      <td>...</td>\n",
       "      <td>...</td>\n",
       "      <td>...</td>\n",
       "      <td>...</td>\n",
       "      <td>...</td>\n",
       "      <td>...</td>\n",
       "      <td>...</td>\n",
       "      <td>...</td>\n",
       "      <td>...</td>\n",
       "    </tr>\n",
       "    <tr>\n",
       "      <th>893</th>\n",
       "      <td>high</td>\n",
       "      <td>사망</td>\n",
       "      <td>Davies, Mr. Joseph</td>\n",
       "      <td>male</td>\n",
       "      <td>17.0</td>\n",
       "      <td>2</td>\n",
       "      <td>0</td>\n",
       "      <td>A/4 48873</td>\n",
       "      <td>8.0500</td>\n",
       "      <td>NaN</td>\n",
       "      <td>S</td>\n",
       "      <td>NaN</td>\n",
       "      <td>West Bromwich, England Pontiac, MI</td>\n",
       "    </tr>\n",
       "    <tr>\n",
       "      <th>894</th>\n",
       "      <td>high</td>\n",
       "      <td>사망</td>\n",
       "      <td>Lockyer, Mr. Edward</td>\n",
       "      <td>male</td>\n",
       "      <td>NaN</td>\n",
       "      <td>0</td>\n",
       "      <td>0</td>\n",
       "      <td>1222</td>\n",
       "      <td>7.8792</td>\n",
       "      <td>NaN</td>\n",
       "      <td>S</td>\n",
       "      <td>153.0</td>\n",
       "      <td>NaN</td>\n",
       "    </tr>\n",
       "    <tr>\n",
       "      <th>895</th>\n",
       "      <td>high</td>\n",
       "      <td>사망</td>\n",
       "      <td>Fortune, Mr. Mark</td>\n",
       "      <td>male</td>\n",
       "      <td>64.0</td>\n",
       "      <td>1</td>\n",
       "      <td>4</td>\n",
       "      <td>19950</td>\n",
       "      <td>263.0000</td>\n",
       "      <td>C23 C25 C27</td>\n",
       "      <td>S</td>\n",
       "      <td>NaN</td>\n",
       "      <td>Winnipeg, MB</td>\n",
       "    </tr>\n",
       "    <tr>\n",
       "      <th>896</th>\n",
       "      <td>high</td>\n",
       "      <td>생존</td>\n",
       "      <td>Dorking, Mr. Edward Arthur</td>\n",
       "      <td>male</td>\n",
       "      <td>19.0</td>\n",
       "      <td>0</td>\n",
       "      <td>0</td>\n",
       "      <td>A/5. 10482</td>\n",
       "      <td>8.0500</td>\n",
       "      <td>NaN</td>\n",
       "      <td>S</td>\n",
       "      <td>NaN</td>\n",
       "      <td>England Oglesby, IL</td>\n",
       "    </tr>\n",
       "    <tr>\n",
       "      <th>897</th>\n",
       "      <td>high</td>\n",
       "      <td>생존</td>\n",
       "      <td>Clark, Mrs. Walter Miller (Virginia McDowell)</td>\n",
       "      <td>female</td>\n",
       "      <td>26.0</td>\n",
       "      <td>1</td>\n",
       "      <td>0</td>\n",
       "      <td>13508</td>\n",
       "      <td>136.7792</td>\n",
       "      <td>C89</td>\n",
       "      <td>C</td>\n",
       "      <td>NaN</td>\n",
       "      <td>Los Angeles, CA</td>\n",
       "    </tr>\n",
       "  </tbody>\n",
       "</table>\n",
       "<p>898 rows × 13 columns</p>\n",
       "</div>"
      ],
      "text/plain": [
       "    pclass survived                                           name     sex  \\\n",
       "0     high       생존              Mellinger, Miss. Madeleine Violet  female   \n",
       "1     high       생존                              Wells, Miss. Joan  female   \n",
       "2     high       생존                 Duran y More, Miss. Florentina  female   \n",
       "3     high       사망                             Scanlan, Mr. James    male   \n",
       "4     high       생존                   Bradley, Miss. Bridget Delia  female   \n",
       "..     ...      ...                                            ...     ...   \n",
       "893   high       사망                             Davies, Mr. Joseph    male   \n",
       "894   high       사망                            Lockyer, Mr. Edward    male   \n",
       "895   high       사망                              Fortune, Mr. Mark    male   \n",
       "896   high       생존                     Dorking, Mr. Edward Arthur    male   \n",
       "897   high       생존  Clark, Mrs. Walter Miller (Virginia McDowell)  female   \n",
       "\n",
       "      age  sibsp  parch         ticket      fare        cabin embarked   body  \\\n",
       "0    13.0      0      1         250644   19.5000          NaN        S    NaN   \n",
       "1     4.0      1      1          29103   23.0000          NaN        S    NaN   \n",
       "2    30.0      1      0  SC/PARIS 2148   13.8583          NaN        C    NaN   \n",
       "3     NaN      0      0          36209    7.7250          NaN        Q    NaN   \n",
       "4    22.0      0      0         334914    7.7250          NaN        Q    NaN   \n",
       "..    ...    ...    ...            ...       ...          ...      ...    ...   \n",
       "893  17.0      2      0      A/4 48873    8.0500          NaN        S    NaN   \n",
       "894   NaN      0      0           1222    7.8792          NaN        S  153.0   \n",
       "895  64.0      1      4          19950  263.0000  C23 C25 C27        S    NaN   \n",
       "896  19.0      0      0     A/5. 10482    8.0500          NaN        S    NaN   \n",
       "897  26.0      1      0          13508  136.7792          C89        C    NaN   \n",
       "\n",
       "                                             home.dest  \n",
       "0                             England / Bennington, VT  \n",
       "1                                 Cornwall / Akron, OH  \n",
       "2                      Barcelona, Spain / Havana, Cuba  \n",
       "3                                                  NaN  \n",
       "4    Kingwilliamstown, Co Cork, Ireland Glens Falls...  \n",
       "..                                                 ...  \n",
       "893                 West Bromwich, England Pontiac, MI  \n",
       "894                                                NaN  \n",
       "895                                       Winnipeg, MB  \n",
       "896                                England Oglesby, IL  \n",
       "897                                    Los Angeles, CA  \n",
       "\n",
       "[898 rows x 13 columns]"
      ]
     },
     "execution_count": 277,
     "metadata": {},
     "output_type": "execute_result"
    }
   ],
   "source": [
    "def survive_mdfy(x):\n",
    "    if x == 1:\n",
    "        return '생존'\n",
    "    elif x == 0:\n",
    "        return '사망'\n",
    "df['survived'] = df['survived'].apply(survive_mdfy)\n",
    "# df[pclass]  = p_class_mdfy(df['pclass'])   \n",
    "df"
   ]
  },
  {
   "cell_type": "code",
   "execution_count": 278,
   "id": "f0f7d2a8",
   "metadata": {},
   "outputs": [
    {
     "data": {
      "text/html": [
       "<div>\n",
       "<style scoped>\n",
       "    .dataframe tbody tr th:only-of-type {\n",
       "        vertical-align: middle;\n",
       "    }\n",
       "\n",
       "    .dataframe tbody tr th {\n",
       "        vertical-align: top;\n",
       "    }\n",
       "\n",
       "    .dataframe thead th {\n",
       "        text-align: right;\n",
       "    }\n",
       "</style>\n",
       "<table border=\"1\" class=\"dataframe\">\n",
       "  <thead>\n",
       "    <tr style=\"text-align: right;\">\n",
       "      <th></th>\n",
       "      <th>pclass</th>\n",
       "      <th>survived</th>\n",
       "      <th>name</th>\n",
       "      <th>sex</th>\n",
       "      <th>age</th>\n",
       "      <th>sibsp</th>\n",
       "      <th>parch</th>\n",
       "      <th>ticket</th>\n",
       "      <th>fare</th>\n",
       "      <th>cabin</th>\n",
       "      <th>embarked</th>\n",
       "      <th>body</th>\n",
       "      <th>home.dest</th>\n",
       "    </tr>\n",
       "  </thead>\n",
       "  <tbody>\n",
       "    <tr>\n",
       "      <th>0</th>\n",
       "      <td>high</td>\n",
       "      <td>생존</td>\n",
       "      <td>Mellinger, Miss. Madeleine Violet</td>\n",
       "      <td>female</td>\n",
       "      <td>10대</td>\n",
       "      <td>0</td>\n",
       "      <td>1</td>\n",
       "      <td>250644</td>\n",
       "      <td>19.5000</td>\n",
       "      <td>NaN</td>\n",
       "      <td>S</td>\n",
       "      <td>NaN</td>\n",
       "      <td>England / Bennington, VT</td>\n",
       "    </tr>\n",
       "    <tr>\n",
       "      <th>1</th>\n",
       "      <td>high</td>\n",
       "      <td>생존</td>\n",
       "      <td>Wells, Miss. Joan</td>\n",
       "      <td>female</td>\n",
       "      <td>그 외</td>\n",
       "      <td>1</td>\n",
       "      <td>1</td>\n",
       "      <td>29103</td>\n",
       "      <td>23.0000</td>\n",
       "      <td>NaN</td>\n",
       "      <td>S</td>\n",
       "      <td>NaN</td>\n",
       "      <td>Cornwall / Akron, OH</td>\n",
       "    </tr>\n",
       "    <tr>\n",
       "      <th>2</th>\n",
       "      <td>high</td>\n",
       "      <td>생존</td>\n",
       "      <td>Duran y More, Miss. Florentina</td>\n",
       "      <td>female</td>\n",
       "      <td>30대</td>\n",
       "      <td>1</td>\n",
       "      <td>0</td>\n",
       "      <td>SC/PARIS 2148</td>\n",
       "      <td>13.8583</td>\n",
       "      <td>NaN</td>\n",
       "      <td>C</td>\n",
       "      <td>NaN</td>\n",
       "      <td>Barcelona, Spain / Havana, Cuba</td>\n",
       "    </tr>\n",
       "    <tr>\n",
       "      <th>3</th>\n",
       "      <td>high</td>\n",
       "      <td>사망</td>\n",
       "      <td>Scanlan, Mr. James</td>\n",
       "      <td>male</td>\n",
       "      <td>그 외</td>\n",
       "      <td>0</td>\n",
       "      <td>0</td>\n",
       "      <td>36209</td>\n",
       "      <td>7.7250</td>\n",
       "      <td>NaN</td>\n",
       "      <td>Q</td>\n",
       "      <td>NaN</td>\n",
       "      <td>NaN</td>\n",
       "    </tr>\n",
       "    <tr>\n",
       "      <th>4</th>\n",
       "      <td>high</td>\n",
       "      <td>생존</td>\n",
       "      <td>Bradley, Miss. Bridget Delia</td>\n",
       "      <td>female</td>\n",
       "      <td>20대</td>\n",
       "      <td>0</td>\n",
       "      <td>0</td>\n",
       "      <td>334914</td>\n",
       "      <td>7.7250</td>\n",
       "      <td>NaN</td>\n",
       "      <td>Q</td>\n",
       "      <td>NaN</td>\n",
       "      <td>Kingwilliamstown, Co Cork, Ireland Glens Falls...</td>\n",
       "    </tr>\n",
       "    <tr>\n",
       "      <th>...</th>\n",
       "      <td>...</td>\n",
       "      <td>...</td>\n",
       "      <td>...</td>\n",
       "      <td>...</td>\n",
       "      <td>...</td>\n",
       "      <td>...</td>\n",
       "      <td>...</td>\n",
       "      <td>...</td>\n",
       "      <td>...</td>\n",
       "      <td>...</td>\n",
       "      <td>...</td>\n",
       "      <td>...</td>\n",
       "      <td>...</td>\n",
       "    </tr>\n",
       "    <tr>\n",
       "      <th>893</th>\n",
       "      <td>high</td>\n",
       "      <td>사망</td>\n",
       "      <td>Davies, Mr. Joseph</td>\n",
       "      <td>male</td>\n",
       "      <td>10대</td>\n",
       "      <td>2</td>\n",
       "      <td>0</td>\n",
       "      <td>A/4 48873</td>\n",
       "      <td>8.0500</td>\n",
       "      <td>NaN</td>\n",
       "      <td>S</td>\n",
       "      <td>NaN</td>\n",
       "      <td>West Bromwich, England Pontiac, MI</td>\n",
       "    </tr>\n",
       "    <tr>\n",
       "      <th>894</th>\n",
       "      <td>high</td>\n",
       "      <td>사망</td>\n",
       "      <td>Lockyer, Mr. Edward</td>\n",
       "      <td>male</td>\n",
       "      <td>그 외</td>\n",
       "      <td>0</td>\n",
       "      <td>0</td>\n",
       "      <td>1222</td>\n",
       "      <td>7.8792</td>\n",
       "      <td>NaN</td>\n",
       "      <td>S</td>\n",
       "      <td>153.0</td>\n",
       "      <td>NaN</td>\n",
       "    </tr>\n",
       "    <tr>\n",
       "      <th>895</th>\n",
       "      <td>high</td>\n",
       "      <td>사망</td>\n",
       "      <td>Fortune, Mr. Mark</td>\n",
       "      <td>male</td>\n",
       "      <td>60대</td>\n",
       "      <td>1</td>\n",
       "      <td>4</td>\n",
       "      <td>19950</td>\n",
       "      <td>263.0000</td>\n",
       "      <td>C23 C25 C27</td>\n",
       "      <td>S</td>\n",
       "      <td>NaN</td>\n",
       "      <td>Winnipeg, MB</td>\n",
       "    </tr>\n",
       "    <tr>\n",
       "      <th>896</th>\n",
       "      <td>high</td>\n",
       "      <td>생존</td>\n",
       "      <td>Dorking, Mr. Edward Arthur</td>\n",
       "      <td>male</td>\n",
       "      <td>10대</td>\n",
       "      <td>0</td>\n",
       "      <td>0</td>\n",
       "      <td>A/5. 10482</td>\n",
       "      <td>8.0500</td>\n",
       "      <td>NaN</td>\n",
       "      <td>S</td>\n",
       "      <td>NaN</td>\n",
       "      <td>England Oglesby, IL</td>\n",
       "    </tr>\n",
       "    <tr>\n",
       "      <th>897</th>\n",
       "      <td>high</td>\n",
       "      <td>생존</td>\n",
       "      <td>Clark, Mrs. Walter Miller (Virginia McDowell)</td>\n",
       "      <td>female</td>\n",
       "      <td>20대</td>\n",
       "      <td>1</td>\n",
       "      <td>0</td>\n",
       "      <td>13508</td>\n",
       "      <td>136.7792</td>\n",
       "      <td>C89</td>\n",
       "      <td>C</td>\n",
       "      <td>NaN</td>\n",
       "      <td>Los Angeles, CA</td>\n",
       "    </tr>\n",
       "  </tbody>\n",
       "</table>\n",
       "<p>898 rows × 13 columns</p>\n",
       "</div>"
      ],
      "text/plain": [
       "    pclass survived                                           name     sex  \\\n",
       "0     high       생존              Mellinger, Miss. Madeleine Violet  female   \n",
       "1     high       생존                              Wells, Miss. Joan  female   \n",
       "2     high       생존                 Duran y More, Miss. Florentina  female   \n",
       "3     high       사망                             Scanlan, Mr. James    male   \n",
       "4     high       생존                   Bradley, Miss. Bridget Delia  female   \n",
       "..     ...      ...                                            ...     ...   \n",
       "893   high       사망                             Davies, Mr. Joseph    male   \n",
       "894   high       사망                            Lockyer, Mr. Edward    male   \n",
       "895   high       사망                              Fortune, Mr. Mark    male   \n",
       "896   high       생존                     Dorking, Mr. Edward Arthur    male   \n",
       "897   high       생존  Clark, Mrs. Walter Miller (Virginia McDowell)  female   \n",
       "\n",
       "     age  sibsp  parch         ticket      fare        cabin embarked   body  \\\n",
       "0    10대      0      1         250644   19.5000          NaN        S    NaN   \n",
       "1    그 외      1      1          29103   23.0000          NaN        S    NaN   \n",
       "2    30대      1      0  SC/PARIS 2148   13.8583          NaN        C    NaN   \n",
       "3    그 외      0      0          36209    7.7250          NaN        Q    NaN   \n",
       "4    20대      0      0         334914    7.7250          NaN        Q    NaN   \n",
       "..   ...    ...    ...            ...       ...          ...      ...    ...   \n",
       "893  10대      2      0      A/4 48873    8.0500          NaN        S    NaN   \n",
       "894  그 외      0      0           1222    7.8792          NaN        S  153.0   \n",
       "895  60대      1      4          19950  263.0000  C23 C25 C27        S    NaN   \n",
       "896  10대      0      0     A/5. 10482    8.0500          NaN        S    NaN   \n",
       "897  20대      1      0          13508  136.7792          C89        C    NaN   \n",
       "\n",
       "                                             home.dest  \n",
       "0                             England / Bennington, VT  \n",
       "1                                 Cornwall / Akron, OH  \n",
       "2                      Barcelona, Spain / Havana, Cuba  \n",
       "3                                                  NaN  \n",
       "4    Kingwilliamstown, Co Cork, Ireland Glens Falls...  \n",
       "..                                                 ...  \n",
       "893                 West Bromwich, England Pontiac, MI  \n",
       "894                                                NaN  \n",
       "895                                       Winnipeg, MB  \n",
       "896                                England Oglesby, IL  \n",
       "897                                    Los Angeles, CA  \n",
       "\n",
       "[898 rows x 13 columns]"
      ]
     },
     "execution_count": 278,
     "metadata": {},
     "output_type": "execute_result"
    }
   ],
   "source": [
    "def survive_mdfy(x):\n",
    "    if 10<=x<20 :\n",
    "        return '10대'\n",
    "    elif 20<=x<30:\n",
    "        return '20대'\n",
    "    elif 30<=x<40:\n",
    "        return '30대'\n",
    "    elif 40<=x<50:\n",
    "        return '40대'\n",
    "    elif 50<=x<60:\n",
    "        return '50대'\n",
    "    elif 60<=x<70:\n",
    "        return '60대'\n",
    "    else:\n",
    "        return '그 외'\n",
    "    \n",
    "    \n",
    "df['age'] = df['age'].apply(survive_mdfy)\n",
    "# df[pclass]  = p_class_mdfy(df['pclass'])   \n",
    "df"
   ]
  },
  {
   "cell_type": "code",
   "execution_count": null,
   "id": "284bdc9a",
   "metadata": {},
   "outputs": [],
   "source": []
  },
  {
   "cell_type": "code",
   "execution_count": 298,
   "id": "73e63d5e",
   "metadata": {},
   "outputs": [
    {
     "data": {
      "text/plain": [
       "남자    667\n",
       "여자    177\n",
       "기타     54\n",
       "Name: name_result, dtype: int64"
      ]
     },
     "execution_count": 298,
     "metadata": {},
     "output_type": "execute_result"
    }
   ],
   "source": [
    "df2 = pd.read_csv('../csv-data/titanic_train.csv')\n",
    "df2\n",
    "\n",
    "def name_sex(x): \n",
    "    if 'Mr' in x or 'Dr' in x:\n",
    "        return '남자'\n",
    "    elif 'Miss' in x:\n",
    "        return '여자'\n",
    "    else:\n",
    "        return '기타'\n",
    "    \n",
    "df2['name_result'] = df2['name'].apply(name_sex)\n",
    "df2\n",
    "\n",
    "df2['name_result'].value_counts()\n"
   ]
  },
  {
   "cell_type": "code",
   "execution_count": null,
   "id": "97b0c48c",
   "metadata": {},
   "outputs": [],
   "source": [
    "#apply, map의 용도는 df의 컬럼의 값을 특정 처리 후, df의 컬럼으로 다시 갱신하거나 , 파생변수를 만들어 \n",
    "#집어넣기 위한 것. \n",
    "# ==> apply, map의 함수로 사용되는 것은 입력값이 시리즈의 값 하나를 처리하는 단위로 만들어야 함. \n",
    "# ==> return 을 반드시 넣어서 함수로 만들어야 한다. \n",
    "#x는 시리즈(리스트)의 하나의 값을 처리하는 단위 \n"
   ]
  }
 ],
 "metadata": {
  "kernelspec": {
   "display_name": "Python 3 (ipykernel)",
   "language": "python",
   "name": "python3"
  },
  "language_info": {
   "codemirror_mode": {
    "name": "ipython",
    "version": 3
   },
   "file_extension": ".py",
   "mimetype": "text/x-python",
   "name": "python",
   "nbconvert_exporter": "python",
   "pygments_lexer": "ipython3",
   "version": "3.7.13"
  }
 },
 "nbformat": 4,
 "nbformat_minor": 5
}
