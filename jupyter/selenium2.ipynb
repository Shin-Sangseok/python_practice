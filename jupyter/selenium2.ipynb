{
 "cells": [
  {
   "cell_type": "code",
   "execution_count": 94,
   "metadata": {},
   "outputs": [],
   "source": [
    "#step1.selenium 패키지와 time 모듈 import\n",
    "from selenium import webdriver\n",
    "from selenium.webdriver.common.keys import Keys\n",
    "import time"
   ]
  },
  {
   "cell_type": "code",
   "execution_count": 95,
   "metadata": {},
   "outputs": [],
   "source": [
    "# 동적크롤링-수업중-네이버검색\n",
    "import warnings\n",
    "warnings.filterwarnings(action='ignore')\n",
    "from selenium.webdriver.common.by import By\n",
    "from selenium.webdriver.support.ui import WebDriverWait \n",
    "from selenium.webdriver.support import expected_conditions as EC\n",
    "#step1.selenium 패키지와 time 모듈 import\n",
    "from selenium import webdriver\n",
    "from selenium.webdriver.common.keys import Keys\n",
    "import time"
   ]
  },
  {
   "cell_type": "code",
   "execution_count": 96,
   "metadata": {},
   "outputs": [
    {
     "name": "stdout",
     "output_type": "stream",
     "text": [
      "검색할 키워드를 입력하세요>>>자동차\n"
     ]
    }
   ],
   "source": [
    "#검색할 키워드 입력 \n",
    "query = input('검색할 키워드를 입력하세요>>>')"
   ]
  },
  {
   "cell_type": "code",
   "execution_count": 97,
   "metadata": {},
   "outputs": [],
   "source": [
    "#크롬드라이버 원하는 url 접속 \n",
    "#1. 크롬 브라우저 실행 \n",
    "driver = webdriver.Chrome(r'C:\\Users\\hi\\hi-AI\\chromedriver.exe')"
   ]
  },
  {
   "cell_type": "code",
   "execution_count": 98,
   "metadata": {},
   "outputs": [],
   "source": [
    "#2. 특정 url:http://www.naver.com 페이지로 연결 \n",
    "url = 'http://www.naver.com'\n",
    "driver.get(url) #http요청을 보내라 ! <----http응답을 보낼 것임. "
   ]
  },
  {
   "cell_type": "code",
   "execution_count": 99,
   "metadata": {},
   "outputs": [],
   "source": [
    "#연결하여 페이지를 받아오는 동안 기다리기 설정 \n",
    "time.sleep(2)"
   ]
  },
  {
   "cell_type": "code",
   "execution_count": 100,
   "metadata": {},
   "outputs": [],
   "source": [
    "#3. 네이버 검색 input 태그의 위치를 찾아서 \n",
    "##query \n",
    "search_box = driver.find_element_by_css_selector('input#query')\n",
    "\n",
    "#4. 3번에서 찾은 input태그에 검색어를 넣는다 \n",
    "search_box.send_keys(query)\n",
    "\n",
    "#5.4번에서 입력한 값 서버로 전송 \n",
    "search_box.send_keys(Keys.ENTER)\n",
    "\n",
    "#기다리기 설정 \n",
    "time.sleep(2)\n",
    "\n",
    "\n"
   ]
  },
  {
   "cell_type": "code",
   "execution_count": 101,
   "metadata": {},
   "outputs": [],
   "source": [
    "#6. news tab을 찾아라 \n",
    "news_tab = driver.find_element_by_css_selector('#lnb > div.lnb_group > div > ul > li:nth-child(8) > a')\n",
    "\n",
    "news_tab.click()\n",
    "time.sleep(1)"
   ]
  },
  {
   "cell_type": "code",
   "execution_count": 102,
   "metadata": {},
   "outputs": [],
   "source": [
    "#ls c* 현재 위치 파일 목록 \n",
    "#from IPython.display import Image\n",
    "#Image('./css.png')"
   ]
  },
  {
   "cell_type": "code",
   "execution_count": 103,
   "metadata": {},
   "outputs": [
    {
     "data": {
      "text/plain": [
       "[<selenium.webdriver.remote.webelement.WebElement (session=\"7cb45ceecf7d4e5e329499d835f3a46d\", element=\"daffc24c-6da0-4cda-a6e1-07b3f58f27d8\")>,\n",
       " <selenium.webdriver.remote.webelement.WebElement (session=\"7cb45ceecf7d4e5e329499d835f3a46d\", element=\"a32d41ec-0275-44ad-a209-14bd052858d5\")>,\n",
       " <selenium.webdriver.remote.webelement.WebElement (session=\"7cb45ceecf7d4e5e329499d835f3a46d\", element=\"d1f8f333-6b5a-467b-af36-b1a0a74c2974\")>,\n",
       " <selenium.webdriver.remote.webelement.WebElement (session=\"7cb45ceecf7d4e5e329499d835f3a46d\", element=\"10478e4d-0f60-4e62-ba66-1c85b0ad69ae\")>,\n",
       " <selenium.webdriver.remote.webelement.WebElement (session=\"7cb45ceecf7d4e5e329499d835f3a46d\", element=\"b092522e-94d2-4893-a12c-aee1db2d06dd\")>,\n",
       " <selenium.webdriver.remote.webelement.WebElement (session=\"7cb45ceecf7d4e5e329499d835f3a46d\", element=\"4a356be4-7602-4c58-9dd3-25165054509b\")>,\n",
       " <selenium.webdriver.remote.webelement.WebElement (session=\"7cb45ceecf7d4e5e329499d835f3a46d\", element=\"acc1039b-06e7-4986-929d-206725c0bd9d\")>,\n",
       " <selenium.webdriver.remote.webelement.WebElement (session=\"7cb45ceecf7d4e5e329499d835f3a46d\", element=\"ca67a3cb-4e56-4d1d-a2bf-52a199c8110a\")>,\n",
       " <selenium.webdriver.remote.webelement.WebElement (session=\"7cb45ceecf7d4e5e329499d835f3a46d\", element=\"fef8eccb-1da1-4aab-9f69-468f92b80d85\")>,\n",
       " <selenium.webdriver.remote.webelement.WebElement (session=\"7cb45ceecf7d4e5e329499d835f3a46d\", element=\"c9099103-9eec-4bf3-9e39-71c8fdcb96e3\")>]"
      ]
     },
     "execution_count": 103,
     "metadata": {},
     "output_type": "execute_result"
    }
   ],
   "source": [
    "# 뉴스 제목 가지고 와보자 => #sp_nws1 > div.news_wrap.api_ani_send > div > a\n",
    "news_title = driver.find_elements_by_css_selector('a.news_tit')\n",
    "news_title"
   ]
  },
  {
   "cell_type": "code",
   "execution_count": 104,
   "metadata": {},
   "outputs": [
    {
     "data": {
      "text/plain": [
       "list"
      ]
     },
     "execution_count": 104,
     "metadata": {},
     "output_type": "execute_result"
    }
   ],
   "source": [
    "type(news_title)"
   ]
  },
  {
   "cell_type": "code",
   "execution_count": 105,
   "metadata": {},
   "outputs": [
    {
     "name": "stdout",
     "output_type": "stream",
     "text": [
      "‘자동차 정기 검사’ 안 받으면 과태료 최대 60만 원\n",
      "자동차 보험료 10만원 가량 절약받는 법은?\n",
      "쌍용자동차, 에디슨모터스 컨소시엄과 투자계약 해제…“새 인수자 물색”\n",
      "쌍용자동차, 에디슨 모터스에 M&A 해지 통보…‘새 주인 찾기’ 재시동\n",
      "다음 달부터 자동차보험 ‘마일리지 특약’ 자동가입으로 변경\n",
      "화승케미칼, 자동차 애프터마켓 진출\n",
      "화승케미칼, 카루미 론칭...자동차 애프터마켓 진출\n",
      "4월부터 자동차 마일리지 특약 자동 가입된다\n",
      "인천 남동구, 자동차 공회전 제한지역 51곳→ 81곳 확대\n",
      "원주시, 자동차 정기검사 지연 과태료 2배 인상\n"
     ]
    }
   ],
   "source": [
    "for title in news_title:\n",
    "    print(title.text)\n"
   ]
  },
  {
   "cell_type": "code",
   "execution_count": 106,
   "metadata": {},
   "outputs": [
    {
     "name": "stdout",
     "output_type": "stream",
     "text": [
      "10\n"
     ]
    }
   ],
   "source": [
    "title_list = []\n",
    "for title in news_title:\n",
    "    title_list.append(title.text)\n",
    "print(len(title_list))"
   ]
  },
  {
   "cell_type": "code",
   "execution_count": 107,
   "metadata": {},
   "outputs": [
    {
     "name": "stdout",
     "output_type": "stream",
     "text": [
      "10\n"
     ]
    }
   ],
   "source": [
    "# 뉴스 url 가지고 와보자\n",
    "url_list = []\n",
    "for title in news_title:\n",
    "    url_list.append(title.get_attribute('href'))\n",
    "print(len(url_list))"
   ]
  },
  {
   "cell_type": "code",
   "execution_count": 108,
   "metadata": {},
   "outputs": [
    {
     "data": {
      "text/plain": [
       "[<selenium.webdriver.remote.webelement.WebElement (session=\"7cb45ceecf7d4e5e329499d835f3a46d\", element=\"8befd4a6-d516-429e-ae6b-5fa87d35b779\")>,\n",
       " <selenium.webdriver.remote.webelement.WebElement (session=\"7cb45ceecf7d4e5e329499d835f3a46d\", element=\"04200ae3-bf2f-402f-a1a9-4aa8293a7d46\")>,\n",
       " <selenium.webdriver.remote.webelement.WebElement (session=\"7cb45ceecf7d4e5e329499d835f3a46d\", element=\"52c860ce-268b-42de-b8b4-a2eebc03b201\")>,\n",
       " <selenium.webdriver.remote.webelement.WebElement (session=\"7cb45ceecf7d4e5e329499d835f3a46d\", element=\"204e437c-cb34-47f8-967f-c741fce40a61\")>,\n",
       " <selenium.webdriver.remote.webelement.WebElement (session=\"7cb45ceecf7d4e5e329499d835f3a46d\", element=\"df3ff0df-779d-411d-a9b1-99e13dcf1478\")>,\n",
       " <selenium.webdriver.remote.webelement.WebElement (session=\"7cb45ceecf7d4e5e329499d835f3a46d\", element=\"823858b7-d2a1-4d27-b6f1-a795ca3ce3bf\")>,\n",
       " <selenium.webdriver.remote.webelement.WebElement (session=\"7cb45ceecf7d4e5e329499d835f3a46d\", element=\"252f3005-c633-4b75-a436-aa9daeec20b7\")>,\n",
       " <selenium.webdriver.remote.webelement.WebElement (session=\"7cb45ceecf7d4e5e329499d835f3a46d\", element=\"0a641789-c8b2-4922-8085-dae3b9cf4af9\")>,\n",
       " <selenium.webdriver.remote.webelement.WebElement (session=\"7cb45ceecf7d4e5e329499d835f3a46d\", element=\"08edff4d-6d87-4a11-b94a-81525e447503\")>,\n",
       " <selenium.webdriver.remote.webelement.WebElement (session=\"7cb45ceecf7d4e5e329499d835f3a46d\", element=\"141b025f-8d51-47fa-8d98-83f064e79fec\")>]"
      ]
     },
     "execution_count": 108,
     "metadata": {},
     "output_type": "execute_result"
    }
   ],
   "source": [
    "# 뉴스 셈네일 가지고 와보자 -> #sp_nws1 > div.news_wrap.api_ani_send > a > img\n",
    "news_img = driver.find_elements_by_css_selector('img.thumb.api_get')\n",
    "news_img"
   ]
  },
  {
   "cell_type": "code",
   "execution_count": 109,
   "metadata": {},
   "outputs": [
    {
     "name": "stdout",
     "output_type": "stream",
     "text": [
      "10\n"
     ]
    }
   ],
   "source": [
    "img_list = []\n",
    "for img in news_img:\n",
    "    img_list.append(img.get_attribute('src'))\n",
    "print(len(img_list))"
   ]
  },
  {
   "cell_type": "code",
   "execution_count": 110,
   "metadata": {},
   "outputs": [],
   "source": [
    "import pandas as pd "
   ]
  },
  {
   "cell_type": "code",
   "execution_count": 111,
   "metadata": {},
   "outputs": [
    {
     "data": {
      "text/html": [
       "<div>\n",
       "<style scoped>\n",
       "    .dataframe tbody tr th:only-of-type {\n",
       "        vertical-align: middle;\n",
       "    }\n",
       "\n",
       "    .dataframe tbody tr th {\n",
       "        vertical-align: top;\n",
       "    }\n",
       "\n",
       "    .dataframe thead th {\n",
       "        text-align: right;\n",
       "    }\n",
       "</style>\n",
       "<table border=\"1\" class=\"dataframe\">\n",
       "  <thead>\n",
       "    <tr style=\"text-align: right;\">\n",
       "      <th></th>\n",
       "      <th>title</th>\n",
       "      <th>url</th>\n",
       "      <th>img</th>\n",
       "    </tr>\n",
       "  </thead>\n",
       "  <tbody>\n",
       "    <tr>\n",
       "      <td>0</td>\n",
       "      <td>‘자동차 정기 검사’ 안 받으면 과태료 최대 60만 원</td>\n",
       "      <td>http://www.newsis.com/view/?id=NISX20220328_00...</td>\n",
       "      <td>https://search.pstatic.net/common/?src=https%3...</td>\n",
       "    </tr>\n",
       "    <tr>\n",
       "      <td>1</td>\n",
       "      <td>자동차 보험료 10만원 가량 절약받는 법은?</td>\n",
       "      <td>https://zdnet.co.kr/view/?no=20220328100552</td>\n",
       "      <td>https://search.pstatic.net/common/?src=https%3...</td>\n",
       "    </tr>\n",
       "    <tr>\n",
       "      <td>2</td>\n",
       "      <td>쌍용자동차, 에디슨모터스 컨소시엄과 투자계약 해제…“새 인수자 물색”</td>\n",
       "      <td>https://sports.donga.com/article/all/20220328/...</td>\n",
       "      <td>https://search.pstatic.net/common/?src=https%3...</td>\n",
       "    </tr>\n",
       "    <tr>\n",
       "      <td>3</td>\n",
       "      <td>쌍용자동차, 에디슨 모터스에 M&amp;A 해지 통보…‘새 주인 찾기’ 재시동</td>\n",
       "      <td>https://www.donga.com/news/article/all/2022032...</td>\n",
       "      <td>https://search.pstatic.net/common/?src=https%3...</td>\n",
       "    </tr>\n",
       "    <tr>\n",
       "      <td>4</td>\n",
       "      <td>다음 달부터 자동차보험 ‘마일리지 특약’ 자동가입으로 변경</td>\n",
       "      <td>https://news.kbs.co.kr/news/view.do?ncd=542499...</td>\n",
       "      <td>https://search.pstatic.net/common/?src=https%3...</td>\n",
       "    </tr>\n",
       "    <tr>\n",
       "      <td>5</td>\n",
       "      <td>화승케미칼, 자동차 애프터마켓 진출</td>\n",
       "      <td>http://yna.kr/AKR20220328033100051?did=1195m</td>\n",
       "      <td>https://search.pstatic.net/common/?src=https%3...</td>\n",
       "    </tr>\n",
       "    <tr>\n",
       "      <td>6</td>\n",
       "      <td>화승케미칼, 카루미 론칭...자동차 애프터마켓 진출</td>\n",
       "      <td>http://www.etnews.com/20220328000169</td>\n",
       "      <td>https://search.pstatic.net/common/?src=https%3...</td>\n",
       "    </tr>\n",
       "    <tr>\n",
       "      <td>7</td>\n",
       "      <td>4월부터 자동차 마일리지 특약 자동 가입된다</td>\n",
       "      <td>https://www.seoul.co.kr/news/newsView.php?id=2...</td>\n",
       "      <td>https://search.pstatic.net/common/?src=https%3...</td>\n",
       "    </tr>\n",
       "    <tr>\n",
       "      <td>8</td>\n",
       "      <td>인천 남동구, 자동차 공회전 제한지역 51곳→ 81곳 확대</td>\n",
       "      <td>https://view.asiae.co.kr/article/2022032814330...</td>\n",
       "      <td>https://search.pstatic.net/common/?src=https%3...</td>\n",
       "    </tr>\n",
       "    <tr>\n",
       "      <td>9</td>\n",
       "      <td>원주시, 자동차 정기검사 지연 과태료 2배 인상</td>\n",
       "      <td>http://www.newsis.com/view/?id=NISX20220328_00...</td>\n",
       "      <td>https://search.pstatic.net/common/?src=https%3...</td>\n",
       "    </tr>\n",
       "  </tbody>\n",
       "</table>\n",
       "</div>"
      ],
      "text/plain": [
       "                                     title  \\\n",
       "0           ‘자동차 정기 검사’ 안 받으면 과태료 최대 60만 원   \n",
       "1                 자동차 보험료 10만원 가량 절약받는 법은?   \n",
       "2   쌍용자동차, 에디슨모터스 컨소시엄과 투자계약 해제…“새 인수자 물색”   \n",
       "3  쌍용자동차, 에디슨 모터스에 M&A 해지 통보…‘새 주인 찾기’ 재시동   \n",
       "4         다음 달부터 자동차보험 ‘마일리지 특약’ 자동가입으로 변경   \n",
       "5                      화승케미칼, 자동차 애프터마켓 진출   \n",
       "6             화승케미칼, 카루미 론칭...자동차 애프터마켓 진출   \n",
       "7                 4월부터 자동차 마일리지 특약 자동 가입된다   \n",
       "8         인천 남동구, 자동차 공회전 제한지역 51곳→ 81곳 확대   \n",
       "9               원주시, 자동차 정기검사 지연 과태료 2배 인상   \n",
       "\n",
       "                                                 url  \\\n",
       "0  http://www.newsis.com/view/?id=NISX20220328_00...   \n",
       "1        https://zdnet.co.kr/view/?no=20220328100552   \n",
       "2  https://sports.donga.com/article/all/20220328/...   \n",
       "3  https://www.donga.com/news/article/all/2022032...   \n",
       "4  https://news.kbs.co.kr/news/view.do?ncd=542499...   \n",
       "5       http://yna.kr/AKR20220328033100051?did=1195m   \n",
       "6               http://www.etnews.com/20220328000169   \n",
       "7  https://www.seoul.co.kr/news/newsView.php?id=2...   \n",
       "8  https://view.asiae.co.kr/article/2022032814330...   \n",
       "9  http://www.newsis.com/view/?id=NISX20220328_00...   \n",
       "\n",
       "                                                 img  \n",
       "0  https://search.pstatic.net/common/?src=https%3...  \n",
       "1  https://search.pstatic.net/common/?src=https%3...  \n",
       "2  https://search.pstatic.net/common/?src=https%3...  \n",
       "3  https://search.pstatic.net/common/?src=https%3...  \n",
       "4  https://search.pstatic.net/common/?src=https%3...  \n",
       "5  https://search.pstatic.net/common/?src=https%3...  \n",
       "6  https://search.pstatic.net/common/?src=https%3...  \n",
       "7  https://search.pstatic.net/common/?src=https%3...  \n",
       "8  https://search.pstatic.net/common/?src=https%3...  \n",
       "9  https://search.pstatic.net/common/?src=https%3...  "
      ]
     },
     "execution_count": 111,
     "metadata": {},
     "output_type": "execute_result"
    }
   ],
   "source": [
    "naver_search_df = pd.DataFrame({ 'title' : title_list,\n",
    "                               'url' : url_list,\n",
    "                               'img' : img_list\n",
    "                               })\n",
    "naver_search_df"
   ]
  },
  {
   "cell_type": "code",
   "execution_count": 112,
   "metadata": {},
   "outputs": [],
   "source": [
    "# 이미지 주소가지고 img를 컴퓨터에 다운로드 해보자.!\n",
    "# 저장 위치 결정, 현재 경로(폴더) 설정\n",
    "path_folder = './'  ## path_folder = './img'\n",
    "import os\n",
    "if not os.path.isdir(path_folder): \n",
    "    os.mkdir(path_folder)"
   ]
  },
  {
   "cell_type": "code",
   "execution_count": 113,
   "metadata": {},
   "outputs": [],
   "source": [
    "from urllib.request import urlretrieve"
   ]
  },
  {
   "cell_type": "code",
   "execution_count": 114,
   "metadata": {},
   "outputs": [],
   "source": [
    "i = 0\n",
    "for img in img_list:\n",
    "    i += 1 # i = i + 1\n",
    "    urlretrieve(img, path_folder + str(i) + '.jpg')"
   ]
  },
  {
   "cell_type": "code",
   "execution_count": 115,
   "metadata": {},
   "outputs": [
    {
     "name": "stdout",
     "output_type": "stream",
     "text": [
      " C 드라이브의 볼륨에는 이름이 없습니다.\n",
      " 볼륨 일련 번호: AE94-D5A8\n",
      "\n",
      " C:\\Users\\hi\\hi-AI 디렉터리\n",
      "\n",
      "2022-03-28  오후 03:38            17,349 1.jpg\n",
      "2022-03-28  오후 03:38            16,267 10.jpg\n",
      "2022-03-28  오후 03:38            19,169 2.jpg\n",
      "2022-03-28  오후 03:38            12,566 3.jpg\n",
      "2022-03-28  오후 03:38            13,191 4.jpg\n",
      "2022-03-28  오후 03:38            18,704 5.jpg\n",
      "2022-03-28  오후 03:38             7,032 6.jpg\n",
      "2022-03-28  오후 03:38            27,078 7.jpg\n",
      "2022-03-28  오후 03:38            19,986 8.jpg\n",
      "2022-03-28  오후 03:38            19,789 9.jpg\n",
      "2022-03-22  오전 10:26             1,622 cloud.jpg\n",
      "              11개 파일             172,753 바이트\n",
      "               0개 디렉터리  79,178,227,712 바이트 남음\n"
     ]
    }
   ],
   "source": [
    "ls *jpg"
   ]
  }
 ],
 "metadata": {
  "kernelspec": {
   "display_name": "Python 3",
   "language": "python",
   "name": "python3"
  },
  "language_info": {
   "codemirror_mode": {
    "name": "ipython",
    "version": 3
   },
   "file_extension": ".py",
   "mimetype": "text/x-python",
   "name": "python",
   "nbconvert_exporter": "python",
   "pygments_lexer": "ipython3",
   "version": "3.7.4"
  }
 },
 "nbformat": 4,
 "nbformat_minor": 2
}
