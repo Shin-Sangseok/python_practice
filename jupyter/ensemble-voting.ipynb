{
 "cells": [
  {
   "cell_type": "code",
   "execution_count": 46,
   "id": "a2ead308",
   "metadata": {},
   "outputs": [],
   "source": [
    "import warnings\n",
    "warnings.filterwarnings(action='ignore')\n",
    "import time\n",
    "from IPython.display import Image\n",
    "import pandas as pd\n",
    "import numpy as np\n",
    "\n",
    "import matplotlib.pyplot as plt\n",
    "import seaborn as sns\n",
    "\n",
    "from sklearn.model_selection import train_test_split\n",
    "from sklearn.model_selection import GridSearchCV\n",
    "from sklearn.model_selection import cross_val_score\n",
    "from sklearn.tree import DecisionTreeClassifier\n",
    "from sklearn.neighbors import KNeighborsClassifier\n",
    "from sklearn.svm import SVC\n",
    "from sklearn.metrics import *\n",
    "from sklearn.metrics import roc_curve, roc_auc_score\n",
    "from sklearn.ensemble import VotingClassifier\n",
    "\n",
    "from matplotlib import rc, font_manager\n",
    "import matplotlib.font_manager as fm\n",
    "from sklearn.preprocessing import StandardScaler\n",
    "from sklearn.preprocessing import MinMaxScaler\n",
    "from sklearn.preprocessing import LabelEncoder\n",
    "from sklearn import datasets"
   ]
  },
  {
   "cell_type": "code",
   "execution_count": 21,
   "id": "c79b85cb",
   "metadata": {},
   "outputs": [],
   "source": [
    "##estimator, model, 알고리즘, classifier "
   ]
  },
  {
   "cell_type": "code",
   "execution_count": 22,
   "id": "21a700ec",
   "metadata": {},
   "outputs": [],
   "source": [
    "mnist = datasets.load_digits() "
   ]
  },
  {
   "cell_type": "code",
   "execution_count": 23,
   "id": "3498e411",
   "metadata": {},
   "outputs": [
    {
     "data": {
      "text/plain": [
       "dict_keys(['data', 'target', 'frame', 'feature_names', 'target_names', 'images', 'DESCR'])"
      ]
     },
     "execution_count": 23,
     "metadata": {},
     "output_type": "execute_result"
    }
   ],
   "source": [
    "mnist.keys()"
   ]
  },
  {
   "cell_type": "code",
   "execution_count": 24,
   "id": "6d3ac56a",
   "metadata": {},
   "outputs": [],
   "source": [
    "features, labels = mnist.data, mnist.target"
   ]
  },
  {
   "cell_type": "code",
   "execution_count": 25,
   "id": "d2276952",
   "metadata": {},
   "outputs": [
    {
     "data": {
      "text/plain": [
       "array([0, 1, 2, ..., 8, 9, 8])"
      ]
     },
     "execution_count": 25,
     "metadata": {},
     "output_type": "execute_result"
    }
   ],
   "source": [
    "labels"
   ]
  },
  {
   "cell_type": "code",
   "execution_count": 26,
   "id": "b1af8cc3",
   "metadata": {},
   "outputs": [],
   "source": [
    "X_train, X_test, y_train, y_test = train_test_split(features, labels, test_size = 0.2)"
   ]
  },
  {
   "cell_type": "code",
   "execution_count": 27,
   "id": "64f3b00a",
   "metadata": {},
   "outputs": [
    {
     "data": {
      "text/plain": [
       "((1437, 64), (1437,))"
      ]
     },
     "execution_count": 27,
     "metadata": {},
     "output_type": "execute_result"
    }
   ],
   "source": [
    "X_train.shape, y_train.shape"
   ]
  },
  {
   "cell_type": "code",
   "execution_count": 28,
   "id": "d64fc591",
   "metadata": {},
   "outputs": [
    {
     "data": {
      "text/plain": [
       "((360, 64), (360,))"
      ]
     },
     "execution_count": 28,
     "metadata": {},
     "output_type": "execute_result"
    }
   ],
   "source": [
    "X_test.shape, y_test.shape"
   ]
  },
  {
   "cell_type": "code",
   "execution_count": null,
   "id": "e588979b",
   "metadata": {},
   "outputs": [],
   "source": [
    "#### 싱글 모델 ####"
   ]
  },
  {
   "cell_type": "code",
   "execution_count": 53,
   "id": "5f05a3bd",
   "metadata": {},
   "outputs": [],
   "source": [
    "dtree = DecisionTreeClassifier(\n",
    "    criterion = 'gini', \n",
    "    max_depth = 8, \n",
    "    random_state = 35 \n",
    "    \n",
    ")"
   ]
  },
  {
   "cell_type": "code",
   "execution_count": 54,
   "id": "25583e6c",
   "metadata": {},
   "outputs": [],
   "source": [
    "knn = KNeighborsClassifier(\n",
    "    n_neighbors=100,\n",
    "    n_jobs = None    \n",
    ")"
   ]
  },
  {
   "cell_type": "code",
   "execution_count": 65,
   "id": "9955bdb4",
   "metadata": {},
   "outputs": [],
   "source": [
    "svm = SVC(\n",
    "    C = 0.1, \n",
    "    gamma = 0.003,#곡선의 정도 \n",
    "    kernel = 'rbf', #선의 유형 rbf는 곡선 linear는 직선\n",
    "    probability=True #각 라벨링 값으로 될 가능성 구해주세요 \n",
    ")"
   ]
  },
  {
   "cell_type": "code",
   "execution_count": 66,
   "id": "c603e9a2",
   "metadata": {},
   "outputs": [],
   "source": [
    "dtree.fit(X_train, y_train)\n",
    "dtree_predict = dtree.predict(X_test)"
   ]
  },
  {
   "cell_type": "code",
   "execution_count": 67,
   "id": "e20b022e",
   "metadata": {},
   "outputs": [],
   "source": [
    "knn.fit(X_train,y_train)\n",
    "knn_predict = knn.predict(X_test)"
   ]
  },
  {
   "cell_type": "code",
   "execution_count": 68,
   "id": "6bd76431",
   "metadata": {},
   "outputs": [],
   "source": [
    "svm.fit(X_train,y_train)\n",
    "svm_predict = svm.predict(X_test)"
   ]
  },
  {
   "cell_type": "code",
   "execution_count": 69,
   "id": "3b12aa28",
   "metadata": {},
   "outputs": [
    {
     "name": "stdout",
     "output_type": "stream",
     "text": [
      "accuracy=================\n",
      "dtree >> 0.7916666666666666\n",
      "knn >> 0.9166666666666666\n",
      "svn >> 0.9111111111111111\n"
     ]
    }
   ],
   "source": [
    "print('accuracy=================')\n",
    "print('dtree >>', accuracy_score(y_test, dtree_predict))\n",
    "print('knn >>', accuracy_score(y_test, knn_predict))\n",
    "print('svn >>', accuracy_score(y_test,svm_predict))\n"
   ]
  },
  {
   "cell_type": "code",
   "execution_count": 87,
   "id": "546b6320",
   "metadata": {},
   "outputs": [
    {
     "name": "stdout",
     "output_type": "stream",
     "text": [
      "[[0.         0.91549296 0.         0.02816901 0.02816901 0.\n",
      "  0.         0.         0.02816901 0.        ]\n",
      " [0.         0.         0.         0.         0.         0.\n",
      "  0.         1.         0.         0.        ]]\n",
      "[[0.   0.79 0.03 0.   0.01 0.   0.01 0.01 0.15 0.  ]\n",
      " [0.   0.   0.01 0.04 0.01 0.02 0.   0.71 0.09 0.12]]\n",
      "[[1.61909501e-03 8.37123245e-01 8.46851330e-03 4.68997638e-03\n",
      "  5.98323533e-03 1.12527577e-02 2.12384599e-03 8.35403620e-03\n",
      "  1.08667747e-01 1.17175485e-02]\n",
      " [7.10006105e-04 1.58631385e-03 1.01727379e-03 7.41783967e-04\n",
      "  9.84390180e-04 1.39186677e-03 5.04942538e-04 9.84676233e-01\n",
      "  4.96126339e-03 3.42592608e-03]]\n"
     ]
    }
   ],
   "source": [
    "dtree_proba = dtree.predict_proba(X_test)\n",
    "print(dtree_proba[:2])#1일 확률이 제일 높음\n",
    "\n",
    "knn_proba = knn.predict_proba(X_test)\n",
    "print(knn_proba[:2])#1일 확률이 제일 높음\n",
    "\n",
    "svm_proba = svm.predict_proba(X_test)\n",
    "print(svm_proba[:2])#1일 확률이 제일 높음"
   ]
  },
  {
   "cell_type": "code",
   "execution_count": 88,
   "id": "1bd4b4ea",
   "metadata": {},
   "outputs": [
    {
     "data": {
      "text/plain": [
       "17"
      ]
     },
     "execution_count": 88,
     "metadata": {},
     "output_type": "execute_result"
    }
   ],
   "source": [
    "np.argmax(dtree_proba[:2])\n",
    "np.argmax(knn_proba[:2])\n",
    "np.argmax(svm_proba[:2])"
   ]
  },
  {
   "cell_type": "code",
   "execution_count": 89,
   "id": "5565dfbe",
   "metadata": {},
   "outputs": [
    {
     "data": {
      "text/plain": [
       "16"
      ]
     },
     "execution_count": 89,
     "metadata": {},
     "output_type": "execute_result"
    }
   ],
   "source": [
    "np.argmin(dtree_proba[:2])\n",
    "np.argmin(knn_proba[:2])\n",
    "np.argmin(svm_proba[:2])"
   ]
  },
  {
   "cell_type": "code",
   "execution_count": 43,
   "id": "21d3fb71",
   "metadata": {},
   "outputs": [],
   "source": [
    "##### 앙상블 모델 #####"
   ]
  },
  {
   "cell_type": "code",
   "execution_count": 51,
   "id": "402501bc",
   "metadata": {},
   "outputs": [],
   "source": [
    "#하드 보팅 \n",
    "voting_clf1 = VotingClassifier(\n",
    "    estimators=[\n",
    "        ('decision tree',dtree),\n",
    "        ('knn', knn), \n",
    "        ('svm', svm)\n",
    "    ], \n",
    "    weights =[1,1,1], \n",
    "    voting = 'hard'\n",
    ") "
   ]
  },
  {
   "cell_type": "code",
   "execution_count": 91,
   "id": "4b5e77af",
   "metadata": {},
   "outputs": [
    {
     "data": {
      "text/plain": [
       "0.9555555555555556"
      ]
     },
     "execution_count": 91,
     "metadata": {},
     "output_type": "execute_result"
    }
   ],
   "source": [
    "voting_clf1.fit(X_train, y_train)\n",
    "\n",
    "hard_voting_predicted = voting_clf1.predict(X_test)\n",
    "accuracy_score(y_test, hard_voting_predicted)"
   ]
  },
  {
   "cell_type": "code",
   "execution_count": 94,
   "id": "d2e9e11b",
   "metadata": {},
   "outputs": [],
   "source": [
    "# ex) dtree: 2 knn :2 , svm = 1 ==> 2(2):1(1)==>다수결의 원칙에 따라 2로 판단"
   ]
  },
  {
   "cell_type": "code",
   "execution_count": 95,
   "id": "b131edb6",
   "metadata": {},
   "outputs": [
    {
     "data": {
      "text/plain": [
       "array([7, 1])"
      ]
     },
     "execution_count": 95,
     "metadata": {},
     "output_type": "execute_result"
    }
   ],
   "source": [
    "hard_voting_predicted[[1,50]]"
   ]
  },
  {
   "cell_type": "code",
   "execution_count": 97,
   "id": "6cf550ba",
   "metadata": {},
   "outputs": [],
   "source": [
    "#소프트 보팅 \n",
    "voting_clf2 = VotingClassifier(\n",
    "    estimators=[\n",
    "        ('decision tree',dtree),\n",
    "        ('knn', knn), \n",
    "        ('svm', svm)\n",
    "    ], \n",
    "    weights =[1,1,1], \n",
    "    voting = 'soft'\n",
    ") "
   ]
  },
  {
   "cell_type": "code",
   "execution_count": 98,
   "id": "e2bde19b",
   "metadata": {},
   "outputs": [
    {
     "data": {
      "text/plain": [
       "0.9083333333333333"
      ]
     },
     "execution_count": 98,
     "metadata": {},
     "output_type": "execute_result"
    }
   ],
   "source": [
    "voting_clf2.fit(X_train, y_train)\n",
    "\n",
    "soft_voting_predicted = voting_clf2.predict(X_test)\n",
    "accuracy_score(y_test, soft_voting_predicted)"
   ]
  },
  {
   "cell_type": "code",
   "execution_count": 102,
   "id": "0179b551",
   "metadata": {},
   "outputs": [
    {
     "data": {
      "text/html": [
       "<div>\n",
       "<style scoped>\n",
       "    .dataframe tbody tr th:only-of-type {\n",
       "        vertical-align: middle;\n",
       "    }\n",
       "\n",
       "    .dataframe tbody tr th {\n",
       "        vertical-align: top;\n",
       "    }\n",
       "\n",
       "    .dataframe thead th {\n",
       "        text-align: right;\n",
       "    }\n",
       "</style>\n",
       "<table border=\"1\" class=\"dataframe\">\n",
       "  <thead>\n",
       "    <tr style=\"text-align: right;\">\n",
       "      <th></th>\n",
       "      <th>방법</th>\n",
       "      <th>predict</th>\n",
       "    </tr>\n",
       "  </thead>\n",
       "  <tbody>\n",
       "    <tr>\n",
       "      <th>0</th>\n",
       "      <td>dtree</td>\n",
       "      <td>0.791</td>\n",
       "    </tr>\n",
       "    <tr>\n",
       "      <th>1</th>\n",
       "      <td>knn</td>\n",
       "      <td>0.916</td>\n",
       "    </tr>\n",
       "    <tr>\n",
       "      <th>2</th>\n",
       "      <td>svm</td>\n",
       "      <td>0.911</td>\n",
       "    </tr>\n",
       "    <tr>\n",
       "      <th>3</th>\n",
       "      <td>hard_voting</td>\n",
       "      <td>0.955</td>\n",
       "    </tr>\n",
       "    <tr>\n",
       "      <th>4</th>\n",
       "      <td>soft_voting</td>\n",
       "      <td>0.908</td>\n",
       "    </tr>\n",
       "  </tbody>\n",
       "</table>\n",
       "</div>"
      ],
      "text/plain": [
       "            방법  predict\n",
       "0        dtree    0.791\n",
       "1          knn    0.916\n",
       "2          svm    0.911\n",
       "3  hard_voting    0.955\n",
       "4  soft_voting    0.908"
      ]
     },
     "execution_count": 102,
     "metadata": {},
     "output_type": "execute_result"
    }
   ],
   "source": [
    "#dtree, knn, svm, hard voting, soft voting\n",
    "#0.791, 0.916, 0.911, 0.955 ,0.908\n",
    "\n",
    "df = pd.DataFrame({\n",
    "            \"방법\":['dtree','knn','svm','hard_voting','soft_voting'],\n",
    "            \"predict\":[0.791,0.916,0.911,0.955,0.908]\n",
    "})\n",
    "\n",
    "df"
   ]
  },
  {
   "cell_type": "code",
   "execution_count": 106,
   "id": "db545976",
   "metadata": {},
   "outputs": [
    {
     "data": {
      "text/plain": [
       "<AxesSubplot:xlabel='방법', ylabel='predict'>"
      ]
     },
     "execution_count": 106,
     "metadata": {},
     "output_type": "execute_result"
    },
    {
     "data": {
      "image/png": "[encoded data removed]",
      "text/plain": [
       "<Figure size 432x288 with 1 Axes>"
      ]
     },
     "metadata": {
      "needs_background": "light"
     },
     "output_type": "display_data"
    }
   ],
   "source": [
    "###그래프를 그려보세요. accuracy(dtree, knn, svm, hard voting, soft voting)\n",
    "sns.barplot(x=\"방법\", y=\"predict\", data=df)\n"
   ]
  }
 ],
 "metadata": {
  "kernelspec": {
   "display_name": "Python 3 (ipykernel)",
   "language": "python",
   "name": "python3"
  },
  "language_info": {
   "codemirror_mode": {
    "name": "ipython",
    "version": 3
   },
   "file_extension": ".py",
   "mimetype": "text/x-python",
   "name": "python",
   "nbconvert_exporter": "python",
   "pygments_lexer": "ipython3",
   "version": "3.7.13"
  }
 },
 "nbformat": 4,
 "nbformat_minor": 5
}
