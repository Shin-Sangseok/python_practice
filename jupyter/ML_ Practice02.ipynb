{
 "cells": [
  {
   "cell_type": "code",
   "execution_count": 30,
   "metadata": {},
   "outputs": [],
   "source": [
    "import numpy as np\n",
    "import pandas as pd\n",
    "import matplotlib.pyplot as plt\n",
    "import seaborn as sns \n",
    "%matplotlib inline \n",
    "import warnings \n",
    "warnings.filterwarnings(action='ignore')"
   ]
  },
  {
   "cell_type": "code",
   "execution_count": 31,
   "metadata": {},
   "outputs": [
    {
     "data": {
      "text/html": [
       "<div>\n",
       "<style scoped>\n",
       "    .dataframe tbody tr th:only-of-type {\n",
       "        vertical-align: middle;\n",
       "    }\n",
       "\n",
       "    .dataframe tbody tr th {\n",
       "        vertical-align: top;\n",
       "    }\n",
       "\n",
       "    .dataframe thead th {\n",
       "        text-align: right;\n",
       "    }\n",
       "</style>\n",
       "<table border=\"1\" class=\"dataframe\">\n",
       "  <thead>\n",
       "    <tr style=\"text-align: right;\">\n",
       "      <th></th>\n",
       "      <th>Date</th>\n",
       "      <th>Qty</th>\n",
       "      <th>List_price</th>\n",
       "      <th>Promotion</th>\n",
       "      <th>Cost</th>\n",
       "      <th>price paid</th>\n",
       "      <th>order_no</th>\n",
       "      <th>brand</th>\n",
       "      <th>description</th>\n",
       "      <th>supplier</th>\n",
       "      <th>subfamily</th>\n",
       "      <th>section</th>\n",
       "      <th>size</th>\n",
       "      <th>color</th>\n",
       "    </tr>\n",
       "  </thead>\n",
       "  <tbody>\n",
       "    <tr>\n",
       "      <td>217549</td>\n",
       "      <td>2020-01-25T00:00:00Z</td>\n",
       "      <td>1</td>\n",
       "      <td>100.200000</td>\n",
       "      <td>0.00</td>\n",
       "      <td>25.319</td>\n",
       "      <td>100.200000</td>\n",
       "      <td>AB73124121</td>\n",
       "      <td>Norbert Van der Mierden</td>\n",
       "      <td>item  3274</td>\n",
       "      <td>Nora Petersen</td>\n",
       "      <td>shorts</td>\n",
       "      <td>swimming</td>\n",
       "      <td>Medium</td>\n",
       "      <td>Black</td>\n",
       "    </tr>\n",
       "    <tr>\n",
       "      <td>217550</td>\n",
       "      <td>2020-01-25T00:00:00Z</td>\n",
       "      <td>1</td>\n",
       "      <td>119.247619</td>\n",
       "      <td>0.04</td>\n",
       "      <td>31.494</td>\n",
       "      <td>114.477714</td>\n",
       "      <td>AB73125321</td>\n",
       "      <td>Norbert Van der Mierden</td>\n",
       "      <td>item  5052</td>\n",
       "      <td>Nora Petersen</td>\n",
       "      <td>shorts</td>\n",
       "      <td>swimming</td>\n",
       "      <td>14</td>\n",
       "      <td>Black</td>\n",
       "    </tr>\n",
       "    <tr>\n",
       "      <td>217551</td>\n",
       "      <td>2020-01-25T00:00:00Z</td>\n",
       "      <td>1</td>\n",
       "      <td>189.723810</td>\n",
       "      <td>0.04</td>\n",
       "      <td>66.724</td>\n",
       "      <td>182.134858</td>\n",
       "      <td>AB73125321</td>\n",
       "      <td>Micheal Korol</td>\n",
       "      <td>item  5262</td>\n",
       "      <td>Angie Myers</td>\n",
       "      <td>Pefumes</td>\n",
       "      <td>outing</td>\n",
       "      <td>Standard</td>\n",
       "      <td>Standard</td>\n",
       "    </tr>\n",
       "    <tr>\n",
       "      <td>217552</td>\n",
       "      <td>2020-01-25T00:00:00Z</td>\n",
       "      <td>1</td>\n",
       "      <td>176.390476</td>\n",
       "      <td>0.04</td>\n",
       "      <td>50.084</td>\n",
       "      <td>169.334857</td>\n",
       "      <td>AB73125321</td>\n",
       "      <td>Terri da Rosa</td>\n",
       "      <td>item  5107</td>\n",
       "      <td>Matias Fernandes</td>\n",
       "      <td>Pefumes</td>\n",
       "      <td>outing</td>\n",
       "      <td>Standard</td>\n",
       "      <td>Standard</td>\n",
       "    </tr>\n",
       "    <tr>\n",
       "      <td>217553</td>\n",
       "      <td>2020-01-25T00:00:00Z</td>\n",
       "      <td>1</td>\n",
       "      <td>180.200000</td>\n",
       "      <td>0.00</td>\n",
       "      <td>45.469</td>\n",
       "      <td>180.200000</td>\n",
       "      <td>AB75205721</td>\n",
       "      <td>Ramon Wagner</td>\n",
       "      <td>item  5842</td>\n",
       "      <td>یاسمن Drok</td>\n",
       "      <td>jackets</td>\n",
       "      <td>outdoors</td>\n",
       "      <td>Xlarge</td>\n",
       "      <td>Black</td>\n",
       "    </tr>\n",
       "  </tbody>\n",
       "</table>\n",
       "</div>"
      ],
      "text/plain": [
       "                        Date  Qty  List_price  Promotion    Cost  price paid  \\\n",
       "217549  2020-01-25T00:00:00Z    1  100.200000       0.00  25.319  100.200000   \n",
       "217550  2020-01-25T00:00:00Z    1  119.247619       0.04  31.494  114.477714   \n",
       "217551  2020-01-25T00:00:00Z    1  189.723810       0.04  66.724  182.134858   \n",
       "217552  2020-01-25T00:00:00Z    1  176.390476       0.04  50.084  169.334857   \n",
       "217553  2020-01-25T00:00:00Z    1  180.200000       0.00  45.469  180.200000   \n",
       "\n",
       "          order_no                    brand description          supplier  \\\n",
       "217549  AB73124121  Norbert Van der Mierden  item  3274     Nora Petersen   \n",
       "217550  AB73125321  Norbert Van der Mierden  item  5052     Nora Petersen   \n",
       "217551  AB73125321            Micheal Korol  item  5262       Angie Myers   \n",
       "217552  AB73125321            Terri da Rosa  item  5107  Matias Fernandes   \n",
       "217553  AB75205721             Ramon Wagner  item  5842        یاسمن Drok   \n",
       "\n",
       "       subfamily   section      size     color  \n",
       "217549    shorts  swimming    Medium     Black  \n",
       "217550    shorts  swimming        14     Black  \n",
       "217551   Pefumes    outing  Standard  Standard  \n",
       "217552   Pefumes    outing  Standard  Standard  \n",
       "217553   jackets  outdoors    Xlarge     Black  "
      ]
     },
     "execution_count": 31,
     "metadata": {},
     "output_type": "execute_result"
    }
   ],
   "source": [
    "raw_data = pd.read_csv('../csv-data/apparel.csv')\n",
    "raw_data.tail()"
   ]
  },
  {
   "cell_type": "code",
   "execution_count": 32,
   "metadata": {},
   "outputs": [
    {
     "name": "stdout",
     "output_type": "stream",
     "text": [
      "<class 'pandas.core.frame.DataFrame'>\n",
      "RangeIndex: 217554 entries, 0 to 217553\n",
      "Data columns (total 14 columns):\n",
      "Date           217554 non-null object\n",
      "Qty            217554 non-null int64\n",
      "List_price     217554 non-null float64\n",
      "Promotion      217554 non-null float64\n",
      "Cost           217554 non-null float64\n",
      "price paid     217554 non-null float64\n",
      "order_no       217554 non-null object\n",
      "brand          217552 non-null object\n",
      "description    217552 non-null object\n",
      "supplier       217517 non-null object\n",
      "subfamily      217554 non-null object\n",
      "section        217554 non-null object\n",
      "size           217554 non-null object\n",
      "color          217554 non-null object\n",
      "dtypes: float64(4), int64(1), object(9)\n",
      "memory usage: 23.2+ MB\n"
     ]
    }
   ],
   "source": [
    "raw_data.info()"
   ]
  },
  {
   "cell_type": "code",
   "execution_count": 33,
   "metadata": {},
   "outputs": [
    {
     "data": {
      "text/html": [
       "<div>\n",
       "<style scoped>\n",
       "    .dataframe tbody tr th:only-of-type {\n",
       "        vertical-align: middle;\n",
       "    }\n",
       "\n",
       "    .dataframe tbody tr th {\n",
       "        vertical-align: top;\n",
       "    }\n",
       "\n",
       "    .dataframe thead th {\n",
       "        text-align: right;\n",
       "    }\n",
       "</style>\n",
       "<table border=\"1\" class=\"dataframe\">\n",
       "  <thead>\n",
       "    <tr style=\"text-align: right;\">\n",
       "      <th></th>\n",
       "      <th>Qty</th>\n",
       "      <th>List_price</th>\n",
       "      <th>Promotion</th>\n",
       "      <th>Cost</th>\n",
       "      <th>price paid</th>\n",
       "    </tr>\n",
       "  </thead>\n",
       "  <tbody>\n",
       "    <tr>\n",
       "      <td>count</td>\n",
       "      <td>217554.000000</td>\n",
       "      <td>217554.000000</td>\n",
       "      <td>217554.000000</td>\n",
       "      <td>217554.000000</td>\n",
       "      <td>217554.000000</td>\n",
       "    </tr>\n",
       "    <tr>\n",
       "      <td>mean</td>\n",
       "      <td>0.983379</td>\n",
       "      <td>231.153471</td>\n",
       "      <td>0.044864</td>\n",
       "      <td>68.776199</td>\n",
       "      <td>213.817032</td>\n",
       "    </tr>\n",
       "    <tr>\n",
       "      <td>std</td>\n",
       "      <td>0.279554</td>\n",
       "      <td>181.388719</td>\n",
       "      <td>0.074991</td>\n",
       "      <td>67.739676</td>\n",
       "      <td>186.669785</td>\n",
       "    </tr>\n",
       "    <tr>\n",
       "      <td>min</td>\n",
       "      <td>0.000000</td>\n",
       "      <td>0.200000</td>\n",
       "      <td>-0.240741</td>\n",
       "      <td>-4.321000</td>\n",
       "      <td>0.000000</td>\n",
       "    </tr>\n",
       "    <tr>\n",
       "      <td>25%</td>\n",
       "      <td>1.000000</td>\n",
       "      <td>130.200000</td>\n",
       "      <td>0.000000</td>\n",
       "      <td>34.159000</td>\n",
       "      <td>122.162667</td>\n",
       "    </tr>\n",
       "    <tr>\n",
       "      <td>50%</td>\n",
       "      <td>1.000000</td>\n",
       "      <td>185.200000</td>\n",
       "      <td>0.000000</td>\n",
       "      <td>49.824000</td>\n",
       "      <td>170.676190</td>\n",
       "    </tr>\n",
       "    <tr>\n",
       "      <td>75%</td>\n",
       "      <td>1.000000</td>\n",
       "      <td>279.200000</td>\n",
       "      <td>0.070504</td>\n",
       "      <td>78.944000</td>\n",
       "      <td>252.662904</td>\n",
       "    </tr>\n",
       "    <tr>\n",
       "      <td>max</td>\n",
       "      <td>70.000000</td>\n",
       "      <td>3500.200000</td>\n",
       "      <td>0.462500</td>\n",
       "      <td>5666.344000</td>\n",
       "      <td>9851.000908</td>\n",
       "    </tr>\n",
       "  </tbody>\n",
       "</table>\n",
       "</div>"
      ],
      "text/plain": [
       "                 Qty     List_price      Promotion           Cost  \\\n",
       "count  217554.000000  217554.000000  217554.000000  217554.000000   \n",
       "mean        0.983379     231.153471       0.044864      68.776199   \n",
       "std         0.279554     181.388719       0.074991      67.739676   \n",
       "min         0.000000       0.200000      -0.240741      -4.321000   \n",
       "25%         1.000000     130.200000       0.000000      34.159000   \n",
       "50%         1.000000     185.200000       0.000000      49.824000   \n",
       "75%         1.000000     279.200000       0.070504      78.944000   \n",
       "max        70.000000    3500.200000       0.462500    5666.344000   \n",
       "\n",
       "          price paid  \n",
       "count  217554.000000  \n",
       "mean      213.817032  \n",
       "std       186.669785  \n",
       "min         0.000000  \n",
       "25%       122.162667  \n",
       "50%       170.676190  \n",
       "75%       252.662904  \n",
       "max      9851.000908  "
      ]
     },
     "execution_count": 33,
     "metadata": {},
     "output_type": "execute_result"
    }
   ],
   "source": [
    "raw_data.describe()"
   ]
  },
  {
   "cell_type": "code",
   "execution_count": 34,
   "metadata": {},
   "outputs": [],
   "source": [
    "raw_data2= raw_data[['List_price', 'Promotion','Cost','price paid','supplier']]"
   ]
  },
  {
   "cell_type": "code",
   "execution_count": 35,
   "metadata": {},
   "outputs": [
    {
     "data": {
      "text/plain": [
       "array(['outdoors', 'swimming', 'cycling', 'outing', 'fitness', 'yoga',\n",
       "       'ice'], dtype=object)"
      ]
     },
     "execution_count": 35,
     "metadata": {},
     "output_type": "execute_result"
    }
   ],
   "source": [
    "raw_data['section'].unique()"
   ]
  },
  {
   "cell_type": "code",
   "execution_count": 36,
   "metadata": {},
   "outputs": [
    {
     "data": {
      "text/plain": [
       "<matplotlib.axes._subplots.AxesSubplot at 0x2a1c11320c8>"
      ]
     },
     "execution_count": 36,
     "metadata": {},
     "output_type": "execute_result"
    },
    {
     "data": {
      "image/png": "[encoded data removed]",
      "text/plain": [
       "<Figure size 1296x720 with 1 Axes>"
      ]
     },
     "metadata": {
      "needs_background": "light"
     },
     "output_type": "display_data"
    }
   ],
   "source": [
    "raw_data['Promotion'].hist(bins=20, figsize=(18,10), grid = False)"
   ]
  },
  {
   "cell_type": "code",
   "execution_count": 37,
   "metadata": {},
   "outputs": [
    {
     "data": {
      "text/html": [
       "<div>\n",
       "<style scoped>\n",
       "    .dataframe tbody tr th:only-of-type {\n",
       "        vertical-align: middle;\n",
       "    }\n",
       "\n",
       "    .dataframe tbody tr th {\n",
       "        vertical-align: top;\n",
       "    }\n",
       "\n",
       "    .dataframe thead th {\n",
       "        text-align: right;\n",
       "    }\n",
       "</style>\n",
       "<table border=\"1\" class=\"dataframe\">\n",
       "  <thead>\n",
       "    <tr style=\"text-align: right;\">\n",
       "      <th></th>\n",
       "      <th>List_price</th>\n",
       "      <th>Promotion</th>\n",
       "      <th>price paid</th>\n",
       "    </tr>\n",
       "  </thead>\n",
       "  <tbody>\n",
       "    <tr>\n",
       "      <td>0</td>\n",
       "      <td>1315.200000</td>\n",
       "      <td>0.1875</td>\n",
       "      <td>1068.600000</td>\n",
       "    </tr>\n",
       "    <tr>\n",
       "      <td>1</td>\n",
       "      <td>95.200000</td>\n",
       "      <td>0.1875</td>\n",
       "      <td>77.350000</td>\n",
       "    </tr>\n",
       "    <tr>\n",
       "      <td>2</td>\n",
       "      <td>150.200000</td>\n",
       "      <td>0.1875</td>\n",
       "      <td>122.037500</td>\n",
       "    </tr>\n",
       "    <tr>\n",
       "      <td>3</td>\n",
       "      <td>710.200000</td>\n",
       "      <td>0.1875</td>\n",
       "      <td>577.037500</td>\n",
       "    </tr>\n",
       "    <tr>\n",
       "      <td>4</td>\n",
       "      <td>95.200000</td>\n",
       "      <td>0.0625</td>\n",
       "      <td>89.250000</td>\n",
       "    </tr>\n",
       "    <tr>\n",
       "      <td>...</td>\n",
       "      <td>...</td>\n",
       "      <td>...</td>\n",
       "      <td>...</td>\n",
       "    </tr>\n",
       "    <tr>\n",
       "      <td>217549</td>\n",
       "      <td>100.200000</td>\n",
       "      <td>0.0000</td>\n",
       "      <td>100.200000</td>\n",
       "    </tr>\n",
       "    <tr>\n",
       "      <td>217550</td>\n",
       "      <td>119.247619</td>\n",
       "      <td>0.0400</td>\n",
       "      <td>114.477714</td>\n",
       "    </tr>\n",
       "    <tr>\n",
       "      <td>217551</td>\n",
       "      <td>189.723810</td>\n",
       "      <td>0.0400</td>\n",
       "      <td>182.134858</td>\n",
       "    </tr>\n",
       "    <tr>\n",
       "      <td>217552</td>\n",
       "      <td>176.390476</td>\n",
       "      <td>0.0400</td>\n",
       "      <td>169.334857</td>\n",
       "    </tr>\n",
       "    <tr>\n",
       "      <td>217553</td>\n",
       "      <td>180.200000</td>\n",
       "      <td>0.0000</td>\n",
       "      <td>180.200000</td>\n",
       "    </tr>\n",
       "  </tbody>\n",
       "</table>\n",
       "<p>217554 rows × 3 columns</p>\n",
       "</div>"
      ],
      "text/plain": [
       "         List_price  Promotion   price paid\n",
       "0       1315.200000     0.1875  1068.600000\n",
       "1         95.200000     0.1875    77.350000\n",
       "2        150.200000     0.1875   122.037500\n",
       "3        710.200000     0.1875   577.037500\n",
       "4         95.200000     0.0625    89.250000\n",
       "...             ...        ...          ...\n",
       "217549   100.200000     0.0000   100.200000\n",
       "217550   119.247619     0.0400   114.477714\n",
       "217551   189.723810     0.0400   182.134858\n",
       "217552   176.390476     0.0400   169.334857\n",
       "217553   180.200000     0.0000   180.200000\n",
       "\n",
       "[217554 rows x 3 columns]"
      ]
     },
     "execution_count": 37,
     "metadata": {},
     "output_type": "execute_result"
    }
   ],
   "source": [
    "raw_data2 = raw_data[['List_price','Promotion','price paid']]\n",
    "raw_data2"
   ]
  },
  {
   "cell_type": "code",
   "execution_count": 38,
   "metadata": {},
   "outputs": [
    {
     "data": {
      "image/png": "[encoded data removed]",
      "text/plain": [
       "<Figure size 360x360 with 2 Axes>"
      ]
     },
     "metadata": {
      "needs_background": "light"
     },
     "output_type": "display_data"
    }
   ],
   "source": [
    "plt.figure(figsize=(5,5))\n",
    "heat_img = sns.heatmap(raw_data2.corr(), square=True,annot=True, cmap = plt.cm.viridis, linecolor = 'white')\n",
    "heat_img.set_ylim(3,0)\n",
    "heat_img.get_ylim()\n",
    "plt.show()\n"
   ]
  },
  {
   "cell_type": "code",
   "execution_count": 39,
   "metadata": {},
   "outputs": [
    {
     "data": {
      "text/html": [
       "<div>\n",
       "<style scoped>\n",
       "    .dataframe tbody tr th:only-of-type {\n",
       "        vertical-align: middle;\n",
       "    }\n",
       "\n",
       "    .dataframe tbody tr th {\n",
       "        vertical-align: top;\n",
       "    }\n",
       "\n",
       "    .dataframe thead th {\n",
       "        text-align: right;\n",
       "    }\n",
       "</style>\n",
       "<table border=\"1\" class=\"dataframe\">\n",
       "  <thead>\n",
       "    <tr style=\"text-align: right;\">\n",
       "      <th></th>\n",
       "      <th>List_price</th>\n",
       "      <th>Promotion</th>\n",
       "      <th>Cost</th>\n",
       "      <th>price paid</th>\n",
       "    </tr>\n",
       "  </thead>\n",
       "  <tbody>\n",
       "    <tr>\n",
       "      <td>0</td>\n",
       "      <td>1315.2</td>\n",
       "      <td>0.1875</td>\n",
       "      <td>419.349</td>\n",
       "      <td>1068.6000</td>\n",
       "    </tr>\n",
       "    <tr>\n",
       "      <td>1</td>\n",
       "      <td>95.2</td>\n",
       "      <td>0.1875</td>\n",
       "      <td>16.934</td>\n",
       "      <td>77.3500</td>\n",
       "    </tr>\n",
       "    <tr>\n",
       "      <td>2</td>\n",
       "      <td>150.2</td>\n",
       "      <td>0.1875</td>\n",
       "      <td>31.299</td>\n",
       "      <td>122.0375</td>\n",
       "    </tr>\n",
       "    <tr>\n",
       "      <td>3</td>\n",
       "      <td>710.2</td>\n",
       "      <td>0.1875</td>\n",
       "      <td>223.114</td>\n",
       "      <td>577.0375</td>\n",
       "    </tr>\n",
       "    <tr>\n",
       "      <td>4</td>\n",
       "      <td>95.2</td>\n",
       "      <td>0.0625</td>\n",
       "      <td>21.419</td>\n",
       "      <td>89.2500</td>\n",
       "    </tr>\n",
       "  </tbody>\n",
       "</table>\n",
       "</div>"
      ],
      "text/plain": [
       "   List_price  Promotion     Cost  price paid\n",
       "0      1315.2     0.1875  419.349   1068.6000\n",
       "1        95.2     0.1875   16.934     77.3500\n",
       "2       150.2     0.1875   31.299    122.0375\n",
       "3       710.2     0.1875  223.114    577.0375\n",
       "4        95.2     0.0625   21.419     89.2500"
      ]
     },
     "execution_count": 39,
     "metadata": {},
     "output_type": "execute_result"
    }
   ],
   "source": [
    "exam =raw_data[['List_price', 'Promotion','Cost','price paid']]\n",
    "exam.head()"
   ]
  },
  {
   "cell_type": "code",
   "execution_count": 40,
   "metadata": {},
   "outputs": [
    {
     "data": {
      "text/plain": [
       "0    jackets\n",
       "1    jackets\n",
       "Name: subfamily, dtype: object"
      ]
     },
     "execution_count": 40,
     "metadata": {},
     "output_type": "execute_result"
    }
   ],
   "source": [
    "target=raw_data['subfamily']\n",
    "target[:2]"
   ]
  },
  {
   "cell_type": "code",
   "execution_count": 41,
   "metadata": {},
   "outputs": [
    {
     "data": {
      "text/plain": [
       "array(['jackets', 'shorts', 'Pefumes', 'underwear', 'tops', 'pants',\n",
       "       'skirts', 'shirts'], dtype=object)"
      ]
     },
     "execution_count": 41,
     "metadata": {},
     "output_type": "execute_result"
    }
   ],
   "source": [
    "raw_data['subfamily'].unique()"
   ]
  },
  {
   "cell_type": "code",
   "execution_count": 42,
   "metadata": {},
   "outputs": [],
   "source": [
    "from sklearn.model_selection import train_test_split \n",
    "#훈련 문제, 연습 문제, 훈련 답, 검증 답 \n",
    "#X_train, X_test, y_train, y_test\n",
    "train_exam, test_exam, train_target, test_target = train_test_split(exam, #문제 \n",
    "                                                                    target, #답\n",
    "                                                                    test_size = 0.3,\n",
    "                                                                    random_state= 42\n",
    "                                                                   )"
   ]
  },
  {
   "cell_type": "code",
   "execution_count": 43,
   "metadata": {},
   "outputs": [
    {
     "name": "stdout",
     "output_type": "stream",
     "text": [
      "<class 'pandas.core.frame.DataFrame'>\n",
      "Int64Index: 152287 entries, 99204 to 121958\n",
      "Data columns (total 4 columns):\n",
      "List_price    152287 non-null float64\n",
      "Promotion     152287 non-null float64\n",
      "Cost          152287 non-null float64\n",
      "price paid    152287 non-null float64\n",
      "dtypes: float64(4)\n",
      "memory usage: 5.8 MB\n"
     ]
    }
   ],
   "source": [
    "train_exam.info()"
   ]
  },
  {
   "cell_type": "code",
   "execution_count": 44,
   "metadata": {},
   "outputs": [
    {
     "data": {
      "text/plain": [
       "152287"
      ]
     },
     "execution_count": 44,
     "metadata": {},
     "output_type": "execute_result"
    }
   ],
   "source": [
    "train_target.count()"
   ]
  },
  {
   "cell_type": "code",
   "execution_count": 45,
   "metadata": {},
   "outputs": [
    {
     "name": "stdout",
     "output_type": "stream",
     "text": [
      "<class 'pandas.core.frame.DataFrame'>\n",
      "Int64Index: 65267 entries, 85653 to 160594\n",
      "Data columns (total 4 columns):\n",
      "List_price    65267 non-null float64\n",
      "Promotion     65267 non-null float64\n",
      "Cost          65267 non-null float64\n",
      "price paid    65267 non-null float64\n",
      "dtypes: float64(4)\n",
      "memory usage: 2.5 MB\n"
     ]
    }
   ],
   "source": [
    "test_exam.info()"
   ]
  },
  {
   "cell_type": "code",
   "execution_count": 46,
   "metadata": {},
   "outputs": [
    {
     "data": {
      "text/plain": [
       "65267"
      ]
     },
     "execution_count": 46,
     "metadata": {},
     "output_type": "execute_result"
    }
   ],
   "source": [
    "test_target.count()"
   ]
  },
  {
   "cell_type": "code",
   "execution_count": 47,
   "metadata": {},
   "outputs": [
    {
     "data": {
      "text/html": [
       "<div>\n",
       "<style scoped>\n",
       "    .dataframe tbody tr th:only-of-type {\n",
       "        vertical-align: middle;\n",
       "    }\n",
       "\n",
       "    .dataframe tbody tr th {\n",
       "        vertical-align: top;\n",
       "    }\n",
       "\n",
       "    .dataframe thead th {\n",
       "        text-align: right;\n",
       "    }\n",
       "</style>\n",
       "<table border=\"1\" class=\"dataframe\">\n",
       "  <thead>\n",
       "    <tr style=\"text-align: right;\">\n",
       "      <th></th>\n",
       "      <th>List_price</th>\n",
       "      <th>Promotion</th>\n",
       "      <th>Cost</th>\n",
       "      <th>price paid</th>\n",
       "    </tr>\n",
       "  </thead>\n",
       "  <tbody>\n",
       "    <tr>\n",
       "      <td>99204</td>\n",
       "      <td>89.200000</td>\n",
       "      <td>0.000</td>\n",
       "      <td>18.819</td>\n",
       "      <td>89.200</td>\n",
       "    </tr>\n",
       "    <tr>\n",
       "      <td>48005</td>\n",
       "      <td>145.200000</td>\n",
       "      <td>0.000</td>\n",
       "      <td>35.199</td>\n",
       "      <td>145.200</td>\n",
       "    </tr>\n",
       "    <tr>\n",
       "      <td>173608</td>\n",
       "      <td>151.628571</td>\n",
       "      <td>0.125</td>\n",
       "      <td>33.444</td>\n",
       "      <td>132.675</td>\n",
       "    </tr>\n",
       "    <tr>\n",
       "      <td>55364</td>\n",
       "      <td>160.200000</td>\n",
       "      <td>0.000</td>\n",
       "      <td>45.079</td>\n",
       "      <td>160.200</td>\n",
       "    </tr>\n",
       "    <tr>\n",
       "      <td>14550</td>\n",
       "      <td>945.200000</td>\n",
       "      <td>0.125</td>\n",
       "      <td>299.944</td>\n",
       "      <td>827.050</td>\n",
       "    </tr>\n",
       "  </tbody>\n",
       "</table>\n",
       "</div>"
      ],
      "text/plain": [
       "        List_price  Promotion     Cost  price paid\n",
       "99204    89.200000      0.000   18.819      89.200\n",
       "48005   145.200000      0.000   35.199     145.200\n",
       "173608  151.628571      0.125   33.444     132.675\n",
       "55364   160.200000      0.000   45.079     160.200\n",
       "14550   945.200000      0.125  299.944     827.050"
      ]
     },
     "execution_count": 47,
     "metadata": {},
     "output_type": "execute_result"
    }
   ],
   "source": [
    "train_exam.head()"
   ]
  },
  {
   "cell_type": "code",
   "execution_count": 48,
   "metadata": {},
   "outputs": [],
   "source": [
    "train_exam.reset_index(inplace=True)"
   ]
  },
  {
   "cell_type": "code",
   "execution_count": 49,
   "metadata": {},
   "outputs": [
    {
     "data": {
      "text/html": [
       "<div>\n",
       "<style scoped>\n",
       "    .dataframe tbody tr th:only-of-type {\n",
       "        vertical-align: middle;\n",
       "    }\n",
       "\n",
       "    .dataframe tbody tr th {\n",
       "        vertical-align: top;\n",
       "    }\n",
       "\n",
       "    .dataframe thead th {\n",
       "        text-align: right;\n",
       "    }\n",
       "</style>\n",
       "<table border=\"1\" class=\"dataframe\">\n",
       "  <thead>\n",
       "    <tr style=\"text-align: right;\">\n",
       "      <th></th>\n",
       "      <th>index</th>\n",
       "      <th>List_price</th>\n",
       "      <th>Promotion</th>\n",
       "      <th>Cost</th>\n",
       "      <th>price paid</th>\n",
       "    </tr>\n",
       "  </thead>\n",
       "  <tbody>\n",
       "    <tr>\n",
       "      <td>0</td>\n",
       "      <td>99204</td>\n",
       "      <td>89.200000</td>\n",
       "      <td>0.000</td>\n",
       "      <td>18.819</td>\n",
       "      <td>89.200</td>\n",
       "    </tr>\n",
       "    <tr>\n",
       "      <td>1</td>\n",
       "      <td>48005</td>\n",
       "      <td>145.200000</td>\n",
       "      <td>0.000</td>\n",
       "      <td>35.199</td>\n",
       "      <td>145.200</td>\n",
       "    </tr>\n",
       "    <tr>\n",
       "      <td>2</td>\n",
       "      <td>173608</td>\n",
       "      <td>151.628571</td>\n",
       "      <td>0.125</td>\n",
       "      <td>33.444</td>\n",
       "      <td>132.675</td>\n",
       "    </tr>\n",
       "    <tr>\n",
       "      <td>3</td>\n",
       "      <td>55364</td>\n",
       "      <td>160.200000</td>\n",
       "      <td>0.000</td>\n",
       "      <td>45.079</td>\n",
       "      <td>160.200</td>\n",
       "    </tr>\n",
       "    <tr>\n",
       "      <td>4</td>\n",
       "      <td>14550</td>\n",
       "      <td>945.200000</td>\n",
       "      <td>0.125</td>\n",
       "      <td>299.944</td>\n",
       "      <td>827.050</td>\n",
       "    </tr>\n",
       "  </tbody>\n",
       "</table>\n",
       "</div>"
      ],
      "text/plain": [
       "    index  List_price  Promotion     Cost  price paid\n",
       "0   99204   89.200000      0.000   18.819      89.200\n",
       "1   48005  145.200000      0.000   35.199     145.200\n",
       "2  173608  151.628571      0.125   33.444     132.675\n",
       "3   55364  160.200000      0.000   45.079     160.200\n",
       "4   14550  945.200000      0.125  299.944     827.050"
      ]
     },
     "execution_count": 49,
     "metadata": {},
     "output_type": "execute_result"
    }
   ],
   "source": [
    "train_exam.head()"
   ]
  },
  {
   "cell_type": "code",
   "execution_count": 50,
   "metadata": {},
   "outputs": [],
   "source": [
    "del train_exam['index']"
   ]
  },
  {
   "cell_type": "code",
   "execution_count": 51,
   "metadata": {},
   "outputs": [
    {
     "data": {
      "text/html": [
       "<div>\n",
       "<style scoped>\n",
       "    .dataframe tbody tr th:only-of-type {\n",
       "        vertical-align: middle;\n",
       "    }\n",
       "\n",
       "    .dataframe tbody tr th {\n",
       "        vertical-align: top;\n",
       "    }\n",
       "\n",
       "    .dataframe thead th {\n",
       "        text-align: right;\n",
       "    }\n",
       "</style>\n",
       "<table border=\"1\" class=\"dataframe\">\n",
       "  <thead>\n",
       "    <tr style=\"text-align: right;\">\n",
       "      <th></th>\n",
       "      <th>List_price</th>\n",
       "      <th>Promotion</th>\n",
       "      <th>Cost</th>\n",
       "      <th>price paid</th>\n",
       "    </tr>\n",
       "  </thead>\n",
       "  <tbody>\n",
       "    <tr>\n",
       "      <td>0</td>\n",
       "      <td>89.200000</td>\n",
       "      <td>0.000</td>\n",
       "      <td>18.819</td>\n",
       "      <td>89.200</td>\n",
       "    </tr>\n",
       "    <tr>\n",
       "      <td>1</td>\n",
       "      <td>145.200000</td>\n",
       "      <td>0.000</td>\n",
       "      <td>35.199</td>\n",
       "      <td>145.200</td>\n",
       "    </tr>\n",
       "    <tr>\n",
       "      <td>2</td>\n",
       "      <td>151.628571</td>\n",
       "      <td>0.125</td>\n",
       "      <td>33.444</td>\n",
       "      <td>132.675</td>\n",
       "    </tr>\n",
       "    <tr>\n",
       "      <td>3</td>\n",
       "      <td>160.200000</td>\n",
       "      <td>0.000</td>\n",
       "      <td>45.079</td>\n",
       "      <td>160.200</td>\n",
       "    </tr>\n",
       "    <tr>\n",
       "      <td>4</td>\n",
       "      <td>945.200000</td>\n",
       "      <td>0.125</td>\n",
       "      <td>299.944</td>\n",
       "      <td>827.050</td>\n",
       "    </tr>\n",
       "  </tbody>\n",
       "</table>\n",
       "</div>"
      ],
      "text/plain": [
       "   List_price  Promotion     Cost  price paid\n",
       "0   89.200000      0.000   18.819      89.200\n",
       "1  145.200000      0.000   35.199     145.200\n",
       "2  151.628571      0.125   33.444     132.675\n",
       "3  160.200000      0.000   45.079     160.200\n",
       "4  945.200000      0.125  299.944     827.050"
      ]
     },
     "execution_count": 51,
     "metadata": {},
     "output_type": "execute_result"
    }
   ],
   "source": [
    "train_exam.head()"
   ]
  },
  {
   "cell_type": "code",
   "execution_count": 52,
   "metadata": {},
   "outputs": [
    {
     "data": {
      "text/html": [
       "<div>\n",
       "<style scoped>\n",
       "    .dataframe tbody tr th:only-of-type {\n",
       "        vertical-align: middle;\n",
       "    }\n",
       "\n",
       "    .dataframe tbody tr th {\n",
       "        vertical-align: top;\n",
       "    }\n",
       "\n",
       "    .dataframe thead th {\n",
       "        text-align: right;\n",
       "    }\n",
       "</style>\n",
       "<table border=\"1\" class=\"dataframe\">\n",
       "  <thead>\n",
       "    <tr style=\"text-align: right;\">\n",
       "      <th></th>\n",
       "      <th>List_price</th>\n",
       "      <th>Promotion</th>\n",
       "      <th>Cost</th>\n",
       "      <th>price paid</th>\n",
       "    </tr>\n",
       "  </thead>\n",
       "  <tbody>\n",
       "    <tr>\n",
       "      <td>85653</td>\n",
       "      <td>50.200000</td>\n",
       "      <td>0.000000</td>\n",
       "      <td>96.364</td>\n",
       "      <td>50.200000</td>\n",
       "    </tr>\n",
       "    <tr>\n",
       "      <td>217005</td>\n",
       "      <td>142.104762</td>\n",
       "      <td>0.041459</td>\n",
       "      <td>38.904</td>\n",
       "      <td>136.213188</td>\n",
       "    </tr>\n",
       "    <tr>\n",
       "      <td>166549</td>\n",
       "      <td>100.200000</td>\n",
       "      <td>0.000000</td>\n",
       "      <td>25.319</td>\n",
       "      <td>100.200000</td>\n",
       "    </tr>\n",
       "    <tr>\n",
       "      <td>216796</td>\n",
       "      <td>123.057143</td>\n",
       "      <td>0.000000</td>\n",
       "      <td>40.724</td>\n",
       "      <td>123.057143</td>\n",
       "    </tr>\n",
       "    <tr>\n",
       "      <td>197450</td>\n",
       "      <td>427.819048</td>\n",
       "      <td>0.000000</td>\n",
       "      <td>159.544</td>\n",
       "      <td>427.819048</td>\n",
       "    </tr>\n",
       "  </tbody>\n",
       "</table>\n",
       "</div>"
      ],
      "text/plain": [
       "        List_price  Promotion     Cost  price paid\n",
       "85653    50.200000   0.000000   96.364   50.200000\n",
       "217005  142.104762   0.041459   38.904  136.213188\n",
       "166549  100.200000   0.000000   25.319  100.200000\n",
       "216796  123.057143   0.000000   40.724  123.057143\n",
       "197450  427.819048   0.000000  159.544  427.819048"
      ]
     },
     "execution_count": 52,
     "metadata": {},
     "output_type": "execute_result"
    }
   ],
   "source": [
    "test_exam.head()"
   ]
  },
  {
   "cell_type": "code",
   "execution_count": 53,
   "metadata": {},
   "outputs": [],
   "source": [
    "test_exam.reset_index(inplace=True)"
   ]
  },
  {
   "cell_type": "code",
   "execution_count": 54,
   "metadata": {},
   "outputs": [
    {
     "data": {
      "text/html": [
       "<div>\n",
       "<style scoped>\n",
       "    .dataframe tbody tr th:only-of-type {\n",
       "        vertical-align: middle;\n",
       "    }\n",
       "\n",
       "    .dataframe tbody tr th {\n",
       "        vertical-align: top;\n",
       "    }\n",
       "\n",
       "    .dataframe thead th {\n",
       "        text-align: right;\n",
       "    }\n",
       "</style>\n",
       "<table border=\"1\" class=\"dataframe\">\n",
       "  <thead>\n",
       "    <tr style=\"text-align: right;\">\n",
       "      <th></th>\n",
       "      <th>index</th>\n",
       "      <th>List_price</th>\n",
       "      <th>Promotion</th>\n",
       "      <th>Cost</th>\n",
       "      <th>price paid</th>\n",
       "    </tr>\n",
       "  </thead>\n",
       "  <tbody>\n",
       "    <tr>\n",
       "      <td>0</td>\n",
       "      <td>85653</td>\n",
       "      <td>50.200000</td>\n",
       "      <td>0.000000</td>\n",
       "      <td>96.364</td>\n",
       "      <td>50.200000</td>\n",
       "    </tr>\n",
       "    <tr>\n",
       "      <td>1</td>\n",
       "      <td>217005</td>\n",
       "      <td>142.104762</td>\n",
       "      <td>0.041459</td>\n",
       "      <td>38.904</td>\n",
       "      <td>136.213188</td>\n",
       "    </tr>\n",
       "    <tr>\n",
       "      <td>2</td>\n",
       "      <td>166549</td>\n",
       "      <td>100.200000</td>\n",
       "      <td>0.000000</td>\n",
       "      <td>25.319</td>\n",
       "      <td>100.200000</td>\n",
       "    </tr>\n",
       "    <tr>\n",
       "      <td>3</td>\n",
       "      <td>216796</td>\n",
       "      <td>123.057143</td>\n",
       "      <td>0.000000</td>\n",
       "      <td>40.724</td>\n",
       "      <td>123.057143</td>\n",
       "    </tr>\n",
       "    <tr>\n",
       "      <td>4</td>\n",
       "      <td>197450</td>\n",
       "      <td>427.819048</td>\n",
       "      <td>0.000000</td>\n",
       "      <td>159.544</td>\n",
       "      <td>427.819048</td>\n",
       "    </tr>\n",
       "  </tbody>\n",
       "</table>\n",
       "</div>"
      ],
      "text/plain": [
       "    index  List_price  Promotion     Cost  price paid\n",
       "0   85653   50.200000   0.000000   96.364   50.200000\n",
       "1  217005  142.104762   0.041459   38.904  136.213188\n",
       "2  166549  100.200000   0.000000   25.319  100.200000\n",
       "3  216796  123.057143   0.000000   40.724  123.057143\n",
       "4  197450  427.819048   0.000000  159.544  427.819048"
      ]
     },
     "execution_count": 54,
     "metadata": {},
     "output_type": "execute_result"
    }
   ],
   "source": [
    "test_exam.head()"
   ]
  },
  {
   "cell_type": "code",
   "execution_count": 55,
   "metadata": {},
   "outputs": [],
   "source": [
    "del test_exam['index']"
   ]
  },
  {
   "cell_type": "code",
   "execution_count": 56,
   "metadata": {},
   "outputs": [
    {
     "data": {
      "text/html": [
       "<div>\n",
       "<style scoped>\n",
       "    .dataframe tbody tr th:only-of-type {\n",
       "        vertical-align: middle;\n",
       "    }\n",
       "\n",
       "    .dataframe tbody tr th {\n",
       "        vertical-align: top;\n",
       "    }\n",
       "\n",
       "    .dataframe thead th {\n",
       "        text-align: right;\n",
       "    }\n",
       "</style>\n",
       "<table border=\"1\" class=\"dataframe\">\n",
       "  <thead>\n",
       "    <tr style=\"text-align: right;\">\n",
       "      <th></th>\n",
       "      <th>List_price</th>\n",
       "      <th>Promotion</th>\n",
       "      <th>Cost</th>\n",
       "      <th>price paid</th>\n",
       "    </tr>\n",
       "  </thead>\n",
       "  <tbody>\n",
       "    <tr>\n",
       "      <td>0</td>\n",
       "      <td>50.200000</td>\n",
       "      <td>0.000000</td>\n",
       "      <td>96.364</td>\n",
       "      <td>50.200000</td>\n",
       "    </tr>\n",
       "    <tr>\n",
       "      <td>1</td>\n",
       "      <td>142.104762</td>\n",
       "      <td>0.041459</td>\n",
       "      <td>38.904</td>\n",
       "      <td>136.213188</td>\n",
       "    </tr>\n",
       "    <tr>\n",
       "      <td>2</td>\n",
       "      <td>100.200000</td>\n",
       "      <td>0.000000</td>\n",
       "      <td>25.319</td>\n",
       "      <td>100.200000</td>\n",
       "    </tr>\n",
       "    <tr>\n",
       "      <td>3</td>\n",
       "      <td>123.057143</td>\n",
       "      <td>0.000000</td>\n",
       "      <td>40.724</td>\n",
       "      <td>123.057143</td>\n",
       "    </tr>\n",
       "    <tr>\n",
       "      <td>4</td>\n",
       "      <td>427.819048</td>\n",
       "      <td>0.000000</td>\n",
       "      <td>159.544</td>\n",
       "      <td>427.819048</td>\n",
       "    </tr>\n",
       "  </tbody>\n",
       "</table>\n",
       "</div>"
      ],
      "text/plain": [
       "   List_price  Promotion     Cost  price paid\n",
       "0   50.200000   0.000000   96.364   50.200000\n",
       "1  142.104762   0.041459   38.904  136.213188\n",
       "2  100.200000   0.000000   25.319  100.200000\n",
       "3  123.057143   0.000000   40.724  123.057143\n",
       "4  427.819048   0.000000  159.544  427.819048"
      ]
     },
     "execution_count": 56,
     "metadata": {},
     "output_type": "execute_result"
    }
   ],
   "source": [
    "test_exam.head()"
   ]
  },
  {
   "cell_type": "code",
   "execution_count": 57,
   "metadata": {},
   "outputs": [
    {
     "data": {
      "text/html": [
       "<div>\n",
       "<style scoped>\n",
       "    .dataframe tbody tr th:only-of-type {\n",
       "        vertical-align: middle;\n",
       "    }\n",
       "\n",
       "    .dataframe tbody tr th {\n",
       "        vertical-align: top;\n",
       "    }\n",
       "\n",
       "    .dataframe thead th {\n",
       "        text-align: right;\n",
       "    }\n",
       "</style>\n",
       "<table border=\"1\" class=\"dataframe\">\n",
       "  <thead>\n",
       "    <tr style=\"text-align: right;\">\n",
       "      <th></th>\n",
       "      <th>index</th>\n",
       "      <th>subfamily</th>\n",
       "    </tr>\n",
       "  </thead>\n",
       "  <tbody>\n",
       "    <tr>\n",
       "      <td>0</td>\n",
       "      <td>99204</td>\n",
       "      <td>Pefumes</td>\n",
       "    </tr>\n",
       "    <tr>\n",
       "      <td>1</td>\n",
       "      <td>48005</td>\n",
       "      <td>Pefumes</td>\n",
       "    </tr>\n",
       "    <tr>\n",
       "      <td>2</td>\n",
       "      <td>173608</td>\n",
       "      <td>jackets</td>\n",
       "    </tr>\n",
       "    <tr>\n",
       "      <td>3</td>\n",
       "      <td>55364</td>\n",
       "      <td>Pefumes</td>\n",
       "    </tr>\n",
       "    <tr>\n",
       "      <td>4</td>\n",
       "      <td>14550</td>\n",
       "      <td>jackets</td>\n",
       "    </tr>\n",
       "  </tbody>\n",
       "</table>\n",
       "</div>"
      ],
      "text/plain": [
       "    index subfamily\n",
       "0   99204   Pefumes\n",
       "1   48005   Pefumes\n",
       "2  173608   jackets\n",
       "3   55364   Pefumes\n",
       "4   14550   jackets"
      ]
     },
     "execution_count": 57,
     "metadata": {},
     "output_type": "execute_result"
    }
   ],
   "source": [
    "train_target = train_target.reset_index()\n",
    "train_target[:5]"
   ]
  },
  {
   "cell_type": "code",
   "execution_count": 58,
   "metadata": {},
   "outputs": [],
   "source": [
    "#del train_target['level_0']"
   ]
  },
  {
   "cell_type": "code",
   "execution_count": 59,
   "metadata": {},
   "outputs": [],
   "source": [
    "del train_target['index']"
   ]
  },
  {
   "cell_type": "code",
   "execution_count": 60,
   "metadata": {},
   "outputs": [
    {
     "data": {
      "text/html": [
       "<div>\n",
       "<style scoped>\n",
       "    .dataframe tbody tr th:only-of-type {\n",
       "        vertical-align: middle;\n",
       "    }\n",
       "\n",
       "    .dataframe tbody tr th {\n",
       "        vertical-align: top;\n",
       "    }\n",
       "\n",
       "    .dataframe thead th {\n",
       "        text-align: right;\n",
       "    }\n",
       "</style>\n",
       "<table border=\"1\" class=\"dataframe\">\n",
       "  <thead>\n",
       "    <tr style=\"text-align: right;\">\n",
       "      <th></th>\n",
       "      <th>subfamily</th>\n",
       "    </tr>\n",
       "  </thead>\n",
       "  <tbody>\n",
       "    <tr>\n",
       "      <td>0</td>\n",
       "      <td>Pefumes</td>\n",
       "    </tr>\n",
       "    <tr>\n",
       "      <td>1</td>\n",
       "      <td>Pefumes</td>\n",
       "    </tr>\n",
       "    <tr>\n",
       "      <td>2</td>\n",
       "      <td>jackets</td>\n",
       "    </tr>\n",
       "    <tr>\n",
       "      <td>3</td>\n",
       "      <td>Pefumes</td>\n",
       "    </tr>\n",
       "    <tr>\n",
       "      <td>4</td>\n",
       "      <td>jackets</td>\n",
       "    </tr>\n",
       "  </tbody>\n",
       "</table>\n",
       "</div>"
      ],
      "text/plain": [
       "  subfamily\n",
       "0   Pefumes\n",
       "1   Pefumes\n",
       "2   jackets\n",
       "3   Pefumes\n",
       "4   jackets"
      ]
     },
     "execution_count": 60,
     "metadata": {},
     "output_type": "execute_result"
    }
   ],
   "source": [
    "train_target.head()"
   ]
  },
  {
   "cell_type": "code",
   "execution_count": 61,
   "metadata": {},
   "outputs": [
    {
     "data": {
      "text/plain": [
       "85653     Pefumes\n",
       "217005    Pefumes\n",
       "166549     shorts\n",
       "216796     shirts\n",
       "197450     shorts\n",
       "Name: subfamily, dtype: object"
      ]
     },
     "execution_count": 61,
     "metadata": {},
     "output_type": "execute_result"
    }
   ],
   "source": [
    "test_target[:5]"
   ]
  },
  {
   "cell_type": "code",
   "execution_count": 62,
   "metadata": {},
   "outputs": [
    {
     "data": {
      "text/html": [
       "<div>\n",
       "<style scoped>\n",
       "    .dataframe tbody tr th:only-of-type {\n",
       "        vertical-align: middle;\n",
       "    }\n",
       "\n",
       "    .dataframe tbody tr th {\n",
       "        vertical-align: top;\n",
       "    }\n",
       "\n",
       "    .dataframe thead th {\n",
       "        text-align: right;\n",
       "    }\n",
       "</style>\n",
       "<table border=\"1\" class=\"dataframe\">\n",
       "  <thead>\n",
       "    <tr style=\"text-align: right;\">\n",
       "      <th></th>\n",
       "      <th>index</th>\n",
       "      <th>subfamily</th>\n",
       "    </tr>\n",
       "  </thead>\n",
       "  <tbody>\n",
       "    <tr>\n",
       "      <td>0</td>\n",
       "      <td>85653</td>\n",
       "      <td>Pefumes</td>\n",
       "    </tr>\n",
       "    <tr>\n",
       "      <td>1</td>\n",
       "      <td>217005</td>\n",
       "      <td>Pefumes</td>\n",
       "    </tr>\n",
       "    <tr>\n",
       "      <td>2</td>\n",
       "      <td>166549</td>\n",
       "      <td>shorts</td>\n",
       "    </tr>\n",
       "    <tr>\n",
       "      <td>3</td>\n",
       "      <td>216796</td>\n",
       "      <td>shirts</td>\n",
       "    </tr>\n",
       "    <tr>\n",
       "      <td>4</td>\n",
       "      <td>197450</td>\n",
       "      <td>shorts</td>\n",
       "    </tr>\n",
       "  </tbody>\n",
       "</table>\n",
       "</div>"
      ],
      "text/plain": [
       "    index subfamily\n",
       "0   85653   Pefumes\n",
       "1  217005   Pefumes\n",
       "2  166549    shorts\n",
       "3  216796    shirts\n",
       "4  197450    shorts"
      ]
     },
     "execution_count": 62,
     "metadata": {},
     "output_type": "execute_result"
    }
   ],
   "source": [
    "test_target = test_target.reset_index()\n",
    "test_target[:5]"
   ]
  },
  {
   "cell_type": "code",
   "execution_count": 63,
   "metadata": {},
   "outputs": [],
   "source": [
    "del test_target['index']"
   ]
  },
  {
   "cell_type": "code",
   "execution_count": 64,
   "metadata": {},
   "outputs": [
    {
     "data": {
      "text/html": [
       "<div>\n",
       "<style scoped>\n",
       "    .dataframe tbody tr th:only-of-type {\n",
       "        vertical-align: middle;\n",
       "    }\n",
       "\n",
       "    .dataframe tbody tr th {\n",
       "        vertical-align: top;\n",
       "    }\n",
       "\n",
       "    .dataframe thead th {\n",
       "        text-align: right;\n",
       "    }\n",
       "</style>\n",
       "<table border=\"1\" class=\"dataframe\">\n",
       "  <thead>\n",
       "    <tr style=\"text-align: right;\">\n",
       "      <th></th>\n",
       "      <th>subfamily</th>\n",
       "    </tr>\n",
       "  </thead>\n",
       "  <tbody>\n",
       "    <tr>\n",
       "      <td>0</td>\n",
       "      <td>Pefumes</td>\n",
       "    </tr>\n",
       "    <tr>\n",
       "      <td>1</td>\n",
       "      <td>Pefumes</td>\n",
       "    </tr>\n",
       "    <tr>\n",
       "      <td>2</td>\n",
       "      <td>shorts</td>\n",
       "    </tr>\n",
       "    <tr>\n",
       "      <td>3</td>\n",
       "      <td>shirts</td>\n",
       "    </tr>\n",
       "    <tr>\n",
       "      <td>4</td>\n",
       "      <td>shorts</td>\n",
       "    </tr>\n",
       "  </tbody>\n",
       "</table>\n",
       "</div>"
      ],
      "text/plain": [
       "  subfamily\n",
       "0   Pefumes\n",
       "1   Pefumes\n",
       "2    shorts\n",
       "3    shirts\n",
       "4    shorts"
      ]
     },
     "execution_count": 64,
     "metadata": {},
     "output_type": "execute_result"
    }
   ],
   "source": [
    "test_target.head()"
   ]
  },
  {
   "cell_type": "code",
   "execution_count": 65,
   "metadata": {},
   "outputs": [],
   "source": [
    "from sklearn.tree import DecisionTreeClassifier"
   ]
  },
  {
   "cell_type": "code",
   "execution_count": 66,
   "metadata": {},
   "outputs": [
    {
     "data": {
      "text/plain": [
       "[DecisionTreeClassifier(class_weight=None, criterion='gini', max_depth=18,\n",
       "                        max_features=None, max_leaf_nodes=None,\n",
       "                        min_impurity_decrease=0.0, min_impurity_split=None,\n",
       "                        min_samples_leaf=1, min_samples_split=2,\n",
       "                        min_weight_fraction_leaf=0.0, presort=False,\n",
       "                        random_state=42, splitter='best'),\n",
       " DecisionTreeClassifier(class_weight=None, criterion='gini', max_depth=19,\n",
       "                        max_features=None, max_leaf_nodes=None,\n",
       "                        min_impurity_decrease=0.0, min_impurity_split=None,\n",
       "                        min_samples_leaf=1, min_samples_split=2,\n",
       "                        min_weight_fraction_leaf=0.0, presort=False,\n",
       "                        random_state=42, splitter='best'),\n",
       " DecisionTreeClassifier(class_weight=None, criterion='gini', max_depth=20,\n",
       "                        max_features=None, max_leaf_nodes=None,\n",
       "                        min_impurity_decrease=0.0, min_impurity_split=None,\n",
       "                        min_samples_leaf=1, min_samples_split=2,\n",
       "                        min_weight_fraction_leaf=0.0, presort=False,\n",
       "                        random_state=42, splitter='best'),\n",
       " DecisionTreeClassifier(class_weight=None, criterion='gini', max_depth=21,\n",
       "                        max_features=None, max_leaf_nodes=None,\n",
       "                        min_impurity_decrease=0.0, min_impurity_split=None,\n",
       "                        min_samples_leaf=1, min_samples_split=2,\n",
       "                        min_weight_fraction_leaf=0.0, presort=False,\n",
       "                        random_state=42, splitter='best'),\n",
       " DecisionTreeClassifier(class_weight=None, criterion='gini', max_depth=22,\n",
       "                        max_features=None, max_leaf_nodes=None,\n",
       "                        min_impurity_decrease=0.0, min_impurity_split=None,\n",
       "                        min_samples_leaf=1, min_samples_split=2,\n",
       "                        min_weight_fraction_leaf=0.0, presort=False,\n",
       "                        random_state=42, splitter='best'),\n",
       " DecisionTreeClassifier(class_weight=None, criterion='gini', max_depth=23,\n",
       "                        max_features=None, max_leaf_nodes=None,\n",
       "                        min_impurity_decrease=0.0, min_impurity_split=None,\n",
       "                        min_samples_leaf=1, min_samples_split=2,\n",
       "                        min_weight_fraction_leaf=0.0, presort=False,\n",
       "                        random_state=42, splitter='best'),\n",
       " DecisionTreeClassifier(class_weight=None, criterion='gini', max_depth=24,\n",
       "                        max_features=None, max_leaf_nodes=None,\n",
       "                        min_impurity_decrease=0.0, min_impurity_split=None,\n",
       "                        min_samples_leaf=1, min_samples_split=2,\n",
       "                        min_weight_fraction_leaf=0.0, presort=False,\n",
       "                        random_state=42, splitter='best'),\n",
       " DecisionTreeClassifier(class_weight=None, criterion='gini', max_depth=25,\n",
       "                        max_features=None, max_leaf_nodes=None,\n",
       "                        min_impurity_decrease=0.0, min_impurity_split=None,\n",
       "                        min_samples_leaf=1, min_samples_split=2,\n",
       "                        min_weight_fraction_leaf=0.0, presort=False,\n",
       "                        random_state=42, splitter='best'),\n",
       " DecisionTreeClassifier(class_weight=None, criterion='gini', max_depth=26,\n",
       "                        max_features=None, max_leaf_nodes=None,\n",
       "                        min_impurity_decrease=0.0, min_impurity_split=None,\n",
       "                        min_samples_leaf=1, min_samples_split=2,\n",
       "                        min_weight_fraction_leaf=0.0, presort=False,\n",
       "                        random_state=42, splitter='best'),\n",
       " DecisionTreeClassifier(class_weight=None, criterion='gini', max_depth=27,\n",
       "                        max_features=None, max_leaf_nodes=None,\n",
       "                        min_impurity_decrease=0.0, min_impurity_split=None,\n",
       "                        min_samples_leaf=1, min_samples_split=2,\n",
       "                        min_weight_fraction_leaf=0.0, presort=False,\n",
       "                        random_state=42, splitter='best'),\n",
       " DecisionTreeClassifier(class_weight=None, criterion='gini', max_depth=28,\n",
       "                        max_features=None, max_leaf_nodes=None,\n",
       "                        min_impurity_decrease=0.0, min_impurity_split=None,\n",
       "                        min_samples_leaf=1, min_samples_split=2,\n",
       "                        min_weight_fraction_leaf=0.0, presort=False,\n",
       "                        random_state=42, splitter='best'),\n",
       " DecisionTreeClassifier(class_weight=None, criterion='gini', max_depth=29,\n",
       "                        max_features=None, max_leaf_nodes=None,\n",
       "                        min_impurity_decrease=0.0, min_impurity_split=None,\n",
       "                        min_samples_leaf=1, min_samples_split=2,\n",
       "                        min_weight_fraction_leaf=0.0, presort=False,\n",
       "                        random_state=42, splitter='best'),\n",
       " DecisionTreeClassifier(class_weight=None, criterion='gini', max_depth=30,\n",
       "                        max_features=None, max_leaf_nodes=None,\n",
       "                        min_impurity_decrease=0.0, min_impurity_split=None,\n",
       "                        min_samples_leaf=1, min_samples_split=2,\n",
       "                        min_weight_fraction_leaf=0.0, presort=False,\n",
       "                        random_state=42, splitter='best'),\n",
       " DecisionTreeClassifier(class_weight=None, criterion='gini', max_depth=31,\n",
       "                        max_features=None, max_leaf_nodes=None,\n",
       "                        min_impurity_decrease=0.0, min_impurity_split=None,\n",
       "                        min_samples_leaf=1, min_samples_split=2,\n",
       "                        min_weight_fraction_leaf=0.0, presort=False,\n",
       "                        random_state=42, splitter='best'),\n",
       " DecisionTreeClassifier(class_weight=None, criterion='gini', max_depth=32,\n",
       "                        max_features=None, max_leaf_nodes=None,\n",
       "                        min_impurity_decrease=0.0, min_impurity_split=None,\n",
       "                        min_samples_leaf=1, min_samples_split=2,\n",
       "                        min_weight_fraction_leaf=0.0, presort=False,\n",
       "                        random_state=42, splitter='best'),\n",
       " DecisionTreeClassifier(class_weight=None, criterion='gini', max_depth=33,\n",
       "                        max_features=None, max_leaf_nodes=None,\n",
       "                        min_impurity_decrease=0.0, min_impurity_split=None,\n",
       "                        min_samples_leaf=1, min_samples_split=2,\n",
       "                        min_weight_fraction_leaf=0.0, presort=False,\n",
       "                        random_state=42, splitter='best'),\n",
       " DecisionTreeClassifier(class_weight=None, criterion='gini', max_depth=34,\n",
       "                        max_features=None, max_leaf_nodes=None,\n",
       "                        min_impurity_decrease=0.0, min_impurity_split=None,\n",
       "                        min_samples_leaf=1, min_samples_split=2,\n",
       "                        min_weight_fraction_leaf=0.0, presort=False,\n",
       "                        random_state=42, splitter='best')]"
      ]
     },
     "execution_count": 66,
     "metadata": {},
     "output_type": "execute_result"
    }
   ],
   "source": [
    "max_depth_list = []\n",
    "#train_list_score = [] \n",
    "for i in range(18,35,1):\n",
    "    tree_clf = DecisionTreeClassifier(max_depth=i, random_state=42)\n",
    "    max_depth_list.append(tree_clf)\n",
    "max_depth_list \n"
   ]
  },
  {
   "cell_type": "code",
   "execution_count": 67,
   "metadata": {},
   "outputs": [
    {
     "data": {
      "text/plain": [
       "[DecisionTreeClassifier(class_weight=None, criterion='gini', max_depth=18,\n",
       "                        max_features=None, max_leaf_nodes=None,\n",
       "                        min_impurity_decrease=0.0, min_impurity_split=None,\n",
       "                        min_samples_leaf=1, min_samples_split=2,\n",
       "                        min_weight_fraction_leaf=0.0, presort=False,\n",
       "                        random_state=42, splitter='best'),\n",
       " DecisionTreeClassifier(class_weight=None, criterion='gini', max_depth=19,\n",
       "                        max_features=None, max_leaf_nodes=None,\n",
       "                        min_impurity_decrease=0.0, min_impurity_split=None,\n",
       "                        min_samples_leaf=1, min_samples_split=2,\n",
       "                        min_weight_fraction_leaf=0.0, presort=False,\n",
       "                        random_state=42, splitter='best'),\n",
       " DecisionTreeClassifier(class_weight=None, criterion='gini', max_depth=20,\n",
       "                        max_features=None, max_leaf_nodes=None,\n",
       "                        min_impurity_decrease=0.0, min_impurity_split=None,\n",
       "                        min_samples_leaf=1, min_samples_split=2,\n",
       "                        min_weight_fraction_leaf=0.0, presort=False,\n",
       "                        random_state=42, splitter='best'),\n",
       " DecisionTreeClassifier(class_weight=None, criterion='gini', max_depth=21,\n",
       "                        max_features=None, max_leaf_nodes=None,\n",
       "                        min_impurity_decrease=0.0, min_impurity_split=None,\n",
       "                        min_samples_leaf=1, min_samples_split=2,\n",
       "                        min_weight_fraction_leaf=0.0, presort=False,\n",
       "                        random_state=42, splitter='best'),\n",
       " DecisionTreeClassifier(class_weight=None, criterion='gini', max_depth=22,\n",
       "                        max_features=None, max_leaf_nodes=None,\n",
       "                        min_impurity_decrease=0.0, min_impurity_split=None,\n",
       "                        min_samples_leaf=1, min_samples_split=2,\n",
       "                        min_weight_fraction_leaf=0.0, presort=False,\n",
       "                        random_state=42, splitter='best'),\n",
       " DecisionTreeClassifier(class_weight=None, criterion='gini', max_depth=23,\n",
       "                        max_features=None, max_leaf_nodes=None,\n",
       "                        min_impurity_decrease=0.0, min_impurity_split=None,\n",
       "                        min_samples_leaf=1, min_samples_split=2,\n",
       "                        min_weight_fraction_leaf=0.0, presort=False,\n",
       "                        random_state=42, splitter='best'),\n",
       " DecisionTreeClassifier(class_weight=None, criterion='gini', max_depth=24,\n",
       "                        max_features=None, max_leaf_nodes=None,\n",
       "                        min_impurity_decrease=0.0, min_impurity_split=None,\n",
       "                        min_samples_leaf=1, min_samples_split=2,\n",
       "                        min_weight_fraction_leaf=0.0, presort=False,\n",
       "                        random_state=42, splitter='best'),\n",
       " DecisionTreeClassifier(class_weight=None, criterion='gini', max_depth=25,\n",
       "                        max_features=None, max_leaf_nodes=None,\n",
       "                        min_impurity_decrease=0.0, min_impurity_split=None,\n",
       "                        min_samples_leaf=1, min_samples_split=2,\n",
       "                        min_weight_fraction_leaf=0.0, presort=False,\n",
       "                        random_state=42, splitter='best'),\n",
       " DecisionTreeClassifier(class_weight=None, criterion='gini', max_depth=26,\n",
       "                        max_features=None, max_leaf_nodes=None,\n",
       "                        min_impurity_decrease=0.0, min_impurity_split=None,\n",
       "                        min_samples_leaf=1, min_samples_split=2,\n",
       "                        min_weight_fraction_leaf=0.0, presort=False,\n",
       "                        random_state=42, splitter='best'),\n",
       " DecisionTreeClassifier(class_weight=None, criterion='gini', max_depth=27,\n",
       "                        max_features=None, max_leaf_nodes=None,\n",
       "                        min_impurity_decrease=0.0, min_impurity_split=None,\n",
       "                        min_samples_leaf=1, min_samples_split=2,\n",
       "                        min_weight_fraction_leaf=0.0, presort=False,\n",
       "                        random_state=42, splitter='best'),\n",
       " DecisionTreeClassifier(class_weight=None, criterion='gini', max_depth=28,\n",
       "                        max_features=None, max_leaf_nodes=None,\n",
       "                        min_impurity_decrease=0.0, min_impurity_split=None,\n",
       "                        min_samples_leaf=1, min_samples_split=2,\n",
       "                        min_weight_fraction_leaf=0.0, presort=False,\n",
       "                        random_state=42, splitter='best'),\n",
       " DecisionTreeClassifier(class_weight=None, criterion='gini', max_depth=29,\n",
       "                        max_features=None, max_leaf_nodes=None,\n",
       "                        min_impurity_decrease=0.0, min_impurity_split=None,\n",
       "                        min_samples_leaf=1, min_samples_split=2,\n",
       "                        min_weight_fraction_leaf=0.0, presort=False,\n",
       "                        random_state=42, splitter='best'),\n",
       " DecisionTreeClassifier(class_weight=None, criterion='gini', max_depth=30,\n",
       "                        max_features=None, max_leaf_nodes=None,\n",
       "                        min_impurity_decrease=0.0, min_impurity_split=None,\n",
       "                        min_samples_leaf=1, min_samples_split=2,\n",
       "                        min_weight_fraction_leaf=0.0, presort=False,\n",
       "                        random_state=42, splitter='best'),\n",
       " DecisionTreeClassifier(class_weight=None, criterion='gini', max_depth=31,\n",
       "                        max_features=None, max_leaf_nodes=None,\n",
       "                        min_impurity_decrease=0.0, min_impurity_split=None,\n",
       "                        min_samples_leaf=1, min_samples_split=2,\n",
       "                        min_weight_fraction_leaf=0.0, presort=False,\n",
       "                        random_state=42, splitter='best'),\n",
       " DecisionTreeClassifier(class_weight=None, criterion='gini', max_depth=32,\n",
       "                        max_features=None, max_leaf_nodes=None,\n",
       "                        min_impurity_decrease=0.0, min_impurity_split=None,\n",
       "                        min_samples_leaf=1, min_samples_split=2,\n",
       "                        min_weight_fraction_leaf=0.0, presort=False,\n",
       "                        random_state=42, splitter='best'),\n",
       " DecisionTreeClassifier(class_weight=None, criterion='gini', max_depth=33,\n",
       "                        max_features=None, max_leaf_nodes=None,\n",
       "                        min_impurity_decrease=0.0, min_impurity_split=None,\n",
       "                        min_samples_leaf=1, min_samples_split=2,\n",
       "                        min_weight_fraction_leaf=0.0, presort=False,\n",
       "                        random_state=42, splitter='best'),\n",
       " DecisionTreeClassifier(class_weight=None, criterion='gini', max_depth=34,\n",
       "                        max_features=None, max_leaf_nodes=None,\n",
       "                        min_impurity_decrease=0.0, min_impurity_split=None,\n",
       "                        min_samples_leaf=1, min_samples_split=2,\n",
       "                        min_weight_fraction_leaf=0.0, presort=False,\n",
       "                        random_state=42, splitter='best')]"
      ]
     },
     "execution_count": 67,
     "metadata": {},
     "output_type": "execute_result"
    }
   ],
   "source": [
    "tree_clfs_list =[]\n",
    "for i in range(17):\n",
    "    tree_clfs= max_depth_list[i].fit(train_exam, train_target)#많이 공부 \n",
    "    tree_clfs_list.append(tree_clfs)\n",
    "tree_clfs_list\n"
   ]
  },
  {
   "cell_type": "code",
   "execution_count": 73,
   "metadata": {},
   "outputs": [
    {
     "data": {
      "text/plain": [
       "[0.8569411702903071,\n",
       " 0.8649326600432079,\n",
       " 0.8697459402312738,\n",
       " 0.8735808046648762,\n",
       " 0.8757543322804967,\n",
       " 0.8776126655591088,\n",
       " 0.8784925830832573,\n",
       " 0.8793002685718413,\n",
       " 0.8796154629088497,\n",
       " 0.8799569234406088,\n",
       " 0.8801998857420529,\n",
       " 0.8804100153000585,\n",
       " 0.8805019469816859,\n",
       " 0.8805216466277489,\n",
       " 0.8805479128224997,\n",
       " 0.8805479128224997,\n",
       " 0.8805610459198749]"
      ]
     },
     "execution_count": 73,
     "metadata": {},
     "output_type": "execute_result"
    }
   ],
   "source": [
    "train_list_score = [] \n",
    "for i in range(17):\n",
    "    train_list_score.append(tree_clfs_list[i].score(train_exam, train_target)) #많이 공부한 것에 대한 점수 \n",
    "train_list_score\n",
    "    "
   ]
  },
  {
   "cell_type": "code",
   "execution_count": 69,
   "metadata": {},
   "outputs": [],
   "source": [
    "from sklearn.metrics import accuracy_score"
   ]
  },
  {
   "cell_type": "code",
   "execution_count": 79,
   "metadata": {},
   "outputs": [
    {
     "data": {
      "text/plain": [
       "[array(['Pefumes', 'tops', 'shorts', ..., 'tops', 'shorts', 'Pefumes'],\n",
       "       dtype=object),\n",
       " array(['Pefumes', 'tops', 'shorts', ..., 'tops', 'shorts', 'Pefumes'],\n",
       "       dtype=object),\n",
       " array(['Pefumes', 'tops', 'shorts', ..., 'tops', 'shorts', 'Pefumes'],\n",
       "       dtype=object),\n",
       " array(['Pefumes', 'shorts', 'shorts', ..., 'tops', 'shorts', 'Pefumes'],\n",
       "       dtype=object),\n",
       " array(['Pefumes', 'shorts', 'shorts', ..., 'tops', 'shorts', 'Pefumes'],\n",
       "       dtype=object),\n",
       " array(['Pefumes', 'shorts', 'shorts', ..., 'tops', 'shorts', 'Pefumes'],\n",
       "       dtype=object),\n",
       " array(['Pefumes', 'shorts', 'shorts', ..., 'tops', 'shorts', 'Pefumes'],\n",
       "       dtype=object),\n",
       " array(['Pefumes', 'shorts', 'shorts', ..., 'tops', 'shorts', 'Pefumes'],\n",
       "       dtype=object),\n",
       " array(['Pefumes', 'shorts', 'shorts', ..., 'tops', 'shorts', 'Pefumes'],\n",
       "       dtype=object),\n",
       " array(['Pefumes', 'shorts', 'shorts', ..., 'tops', 'shorts', 'Pefumes'],\n",
       "       dtype=object),\n",
       " array(['Pefumes', 'shorts', 'shorts', ..., 'tops', 'shorts', 'Pefumes'],\n",
       "       dtype=object),\n",
       " array(['Pefumes', 'shorts', 'shorts', ..., 'tops', 'shorts', 'Pefumes'],\n",
       "       dtype=object),\n",
       " array(['Pefumes', 'shorts', 'shorts', ..., 'tops', 'shorts', 'Pefumes'],\n",
       "       dtype=object),\n",
       " array(['Pefumes', 'shorts', 'shorts', ..., 'tops', 'shorts', 'Pefumes'],\n",
       "       dtype=object),\n",
       " array(['Pefumes', 'shorts', 'shorts', ..., 'tops', 'shorts', 'Pefumes'],\n",
       "       dtype=object),\n",
       " array(['Pefumes', 'shorts', 'shorts', ..., 'tops', 'shorts', 'Pefumes'],\n",
       "       dtype=object),\n",
       " array(['Pefumes', 'shorts', 'shorts', ..., 'tops', 'shorts', 'Pefumes'],\n",
       "       dtype=object)]"
      ]
     },
     "execution_count": 79,
     "metadata": {},
     "output_type": "execute_result"
    }
   ],
   "source": [
    "com_target_list = []\n",
    "for i in range(17):\n",
    "    com_target = max_depth_list[i].predict(test_exam)\n",
    "    com_target_list.append(com_target)\n",
    "com_target_list\n"
   ]
  },
  {
   "cell_type": "code",
   "execution_count": 87,
   "metadata": {},
   "outputs": [
    {
     "data": {
      "text/plain": [
       "[0.839735241393047,\n",
       " 0.8451744373113518,\n",
       " 0.847794444359324,\n",
       " 0.85107328358895,\n",
       " 0.8527433465610492,\n",
       " 0.8545819479982227,\n",
       " 0.8551488501080179,\n",
       " 0.8553939969663076,\n",
       " 0.8555165703954525,\n",
       " 0.8555625354313818,\n",
       " 0.8557770389323854,\n",
       " 0.8556851088605267,\n",
       " 0.8555931787886681,\n",
       " 0.8556391438245974,\n",
       " 0.8557923606110286,\n",
       " 0.8557157522178129,\n",
       " 0.8557617172537423]"
      ]
     },
     "execution_count": 87,
     "metadata": {},
     "output_type": "execute_result"
    }
   ],
   "source": [
    "accuracy_score_list = []\n",
    "for i in range(17):\n",
    "    accuracy_score_list.append(accuracy_score(test_target, com_target_list[i]))\n",
    "accuracy_score_list"
   ]
  },
  {
   "cell_type": "code",
   "execution_count": 72,
   "metadata": {},
   "outputs": [
    {
     "data": {
      "text/plain": [
       "Index(['List_price', 'Promotion', 'Cost', 'price paid'], dtype='object')"
      ]
     },
     "execution_count": 72,
     "metadata": {},
     "output_type": "execute_result"
    }
   ],
   "source": [
    "train_exam.columns"
   ]
  },
  {
   "cell_type": "code",
   "execution_count": 88,
   "metadata": {},
   "outputs": [
    {
     "data": {
      "text/plain": [
       "[18, 19, 20, 21, 22, 23, 24, 25, 26, 27, 28, 29, 30, 31, 32, 33, 34]"
      ]
     },
     "execution_count": 88,
     "metadata": {},
     "output_type": "execute_result"
    }
   ],
   "source": [
    "max_de_list = []\n",
    "for i in range(18,35,1):\n",
    "    max_de_list.append(i)\n",
    "max_de_list"
   ]
  },
  {
   "cell_type": "code",
   "execution_count": 89,
   "metadata": {},
   "outputs": [
    {
     "data": {
      "text/plain": [
       "[0.8569411702903071,\n",
       " 0.8649326600432079,\n",
       " 0.8697459402312738,\n",
       " 0.8735808046648762,\n",
       " 0.8757543322804967,\n",
       " 0.8776126655591088,\n",
       " 0.8784925830832573,\n",
       " 0.8793002685718413,\n",
       " 0.8796154629088497,\n",
       " 0.8799569234406088,\n",
       " 0.8801998857420529,\n",
       " 0.8804100153000585,\n",
       " 0.8805019469816859,\n",
       " 0.8805216466277489,\n",
       " 0.8805479128224997,\n",
       " 0.8805479128224997,\n",
       " 0.8805610459198749]"
      ]
     },
     "execution_count": 89,
     "metadata": {},
     "output_type": "execute_result"
    }
   ],
   "source": [
    "train_list_score"
   ]
  },
  {
   "cell_type": "code",
   "execution_count": 90,
   "metadata": {},
   "outputs": [
    {
     "data": {
      "text/plain": [
       "[0.839735241393047,\n",
       " 0.8451744373113518,\n",
       " 0.847794444359324,\n",
       " 0.85107328358895,\n",
       " 0.8527433465610492,\n",
       " 0.8545819479982227,\n",
       " 0.8551488501080179,\n",
       " 0.8553939969663076,\n",
       " 0.8555165703954525,\n",
       " 0.8555625354313818,\n",
       " 0.8557770389323854,\n",
       " 0.8556851088605267,\n",
       " 0.8555931787886681,\n",
       " 0.8556391438245974,\n",
       " 0.8557923606110286,\n",
       " 0.8557157522178129,\n",
       " 0.8557617172537423]"
      ]
     },
     "execution_count": 90,
     "metadata": {},
     "output_type": "execute_result"
    }
   ],
   "source": [
    "accuracy_score_list"
   ]
  }
 ],
 "metadata": {
  "kernelspec": {
   "display_name": "Python 3",
   "language": "python",
   "name": "python3"
  },
  "language_info": {
   "codemirror_mode": {
    "name": "ipython",
    "version": 3
   },
   "file_extension": ".py",
   "mimetype": "text/x-python",
   "name": "python",
   "nbconvert_exporter": "python",
   "pygments_lexer": "ipython3",
   "version": "3.7.4"
  }
 },
 "nbformat": 4,
 "nbformat_minor": 2
}
