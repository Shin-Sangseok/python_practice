{
 "cells": [
  {
   "cell_type": "code",
   "execution_count": 19,
   "id": "134c476e",
   "metadata": {},
   "outputs": [
    {
     "name": "stdout",
     "output_type": "stream",
     "text": [
      "Collecting mlxtend\n",
      "  Downloading mlxtend-0.19.0-py2.py3-none-any.whl (1.3 MB)\n",
      "Requirement already satisfied: pandas>=0.24.2 in c:\\users\\pc\\anaconda3\\lib\\site-packages (from mlxtend) (1.4.1)\n",
      "Requirement already satisfied: scipy>=1.2.1 in c:\\users\\pc\\anaconda3\\lib\\site-packages (from mlxtend) (1.8.0)\n",
      "Requirement already satisfied: scikit-learn>=0.20.3 in c:\\users\\pc\\anaconda3\\lib\\site-packages (from mlxtend) (1.0.2)\n",
      "Requirement already satisfied: numpy>=1.16.2 in c:\\users\\pc\\anaconda3\\lib\\site-packages (from mlxtend) (1.22.2)\n",
      "Requirement already satisfied: matplotlib>=3.0.0 in c:\\users\\pc\\anaconda3\\lib\\site-packages (from mlxtend) (3.5.1)\n",
      "Requirement already satisfied: joblib>=0.13.2 in c:\\users\\pc\\anaconda3\\lib\\site-packages (from mlxtend) (1.1.0)\n",
      "Requirement already satisfied: setuptools in c:\\users\\pc\\anaconda3\\lib\\site-packages (from mlxtend) (58.0.4)\n",
      "Requirement already satisfied: pillow>=6.2.0 in c:\\users\\pc\\anaconda3\\lib\\site-packages (from matplotlib>=3.0.0->mlxtend) (8.4.0)\n",
      "Requirement already satisfied: python-dateutil>=2.7 in c:\\users\\pc\\anaconda3\\lib\\site-packages (from matplotlib>=3.0.0->mlxtend) (2.8.2)\n",
      "Requirement already satisfied: fonttools>=4.22.0 in c:\\users\\pc\\anaconda3\\lib\\site-packages (from matplotlib>=3.0.0->mlxtend) (4.25.0)\n",
      "Requirement already satisfied: kiwisolver>=1.0.1 in c:\\users\\pc\\anaconda3\\lib\\site-packages (from matplotlib>=3.0.0->mlxtend) (1.3.1)\n",
      "Requirement already satisfied: pyparsing>=2.2.1 in c:\\users\\pc\\anaconda3\\lib\\site-packages (from matplotlib>=3.0.0->mlxtend) (3.0.4)\n",
      "Requirement already satisfied: cycler>=0.10 in c:\\users\\pc\\anaconda3\\lib\\site-packages (from matplotlib>=3.0.0->mlxtend) (0.10.0)\n",
      "Requirement already satisfied: packaging>=20.0 in c:\\users\\pc\\anaconda3\\lib\\site-packages (from matplotlib>=3.0.0->mlxtend) (21.0)\n",
      "Requirement already satisfied: six in c:\\users\\pc\\anaconda3\\lib\\site-packages (from cycler>=0.10->matplotlib>=3.0.0->mlxtend) (1.16.0)\n",
      "Requirement already satisfied: pytz>=2020.1 in c:\\users\\pc\\anaconda3\\lib\\site-packages (from pandas>=0.24.2->mlxtend) (2021.3)\n",
      "Requirement already satisfied: threadpoolctl>=2.0.0 in c:\\users\\pc\\anaconda3\\lib\\site-packages (from scikit-learn>=0.20.3->mlxtend) (2.2.0)\n",
      "Installing collected packages: mlxtend\n",
      "Successfully installed mlxtend-0.19.0\n",
      "Note: you may need to restart the kernel to use updated packages.\n"
     ]
    }
   ],
   "source": [
    "pip install mlxtend"
   ]
  },
  {
   "cell_type": "code",
   "execution_count": 20,
   "id": "23e91fae",
   "metadata": {},
   "outputs": [],
   "source": [
    "import mlxtend #apiori알고리즘 관련 라이브러리"
   ]
  },
  {
   "cell_type": "code",
   "execution_count": 21,
   "id": "2dabf003",
   "metadata": {},
   "outputs": [],
   "source": [
    "import numpy as np\n",
    "import pandas as pd\n",
    "import warnings\n",
    "warnings.filterwarnings(action='ignore')"
   ]
  },
  {
   "cell_type": "code",
   "execution_count": 22,
   "id": "3d01f4b1",
   "metadata": {},
   "outputs": [],
   "source": [
    "data = np.array([\n",
    "    ['우유', '기저귀', '쥬스'],\n",
    "    ['양상추', '기저귀', '맥주'],\n",
    "    ['우유', '양상추', '기저귀', '쥬스'],\n",
    "    ['양상추', '맥주']\n",
    "])"
   ]
  },
  {
   "cell_type": "code",
   "execution_count": 23,
   "id": "31829c37",
   "metadata": {},
   "outputs": [],
   "source": [
    "from mlxtend.preprocessing import TransactionEncoder"
   ]
  },
  {
   "cell_type": "code",
   "execution_count": 24,
   "id": "d374bc26",
   "metadata": {},
   "outputs": [],
   "source": [
    "te = TransactionEncoder()"
   ]
  },
  {
   "cell_type": "code",
   "execution_count": 25,
   "id": "e7628aff",
   "metadata": {},
   "outputs": [
    {
     "data": {
      "text/plain": [
       "array([[ True, False, False,  True,  True],\n",
       "       [ True,  True,  True, False, False],\n",
       "       [ True, False,  True,  True,  True],\n",
       "       [False,  True,  True, False, False]])"
      ]
     },
     "execution_count": 25,
     "metadata": {},
     "output_type": "execute_result"
    }
   ],
   "source": [
    "te_ary = te.fit(data).transform(data)\n",
    "te_ary"
   ]
  },
  {
   "cell_type": "code",
   "execution_count": 26,
   "id": "9e7d56ab",
   "metadata": {},
   "outputs": [
    {
     "data": {
      "text/plain": [
       "['기저귀', '맥주', '양상추', '우유', '쥬스']"
      ]
     },
     "execution_count": 26,
     "metadata": {},
     "output_type": "execute_result"
    }
   ],
   "source": [
    "te.columns_"
   ]
  },
  {
   "cell_type": "code",
   "execution_count": 42,
   "id": "73db709e",
   "metadata": {},
   "outputs": [
    {
     "data": {
      "text/html": [
       "<div>\n",
       "<style scoped>\n",
       "    .dataframe tbody tr th:only-of-type {\n",
       "        vertical-align: middle;\n",
       "    }\n",
       "\n",
       "    .dataframe tbody tr th {\n",
       "        vertical-align: top;\n",
       "    }\n",
       "\n",
       "    .dataframe thead th {\n",
       "        text-align: right;\n",
       "    }\n",
       "</style>\n",
       "<table border=\"1\" class=\"dataframe\">\n",
       "  <thead>\n",
       "    <tr style=\"text-align: right;\">\n",
       "      <th></th>\n",
       "      <th>기저귀</th>\n",
       "      <th>맥주</th>\n",
       "      <th>양상추</th>\n",
       "      <th>우유</th>\n",
       "      <th>쥬스</th>\n",
       "    </tr>\n",
       "  </thead>\n",
       "  <tbody>\n",
       "    <tr>\n",
       "      <th>0</th>\n",
       "      <td>True</td>\n",
       "      <td>False</td>\n",
       "      <td>False</td>\n",
       "      <td>True</td>\n",
       "      <td>True</td>\n",
       "    </tr>\n",
       "    <tr>\n",
       "      <th>1</th>\n",
       "      <td>True</td>\n",
       "      <td>True</td>\n",
       "      <td>True</td>\n",
       "      <td>False</td>\n",
       "      <td>False</td>\n",
       "    </tr>\n",
       "    <tr>\n",
       "      <th>2</th>\n",
       "      <td>True</td>\n",
       "      <td>False</td>\n",
       "      <td>True</td>\n",
       "      <td>True</td>\n",
       "      <td>True</td>\n",
       "    </tr>\n",
       "    <tr>\n",
       "      <th>3</th>\n",
       "      <td>False</td>\n",
       "      <td>True</td>\n",
       "      <td>True</td>\n",
       "      <td>False</td>\n",
       "      <td>False</td>\n",
       "    </tr>\n",
       "  </tbody>\n",
       "</table>\n",
       "</div>"
      ],
      "text/plain": [
       "     기저귀     맥주    양상추     우유     쥬스\n",
       "0   True  False  False   True   True\n",
       "1   True   True   True  False  False\n",
       "2   True  False   True   True   True\n",
       "3  False   True   True  False  False"
      ]
     },
     "execution_count": 42,
     "metadata": {},
     "output_type": "execute_result"
    }
   ],
   "source": [
    "df = pd.DataFrame(te_ary, columns=te.columns_)\n",
    "df"
   ]
  },
  {
   "cell_type": "code",
   "execution_count": 43,
   "id": "e525a00a",
   "metadata": {},
   "outputs": [],
   "source": [
    "from mlxtend.frequent_patterns import apriori"
   ]
  },
  {
   "cell_type": "code",
   "execution_count": 44,
   "id": "8cbe6e7e",
   "metadata": {},
   "outputs": [],
   "source": [
    "result = apriori(df, min_support = 0.5, use_colnames=True)"
   ]
  },
  {
   "cell_type": "code",
   "execution_count": 45,
   "id": "c60551a8",
   "metadata": {},
   "outputs": [],
   "source": [
    "#주스+우유를 함께 산 사람에게 추천을 해준다고 한다면, \n",
    "##맥주보다는 기저귀를 추천해야 함 \n",
    "##비지도 기반으로 판단 "
   ]
  },
  {
   "cell_type": "code",
   "execution_count": 46,
   "id": "28337841",
   "metadata": {},
   "outputs": [],
   "source": [
    "##one -hot 인코딩 방식의 테이블이 필요 \n",
    "##실제로는 물건의 개수가 아주 많음 \n",
    "##==>0이 2차원 데이터 : 희소행렬(sparse matrix)\n",
    "##TF-IDF , CounterVectorizer, TransactionEncoder"
   ]
  },
  {
   "cell_type": "code",
   "execution_count": 47,
   "id": "e9b384be",
   "metadata": {},
   "outputs": [
    {
     "data": {
      "text/html": [
       "<div>\n",
       "<style scoped>\n",
       "    .dataframe tbody tr th:only-of-type {\n",
       "        vertical-align: middle;\n",
       "    }\n",
       "\n",
       "    .dataframe tbody tr th {\n",
       "        vertical-align: top;\n",
       "    }\n",
       "\n",
       "    .dataframe thead th {\n",
       "        text-align: right;\n",
       "    }\n",
       "</style>\n",
       "<table border=\"1\" class=\"dataframe\">\n",
       "  <thead>\n",
       "    <tr style=\"text-align: right;\">\n",
       "      <th></th>\n",
       "      <th>support</th>\n",
       "      <th>itemsets</th>\n",
       "    </tr>\n",
       "  </thead>\n",
       "  <tbody>\n",
       "    <tr>\n",
       "      <th>0</th>\n",
       "      <td>0.75</td>\n",
       "      <td>(기저귀)</td>\n",
       "    </tr>\n",
       "    <tr>\n",
       "      <th>1</th>\n",
       "      <td>0.75</td>\n",
       "      <td>(양상추)</td>\n",
       "    </tr>\n",
       "  </tbody>\n",
       "</table>\n",
       "</div>"
      ],
      "text/plain": [
       "   support itemsets\n",
       "0     0.75    (기저귀)\n",
       "1     0.75    (양상추)"
      ]
     },
     "execution_count": 47,
     "metadata": {},
     "output_type": "execute_result"
    }
   ],
   "source": [
    "apriori(df, min_support=0.7, use_colnames=True)\n"
   ]
  },
  {
   "cell_type": "code",
   "execution_count": 48,
   "id": "a8e0f856",
   "metadata": {},
   "outputs": [
    {
     "data": {
      "text/plain": [
       "pandas.core.frame.DataFrame"
      ]
     },
     "execution_count": 48,
     "metadata": {},
     "output_type": "execute_result"
    }
   ],
   "source": [
    "type(result)"
   ]
  },
  {
   "cell_type": "code",
   "execution_count": 49,
   "id": "26693ce0",
   "metadata": {},
   "outputs": [],
   "source": [
    "#result에서 마지막 itemsets컬럼값 추출 \n",
    "##쥬스, 우유와 함께 추천하면 좋을 item은??"
   ]
  },
  {
   "cell_type": "code",
   "execution_count": 50,
   "id": "6403f090",
   "metadata": {},
   "outputs": [
    {
     "data": {
      "text/plain": [
       "support               0.5\n",
       "itemsets    (쥬스, 기저귀, 우유)\n",
       "Name: 10, dtype: object"
      ]
     },
     "execution_count": 50,
     "metadata": {},
     "output_type": "execute_result"
    }
   ],
   "source": [
    "choice = result.iloc[10,:]\n",
    "choice"
   ]
  },
  {
   "cell_type": "code",
   "execution_count": 51,
   "id": "51e150d1",
   "metadata": {},
   "outputs": [
    {
     "data": {
      "text/plain": [
       "frozenset({'기저귀', '우유', '쥬스'})"
      ]
     },
     "execution_count": 51,
     "metadata": {},
     "output_type": "execute_result"
    }
   ],
   "source": [
    "items = choice['itemsets']\n",
    "items"
   ]
  },
  {
   "cell_type": "code",
   "execution_count": 53,
   "id": "75571bc4",
   "metadata": {},
   "outputs": [
    {
     "data": {
      "text/plain": [
       "'기저귀'"
      ]
     },
     "execution_count": 53,
     "metadata": {},
     "output_type": "execute_result"
    }
   ],
   "source": [
    "list(items)[1]"
   ]
  },
  {
   "cell_type": "code",
   "execution_count": 54,
   "id": "924e20c1",
   "metadata": {},
   "outputs": [
    {
     "name": "stdout",
     "output_type": "stream",
     "text": [
      "Collecting gensim\n",
      "  Downloading gensim-4.2.0-cp39-cp39-win_amd64.whl (23.9 MB)\n",
      "Collecting smart-open>=1.8.1\n",
      "  Downloading smart_open-6.0.0-py3-none-any.whl (58 kB)\n",
      "Requirement already satisfied: numpy>=1.17.0 in c:\\users\\pc\\anaconda3\\lib\\site-packages (from gensim) (1.22.2)\n",
      "Requirement already satisfied: scipy>=0.18.1 in c:\\users\\pc\\anaconda3\\lib\\site-packages (from gensim) (1.8.0)\n",
      "Collecting Cython==0.29.28\n",
      "  Downloading Cython-0.29.28-py2.py3-none-any.whl (983 kB)\n",
      "Installing collected packages: smart-open, Cython, gensim\n",
      "  Attempting uninstall: Cython\n",
      "    Found existing installation: Cython 0.29.24\n",
      "    Uninstalling Cython-0.29.24:\n",
      "      Successfully uninstalled Cython-0.29.24\n",
      "Successfully installed Cython-0.29.28 gensim-4.2.0 smart-open-6.0.0\n",
      "Note: you may need to restart the kernel to use updated packages.\n"
     ]
    }
   ],
   "source": [
    "pip install gensim"
   ]
  },
  {
   "cell_type": "code",
   "execution_count": 55,
   "id": "79c35055",
   "metadata": {},
   "outputs": [],
   "source": [
    "from gensim.models import Word2Vec"
   ]
  },
  {
   "cell_type": "code",
   "execution_count": 56,
   "id": "029fc749",
   "metadata": {},
   "outputs": [],
   "source": [
    "##자연어에서 특정한 단어(word)를 중심으로 앞 뒤의 단어를 유추(예측, 추론)할 때 사용됨. "
   ]
  },
  {
   "cell_type": "code",
   "execution_count": 57,
   "id": "ebf08faf",
   "metadata": {},
   "outputs": [],
   "source": [
    "doc = [\n",
    "    'you say goodbye and I say hello', \n",
    "    'i say happy or he said white', \n",
    "    'we say unhappy and angry black'\n",
    "]"
   ]
  },
  {
   "cell_type": "code",
   "execution_count": 58,
   "id": "f3068cd6",
   "metadata": {},
   "outputs": [],
   "source": [
    "doc2 = [\n",
    "    '나는 굿바이라고 했고, 너는 헬로우라고 했어.', \n",
    "    '나는 기쁘다고 했고, 너는 하얗게 슬프다고 했어.', \n",
    "    '우리는 행복하지 않고, 블랙으로 슬퍼'\n",
    "]"
   ]
  },
  {
   "cell_type": "code",
   "execution_count": 61,
   "id": "b4b87abf",
   "metadata": {},
   "outputs": [
    {
     "data": {
      "text/plain": [
       "[['you', 'say', 'goodbye', 'and', 'I', 'say', 'hello'],\n",
       " ['i', 'say', 'happy', 'or', 'he', 'said', 'white'],\n",
       " ['we', 'say', 'unhappy', 'and', 'angry', 'black']]"
      ]
     },
     "execution_count": 61,
     "metadata": {},
     "output_type": "execute_result"
    }
   ],
   "source": [
    "##문장을 토큰으로 끊어내자 \n",
    "sentences = [sentence.split(' ') for sentence in doc]\n",
    "sentences"
   ]
  },
  {
   "cell_type": "code",
   "execution_count": 62,
   "id": "a623009f",
   "metadata": {},
   "outputs": [
    {
     "data": {
      "text/plain": [
       "[['나는', '굿바이라고', '했고,', '너는', '헬로우라고', '했어.'],\n",
       " ['나는', '기쁘다고', '했고,', '너는', '하얗게', '슬프다고', '했어.'],\n",
       " ['우리는', '행복하지', '않고,', '블랙으로', '슬퍼']]"
      ]
     },
     "execution_count": 62,
     "metadata": {},
     "output_type": "execute_result"
    }
   ],
   "source": [
    "##문장을 토큰으로 끊어내자 \n",
    "sentences2 = [sentence.split(' ') for sentence in doc2]\n",
    "sentences2"
   ]
  },
  {
   "cell_type": "code",
   "execution_count": 77,
   "id": "71f251b3",
   "metadata": {},
   "outputs": [],
   "source": [
    "model = Word2Vec(window = 1, min_count = 1) #Shift + Tab으로 정보를 볼 수 있음 \n",
    "                                            #특정한 단어의 앞뒤 단어를 유추가능 \n",
    "##window: 유추하는 계산을 할 때 특정한 단어의 앞뒤 몇개를 가지고 계산을 할 지의 단위 \n",
    "##min_count: 특정한 패턴의 출현 횟수 \n",
    "model2 = Word2Vec(window = 1, min_count= 1)"
   ]
  },
  {
   "cell_type": "code",
   "execution_count": 78,
   "id": "117b0f78",
   "metadata": {},
   "outputs": [],
   "source": [
    "model2.build_vocab(sentences2)"
   ]
  },
  {
   "cell_type": "code",
   "execution_count": 79,
   "id": "99e859bb",
   "metadata": {},
   "outputs": [],
   "source": [
    "model.build_vocab(sentences) #영문문장을 가지고 계산을 함 "
   ]
  },
  {
   "cell_type": "code",
   "execution_count": 71,
   "id": "cde3a4df",
   "metadata": {},
   "outputs": [
    {
     "data": {
      "text/plain": [
       "[('angry', 0.16072483360767365),\n",
       " ('unhappy', 0.13725273311138153),\n",
       " ('black', 0.12300863116979599),\n",
       " ('and', 0.06797593832015991),\n",
       " ('or', 0.03364057466387749),\n",
       " ('hello', 0.009391162544488907),\n",
       " ('white', 0.008315935730934143),\n",
       " ('I', 0.0045030261389911175),\n",
       " ('we', -0.003644434502348304),\n",
       " ('you', -0.010839177295565605)]"
      ]
     },
     "execution_count": 71,
     "metadata": {},
     "output_type": "execute_result"
    }
   ],
   "source": [
    "## 특정한 단어를 주고 앞뒤 단어를 추론해보자. \n",
    "model.wv.most_similar('say') ##비지도!! "
   ]
  },
  {
   "cell_type": "code",
   "execution_count": 75,
   "id": "1ca172f0",
   "metadata": {},
   "outputs": [
    {
     "data": {
      "text/plain": [
       "[('goodbye', 0.19912061095237732),\n",
       " ('and', 0.07497556507587433),\n",
       " ('hello', 0.060591842979192734),\n",
       " ('he', 0.044689226895570755),\n",
       " ('white', 0.0377129502594471),\n",
       " ('say', 0.03364058583974838),\n",
       " ('you', 0.027057481929659843),\n",
       " ('said', 0.026806797832250595),\n",
       " ('i', 0.008826158009469509),\n",
       " ('black', -0.014541256241500378)]"
      ]
     },
     "execution_count": 75,
     "metadata": {},
     "output_type": "execute_result"
    }
   ],
   "source": [
    "model.wv.most_similar('or')"
   ]
  },
  {
   "cell_type": "code",
   "execution_count": 76,
   "id": "41fcc6fa",
   "metadata": {},
   "outputs": [],
   "source": [
    "## or단어 앞으로는 say가 나올 가능성이 높고 \n",
    "## or단어 뒤로는 black 단어가 나올 가능성이 제일 큰것을 알 수 있다. "
   ]
  },
  {
   "cell_type": "code",
   "execution_count": 80,
   "id": "cc480772",
   "metadata": {},
   "outputs": [
    {
     "data": {
      "text/plain": [
       "[('굿바이라고', 0.13725273311138153),\n",
       " ('나는', 0.06797593832015991),\n",
       " ('우리는', 0.03364057466387749),\n",
       " ('블랙으로', 0.009391162544488907),\n",
       " ('기쁘다고', 0.008315935730934143),\n",
       " ('슬퍼', 0.0045030261389911175),\n",
       " ('헬로우라고', -0.0036444442812353373),\n",
       " ('했어.', -0.010839177295565605),\n",
       " ('했고,', -0.023671656847000122),\n",
       " ('슬프다고', -0.09575343877077103)]"
      ]
     },
     "execution_count": 80,
     "metadata": {},
     "output_type": "execute_result"
    }
   ],
   "source": [
    "model2.wv.most_similar('너는')"
   ]
  },
  {
   "cell_type": "code",
   "execution_count": 81,
   "id": "0607f9d8",
   "metadata": {},
   "outputs": [],
   "source": [
    "#'너는' 한글 단어 앞으로 나올 단어로는 굿바이라고를 추천, \n",
    "# '너는' 한글 단어 뒤로 나올 단어로는 헬로우라고를 추천 "
   ]
  },
  {
   "cell_type": "code",
   "execution_count": 82,
   "id": "0a4c518e",
   "metadata": {},
   "outputs": [],
   "source": [
    "import pandas as pd \n",
    "from sklearn.feature_extraction.text import TfidfVectorizer\n",
    "from sklearn.metrics.pairwise import cosine_similarity, euclidean_distances"
   ]
  },
  {
   "cell_type": "code",
   "execution_count": 84,
   "id": "7bf79119",
   "metadata": {},
   "outputs": [],
   "source": [
    "tfidf = TfidfVectorizer(stop_words = 'english') #불용어처리 가능한 tfidf객체 생성 \n",
    "#tfidf는 빈도수를 구하긴 하지만, 문서마다 자주 등장하는 문서는 각 문서를 구분할 \n",
    "#단어로 사용하기는 부적합하여 가중치를 낮추어 계산 "
   ]
  },
  {
   "cell_type": "code",
   "execution_count": 85,
   "id": "1180ca8e",
   "metadata": {},
   "outputs": [
    {
     "data": {
      "text/plain": [
       "<3x9 sparse matrix of type '<class 'numpy.float64'>'\n",
       "\twith 11 stored elements in Compressed Sparse Row format>"
      ]
     },
     "execution_count": 85,
     "metadata": {},
     "output_type": "execute_result"
    }
   ],
   "source": [
    "tfidf_matrix = tfidf.fit_transform(doc)\n",
    "tfidf_matrix\n",
    "#print('TF-IDF 행렬의 크기(shape)')"
   ]
  },
  {
   "cell_type": "code",
   "execution_count": 86,
   "id": "f9faa3e8",
   "metadata": {},
   "outputs": [],
   "source": [
    "## 3x 9에서 \n",
    "## 3은 문서의 개수 \n",
    "## 9는 단어의 개수 "
   ]
  },
  {
   "cell_type": "code",
   "execution_count": 88,
   "id": "36870322",
   "metadata": {},
   "outputs": [
    {
     "data": {
      "text/plain": [
       "array([[0.        , 0.        , 0.54270061, 0.        , 0.54270061,\n",
       "        0.        , 0.64105545, 0.        , 0.        ],\n",
       "       [0.        , 0.        , 0.        , 0.54645401, 0.        ,\n",
       "        0.54645401, 0.32274454, 0.        , 0.54645401],\n",
       "       [0.54645401, 0.54645401, 0.        , 0.        , 0.        ,\n",
       "        0.        , 0.32274454, 0.54645401, 0.        ]])"
      ]
     },
     "execution_count": 88,
     "metadata": {},
     "output_type": "execute_result"
    }
   ],
   "source": [
    "tfidf_matrix.toarray()"
   ]
  },
  {
   "cell_type": "code",
   "execution_count": 89,
   "id": "fef2ac91",
   "metadata": {},
   "outputs": [
    {
     "data": {
      "text/plain": [
       "array([[1.        , 0.20689715, 0.20689715],\n",
       "       [0.20689715, 1.        , 0.10416404],\n",
       "       [0.20689715, 0.10416404, 1.        ]])"
      ]
     },
     "execution_count": 89,
     "metadata": {},
     "output_type": "execute_result"
    }
   ],
   "source": [
    "#문서 간의 유사도를 구해봅니다 \n",
    "cosine_similarity(tfidf_matrix, tfidf_matrix)"
   ]
  },
  {
   "cell_type": "code",
   "execution_count": 92,
   "id": "86366f82",
   "metadata": {},
   "outputs": [],
   "source": [
    "## 행은 문서1, 문서2, 문서3 \n",
    "## 열도 문서1, 문서2, 문서3 \n",
    "##문서1 + 문서2: 0.21\n",
    "##문서1 + 문서3: 0.21\n",
    "##문서2 + 문서3: 0.10\n",
    "##문서1과 2, 문서 1과 3이 유사하다 \n",
    "##문서2와 3은 유사하지 않다. "
   ]
  },
  {
   "cell_type": "code",
   "execution_count": 94,
   "id": "e70a21de",
   "metadata": {},
   "outputs": [],
   "source": [
    "#1.장바구니 유사도를 구해보세요 \n",
    "#2.장바구니 1번과 제일 유사도가 높은 장바구니를 찾아서 \n",
    "#3.장바구니 1번에게 추천해주고 싶은 item을 추천해주세요 "
   ]
  },
  {
   "cell_type": "code",
   "execution_count": 96,
   "id": "d00dace3",
   "metadata": {},
   "outputs": [
    {
     "data": {
      "text/plain": [
       "array([[1.        , 0.33333333, 0.8660254 , 0.        ],\n",
       "       [0.33333333, 1.        , 0.57735027, 0.81649658],\n",
       "       [0.8660254 , 0.57735027, 1.        , 0.35355339],\n",
       "       [0.        , 0.81649658, 0.35355339, 1.        ]])"
      ]
     },
     "execution_count": 96,
     "metadata": {},
     "output_type": "execute_result"
    }
   ],
   "source": [
    "cosine_similarity(df, df) #TransactionEncoding한 것으로 사용 "
   ]
  },
  {
   "cell_type": "code",
   "execution_count": 97,
   "id": "3259bdae",
   "metadata": {},
   "outputs": [],
   "source": [
    "## 장바구니 1번 + 2번 : 0.33\n",
    "## 장바구니 1번 + 3번 : 0.87\n",
    "## 장바구니 1번 + 4번 : 0.00\n",
    "## 장바구니 2번 + 3번 : 0.58\n",
    "## 장바구니 2번 + 4번 : 0.82\n",
    "## 장바구니 3번 + 4번 : 0.35"
   ]
  },
  {
   "cell_type": "code",
   "execution_count": 98,
   "id": "b31236ea",
   "metadata": {},
   "outputs": [],
   "source": [
    "basket_name = ['1번+2번', '1번 +3번', '1번+4번', '2번+3번', '2번+4번','3번+4번']\n",
    "similar = [0.33,0.87,0.00,0.58,0.82,0.35]"
   ]
  },
  {
   "cell_type": "code",
   "execution_count": 100,
   "id": "e2ded7bc",
   "metadata": {},
   "outputs": [
    {
     "data": {
      "text/html": [
       "<div>\n",
       "<style scoped>\n",
       "    .dataframe tbody tr th:only-of-type {\n",
       "        vertical-align: middle;\n",
       "    }\n",
       "\n",
       "    .dataframe tbody tr th {\n",
       "        vertical-align: top;\n",
       "    }\n",
       "\n",
       "    .dataframe thead th {\n",
       "        text-align: right;\n",
       "    }\n",
       "</style>\n",
       "<table border=\"1\" class=\"dataframe\">\n",
       "  <thead>\n",
       "    <tr style=\"text-align: right;\">\n",
       "      <th></th>\n",
       "      <th>basket_name</th>\n",
       "      <th>similar</th>\n",
       "    </tr>\n",
       "  </thead>\n",
       "  <tbody>\n",
       "    <tr>\n",
       "      <th>0</th>\n",
       "      <td>1번+2번</td>\n",
       "      <td>0.33</td>\n",
       "    </tr>\n",
       "    <tr>\n",
       "      <th>1</th>\n",
       "      <td>1번 +3번</td>\n",
       "      <td>0.87</td>\n",
       "    </tr>\n",
       "    <tr>\n",
       "      <th>2</th>\n",
       "      <td>1번+4번</td>\n",
       "      <td>0.00</td>\n",
       "    </tr>\n",
       "    <tr>\n",
       "      <th>3</th>\n",
       "      <td>2번+3번</td>\n",
       "      <td>0.58</td>\n",
       "    </tr>\n",
       "    <tr>\n",
       "      <th>4</th>\n",
       "      <td>2번+4번</td>\n",
       "      <td>0.82</td>\n",
       "    </tr>\n",
       "    <tr>\n",
       "      <th>5</th>\n",
       "      <td>3번+4번</td>\n",
       "      <td>0.35</td>\n",
       "    </tr>\n",
       "  </tbody>\n",
       "</table>\n",
       "</div>"
      ],
      "text/plain": [
       "  basket_name  similar\n",
       "0       1번+2번     0.33\n",
       "1      1번 +3번     0.87\n",
       "2       1번+4번     0.00\n",
       "3       2번+3번     0.58\n",
       "4       2번+4번     0.82\n",
       "5       3번+4번     0.35"
      ]
     },
     "execution_count": 100,
     "metadata": {},
     "output_type": "execute_result"
    }
   ],
   "source": [
    "basket_df = pd.DataFrame({'basket_name': basket_name, 'similar':similar})\n",
    "basket_df"
   ]
  },
  {
   "cell_type": "code",
   "execution_count": 102,
   "id": "b48e59a7",
   "metadata": {},
   "outputs": [],
   "source": [
    "import matplotlib as mpl\n",
    "import matplotlib.font_manager as fm \n",
    "from matplotlib import pyplot as plt \n",
    "%config inlineBackend.figure_format = 'retina'\n",
    "\n",
    "plt.rcParams[\"font.family\"] = \"Malgun Gothic\"\n",
    "plt.rcParams[\"font.size\"] = 12\n",
    "plt.rcParams[\"figure.figsize\"] = (14,4)"
   ]
  },
  {
   "cell_type": "code",
   "execution_count": 103,
   "id": "d229828b",
   "metadata": {},
   "outputs": [
    {
     "data": {
      "text/plain": [
       "<AxesSubplot:xlabel='basket_name', ylabel='similar'>"
      ]
     },
     "execution_count": 103,
     "metadata": {},
     "output_type": "execute_result"
    },
    {
     "data": {
      "image/png": "[encoded data removed]",
      "text/plain": [
       "<Figure size 1008x288 with 1 Axes>"
      ]
     },
     "metadata": {
      "needs_background": "light"
     },
     "output_type": "display_data"
    }
   ],
   "source": [
    "import seaborn as sns \n",
    "sns.lineplot(x=\"basket_name\",y=\"similar\", data = basket_df)"
   ]
  },
  {
   "cell_type": "code",
   "execution_count": null,
   "id": "00065039",
   "metadata": {},
   "outputs": [],
   "source": [
    "## TransactionEncoder: one-hot \n",
    "## CounterVectorizer: count amount \n",
    "## TF-IDFVectorizer : reduce most frequency weight"
   ]
  }
 ],
 "metadata": {
  "kernelspec": {
   "display_name": "Python 3 (ipykernel)",
   "language": "python",
   "name": "python3"
  },
  "language_info": {
   "codemirror_mode": {
    "name": "ipython",
    "version": 3
   },
   "file_extension": ".py",
   "mimetype": "text/x-python",
   "name": "python",
   "nbconvert_exporter": "python",
   "pygments_lexer": "ipython3",
   "version": "3.9.7"
  }
 },
 "nbformat": 4,
 "nbformat_minor": 5
}
